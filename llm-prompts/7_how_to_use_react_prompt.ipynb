{
 "cells": [
  {
   "cell_type": "markdown",
   "id": "5e553a3d-8bda-4a7e-b475-d137cd33d99f",
   "metadata": {},
   "source": [
    "## ReAct Prompting\n",
    "First introduced in a paper by [Yao et al., 2022](https://arxiv.org/abs/2210.03629), ReAct a reasoning and acting paradigm that guides LLM to respond in a structured manager to complex queries. Reasoning and actions are interleaved and progressive so that LLM progresses from one result to another, using the previous answer.\n",
    "\n",
    "<img src=\"https://www.promptingguide.ai/_next/image?url=%2F_next%2Fstatic%2Fmedia%2Freact.8e7c93ae.png&w=1920&q=75\">\n",
    "\n",
    "Results suggest that ReAct outperforms other leading methods in language and decision-making tasks, enhances human understanding and trust in large language models (LLMs), and works best when combined with chain-of-thought (CoT), utilizing both internal knowledge and external information during reasoning.\n",
    "\n",
    "Let's first use a few-shot examples to indicate how an LLM should progress with its reasoning and actiong to solve a complex query, requiring intermideiate results to progress to its final outcome\n",
    "\n"
   ]
  },
  {
   "cell_type": "code",
   "execution_count": 1,
   "id": "d4666f55-0188-4629-807f-2f04769d9b14",
   "metadata": {},
   "outputs": [],
   "source": [
    "import warnings\n",
    "import os\n",
    "\n",
    "import openai\n",
    "from openai import OpenAI\n",
    "\n",
    "from dotenv import load_dotenv, find_dotenv"
   ]
  },
  {
   "cell_type": "markdown",
   "id": "73c7c1c8-4cf2-40e1-a9bc-28af5112627a",
   "metadata": {},
   "source": [
    "Load the environment"
   ]
  },
  {
   "cell_type": "code",
   "execution_count": 2,
   "id": "4c69f7ea-334d-42ea-bbf8-fecb0a2c7dd3",
   "metadata": {},
   "outputs": [
    {
     "name": "stdout",
     "output_type": "stream",
     "text": [
      "Using MODEL=gpt-4-1106-preview; base=https://api.openai.com/v1\n"
     ]
    }
   ],
   "source": [
    "_ = load_dotenv(find_dotenv()) # read local .env file\n",
    "warnings.filterwarnings('ignore')\n",
    "openai.api_base = os.getenv(\"ANYSCALE_API_BASE\", os.getenv(\"OPENAI_API_BASE\"))\n",
    "openai.api_key = os.getenv(\"ANYSCALE_API_KEY\", os.getenv(\"OPENAI_API_KEY\"))\n",
    "MODEL = os.getenv(\"MODEL\")\n",
    "print(f\"Using MODEL={MODEL}; base={openai.api_base}\")"
   ]
  },
  {
   "cell_type": "code",
   "execution_count": 3,
   "id": "bbb1d18a-7f60-4eb3-b015-908898a40c5b",
   "metadata": {},
   "outputs": [],
   "source": [
    "# Create the OpenAI client, which can be used transparently with Anyscale \n",
    "#Endpoints too\n",
    "\n",
    "from openai import OpenAI\n",
    "\n",
    "client = OpenAI(\n",
    "    api_key = openai.api_key,\n",
    "    base_url = openai.api_base\n",
    ")"
   ]
  },
  {
   "cell_type": "code",
   "execution_count": 4,
   "id": "6cd63b00-9903-4069-993f-873607f19da6",
   "metadata": {},
   "outputs": [],
   "source": [
    "# Utility function to send and fetch response\n",
    "\n",
    "def get_commpletion(clnt: object, model: str, system_content: str, user_content:str) -> str:\n",
    "    chat_completion = clnt.chat.completions.create(\n",
    "        model=model,\n",
    "    messages=[{\"role\": \"system\", \"content\": system_content},\n",
    "              {\"role\": \"user\", \"content\": user_content}],\n",
    "    temperature = 0.8)\n",
    "\n",
    "    response = chat_completion.choices[0].message.content\n",
    "    return response"
   ]
  },
  {
   "cell_type": "markdown",
   "id": "443502dc-083b-465d-89b5-7970d838475b",
   "metadata": {},
   "source": [
    "### Example 1: Use a in-context example for calculating an age of a person using its existing knowledge base\n",
    "An example use case for a few-shot learning is to provide an example pattern of chain of though that the model can learn from and generalize how to use ReAct. Using what it has learned as an in-context example, it can generate a response for its subsequent prompt in the manner suggested.\n",
    "\n",
    "We will use an example from this [guide](https://www.promptingguide.ai/techniques/react)."
   ]
  },
  {
   "cell_type": "code",
   "execution_count": 5,
   "id": "e073f7a0-d208-4e06-9106-804aba2498da",
   "metadata": {},
   "outputs": [],
   "source": [
    "system_content = \"\"\"\n",
    "You are supreme repository of knowledge and can answer\n",
    "questions by deliberating following an thought, action, and\n",
    "observation pattern known as ReAct.\n",
    "\"\"\""
   ]
  },
  {
   "cell_type": "code",
   "execution_count": 6,
   "id": "16dc6afc-8d27-4c8d-be72-b3b79a901adb",
   "metadata": {},
   "outputs": [],
   "source": [
    "react_user_prompt = \"\"\"\n",
    "Question: What is the elevation range for the area that the eastern sector of the\n",
    "Colorado orogeny extends into?\n",
    "Thought 1: I need to search Colorado orogeny, find the area that the eastern sector\n",
    "of the Colorado orogeny extends into, then find the elevation range of the\n",
    "area.\n",
    "Action 1: Search[Colorado orogeny]\n",
    "Observation 1: The Colorado orogeny was an episode of mountain building (an orogeny) in\n",
    "Colorado and surrounding areas.\n",
    "Thought 2: It does not mention the eastern sector. So I need to look up eastern\n",
    "sector.\n",
    "Action 2: Lookup[eastern sector]\n",
    "Observation 2: (Result 1 / 1) The eastern sector extends into the High Plains and is called\n",
    "the Central Plains orogeny.\n",
    "Thought 3: The eastern sector of Colorado orogeny extends into the High Plains. So I\n",
    "need to search High Plains and find its elevation range.\n",
    "Action 3: Search[High Plains]\n",
    "Observation 3: High Plains refers to one of two distinct land regions\n",
    "Thought 4: I need to instead search High Plains (United States).\n",
    "Action 4: Search[High Plains (United States)]\n",
    "Observation 4: The High Plains are a subregion of the Great Plains. From east to west, the\n",
    "High Plains rise in elevation from around 1,800 to 7,000 ft (550 to 2,130\n",
    "m).[3]\n",
    "Thought 5: High Plains rise in elevation from around 1,800 to 7,000 ft, so the answer\n",
    "is 1,800 to 7,000 ft.\n",
    "Action 5: Finish[1,800 to 7,000 ft]\n",
    "\n",
    "Question: Based on information provided to you upto 2023, Who is Olivia Wilde's boyfriend? What is his current age raised to the 0.23 power?\n",
    "...\n",
    "\"\"\""
   ]
  },
  {
   "cell_type": "code",
   "execution_count": 7,
   "id": "984b7a99-c90e-4a5e-b2da-409e94cc8957",
   "metadata": {},
   "outputs": [
    {
     "name": "stdout",
     "output_type": "stream",
     "text": [
      "Based on the information available up to 2023, it's important to note that personal relationships can change frequently and private details about individuals are not always publicly disclosed or may be outdated. As of my last update, Olivia Wilde had been in a relationship with Harry Styles, but whether they are still together or whether she has a new boyfriend may have changed since then.\n",
      "\n",
      "To answer the second part of the question, if we assume that we're referring to Harry Styles and we're using his age as of 2023, Harry Styles was born on February 1, 1994. This would make him 29 years old in 2023. Raising 29 to the power of 0.23 can be calculated as follows:\n",
      "\n",
      "Thought 1: I need to calculate 29 raised to the power of 0.23.\n",
      "Action 1: Calculate[29^0.23]\n",
      "\n",
      "Since I am unable to perform real-time calculations, you would need to use a calculator or a computational tool to find the exact value of 29 raised to the power of 0.23. The formula to use would be:\n",
      "\n",
      "\\[ 29^{0.23} \\]\n",
      "\n",
      "Performing this calculation will give you the current age of Harry Styles (assuming he is the person in question) raised to the 0.23 power.\n",
      "\n"
     ]
    }
   ],
   "source": [
    "response = get_commpletion(client, MODEL, system_content, react_user_prompt)\n",
    "print(f\"{response}\\n\")"
   ]
  },
  {
   "cell_type": "markdown",
   "id": "11677faa-8fa1-4470-a37a-ac121c264f16",
   "metadata": {},
   "source": [
    "### Example 2: Use a in-context example for calculating an age of a person using its existing knowledge base\n",
    "An example use case for a few-shot learning is to provide an example pattern of chain of though that the model can learn from and generalize how to use ReAct. Using what it has learned as an in-context example, it can generate a response for its subsequent prompt in the manner suggested.\n",
    "\n",
    "We will use an example from this [guide](https://www.promptingguide.ai/techniques/react)."
   ]
  },
  {
   "cell_type": "code",
   "execution_count": 8,
   "id": "f27c976f-a662-47ad-87d6-3ca679f43b8b",
   "metadata": {},
   "outputs": [],
   "source": [
    "react_user_prompt_2 = \"\"\"\n",
    "Question: What is the elevation range for the area that the eastern sector of the\n",
    "Colorado orogeny extends into?\n",
    "Thought 1: I need to search Colorado orogeny, find the area that the eastern sector\n",
    "of the Colorado orogeny extends into, then find the elevation range of the\n",
    "area.\n",
    "Action 1: Search[Colorado orogeny]\n",
    "Observation 1: The Colorado orogeny was an episode of mountain building (an orogeny) in\n",
    "Colorado and surrounding areas.\n",
    "Thought 2: It does not mention the eastern sector. So I need to look up eastern\n",
    "sector.\n",
    "Action 2: Lookup[eastern sector]\n",
    "Observation 2: (Result 1 / 1) The eastern sector extends into the High Plains and is called\n",
    "the Central Plains orogeny.\n",
    "Thought 3: The eastern sector of Colorado orogeny extends into the High Plains. So I\n",
    "need to search High Plains and find its elevation range.\n",
    "Action 3: Search[High Plains]\n",
    "Observation 3: High Plains refers to one of two distinct land regions\n",
    "Thought 4: I need to instead search High Plains (United States).\n",
    "Action 4: Search[High Plains (United States)]\n",
    "Observation 4: The High Plains are a subregion of the Great Plains. From east to west, the\n",
    "High Plains rise in elevation from around 1,800 to 7,000 ft (550 to 2,130\n",
    "m).[3]\n",
    "Thought 5: High Plains rise in elevation from around 1,800 to 7,000 ft, so the answer\n",
    "is 1,800 to 7,000 ft.\n",
    "Action 5: Finish[1,800 to 7,000 ft]\n",
    "\n",
    "Question: Based on information provided to you upto 2023, aside from the Apple Remote, what other devices can \n",
    "control the program Apple Remote was originally designed to interact with?\n",
    "...\n",
    "\"\"\""
   ]
  },
  {
   "cell_type": "code",
   "execution_count": 9,
   "id": "7385238f-2744-41b7-a960-7d473fa9688e",
   "metadata": {},
   "outputs": [
    {
     "name": "stdout",
     "output_type": "stream",
     "text": [
      "Thought 1: Apple Remote was originally designed to interact with various Apple devices, such as Mac computers and the Apple TV. To answer this question accurately, I need to consider the different devices that can control these Apple products.\n",
      "\n",
      "Action 1: Recall[Devices compatible with Mac and Apple TV]\n",
      "\n",
      "Observation 1: Devices that can control Mac computers and Apple TVs include other Apple devices with the Remote app installed (such as iPhones, iPads, and iPod Touches), third-party universal remotes that are programmable to work with Apple TV, and keyboards or mice when it comes to Macs.\n",
      "\n",
      "Thought 2: Besides the Apple Remote, there are several options for controlling Apple devices. iPhones, iPads, and iPod Touches can use the Remote app. Macs can be controlled with keyboards and mice, and programmable universal remotes can be used with Apple TV.\n",
      "\n",
      "Action 2: Combine[Devices compatible with Mac and Apple TV]\n",
      "\n",
      "Observation 2: The combination of compatible devices includes Apple's iOS devices with the Remote app, programmable universal remotes, and standard input devices for Macs like keyboards and mice.\n",
      "\n",
      "Thought 3: I should provide a concise response listing the alternative devices that can control the program the Apple Remote was originally designed to interact with.\n",
      "\n",
      "Action 3: Finish[Response with list of alternative control devices]\n",
      "\n",
      "Based on information provided up to 2023, aside from the Apple Remote, the devices that can control the programs Apple Remote was originally designed to interact with include:\n",
      "\n",
      "- iPhones, iPads, and iPod Touches with the Remote app\n",
      "- Programmable universal remotes (for Apple TV)\n",
      "- Keyboards and mice (for Macs)\n",
      "\n",
      "These alternatives offer different ways to control Apple devices such as Mac computers and Apple TVs, which are compatible with the Apple Remote.\n",
      "\n"
     ]
    }
   ],
   "source": [
    "response = get_commpletion(client, MODEL, system_content, react_user_prompt_2)\n",
    "print(f\"{response}\\n\")"
   ]
  },
  {
   "cell_type": "markdown",
   "id": "482b47a3-fd09-4096-88f6-1704cdd09d1f",
   "metadata": {},
   "source": [
    "### Example 3: Use a in-context example for calculating an age of a person using its existing knowledge base\n",
    "An example use case for a few-shot learning is to provide an example pattern of chain of though that the model can learn from and generalize how to use ReAct. Using what it has learned as an in-context example, it can generate a response for its subsequent prompt in the manner suggested.\n",
    "\n",
    "We will use an example from this [guide](https://www.promptingguide.ai/techniques/react)."
   ]
  },
  {
   "cell_type": "code",
   "execution_count": 10,
   "id": "5c30e8c5-56ca-422c-87c7-8c4ef098f80e",
   "metadata": {},
   "outputs": [],
   "source": [
    "react_user_prompt_3 = \"\"\"\n",
    "Question: What is the elevation range for the area that the eastern sector of the\n",
    "Colorado orogeny extends into?\n",
    "Thought 1: I need to search Colorado orogeny, find the area that the eastern sector\n",
    "of the Colorado orogeny extends into, then find the elevation range of the\n",
    "area.\n",
    "Action 1: Search[Colorado orogeny]\n",
    "Observation 1: The Colorado orogeny was an episode of mountain building (an orogeny) in\n",
    "Colorado and surrounding areas.\n",
    "Thought 2: It does not mention the eastern sector. So I need to look up eastern\n",
    "sector.\n",
    "Action 2: Lookup[eastern sector]\n",
    "Observation 2: (Result 1 / 1) The eastern sector extends into the High Plains and is called\n",
    "the Central Plains orogeny.\n",
    "Thought 3: The eastern sector of Colorado orogeny extends into the High Plains. So I\n",
    "need to search High Plains and find its elevation range.\n",
    "Action 3: Search[High Plains]\n",
    "Observation 3: High Plains refers to one of two distinct land regions\n",
    "Thought 4: I need to instead search High Plains (United States).\n",
    "Action 4: Search[High Plains (United States)]\n",
    "Observation 4: The High Plains are a subregion of the Great Plains. From east to west, the\n",
    "High Plains rise in elevation from around 1,800 to 7,000 ft (550 to 2,130\n",
    "m).[3]\n",
    "Thought 5: High Plains rise in elevation from around 1,800 to 7,000 ft, so the answer\n",
    "is 1,800 to 7,000 ft.\n",
    "Action 5: Finish[1,800 to 7,000 ft]\n",
    "\n",
    "Question: Based on information provided to you upto 2023, how do you calculate the value\n",
    "of PI. With its current value of PI, given a circle of diameter 2 meters, what its its \n",
    "circumcernce and area?\n",
    "...\n",
    "\"\"\""
   ]
  },
  {
   "cell_type": "code",
   "execution_count": 11,
   "id": "244c5a61-be8c-4b83-9e75-210baa60ad2e",
   "metadata": {},
   "outputs": [
    {
     "name": "stdout",
     "output_type": "stream",
     "text": [
      "Thought 1: To calculate the value of pi (π), mathematicians use various algorithms and numerical methods because π is an irrational number and cannot be expressed as a simple fraction. Historically, π has been approximated by methods like polygon approximation or series expansions.\n",
      "\n",
      "Action 1: No action required here because the value of π is already known and accepted as approximately 3.14159.\n",
      "\n",
      "Observation 1: The value of π is widely known to be approximately 3.14159.\n",
      "\n",
      "Thought 2: To find the circumference of a circle, the formula is C = πd, where d is the diameter, and π is approximated as 3.14159. To find the area of a circle, the formula is A = πr^2, where r is the radius (half of the diameter).\n",
      "\n",
      "Action 2: Calculate circumference and area using the known value of π.\n",
      "\n",
      "Observation 2: For a circle with a diameter of 2 meters, the radius would be 1 meter (half of the diameter).\n",
      "\n",
      "Circumference calculation:\n",
      "C = πd = π * 2 = 3.14159 * 2 ≈ 6.28318 meters\n",
      "\n",
      "Area calculation:\n",
      "A = πr^2 = π * 1^2 = 3.14159 * 1 * 1 ≈ 3.14159 square meters\n",
      "\n",
      "Thought 3: The circumference of a circle with a diameter of 2 meters is approximately 6.28318 meters, and the area is approximately 3.14159 square meters.\n",
      "\n",
      "Action 3: Report the calculated circumference and area.\n",
      "\n",
      "Observation 3: Calculations have been made, and the values are ready to be reported.\n",
      "\n",
      "Final Answer: Using the current value of π (pi) as approximately 3.14159, a circle with a diameter of 2 meters has a circumference of approximately 6.28318 meters and an area of approximately 3.14159 square meters.\n",
      "\n"
     ]
    }
   ],
   "source": [
    "response = get_commpletion(client, MODEL, system_content, react_user_prompt_3)\n",
    "print(f\"{response}\\n\")"
   ]
  },
  {
   "cell_type": "markdown",
   "id": "b9569817-a6ff-4e4f-8485-46bfd8ca7b76",
   "metadata": {},
   "source": [
    "## All this is amazing! 😜 Feel the wizardy in prompt power 🧙‍♀️"
   ]
  }
 ],
 "metadata": {
  "kernelspec": {
   "display_name": "Python 3 (ipykernel)",
   "language": "python",
   "name": "python3"
  },
  "language_info": {
   "codemirror_mode": {
    "name": "ipython",
    "version": 3
   },
   "file_extension": ".py",
   "mimetype": "text/x-python",
   "name": "python",
   "nbconvert_exporter": "python",
   "pygments_lexer": "ipython3",
   "version": "3.10.13"
  }
 },
 "nbformat": 4,
 "nbformat_minor": 5
}
