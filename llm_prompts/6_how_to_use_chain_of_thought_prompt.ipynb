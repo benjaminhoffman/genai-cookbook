{
 "cells": [
  {
   "cell_type": "markdown",
   "id": "0c6a9d1e-35de-4197-9673-5d5bf262ae65",
   "metadata": {},
   "source": [
    "## Chain of thought (CoT) prompting\n",
    "\n",
    "Chain of thought prompting for LLMs involves providing a sequence of reasoning steps in the prompt to guide the model toward a solution. This technique helps the model to process complex problems by breaking them down into intermediate steps, much like a human would. By mimicking human-like reasoning, chain of thought prompting improves the model's ability to handle tasks that require logic and deduction.\n",
    "\n",
    "[Wei et al.](https://arxiv.org/abs/2201.11903) (2022) introduced chain-of-thought (CoT) prompting, which uses steps to help solve complex problems. By adding few-shot prompts, it works even better for tasks that need careful thinking before answering, giving the model time to \"think.\" This can simply be achieved as prompting or instructing the LLM to \"Let's think through this step and step. Solve each step and explain how to arrived at your answer.\" This instructions eliminates the need to explicitly proivde \"few-shot\" examples. This combination helps in tackling more difficult tasks effectively. \n",
    "\n",
    "Let's look at a few of those examples below 👇"
   ]
  },
  {
   "cell_type": "code",
   "execution_count": 30,
   "id": "8a9e711f-e26e-4258-90d7-1cb146129ba2",
   "metadata": {},
   "outputs": [],
   "source": [
    "import warnings\n",
    "import os\n",
    "\n",
    "import openai\n",
    "from openai import OpenAI\n",
    "\n",
    "from dotenv import load_dotenv, find_dotenv"
   ]
  },
  {
   "cell_type": "markdown",
   "id": "11d6037d-ca57-4a8a-95e0-24b773787920",
   "metadata": {},
   "source": [
    "Load the environment"
   ]
  },
  {
   "cell_type": "code",
   "execution_count": 31,
   "id": "c71e08b8-489a-4be4-b812-fa93609d2734",
   "metadata": {},
   "outputs": [
    {
     "name": "stdout",
     "output_type": "stream",
     "text": [
      "Using MODEL=gpt-4-1106-preview; base=https://api.openai.com/v1\n"
     ]
    }
   ],
   "source": [
    "_ = load_dotenv(find_dotenv()) # read local .env file\n",
    "warnings.filterwarnings('ignore')\n",
    "openai.api_base = os.getenv(\"ANYSCALE_API_BASE\", os.getenv(\"OPENAI_API_BASE\"))\n",
    "openai.api_key = os.getenv(\"ANYSCALE_API_KEY\", os.getenv(\"OPENAI_API_KEY\"))\n",
    "MODEL = os.getenv(\"MODEL\")\n",
    "print(f\"Using MODEL={MODEL}; base={openai.api_base}\")"
   ]
  },
  {
   "cell_type": "code",
   "execution_count": 32,
   "id": "7153a846-47c0-476e-a6f2-ffa0b7ff9da6",
   "metadata": {},
   "outputs": [],
   "source": [
    "# create the OpenAI client, which can be used transparently with Anyscale Endpoints too\n",
    "\n",
    "from openai import OpenAI\n",
    "\n",
    "client = OpenAI(\n",
    "    api_key = openai.api_key,\n",
    "    base_url = openai.api_base\n",
    ")"
   ]
  },
  {
   "cell_type": "code",
   "execution_count": 33,
   "id": "c0d60d02-827d-441f-8cae-023fef3016dc",
   "metadata": {},
   "outputs": [],
   "source": [
    "# Utility function to send and fetch response\n",
    "\n",
    "def get_commpletion(clnt: object, model: str, system_content: str, user_content:str) -> str:\n",
    "    chat_completion = clnt.chat.completions.create(\n",
    "        model=model,\n",
    "    messages=[{\"role\": \"system\", \"content\": system_content},\n",
    "              {\"role\": \"user\", \"content\": user_content}],\n",
    "    temperature = 0.8)\n",
    "\n",
    "    response = chat_completion.choices[0].message.content\n",
    "    return response"
   ]
  },
  {
   "cell_type": "code",
   "execution_count": 34,
   "id": "de684f63-8488-46f4-b2be-b35ed419c28a",
   "metadata": {},
   "outputs": [],
   "source": [
    "system_content = \"\"\"You are supreme repository of knowledge and an engine\n",
    "of reason. You can solve complex problems by breaking into steps, and \n",
    "solve each step to arrive at a solution.\"\"\""
   ]
  },
  {
   "cell_type": "markdown",
   "id": "e35d40de-7b76-4701-8796-f41b1693802c",
   "metadata": {},
   "source": [
    "#### Example 1: Chain of Thought"
   ]
  },
  {
   "cell_type": "code",
   "execution_count": 42,
   "id": "c8249833-41fe-4cfa-bf17-89429632c4df",
   "metadata": {},
   "outputs": [],
   "source": [
    "user_content = \"\"\"I'm offered $125.00 an hour contract job for six months.\n",
    "If I work 30 hours a week, how much will I make by the end of my contract.\n",
    "\n",
    "Let's think through this step by step. Solve each step and explain how you arrived \n",
    "at your answer.\"\"\"\n"
   ]
  },
  {
   "cell_type": "code",
   "execution_count": 37,
   "id": "024b19fc-ed06-4d9d-861c-f7abb7d85c94",
   "metadata": {},
   "outputs": [
    {
     "name": "stdout",
     "output_type": "stream",
     "text": [
      "Sure, let's break down the problem into manageable steps to arrive at the solution.\n",
      "\n",
      "Step 1: Calculate weekly earnings\n",
      "First, we need to calculate how much you would earn in a week.\n",
      "If you are offered $125.00 per hour and you work 30 hours a week, you would calculate your weekly earnings as follows:\n",
      "Hourly rate x Hours per week = Weekly earnings\n",
      "$125.00/hour x 30 hours/week = $3,750.00 per week\n",
      "\n",
      "Step 2: Calculate total earnings for the duration of the contract\n",
      "Since the contract is for six months, we need to find out how many weeks are in six months. Typically, a month is considered to have about 4.33 weeks on average (since a year has 52 weeks and is divided by 12 months).\n",
      "6 months x 4.33 weeks/month = 25.98 weeks\n",
      "\n",
      "However, to be more precise, we would usually count the actual number of weeks or use a consistent average of 4 weeks per month for simpler calculations.\n",
      "\n",
      "For precision, let's use the 4.33 weeks per month average:\n",
      "6 months x 4.33 weeks/month ≈ 25.98 weeks\n",
      "Since you can't work a fraction of a week, we can either round this number to the nearest whole number or simply use it as is for an approximation. Let's use it as it is for now.\n",
      "\n",
      "Now, we calculate the total earnings for 25.98 weeks:\n",
      "Weekly earnings x Number of weeks = Total earnings\n",
      "$3,750.00/week x 25.98 weeks ≈ $97,425.00\n",
      "\n",
      "Step 3: Conclusion\n",
      "By the end of your six-month contract, working 30 hours a week at $125.00 an hour, you would approximately earn $97,425.00. Keep in mind that this is an approximation, as the exact number could vary slightly based on the actual number of workdays in those six months.\n",
      "\n"
     ]
    }
   ],
   "source": [
    "response = get_commpletion(client, MODEL, system_content, user_content)\n",
    "print(f\"{response}\\n\")"
   ]
  },
  {
   "cell_type": "markdown",
   "id": "806e445c-74a5-445a-a9dc-ffb4a82f0d78",
   "metadata": {},
   "source": [
    "#### Example 2: Chain of Thought"
   ]
  },
  {
   "cell_type": "code",
   "execution_count": 46,
   "id": "31c61f40-1a12-421e-90b4-30f73b2256e5",
   "metadata": {},
   "outputs": [],
   "source": [
    "user_content = \"\"\"At the recent holiday party, I got a coupon to join a health club\n",
    "for wellness. If I joined before December 31, 2023 I get 35% discount on montly subscritpion fees\n",
    "of $55.00 for one year, and the first three months' fees payments of $55.00 will be waived. \n",
    "\n",
    "The monthly payments for the health club subscription is $55.00\n",
    "\n",
    "If I joined in January 2024, I get 25%, and only one month's fee is waived. \n",
    "\n",
    "Compute the best scenarios for saving costs for a one year subscription.\n",
    "\n",
    "Let's think through this step by step. Solve each step and explain how you arrived \n",
    "at your answer.\n",
    "\"\"\""
   ]
  },
  {
   "cell_type": "code",
   "execution_count": 47,
   "id": "4f99df1b-69de-40d4-8a28-d59404fcd6b1",
   "metadata": {},
   "outputs": [
    {
     "name": "stdout",
     "output_type": "stream",
     "text": [
      "Let's calculate the cost of the health club subscription for one year under both scenarios:\n",
      "\n",
      "Scenario 1: Join before December 31, 2023\n",
      "1. Calculate the monthly fee with a 35% discount.\n",
      "2. Multiply the discounted monthly fee by the number of months you would pay for (12 months minus the 3 waived months).\n",
      "3. Sum up the total payment for the year.\n",
      "\n",
      "Scenario 2: Join in January 2024\n",
      "1. Calculate the monthly fee with a 25% discount.\n",
      "2. Multiply the discounted monthly fee by the number of months you would pay for (12 months minus the 1 waived month).\n",
      "3. Sum up the total payment for the year.\n",
      "\n",
      "Now, let's do the math.\n",
      "\n",
      "Scenario 1:\n",
      "1. Calculate the monthly fee with a 35% discount:\n",
      "   $55.00 - (35/100 * $55.00) = $55.00 - $19.25 = $35.75 per month after discount.\n",
      "\n",
      "2. Since the first three months are waived, you would only pay for 9 months:\n",
      "   $35.75 * 9 months = $321.75 for the year.\n",
      "\n",
      "Scenario 2:\n",
      "1. Calculate the monthly fee with a 25% discount:\n",
      "   $55.00 - (25/100 * $55.00) = $55.00 - $13.75 = $41.25 per month after discount.\n",
      "\n",
      "2. Since one month is waived, you would only pay for 11 months:\n",
      "   $41.25 * 11 months = $453.75 for the year.\n",
      "\n",
      "Comparing the costs:\n",
      "- Scenario 1: $321.75 for the year.\n",
      "- Scenario 2: $453.75 for the year.\n",
      "\n",
      "By joining before December 31, 2023, you would save:\n",
      "$453.75 - $321.75 = $132.00\n",
      "\n",
      "So, Scenario 1 offers the best savings for a one-year subscription to the health club.\n",
      "\n"
     ]
    }
   ],
   "source": [
    "response = get_commpletion(client, MODEL, system_content, user_content)\n",
    "print(f\"{response}\\n\")"
   ]
  },
  {
   "cell_type": "markdown",
   "id": "d36cd7c3-c299-4f79-9fb6-6d4306ad1059",
   "metadata": {},
   "source": [
    "#### Example 3: Chain of Thought"
   ]
  },
  {
   "cell_type": "code",
   "execution_count": 53,
   "id": "c8371f10-7ae3-4ad9-82b2-bd3bd5d927bd",
   "metadata": {},
   "outputs": [],
   "source": [
    "user_content = \"\"\"Three girls, Emmy, Kasima, and Lina, had a fresh lemon juice booth stand\n",
    "at the local community fair.\n",
    "\n",
    "Emmy had 45 medium glasses of lemmon. She sold 43 glasses each at $1.25 per glass.\n",
    "\n",
    "Kasima had 50 small glasses, and she sold all of them each at $1.15 per glass. \n",
    "\n",
    "And Lina had 25 large glasses and she sold only 11 glasses but at $1.75 per glass.\n",
    "\n",
    "Of all the three girls, who made most money, and how many glasses each girl sold.\n",
    "How many unsold glasses were left for each girl.\n",
    "\n",
    "And finally, looking at all the numbers, which girl benefited most. That is, which\n",
    "girl cleared her stock.\n",
    "\n",
    "Let's think through this step and step. Solve each step and explain how you arrived\n",
    "at your answer\"\"\""
   ]
  },
  {
   "cell_type": "code",
   "execution_count": 54,
   "id": "456f8357-b457-4dfc-937f-1f88681fc35f",
   "metadata": {},
   "outputs": [
    {
     "name": "stdout",
     "output_type": "stream",
     "text": [
      "Sure, we can calculate the earnings for each girl, determine who made the most money, the number of glasses each sold, the number of unsold glasses, and finally, discuss who benefited most in terms of clearing their stock. Let's tackle this step by step.\n",
      "\n",
      "1. **Emmy's Earnings:**\n",
      "Emmy sold 43 out of her 45 medium glasses of lemon juice.\n",
      "- Each glass was sold at $1.25.\n",
      "- Her earnings would be: 43 glasses * $1.25/glass = $53.75.\n",
      "\n",
      "Emmy has 45 - 43 = 2 unsold glasses left.\n",
      "\n",
      "2. **Kasima's Earnings:**\n",
      "Kasima sold all of her 50 small glasses.\n",
      "- Each glass was sold at $1.15.\n",
      "- Her earnings would be: 50 glasses * $1.15/glass = $57.50.\n",
      "\n",
      "Kasima has 50 - 50 = 0 unsold glasses left.\n",
      "\n",
      "3. **Lina's Earnings:**\n",
      "Lina sold 11 out of her 25 large glasses.\n",
      "- Each glass was sold at $1.75.\n",
      "- Her earnings would be: 11 glasses * $1.75/glass = $19.25.\n",
      "\n",
      "Lina has 25 - 11 = 14 unsold glasses left.\n",
      "\n",
      "Now, let's compare their earnings to see who made the most money:\n",
      "- Emmy earned $53.75.\n",
      "- Kasima earned $57.50.\n",
      "- Lina earned $19.25.\n",
      "\n",
      "**Kasima** made the most money at the fair with $57.50.\n",
      "\n",
      "Next, to determine which girl benefited most in terms of clearing their stock, we look at the number of unsold glasses:\n",
      "- Emmy had 2 unsold glasses.\n",
      "- Kasima had 0 unsold glasses.\n",
      "- Lina had 14 unsold glasses.\n",
      "\n",
      "**Kasima** clearly benefited the most in terms of clearing her stock, as she sold all of her glasses and had none left unsold.\n",
      "\n"
     ]
    }
   ],
   "source": [
    "response = get_commpletion(client, MODEL, system_content, user_content)\n",
    "print(f\"{response}\\n\")"
   ]
  },
  {
   "cell_type": "markdown",
   "id": "db733e66-6bc4-4ca0-9d47-d6bc54a511fa",
   "metadata": {},
   "source": [
    "## All this is amazing! 😜 Feel the wizardy in Chain of Thought reasoning 🧙‍♀️"
   ]
  }
 ],
 "metadata": {
  "kernelspec": {
   "display_name": "Python 3 (ipykernel)",
   "language": "python",
   "name": "python3"
  },
  "language_info": {
   "codemirror_mode": {
    "name": "ipython",
    "version": 3
   },
   "file_extension": ".py",
   "mimetype": "text/x-python",
   "name": "python",
   "nbconvert_exporter": "python",
   "pygments_lexer": "ipython3",
   "version": "3.8.13"
  }
 },
 "nbformat": 4,
 "nbformat_minor": 5
}
