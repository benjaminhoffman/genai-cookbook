{
 "cells": [
  {
   "cell_type": "markdown",
   "id": "0c6a9d1e-35de-4197-9673-5d5bf262ae65",
   "metadata": {},
   "source": [
    "## Chain of thought (CoT) prompting\n",
    "\n",
    "Chain of thought prompting for LLMs involves providing a sequence of reasoning steps in the prompt to guide the model toward a solution. This technique helps the model to process complex problems by breaking them down into intermediate steps, much like a human would. By mimicking human-like reasoning, chain of thought prompting improves the model's ability to handle tasks that require logic and deduction.\n",
    "\n",
    "[Wei et al.](https://arxiv.org/abs/2201.11903) (2022) introduced chain-of-thought (CoT) prompting, which uses steps to help solve complex problems. By adding few-shot prompts, it works even better for tasks that need careful thinking before answering, giving the model time to \"think.\" This can simply be achieved as prompting or instructing the LLM to \"Let's think through this step and step. Solve each step and explain how to arrived at your answer.\" This instructions eliminates the need to explicitly proivde \"few-shot\" examples. This combination helps in tackling more difficult tasks effectively. \n",
    "\n",
    "Let's look at a few of those examples below 👇"
   ]
  },
  {
   "cell_type": "code",
   "execution_count": 1,
   "id": "8a9e711f-e26e-4258-90d7-1cb146129ba2",
   "metadata": {},
   "outputs": [],
   "source": [
    "import warnings\n",
    "import os\n",
    "\n",
    "import openai\n",
    "from openai import OpenAI\n",
    "\n",
    "from dotenv import load_dotenv, find_dotenv"
   ]
  },
  {
   "cell_type": "markdown",
   "id": "11d6037d-ca57-4a8a-95e0-24b773787920",
   "metadata": {},
   "source": [
    "Load the environment"
   ]
  },
  {
   "cell_type": "code",
   "execution_count": 2,
   "id": "c71e08b8-489a-4be4-b812-fa93609d2734",
   "metadata": {},
   "outputs": [
    {
     "name": "stdout",
     "output_type": "stream",
     "text": [
      "Using MODEL=gpt-4-1106-preview; base=https://api.openai.com/v1\n"
     ]
    }
   ],
   "source": [
    "_ = load_dotenv(find_dotenv()) # read local .env file\n",
    "warnings.filterwarnings('ignore')\n",
    "openai.api_base = os.getenv(\"ANYSCALE_API_BASE\", os.getenv(\"OPENAI_API_BASE\"))\n",
    "openai.api_key = os.getenv(\"ANYSCALE_API_KEY\", os.getenv(\"OPENAI_API_KEY\"))\n",
    "MODEL = os.getenv(\"MODEL\")\n",
    "print(f\"Using MODEL={MODEL}; base={openai.api_base}\")"
   ]
  },
  {
   "cell_type": "code",
   "execution_count": 3,
   "id": "7153a846-47c0-476e-a6f2-ffa0b7ff9da6",
   "metadata": {},
   "outputs": [],
   "source": [
    "# create the OpenAI client, which can be used transparently with Anyscale Endpoints too\n",
    "\n",
    "from openai import OpenAI\n",
    "\n",
    "client = OpenAI(\n",
    "    api_key = openai.api_key,\n",
    "    base_url = openai.api_base\n",
    ")"
   ]
  },
  {
   "cell_type": "code",
   "execution_count": 4,
   "id": "c0d60d02-827d-441f-8cae-023fef3016dc",
   "metadata": {},
   "outputs": [],
   "source": [
    "# Utility function to send and fetch response\n",
    "\n",
    "def get_commpletion(clnt: object, model: str, system_content: str, user_content:str) -> str:\n",
    "    chat_completion = clnt.chat.completions.create(\n",
    "        model=model,\n",
    "    messages=[{\"role\": \"system\", \"content\": system_content},\n",
    "              {\"role\": \"user\", \"content\": user_content}],\n",
    "    temperature = 0.8)\n",
    "\n",
    "    response = chat_completion.choices[0].message.content\n",
    "    return response"
   ]
  },
  {
   "cell_type": "markdown",
   "id": "e35d40de-7b76-4701-8796-f41b1693802c",
   "metadata": {},
   "source": [
    "#### Example 1: Chain of Thought"
   ]
  },
  {
   "cell_type": "code",
   "execution_count": 6,
   "id": "c8249833-41fe-4cfa-bf17-89429632c4df",
   "metadata": {},
   "outputs": [],
   "source": [
    "system_content = \"\"\"You are supreme repository of knowledge and an engine\n",
    "of reason. You can solve complex problems by breaking into steps, and \n",
    "solve each step to arrive at a solution.\"\"\"\n",
    "\n",
    "user_content = \"\"\"I'm offered $125.00 an hour contract job for six months.\n",
    "If I work 30 hours a week, how much will I make by the end of my contract.\n",
    "Let's think through this step and step. Solve each step and explain how to arrived \n",
    "at your answer.\"\"\"\n"
   ]
  },
  {
   "cell_type": "code",
   "execution_count": 7,
   "id": "4f99df1b-69de-40d4-8a28-d59404fcd6b1",
   "metadata": {},
   "outputs": [
    {
     "name": "stdout",
     "output_type": "stream",
     "text": [
      "Certainly! Let's break down the problem into steps:\n",
      "\n",
      "**Step 1: Calculate Weekly Earnings**\n",
      "First, we need to determine how much you would earn in a week. You're offered $125 per hour and plan to work 30 hours a week. To calculate your weekly earnings, multiply your hourly rate by the number of hours you work per week.\n",
      "\n",
      "Weekly Earnings = Hourly Rate × Hours Worked per Week\n",
      "\n",
      "Now, let's calculate:\n",
      "\n",
      "Weekly Earnings = $125/hour × 30 hours/week = $3,750/week\n",
      "\n",
      "**Step 2: Calculate Total Weeks Worked Over the Contract**\n",
      "Next, we need to find out how many weeks are in a six-month period. Since not every month is of the same length and an average month is considered to be about 4.33 weeks, this can be an estimation. However, for the purpose of a contract job, it's likely that a \"month\" is considered to be a standard four weeks. Therefore, for a six-month contract, we would multiply six by four.\n",
      "\n",
      "Total Weeks = Number of Months × Weeks per Month\n",
      "\n",
      "Total Weeks = 6 months × 4 weeks/month = 24 weeks\n",
      "\n",
      "**Step 3: Calculate Total Earnings for the Contract**\n",
      "Finally, we need to calculate the total earnings over the duration of the contract by multiplying your weekly earnings by the total number of weeks you will work.\n",
      "\n",
      "Total Earnings = Weekly Earnings × Total Weeks\n",
      "\n",
      "Now, let's calculate:\n",
      "\n",
      "Total Earnings = $3,750/week × 24 weeks = $90,000\n",
      "\n",
      "By the end of the six-month contract, working 30 hours a week at a rate of $125 per hour, you would make $90,000.\n",
      "\n"
     ]
    }
   ],
   "source": [
    "response = get_commpletion(client, MODEL, system_content, user_content)\n",
    "print(f\"{response}\\n\")"
   ]
  },
  {
   "cell_type": "markdown",
   "id": "d36cd7c3-c299-4f79-9fb6-6d4306ad1059",
   "metadata": {},
   "source": [
    "#### Example 2: Chain of Thought"
   ]
  },
  {
   "cell_type": "code",
   "execution_count": 17,
   "id": "c8371f10-7ae3-4ad9-82b2-bd3bd5d927bd",
   "metadata": {},
   "outputs": [],
   "source": [
    "user_content = \"\"\"Three girls, Emmy, Kasima, and Lina, had a fresh lemon juice booth stand\n",
    "at the local community fair.\n",
    "\n",
    "Emmy had 45 medium glasses of lemmon. She sold 43 glasses each at $1.25 per glass.\n",
    "\n",
    "Lisa had 50 small glasses, and she sold all of them each at $1.15 per glass. \n",
    "\n",
    "And Lina had 25 large glasses and she sold only 11 glasses but at $1.75 per glass.\n",
    "\n",
    "Of all the three girls, who made most money, and how many glasses each girl sold.\n",
    "How many unsold glasses were left for each girl.\n",
    "\n",
    "And finally, looking at all the numbers, which girl benefited most. That is, which\n",
    "girl cleared her stock.\n",
    "\n",
    "Let's think through this step and step. Solve each step and explain how to arrive \n",
    "at your answer\"\"\""
   ]
  },
  {
   "cell_type": "code",
   "execution_count": 18,
   "id": "456f8357-b457-4dfc-937f-1f88681fc35f",
   "metadata": {},
   "outputs": [
    {
     "name": "stdout",
     "output_type": "stream",
     "text": [
      "Let's go through this step by step.\n",
      "\n",
      "**Step 1: Calculate the revenue from sold glasses for each girl.**\n",
      "\n",
      "- Emmy sold 43 medium glasses at $1.25 each.\n",
      "  Revenue for Emmy = 43 glasses * $1.25/glass = $53.75\n",
      "\n",
      "- Lisa sold all 50 small glasses at $1.15 each.\n",
      "  Revenue for Lisa = 50 glasses * $1.15/glass = $57.50\n",
      "\n",
      "- Lina sold 11 large glasses at $1.75 each.\n",
      "  Revenue for Lina = 11 glasses * $1.75/glass = $19.25\n",
      "\n",
      "**Step 2: Determine who made the most money.**\n",
      "\n",
      "Comparing the revenues:\n",
      "- Emmy made $53.75\n",
      "- Lisa made $57.50\n",
      "- Lina made $19.25\n",
      "\n",
      "Lisa made the most money of all three, with $57.50.\n",
      "\n",
      "**Step 3: Calculate the number of unsold glasses for each girl.**\n",
      "\n",
      "- Emmy had 45 medium glasses and sold 43, so she has:\n",
      "  Unsold glasses for Emmy = 45 - 43 = 2\n",
      "\n",
      "- Lisa had 50 small glasses and sold all 50, so she has:\n",
      "  Unsold glasses for Lisa = 50 - 50 = 0\n",
      "\n",
      "- Lina had 25 large glasses and sold 11, so she has:\n",
      "  Unsold glasses for Lina = 25 - 11 = 14\n",
      "\n",
      "**Step 4: Determine which girl benefited most in terms of clearing their stock.**\n",
      "\n",
      "In terms of clearing stock:\n",
      "- Emmy has 2 unsold glasses left.\n",
      "- Lisa has 0 unsold glasses; she sold out.\n",
      "- Lina has 14 unsold glasses left.\n",
      "\n",
      "Lisa benefited most in terms of clearing her stock because she sold all of her 50 glasses.\n",
      "\n",
      "So, to summarize:\n",
      "\n",
      "- Lisa made the most money with $57.50 from selling all her glasses.\n",
      "- Each girl sold the following number of glasses:\n",
      "  Emmy sold 43 glasses.\n",
      "  Lisa sold 50 glasses.\n",
      "  Lina sold 11 glasses.\n",
      "- The number of unsold glasses left for each girl:\n",
      "  Emmy was left with 2 unsold glasses.\n",
      "  Lisa was left with 0 unsold glasses.\n",
      "  Lina was left with 14 unsold glasses.\n",
      "- Lisa cleared her stock, making her the most benefited in terms of inventory clearance.\n",
      "\n"
     ]
    }
   ],
   "source": [
    "response = get_commpletion(client, MODEL, system_content, user_content)\n",
    "print(f\"{response}\\n\")"
   ]
  },
  {
   "cell_type": "markdown",
   "id": "db733e66-6bc4-4ca0-9d47-d6bc54a511fa",
   "metadata": {},
   "source": [
    "## All this is amazing! 😜 Feel the wizardy in Chain of Thought reasoning 🧙‍♀️"
   ]
  },
  {
   "cell_type": "code",
   "execution_count": null,
   "id": "f42d29b2-bfaf-44b3-be6f-482531cfcaf4",
   "metadata": {},
   "outputs": [],
   "source": []
  }
 ],
 "metadata": {
  "kernelspec": {
   "display_name": "Python 3 (ipykernel)",
   "language": "python",
   "name": "python3"
  },
  "language_info": {
   "codemirror_mode": {
    "name": "ipython",
    "version": 3
   },
   "file_extension": ".py",
   "mimetype": "text/x-python",
   "name": "python",
   "nbconvert_exporter": "python",
   "pygments_lexer": "ipython3",
   "version": "3.8.13"
  }
 },
 "nbformat": 4,
 "nbformat_minor": 5
}
