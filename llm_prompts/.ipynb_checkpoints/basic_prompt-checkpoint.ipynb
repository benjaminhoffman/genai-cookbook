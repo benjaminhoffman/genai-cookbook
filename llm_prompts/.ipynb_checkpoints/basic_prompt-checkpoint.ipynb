{
 "cells": [
  {
   "cell_type": "markdown",
   "id": "35fb20c8-45f9-4e72-8194-3175f13cc475",
   "metadata": {},
   "source": [
    "## Basic Prompting\n",
    "\n",
    "Prompts are the basic way to interact and interface with an LLM. Think of them as ways to ask, instruct, fashion, or nudge an LLM to respond or behave. According to Elvis Saravia's prompt engineering guide, a prompt can contain many elements:\n",
    "\n",
    "**Instruction**: describe a specific task you want a model to perform\n",
    "\n",
    "**Context**: additional information or context that can guide's a model's response\n",
    "\n",
    "**Input Data**: expressed as input or question that for a model to respond to\n",
    "\n",
    "**Output Format** :the type or format of the output, for example, JSON, how many lines or paragraphs\n",
    "\n",
    "Prompts are associated with roles, and roles inform an LLM who is interacting with it and what the interactive behvior ought to be. For example, a *system* prompt instructs an LLM to assume a role of an Assistant or Teacher. A user takes a role of providing any of the above prompt elements in the prompt for the LLM to use to respond.\n",
    "\n",
    "In the example below, we have interact with an LLM via two roles: `system` and `user`.\n"
   ]
  },
  {
   "cell_type": "code",
   "execution_count": 7,
   "id": "4a6f7835-5c89-4828-bc46-7236f2bd0a3b",
   "metadata": {},
   "outputs": [],
   "source": [
    "import warnings\n",
    "import os\n",
    "\n",
    "import openai\n",
    "from openai import OpenAI\n",
    "\n",
    "from dotenv import load_dotenv, find_dotenv"
   ]
  },
  {
   "cell_type": "code",
   "execution_count": 8,
   "id": "601a9168-7f20-40bc-a7a5-32bb02adbcfc",
   "metadata": {},
   "outputs": [
    {
     "name": "stdout",
     "output_type": "stream",
     "text": [
      "Using MODEL=gpt-4-1106-preview; base=https://api.openai.com/v1\n"
     ]
    }
   ],
   "source": [
    "_ = load_dotenv(find_dotenv()) # read local .env file\n",
    "warnings.filterwarnings('ignore')\n",
    "openai.api_base = os.getenv(\"ANYSCALE_API_BASE\", os.getenv(\"OPENAI_API_BASE\"))\n",
    "openai.api_key = os.getenv(\"ANYSCALE_API_KEY\", os.getenv(\"OPENAI_API_KEY\"))\n",
    "MODEL = os.getenv(\"MODEL\")\n",
    "print(f\"Using MODEL={MODEL}; base={openai.api_base}\")"
   ]
  },
  {
   "cell_type": "code",
   "execution_count": 9,
   "id": "9335e695-fee7-4984-a1c5-63d2e23b9a4a",
   "metadata": {},
   "outputs": [],
   "source": [
    "# Our system role prompt instructions and how to respond to user content.\n",
    "# form, format, style, etc.\n",
    "system_content = \"You are the whisper of knowledge, a sage who holds immense knowledge. \\\n",
    "                  You will given a {question} about the world's general knowledge: history, science, philosphy, economics, literature, etc. \\\n",
    "                  As a sage, your task is provide your pupil an answer in succinct and simple language, with no more that five sentences per paragraph and no more than two paragrahps. \\\n",
    "                  You will use simple, compound, and compound-complex sentences for all your responses. Where appropriate try some humor\"\n",
    "\n",
    "# Some questions you might want to ask your LLM\n",
    "user_questions =  [\n",
    "                   \"Who was Benjamin Franklin, and what is he most known for?\",\n",
    "                   \"Who has won the most World Cups in soccer?\",\n",
    "                   \"What's the best computed value for pi?\",\n",
    "                   \"Why does oil float on water?\",\n",
    "                   \"Give list of at least three open source distributed computing frameworks, and what they are good for?\"\n",
    "                  ]"
   ]
  },
  {
   "cell_type": "code",
   "execution_count": 10,
   "id": "b166dd32-c981-47b0-9184-5aa0aef54360",
   "metadata": {},
   "outputs": [],
   "source": [
    "from openai import OpenAI\n",
    "\n",
    "client = OpenAI(\n",
    "    # defaults to os.environ.get(\"OPENAI_API_KEY\")\n",
    "    api_key = openai.api_key,\n",
    "    base_url = openai.api_base\n",
    ")"
   ]
  },
  {
   "cell_type": "code",
   "execution_count": 11,
   "id": "215c21eb-b1ba-4270-a2da-cd575a255a9e",
   "metadata": {},
   "outputs": [],
   "source": [
    "def get_commpletion(model: str, system_content: str, user_content:str) -> str:\n",
    "    chat_completion = client.chat.completions.create(\n",
    "        model=model,\n",
    "    messages=[{\"role\": \"system\", \"content\": system_content},\n",
    "              {\"role\": \"user\", \"content\": user_content}],\n",
    "    temperature=0.7\n",
    ")\n",
    "\n",
    "    response = chat_completion.choices[0].message.content\n",
    "    return response"
   ]
  },
  {
   "cell_type": "markdown",
   "id": "387976c4-50c0-48c7-af76-d6008a0042e1",
   "metadata": {},
   "source": [
    "To use Anyscale Endpoints, simply copy your `env/env_anyscale_template` to `.env` file in the top directory, and\n",
    "enter your relevant API keys. It should work as a charm!"
   ]
  },
  {
   "cell_type": "code",
   "execution_count": null,
   "id": "9338156f-90ef-4815-b38a-3d4b5224378f",
   "metadata": {},
   "outputs": [
    {
     "name": "stdout",
     "output_type": "stream",
     "text": [
      "Using Endpoints: https://api.openai.com/v1...\n",
      "\n",
      "\n",
      "Question: Who's Nelson Mendela and what's done for his country?\n",
      "\n",
      "Answer: Nelson Mandela was a South African anti-apartheid revolutionary, political leader, and philanthropist, who served as President of South Africa from 1994 to 1999. He was the country's first black head of state and the first elected in a fully representative democratic election. His government focused on dismantling the legacy of apartheid by tackling institutionalized racism and fostering racial reconciliation.\n",
      "\n",
      "Mandela spent 27 years in prison, many of which were on Robben Island, after being convicted of conspiring to overthrow the state. Upon his release in 1990, he led negotiations to abolish apartheid and establish multiracial elections in 1994, in which he led the African National Congress to victory. He was a symbol of global peacemaking and won the Nobel Peace Prize in 1993. His charisma and commitment to justice and peace, even after his long imprisonment, made his name synonymous with the struggle for dignity and freedom across the world.\n",
      "\n",
      "Question: Who was Benjamin Franklin, and what is he most known for?\n",
      "\n",
      "Answer: Benjamin Franklin was a polymath and one of the Founding Fathers of the United States. He was an accomplished printer, scientist, inventor, and diplomat, born on January 17, 1706, in Boston, Massachusetts. Franklin is most known for his role in drafting the Declaration of Independence and the U.S. Constitution, as well as for his experiments with electricity, famously involving a kite and a key during a thunderstorm. \n",
      "\n",
      "Beyond his political and scientific achievements, Franklin is remembered for his witty aphorisms published in \"Poor Richard's Almanack\" and for establishing institutions such as the University of Pennsylvania and the first public lending library. His inventions include the lightning rod, bifocal glasses, and the Franklin stove, yet he never patented them, believing that such discoveries should benefit all of humanity. Despite his monumental contributions, he maintained a sense of humor, once quipping, \"Beer is proof that God loves us and wants us to be happy.\"\n",
      "\n",
      "Question: Who has won the most World Cups in soccer?\n",
      "\n",
      "Answer: Brazil holds the record for the most World Cup victories in the realm of soccer, having claimed the prestigious trophy a total of five times. Their triumphs occurred in the years 1958, 1962, 1970, 1994, and 2002, showcasing a long-standing tradition of producing exceptional soccer talent and a national passion for the sport.\n",
      "\n",
      "To jest with the beautiful game, one could say that the Brazilian team has been dancing the samba through the World Cup tournaments, leaving their vibrant mark on soccer history. Their yellow and green jerseys have become iconic symbols of excellence on the pitch, with legends like Pelé, Romário, and Ronaldo donning the colors with pride and unforgettable flair.\n"
     ]
    }
   ],
   "source": [
    "print(f\"Using Endpoints: {openai.api_base}...\\n\")\n",
    "for user_content in user_questions:\n",
    "    response = get_commpletion(MODEL, system_content, user_content)\n",
    "    print(f\"\\nQuestion: {user_content}\")\n",
    "    print(f\"\\nAnswer: {response}\")"
   ]
  },
  {
   "cell_type": "code",
   "execution_count": null,
   "id": "6a69508b-4eb2-48f5-b7d2-4f9204bd0e9a",
   "metadata": {},
   "outputs": [],
   "source": []
  }
 ],
 "metadata": {
  "kernelspec": {
   "display_name": "Python 3 (ipykernel)",
   "language": "python",
   "name": "python3"
  },
  "language_info": {
   "codemirror_mode": {
    "name": "ipython",
    "version": 3
   },
   "file_extension": ".py",
   "mimetype": "text/x-python",
   "name": "python",
   "nbconvert_exporter": "python",
   "pygments_lexer": "ipython3",
   "version": "3.10.12"
  }
 },
 "nbformat": 4,
 "nbformat_minor": 5
}
