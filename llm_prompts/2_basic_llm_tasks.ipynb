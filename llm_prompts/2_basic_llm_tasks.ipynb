{
 "cells": [
  {
   "cell_type": "markdown",
   "id": "39330ca8-0778-405c-8d1f-2c31e190ebde",
   "metadata": {},
   "source": [
    "## Basic LLM Tasks\n",
    "In the *1_basic_prompt* notebook, we explored using prompts to query an LLM model. This notebook presents diverse examples to demonstrate various tasks and introduce key concepts, emphasizing effective learning through practical instances. The tasks explored in this notebook, using sophiscated prompting techniques, show *how-to* code examples for:\n",
    "\n",
    " * Text generation or completion\n",
    " * Text summarization\n",
    " * Text extraction\n",
    " * Text classification or sentiment analysis\n",
    " * Text categorization\n",
    " * Code generation\n",
    " * Simple and complex reasoning\n",
    "\n",
    "<img src=\"./images/prompt_req_resp.png\" height=\"35%\" width=\"%65\">\n"
   ]
  },
  {
   "cell_type": "code",
   "execution_count": 11,
   "id": "798bde8f-44a7-4e9f-ba30-0ffccd1d4f87",
   "metadata": {},
   "outputs": [],
   "source": [
    "import warnings\n",
    "import os\n",
    "\n",
    "import openai\n",
    "from openai import OpenAI\n",
    "\n",
    "from dotenv import load_dotenv, find_dotenv"
   ]
  },
  {
   "cell_type": "code",
   "execution_count": 12,
   "id": "249c0446-7d74-402b-b7a5-9ab6f1d59224",
   "metadata": {},
   "outputs": [
    {
     "name": "stdout",
     "output_type": "stream",
     "text": [
      "Using MODEL=gpt-4-1106-preview; base=https://api.openai.com/v1\n"
     ]
    }
   ],
   "source": [
    "_ = load_dotenv(find_dotenv()) # read local .env file\n",
    "warnings.filterwarnings('ignore')\n",
    "openai.api_base = os.getenv(\"ANYSCALE_API_BASE\", os.getenv(\"OPENAI_API_BASE\"))\n",
    "openai.api_key = os.getenv(\"ANYSCALE_API_KEY\", os.getenv(\"OPENAI_API_KEY\"))\n",
    "MODEL = os.getenv(\"MODEL\")\n",
    "print(f\"Using MODEL={MODEL}; base={openai.api_base}\")"
   ]
  },
  {
   "cell_type": "code",
   "execution_count": 13,
   "id": "b45071b3-6e6e-497b-9126-ab592053d2ca",
   "metadata": {},
   "outputs": [],
   "source": [
    "from openai import OpenAI\n",
    "\n",
    "client = OpenAI(\n",
    "    api_key = openai.api_key,\n",
    "    base_url = openai.api_base\n",
    ")"
   ]
  },
  {
   "cell_type": "code",
   "execution_count": 14,
   "id": "a8654cd8-fa3d-4d94-a7c9-37053a3434be",
   "metadata": {},
   "outputs": [],
   "source": [
    "def get_commpletion(clnt: object, model: str, system_content: str, user_content:str) -> str:\n",
    "    chat_completion = clnt.chat.completions.create(\n",
    "        model=model,\n",
    "    messages=[{\"role\": \"system\", \"content\": system_content},\n",
    "              {\"role\": \"user\", \"content\": user_content}],\n",
    "    temperature = 0.8)\n",
    "\n",
    "    response = chat_completion.choices[0].message.content\n",
    "    return response"
   ]
  },
  {
   "cell_type": "markdown",
   "id": "b2f06061-ea86-4e09-b006-9a0c61f92e33",
   "metadata": {},
   "source": [
    "## Text generation or completion\n",
    "In this simple task, we use an LLM to generate text by finishing an incomplete user content provided in the prompt. For example,\n",
    "by providing an incomplete prompt such as \"On a cold winter night, the stray dog ...\". \n",
    "\n",
    "Let's try a few text generation or completion tasks by providing partial prompts in the user content. You will surprised at its\n",
    "fluency and coherency in the generated text."
   ]
  },
  {
   "cell_type": "code",
   "execution_count": 15,
   "id": "07fbcbf8-0ccc-4fd4-a27d-a27c1ad14ad0",
   "metadata": {},
   "outputs": [],
   "source": [
    "system_content = \"You are master of all knowledge. You must complete any incomplete sentence by drawing from your \\\n",
    "                  knowledge about history, literature, science, social science, philosophy, religion, economics, sports, etc. \\\n",
    "                  You will use simple, compound, and compound-complex sentences for all your responses, and no more than \\\n",
    "                  one paragraph and no more than five sentences. Keep them succinct and cohesive.\"\n",
    "\n",
    "user_prompts =  [\"On cold winter nights, the wolves in Siberia ...\",\n",
    "                 \"On the day Franklin Benjamin realized his passion for printer, ...\",\n",
    "                 \"During the final World Cup 1998 when France beat Brazil in Paris, ...\",\n",
    "                 \"Issac Newton set under a tree when an apple fell...\"\n",
    "                ]"
   ]
  },
  {
   "cell_type": "code",
   "execution_count": 16,
   "id": "3c39358d-f343-4596-bd28-5f36a3ba85d7",
   "metadata": {},
   "outputs": [
    {
     "name": "stdout",
     "output_type": "stream",
     "text": [
      "Using Endpoints: https://api.openai.com/v1 ...\n",
      "\n",
      "\n",
      "Prompt: On cold winter nights, the wolves in Siberia ...\n",
      "\n",
      "Answer: On cold winter nights, the wolves in Siberia huddle together for warmth and protection against the freezing temperatures. They roam the vast taiga and tundra in search of prey, their thick fur providing insulation against the harsh climate. Their howls pierce the silence of the landscape, serving as communication among the pack members and marking their territory. These apex predators play a crucial role in the ecosystem by controlling the populations of herbivores. Despite the challenges of the environment, wolves are highly adaptable and have evolved to thrive in some of the most extreme conditions on Earth.\n",
      "\n",
      "Prompt: On the day Franklin Benjamin realized his passion for printer, ...\n",
      "\n",
      "Answer: ... he set forth on a path that would eventually establish him as one of America's foremost founding fathers. Having been apprenticed to his brother James, a printer in Boston, Franklin learned the trade that would become his stepping stone to influence and success. His mastery of printing led to the publication of \"Poor Richard's Almanack\" and the Pennsylvania Gazette, which were instrumental in shaping public opinion. His passion for the written word and communication also contributed to his later diplomatic and political achievements, including his role in drafting the Declaration of Independence. Franklin's commitment to printing was the foundation upon which he built a remarkable career as a statesman, inventor, and philosopher.\n",
      "\n",
      "Prompt: During the final World Cup 1998 when France beat Brazil in Paris, ...\n",
      "\n",
      "Answer: ...the host nation secured its first-ever FIFA World Cup title with an emphatic 3-0 victory. Zinedine Zidane scored two goals, both from corner kicks, in the first half, and Emmanuel Petit added a third in injury time to seal the win. The match was played at the Stade de France in Saint-Denis on July 12, 1998. Ronaldo, Brazil's star player, was unexpectedly ineffective, leading to speculation and concern about his health and condition during the match. The victory sparked jubilant celebrations across France and established the French team as a formidable force in international soccer.\n",
      "\n",
      "Prompt: Issac Newton set under a tree when an apple fell...\n",
      "\n",
      "Answer: ...and reportedly hit him on the head, which according to popular legend, prompted him to begin pondering the concept of gravity. However, this anecdote is likely apocryphal or at least embellished, as Newton's own accounts suggest that the falling apple simply led him to reflect on the forces of nature. Newton's subsequent work laid the groundwork for classical mechanics, encapsulating his theories in his seminal work, \"Philosophiæ Naturalis Principia Mathematica.\" This event symbolizes the moment of inspiration that led to the formulation of the law of universal gravitation. Newton's contributions to mathematics and physics were pivotal in the scientific revolution and continue to influence the way we understand our world.\n"
     ]
    }
   ],
   "source": [
    "print(f\"Using Endpoints: {openai.api_base} ...\\n\")\n",
    "for user_prompt in user_prompts:\n",
    "    response = get_commpletion(client, MODEL, system_content, user_prompt)\n",
    "    print(f\"\\nPrompt: {user_prompt}\")\n",
    "    print(f\"\\nAnswer: {response}\")"
   ]
  },
  {
   "cell_type": "markdown",
   "id": "66e03d54-6200-4664-9a6d-13fe8297e0cb",
   "metadata": {},
   "source": [
    "## Text summarization\n",
    "\n",
    "A common task in natural langauge processing is text summiarization. A common use case\n",
    "is summarizing large articles or documents, for a quick and easy-to-absorb summaries.\n",
    "\n",
    "You can instruct LLM to generate the response in a preferable style, and comprehensibility. For example, use simple language aimed for a certain grade level, keep the orginal style of the article, use different sentence sytles (as we have done in few of examples in this notebook and previous one).\n",
    "\n",
    "Let's try a few examples."
   ]
  },
  {
   "cell_type": "code",
   "execution_count": 17,
   "id": "85736577-b4ee-466e-90c8-a810849fe172",
   "metadata": {},
   "outputs": [],
   "source": [
    "system_content = \"You are master of all knowledge about history, literature, science, philosophy, religion, economics, sports, etc. \\\n",
    "                  You will provided with original ```{content}``` \\\n",
    "                  Use simple, compound, and compound-complex sentences to rewrite as a summary, with no more than \\\n",
    "                  one paragraph and no more than five sentences. Keep summary succinct and cohesive, and maintain the original content's tone.\"\n",
    "\n",
    "user_prompts = [\n",
    "    \"\"\" ```The emergence of large language models (LLMs) has marked a significant breakthrough in natural language processing (NLP), leading to remarkable advancements in text understanding and generation. \\ \n",
    "\n",
    "    Nevertheless, alongside these strides, LLMs exhibit a critical tendency \n",
    "to produce hallucinations, resulting in content that is inconsistent with real-world facts or user \n",
    "inputs. This phenomenon poses substantial challenges to their practical deployment and \\\n",
    "raises concerns over the reliability of LLMs in real-world scenarios, which attracts increasing \\\n",
    "attention to detect and mitigate these hallucinations. In this survey, we aim to provide a thorough and in-depth  overview of recent advances in the field of LLM hallucinations. \n",
    "\n",
    "    We begin with an innovative taxonomy of LLM hallucinations, then delve into the factors contributing\n",
    "to hallucinations. Subsequently, we present a comprehensive overview of hallucination detection methods and benchmarks. Additionally, representative approaches designed to mitigate hallucinations are introduced accordingly. \n",
    "\n",
    "    Finally, we analyze the challenges that highlight the current limitations and formulate open questions, aiming to delineate pathways for future  research on hallucinations in LLMs.```\"\"\",\n",
    "    \"\"\"```Can a Large Language Model (LLM) solve simple abstract reasoning problems? We explore this broad question through a systematic analysis of GPT on the Abstraction and Reasoning Corpus (ARC), a representative benchmark of abstract reasoning ability from limited examples in which solutions require some \"core knowledge\" of concepts such as objects, goal states, counting, and basic geometry. GPT-4 solves only 13/50 of the most straightforward ARC tasks when using textual encodings for their two-dimensional input-output grids. Our failure analysis reveals that GPT-4's capacity to identify objects and reason about them is significantly influenced by the sequential nature of the text that represents an object within a text encoding of a task. To test this hypothesis, we design a new benchmark, the 1D-ARC, which consists of one-dimensional (array-like) tasks that are more conducive to GPT-based reasoning, and where it indeed performs better than on the (2D) ARC. To alleviate this issue, we propose an object-based representation that is obtained through an external tool, resulting in nearly doubling the performance on solved ARC tasks and near-perfect scores on the easier 1D-ARC. Although the state-of-the-art GPT-4 is unable to \"reason\" perfectly within non-language domains such as the 1D-ARC or a simple ARC subset, our study reveals that the use of object-based representations can significantly improve its reasoning ability. Visualizations, GPT logs, and data are available at this https URL.```\"\"\"\n",
    "]"
   ]
  },
  {
   "cell_type": "code",
   "execution_count": 18,
   "id": "a884cb94-0c4a-40bc-a847-1d5eb354cafa",
   "metadata": {},
   "outputs": [
    {
     "name": "stdout",
     "output_type": "stream",
     "text": [
      "Using Endpoints: https://api.openai.com/v1 ...\n",
      "\n",
      "\n",
      "Original content:  ```The emergence of large language models (LLMs) has marked a significant breakthrough in natural language processing (NLP), leading to remarkable advancements in text understanding and generation. \\ \n",
      "\n",
      "    Nevertheless, alongside these strides, LLMs exhibit a critical tendency \n",
      "to produce hallucinations, resulting in content that is inconsistent with real-world facts or user \n",
      "inputs. This phenomenon poses substantial challenges to their practical deployment and raises concerns over the reliability of LLMs in real-world scenarios, which attracts increasing attention to detect and mitigate these hallucinations. In this survey, we aim to provide a thorough and in-depth  overview of recent advances in the field of LLM hallucinations. \n",
      "\n",
      "    We begin with an innovative taxonomy of LLM hallucinations, then delve into the factors contributing\n",
      "to hallucinations. Subsequently, we present a comprehensive overview of hallucination detection methods and benchmarks. Additionally, representative approaches designed to mitigate hallucinations are introduced accordingly. \n",
      "\n",
      "    Finally, we analyze the challenges that highlight the current limitations and formulate open questions, aiming to delineate pathways for future  research on hallucinations in LLMs.```\n",
      "\n",
      "Summary  content: The advent of large language models (LLMs) has notably advanced natural language processing by improving text comprehension and creation, yet they often \"hallucinate,\" generating misleading content that deviates from factual accuracy or specific user input. These hallucinations present significant hurdles to their real-world application and have sparked interest in both detecting and correcting them. Our survey offers a detailed examination of LLM hallucinations, including a classification system, contributing factors, detection methods, and mitigation approaches. Concluding with an analysis of the present challenges and open questions, the survey seeks to chart a course for future investigation into LLM hallucinations.\n",
      "\n",
      "Original content: ```Can a Large Language Model (LLM) solve simple abstract reasoning problems? We explore this broad question through a systematic analysis of GPT on the Abstraction and Reasoning Corpus (ARC), a representative benchmark of abstract reasoning ability from limited examples in which solutions require some \"core knowledge\" of concepts such as objects, goal states, counting, and basic geometry. GPT-4 solves only 13/50 of the most straightforward ARC tasks when using textual encodings for their two-dimensional input-output grids. Our failure analysis reveals that GPT-4's capacity to identify objects and reason about them is significantly influenced by the sequential nature of the text that represents an object within a text encoding of a task. To test this hypothesis, we design a new benchmark, the 1D-ARC, which consists of one-dimensional (array-like) tasks that are more conducive to GPT-based reasoning, and where it indeed performs better than on the (2D) ARC. To alleviate this issue, we propose an object-based representation that is obtained through an external tool, resulting in nearly doubling the performance on solved ARC tasks and near-perfect scores on the easier 1D-ARC. Although the state-of-the-art GPT-4 is unable to \"reason\" perfectly within non-language domains such as the 1D-ARC or a simple ARC subset, our study reveals that the use of object-based representations can significantly improve its reasoning ability. Visualizations, GPT logs, and data are available at this https URL.```\n",
      "\n",
      "Summary  content: A systematic analysis of GPT on the ARC, a benchmark for abstract reasoning, shows that GPT-4 struggles with abstract reasoning tasks, solving only 13 out of 50 basic tasks. This challenge is partly due to the limitations imposed by the text-based representation of objects in two-dimensional grids. By creating a simpler, one-dimensional version of the ARC (1D-ARC), GPT-4 demonstrates improved performance. The introduction of an external tool that creates object-based representations nearly doubles GPT-4's problem-solving capabilities, even though it still does not achieve perfect reasoning in such tasks. Further details, visualizations, and data supporting these findings are accessible online.\n"
     ]
    }
   ],
   "source": [
    "print(f\"Using Endpoints: {openai.api_base} ...\\n\")\n",
    "for user_prompt in user_prompts:\n",
    "    response = get_commpletion(client, MODEL, system_content, user_prompt)\n",
    "    print(f\"\\nOriginal content: {user_prompt}\")\n",
    "    print(f\"\\nSummary  content: {response}\")"
   ]
  },
  {
   "cell_type": "markdown",
   "id": "affe9c30-bf89-49ee-80c8-c5d260b91914",
   "metadata": {},
   "source": [
    "## Text or information extraction\n",
    "\n",
    "Another natural langauge capability, similar to summarization or text completion, is extracting key idea or infromation from an article, blog, or a paragraph. For example,\n",
    "given a set of text, you can ask LLM to extract key ideas or topics or subjects. Or even\n",
    "better enumerate key takeways for you, saving time if you are in a hurry.\n",
    "\n",
    "Let's see *how-to* do it."
   ]
  },
  {
   "cell_type": "code",
   "execution_count": 27,
   "id": "3cdcd4d4-62c7-4dea-b98a-58070552c892",
   "metadata": {},
   "outputs": [],
   "source": [
    "system_content = \"You are master of all knowledge about history, literature, science, social science, philosophy, religion, economics, sports, etc. \\\n",
    "                  Given {content} ideifynt a single key idea being discusses, and label it as \\\n",
    "                  'Subject'. Next, enumerate at most three takeways. Use short, simple sentences.\"\n",
    "\n",
    "user_prompts = [\"Isaac Newton sat under a tree when an apple fell, an event that, \\\n",
    "                according to popular legend, led to his contemplation of the forces\\\n",
    "                of gravity. Although this story is often regarded as apocryphal or at \\\n",
    "                least exaggerated, it serves as a powerful symbol of Newton's insight \\\n",
    "                into the universal law that governs celestial and earthly bodies alike. \\\n",
    "                His formulation of the law of universal gravitation was revolutionary, \\\n",
    "                as it provided a mathematical explanation for both the motion of planets \\\n",
    "                and the phenomena observed on Earth. Newton's work in physics, captured \\\n",
    "                in his seminal work Philosophiæ Naturalis Principia Mathematica, laid the \\\n",
    "                groundwork for classical mechanics. His influence extended beyond his own \\\n",
    "                time, shaping the course of scientific inquiry for centuries to come.\"\n",
    "               ]\n"
   ]
  },
  {
   "cell_type": "code",
   "execution_count": 30,
   "id": "c7e16e2f-14ec-4bfd-9687-294683ad5c9c",
   "metadata": {},
   "outputs": [
    {
     "name": "stdout",
     "output_type": "stream",
     "text": [
      "Using Endpoints: https://api.openai.com/v1 ...\n",
      "\n",
      "\n",
      "Original content      : Isaac Newton sat under a tree when an apple fell, an event that,                 according to popular legend, led to his contemplation of the forces                of gravity. Although this story is often regarded as apocryphal or at                 least exaggerated, it serves as a powerful symbol of Newton's insight                 into the universal law that governs celestial and earthly bodies alike.                 His formulation of the law of universal gravitation was revolutionary,                 as it provided a mathematical explanation for both the motion of planets                 and the phenomena observed on Earth. Newton's work in physics, captured                 in his seminal work Philosophiæ Naturalis Principia Mathematica, laid the                 groundwork for classical mechanics. His influence extended beyond his own                 time, shaping the course of scientific inquiry for centuries to come.\n",
      "\n",
      " Subject: Isaac Newton and the Universal Law of Gravitation\n",
      "\n",
      "1. Newton's contemplation of gravity was symbolized by the legend of the falling apple.\n",
      "2. He developed the law of universal gravitation, explaining the motion of planets and earthly objects.\n",
      "3. Newton's work in his publication \"Principia Mathematica\" established the foundation of classical mechanics.\n"
     ]
    }
   ],
   "source": [
    "print(f\"Using Endpoints: {openai.api_base} ...\\n\")\n",
    "for user_prompt in user_prompts:\n",
    "    response = get_commpletion(client, MODEL, system_content, user_prompt)\n",
    "    print(f\"\\nOriginal content      : {user_prompt}\")\n",
    "    print(f\"\\n {response}\")"
   ]
  },
  {
   "cell_type": "markdown",
   "id": "08da3189-e9d0-42c9-9f70-d403df9e0dc5",
   "metadata": {},
   "source": [
    "## Text classification or sentiment analysis\n",
    "\n",
    "Unlike classical or traditional machine learning, where you'll have to do supervised learning to collect data, label it, and train for hours, depending on how much data,classifying text using LLM is simple.\n",
    "\n",
    "In short, you'll have to build a ML model to understand text and classify its sentiments as positive, negative or neutral. \n",
    "\n",
    "This onus task is easily done with LLM via clever prompting. \n",
    "\n",
    "Let's see what I mean in this *how-to* idenfity sentiments in text But first let's \n",
    "generatre some sentiments as our ground truth, and supply them to LLM to observe it\n",
    "LLM identifies them correctly. This bit is not needed, for I'm just curious.\n",
    "\n",
    "Positive: \"This movie is a true cinematic gem, blending an engaging plot with superb performances and stunning visuals. A masterpiece that leaves a lasting impression.\"\n",
    "\n",
    "*Negative*: \"Regrettably, the film failed to live up to expectations, with a convoluted storyline, lackluster acting, and uninspiring cinematography. A disappointment overall.\"\n",
    "\n",
    "*Neutral*: \"The movie had its moments, offering a decent storyline and average performances. While not groundbreaking, it provided an enjoyable viewing experience.\"\n",
    "\n",
    "*Positive*: \"This city is a vibrant tapestry of culture, with friendly locals, historic landmarks, and a lively atmosphere. An ideal destination for cultural exploration.\"\n",
    "\n",
    "*Negative*: \"The city's charm is overshadowed by traffic congestion, high pollution levels, and a lack of cleanliness. Not recommended for a peaceful retreat.\"\n",
    "\n",
    "*Neutral*: \"The city offers a mix of experiences, from bustling markets to serene parks. An interesting but not extraordinary destination for exploration.\"\n",
    "\n",
    "*Positive*: \"This song is a musical masterpiece, enchanting listeners with its soulful lyrics, mesmerizing melody, and exceptional vocals. A timeless classic.\"\n",
    "\n",
    "*Negative*: \"The song fails to impress, featuring uninspiring lyrics, a forgettable melody, and lackluster vocals. It lacks the creativity to leave a lasting impact.\"\n",
    "\n",
    "*Neutral*: \"The song is decent, with a catchy tune and average lyrics. While enjoyable, it doesn't stand out in the vast landscape of music.\"\n",
    "\n",
    "*Positive*: \"A delightful cinematic experience that seamlessly weaves together a compelling narrative, strong character development, and breathtaking visuals.\"\n",
    "\n",
    "*Negative*: \"This film, unfortunately, falls short with a disjointed plot, subpar performances, and a lack of coherence. A disappointing viewing experience.\"\n",
    "\n",
    "*Neutral*: \"While not groundbreaking, the movie offers a decent storyline and competent performances, providing an overall satisfactory viewing experience.\"\n",
    "\n",
    "*Positive*: \"This city is a haven for culture enthusiasts, boasting historical landmarks, a rich culinary scene, and a welcoming community. A must-visit destination.\"\n",
    "\n",
    "*Negative*: \"The city's appeal is tarnished by overcrowded streets, noise pollution, and a lack of urban planning. Not recommended for a tranquil getaway.\"\n",
    "\n",
    "*Neutral*: \"The city offers a diverse range of experiences, from bustling markets to serene parks. An intriguing destination for those seeking a mix of urban and natural landscapes.\""
   ]
  },
  {
   "cell_type": "code",
   "execution_count": 59,
   "id": "26fba25e-e40b-40fc-84b5-0a86df748b9c",
   "metadata": {},
   "outputs": [],
   "source": [
    "system_content = \"You are a prominent critic of landscapes, architecture, cities, movies, songs, \\\n",
    "                  entertaiment, and a cultural ombusman. \\\n",
    "                  Classify the given text into neutral, negative or positive \\\n",
    "                  If you cannot classify do not guess, just label as dont' know.\"\n",
    "\n",
    "user_sentiments = [ \"This movie is a true cinematic gem, blending an engaging plot with superb performances and stunning visuals. A masterpiece that leaves a lasting impression.\",\n",
    "                    \"Regrettably, the film failed to live up to expectations, with a convoluted storyline, lackluster acting, and uninspiring cinematography. A disappointment overall.\",\n",
    "                    \"The movie had its moments, offering a decent storyline and average performances. While not groundbreaking, it provided an enjoyable viewing experience.\",\n",
    "                    \"This city is a vibrant tapestry of culture, with friendly locals, historic landmarks, and a lively atmosphere. An ideal destination for cultural exploration.\",\n",
    "                    \"The city's charm is overshadowed by traffic congestion, high pollution levels, and a lack of cleanliness. Not recommended for a peaceful retreat.\",\n",
    "                    \"The city offers a mix of experiences, from bustling markets to serene parks. An interesting but not extraordinary destination for exploration.\",\n",
    "                    \"This song is a musical masterpiece, enchanting listeners with its soulful lyrics, mesmerizing melody, and exceptional vocals. A timeless classic.\",\n",
    "                    \"The song fails to impress, featuring uninspiring lyrics, a forgettable melody, and lackluster vocals. It lacks the creativity to leave a lasting impact.\",\n",
    "                    \"The song is decent, with a catchy tune and average lyrics. While enjoyable, it doesn't stand out in the vast landscape of music.\",\n",
    "                    \"A delightful cinematic experience that seamlessly weaves together a compelling narrative, strong character development, and breathtaking visuals.\",\n",
    "                    \"This film, unfortunately, falls short with a disjointed plot, subpar performances, and a lack of coherence. A disappointing viewing experience.\",\n",
    "                    \"While not groundbreaking, the movie offers a decent storyline and competent performances, providing an overall satisfactory viewing experience.\",\n",
    "                    \"This city is a haven for culture enthusiasts, boasting historical landmarks, a rich culinary scene, and a welcoming community. A must-visit destination.\",\n",
    "                    \"The city's appeal is tarnished by overcrowded streets, noise pollution, and a lack of urban planning. Not recommended for a tranquil getaway.\",\n",
    "                    \"The city offers a diverse range of experiences, from bustling markets to serene parks. An intriguing destination for those seeking a mix of urban and natural landscapes.\"\n",
    "]"
   ]
  },
  {
   "cell_type": "code",
   "execution_count": 61,
   "id": "4bae549c-fa32-46e8-af19-83f923222e3e",
   "metadata": {},
   "outputs": [
    {
     "name": "stdout",
     "output_type": "stream",
     "text": [
      "Using Endpoints: https://api.openai.com/v1 ...\n",
      "\n",
      "\n",
      "Sentiment: This movie is a true cinematic gem, blending an engaging plot with superb performances and stunning visuals. A masterpiece that leaves a lasting impression.\n",
      "\n",
      "Label    : positive\n",
      "\n",
      "Sentiment: Regrettably, the film failed to live up to expectations, with a convoluted storyline, lackluster acting, and uninspiring cinematography. A disappointment overall.\n",
      "\n",
      "Label    : negative\n",
      "\n",
      "Sentiment: The movie had its moments, offering a decent storyline and average performances. While not groundbreaking, it provided an enjoyable viewing experience.\n",
      "\n",
      "Label    : The sentiment of the following text is positive.\n",
      "\n",
      "Sentiment: This city is a vibrant tapestry of culture, with friendly locals, historic landmarks, and a lively atmosphere. An ideal destination for cultural exploration.\n",
      "\n",
      "Label    : positive\n",
      "\n",
      "Sentiment: The city's charm is overshadowed by traffic congestion, high pollution levels, and a lack of cleanliness. Not recommended for a peaceful retreat.\n",
      "\n",
      "Label    : negative\n",
      "\n",
      "Sentiment: The city offers a mix of experiences, from bustling markets to serene parks. An interesting but not extraordinary destination for exploration.\n",
      "\n",
      "Label    : Neutral\n",
      "\n",
      "Sentiment: This song is a musical masterpiece, enchanting listeners with its soulful lyrics, mesmerizing melody, and exceptional vocals. A timeless classic.\n",
      "\n",
      "Label    : positive\n",
      "\n",
      "Sentiment: The song fails to impress, featuring uninspiring lyrics, a forgettable melody, and lackluster vocals. It lacks the creativity to leave a lasting impact.\n",
      "\n",
      "Label    : negative\n",
      "\n",
      "Sentiment: The song is decent, with a catchy tune and average lyrics. While enjoyable, it doesn't stand out in the vast landscape of music.\n",
      "\n",
      "Label    : neutral\n",
      "\n",
      "Sentiment: A delightful cinematic experience that seamlessly weaves together a compelling narrative, strong character development, and breathtaking visuals.\n",
      "\n",
      "Label    : positive\n",
      "\n",
      "Sentiment: This film, unfortunately, falls short with a disjointed plot, subpar performances, and a lack of coherence. A disappointing viewing experience.\n",
      "\n",
      "Label    : negative\n",
      "\n",
      "Sentiment: While not groundbreaking, the movie offers a decent storyline and competent performances, providing an overall satisfactory viewing experience.\n",
      "\n",
      "Label    : The sentiment of the following text is positive.\n",
      "\n",
      "Sentiment: This city is a haven for culture enthusiasts, boasting historical landmarks, a rich culinary scene, and a welcoming community. A must-visit destination.\n",
      "\n",
      "Label    : positive\n",
      "\n",
      "Sentiment: The city's appeal is tarnished by overcrowded streets, noise pollution, and a lack of urban planning. Not recommended for a tranquil getaway.\n",
      "\n",
      "Label    : negative\n",
      "\n",
      "Sentiment: The city offers a diverse range of experiences, from bustling markets to serene parks. An intriguing destination for those seeking a mix of urban and natural landscapes.\n",
      "\n",
      "Label    : positive\n"
     ]
    }
   ],
   "source": [
    "print(f\"Using Endpoints: {openai.api_base} ...\\n\")\n",
    "for user_sentiment in user_sentiments:\n",
    "    user_prompt = f\"\"\"What is the sentiment of the following text which is delimited with triple backticks?\n",
    "    Review text: '''{user_sentiment}''' \"\"\"\n",
    "    response = get_commpletion(client, MODEL, system_content, user_prompt)\n",
    "    print(f\"\\nSentiment: {user_sentiment}\")\n",
    "    print(f\"\\nLabel    : {response}\")"
   ]
  },
  {
   "cell_type": "markdown",
   "id": "d546337d-b9a4-40db-92dd-8cdce63c6979",
   "metadata": {},
   "source": [
    "### All this is amazing! 😜 Feel the wizardy power 🧙‍♀️"
   ]
  }
 ],
 "metadata": {
  "kernelspec": {
   "display_name": "Python 3 (ipykernel)",
   "language": "python",
   "name": "python3"
  },
  "language_info": {
   "codemirror_mode": {
    "name": "ipython",
    "version": 3
   },
   "file_extension": ".py",
   "mimetype": "text/x-python",
   "name": "python",
   "nbconvert_exporter": "python",
   "pygments_lexer": "ipython3",
   "version": "3.10.12"
  }
 },
 "nbformat": 4,
 "nbformat_minor": 5
}
