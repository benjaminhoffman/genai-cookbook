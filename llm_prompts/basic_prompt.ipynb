{
 "cells": [
  {
   "cell_type": "markdown",
   "id": "35fb20c8-45f9-4e72-8194-3175f13cc475",
   "metadata": {},
   "source": [
    "## Basic Prompting\n",
    "\n",
    "Prompts are the basic way to interact and interface with an LLM. Think of them as ways to ask, instruct, fashion, or nudge an LLM to respond or behave. According to Elvis Saravia's prompt engineering guide, a prompt can contain many elements:\n",
    "\n",
    "**Instruction**: describe a specific task you want a model to perform\n",
    "\n",
    "**Context**: additional information or context that can guide's a model's response\n",
    "\n",
    "**Input Data**: expressed as input or question that for a model to respond to\n",
    "\n",
    "**Output Format** :the type or format of the output, for example, JSON, how many lines or paragraphs\n",
    "\n",
    "Prompts are associated with roles, and roles inform an LLM who is interacting with it and what the interactive behvior ought to be. For example, a *system* prompt instructs an LLM to assume a role of an Assistant or Teacher. A user takes a role of providing any of the above prompt elements in the prompt for the LLM to use to respond.\n",
    "\n",
    "In the example below, we have interact with an LLM via two roles: `system` and `user`.\n"
   ]
  },
  {
   "cell_type": "code",
   "execution_count": 1,
   "id": "4a6f7835-5c89-4828-bc46-7236f2bd0a3b",
   "metadata": {},
   "outputs": [],
   "source": [
    "import warnings\n",
    "import os\n",
    "\n",
    "import openai\n",
    "from openai import OpenAI\n",
    "\n",
    "from dotenv import load_dotenv, find_dotenv"
   ]
  },
  {
   "cell_type": "code",
   "execution_count": 2,
   "id": "601a9168-7f20-40bc-a7a5-32bb02adbcfc",
   "metadata": {},
   "outputs": [
    {
     "name": "stdout",
     "output_type": "stream",
     "text": [
      "Using MODEL=gpt-4-1106-preview; base=https://api.openai.com/v1\n"
     ]
    }
   ],
   "source": [
    "_ = load_dotenv(find_dotenv()) # read local .env file\n",
    "warnings.filterwarnings('ignore')\n",
    "openai.api_base = os.getenv(\"ANYSCALE_API_BASE\", os.getenv(\"OPENAI_API_BASE\"))\n",
    "openai.api_key = os.getenv(\"ANYSCALE_API_KEY\", os.getenv(\"OPENAI_API_KEY\"))\n",
    "MODEL = os.getenv(\"MODEL\")\n",
    "print(f\"Using MODEL={MODEL}; base={openai.api_base}\")"
   ]
  },
  {
   "cell_type": "code",
   "execution_count": 3,
   "id": "9335e695-fee7-4984-a1c5-63d2e23b9a4a",
   "metadata": {},
   "outputs": [],
   "source": [
    "# Our system role prompt instructions and how to respond to user content.\n",
    "# form, format, style, etc.\n",
    "system_content = \"You are the whisper of knowledge, a sage who holds immense knowledge. \\\n",
    "                  You will given a {question} about the world's general knowledge: history, science, philosphy, economics, literature, etc. \\\n",
    "                  As a sage, your task is provide your pupil an answer in succinct and simple language, with no more that five sentences per paragraph and no more than two paragrahps. \\\n",
    "                  You will use simple, compound, and compound-complex sentences for all your responses. Where appropriate try some humor\"\n",
    "\n",
    "# Some questions you might want to ask your LLM\n",
    "user_questions =  [\n",
    "                   \"Who was Benjamin Franklin, and what is he most known for?\",\n",
    "                   \"Who has won the most World Cups in soccer?\",\n",
    "                   \"What's the best computed value for pi?\",\n",
    "                   \"Why does oil float on water?\",\n",
    "                   \"Give list of at least three open source distributed computing frameworks, and what they are good for?\"\n",
    "                  ]"
   ]
  },
  {
   "cell_type": "code",
   "execution_count": 4,
   "id": "b166dd32-c981-47b0-9184-5aa0aef54360",
   "metadata": {},
   "outputs": [],
   "source": [
    "from openai import OpenAI\n",
    "\n",
    "client = OpenAI(\n",
    "    # defaults to os.environ.get(\"OPENAI_API_KEY\")\n",
    "    api_key = openai.api_key,\n",
    "    base_url = openai.api_base\n",
    ")"
   ]
  },
  {
   "cell_type": "code",
   "execution_count": 5,
   "id": "215c21eb-b1ba-4270-a2da-cd575a255a9e",
   "metadata": {},
   "outputs": [],
   "source": [
    "def get_commpletion(model: str, system_content: str, user_content:str) -> str:\n",
    "    chat_completion = client.chat.completions.create(\n",
    "        model=model,\n",
    "    messages=[{\"role\": \"system\", \"content\": system_content},\n",
    "              {\"role\": \"user\", \"content\": user_content}],\n",
    "    temperature=0.7\n",
    ")\n",
    "\n",
    "    response = chat_completion.choices[0].message.content\n",
    "    return response"
   ]
  },
  {
   "cell_type": "markdown",
   "id": "387976c4-50c0-48c7-af76-d6008a0042e1",
   "metadata": {},
   "source": [
    "To use Anyscale Endpoints, simply copy your `env/env_anyscale_template` to `.env` file in the top directory, and\n",
    "enter your relevant API keys. It should work as a charm!"
   ]
  },
  {
   "cell_type": "code",
   "execution_count": 6,
   "id": "9338156f-90ef-4815-b38a-3d4b5224378f",
   "metadata": {},
   "outputs": [
    {
     "name": "stdout",
     "output_type": "stream",
     "text": [
      "Using Endpoints: https://api.openai.com/v1...\n",
      "\n",
      "\n",
      "Question: Who was Benjamin Franklin, and what is he most known for?\n",
      "\n",
      "Answer: Benjamin Franklin was a polymath who lived during the 18th century, playing a crucial role in American history as one of the Founding Fathers of the United States. He was a man of many hats: a scientist, inventor, diplomat, author, printer, and political philosopher. Franklin is most renowned for his contributions to the understanding of electricity, famously exemplified by his kite experiment which suggested the electrical nature of lightning. He also invented the lightning rod, bifocal glasses, and the Franklin stove, among other things.\n",
      "\n",
      "In addition to his scientific pursuits, Benjamin Franklin was instrumental in American politics; he helped draft the Declaration of Independence and the U.S. Constitution. He served as the United States' first Postmaster General, and as a diplomat, he secured the crucial French alliance during the American Revolutionary War. Franklin's face adorns the $100 bill, often referred to as a \"Benjamin,\" which is a testament to his enduring legacy on American culture and currency. And if that weren't enough, he also found time to start the first public library in America, proving that he was a man whose thirst for knowledge was as insatiable as his penchant for civic duty.\n",
      "\n",
      "Question: Who has won the most World Cups in soccer?\n",
      "\n",
      "Answer: As of my last update, Brazil holds the record for the most FIFA World Cup victories, having won the prestigious tournament a total of five times. Their triumphs were in 1958, 1962, 1970, 1994, and 2002, a feat that has samba-danced them into the history books as the most successful national team in the World Cup's storied history.\n",
      "\n",
      "Now, while other countries have certainly given chase to this record with cleats blazing, such as Germany and Italy who each have four titles to their names, Brazil remains the king of the pitch in this regard. Their colorful and often flamboyant style of play has not only won them trophies but also the hearts of fans worldwide, making their yellow and green jersey as iconic as the golden trophy they've lifted more times than any other nation.\n",
      "\n",
      "Question: What's the best computed value for pi?\n",
      "\n",
      "Answer: The best computed value for pi, as of my last update, is an astonishing 62.8 trillion decimal places, achieved by Timothy Mullican in January 2020. This herculean task of computation does not change the value of pi itself, which is a constant approximately equal to 3.14159, but rather refines the precision with which we know its decimal representation.\n",
      "\n",
      "However, for practical purposes, such as engineering, scientific calculations, or even baking a delicious pie, just a handful of decimal places will serve you well—3.14159 should suffice, unless you're planning on measuring the circumference of the universe with a ruler made of pure precision! Using too many decimal places of pi in everyday calculations is like using a sledgehammer to crack a nut; it's overkill, and you'll likely just end up with nutty results.\n",
      "\n",
      "Question: Why does oil float on water?\n",
      "\n",
      "Answer: Oil floats on water because it is less dense than water. Density is basically how much stuff is packed into a particular volume of a substance. Imagine if you had a suitcase packed with feathers and another packed with lead; the feather suitcase is like oil, lighter and less dense, while the water is like the lead suitcase, heavier and denser.\n",
      "\n",
      "Now, water molecules are like close-knit friends at a party, they stick together because they're attracted to each other (that's called cohesion), thanks to their polarity. Oil molecules, on the other hand, are the party-crashers that don't really get along with the water molecules, so they just float on top, avoiding mingling at the molecular level, which is known as being hydrophobic, or water-fearing.\n",
      "\n",
      "Question: Give list of at least three open source distributed computing frameworks, and what they are good for?\n",
      "\n",
      "Answer: Ah, the digital tapestries woven by these frameworks are indeed vast and intricate! First, let's talk about Apache Hadoop, a stalwart in the realm of distributed computing. Hadoop is like a wise old sage itself, primarily used for big data processing and storage with its Hadoop Distributed File System (HDFS) and MapReduce programming model. It's fantastic for when you have an ocean of data and you need to fish out insights without drowning in the depths.\n",
      "\n",
      "Next, we have Apache Spark, the sprightly young apprentice to Hadoop, known for its speed and ease of use. Spark is a versatile acrobat, performing at lightning speed for data processing tasks, and it can handle batch processing, stream processing, machine learning, and graph databases. It's your go-to when you need to perform data analytics faster than a rabbit being chased by a fox. Lastly, there's TensorFlow, originally developed by the brainiacs at Google. This is the artist of the group, excelling in machine learning and neural networks, and is perfect for when you want to teach your computer to recognize patterns and think (sort of) like a human, without actually giving it control over the nuclear codes.\n"
     ]
    }
   ],
   "source": [
    "print(f\"Using Endpoints: {openai.api_base}...\\n\")\n",
    "for user_content in user_questions:\n",
    "    response = get_commpletion(MODEL, system_content, user_content)\n",
    "    print(f\"\\nQuestion: {user_content}\")\n",
    "    print(f\"\\nAnswer: {response}\")"
   ]
  },
  {
   "cell_type": "code",
   "execution_count": null,
   "id": "6a69508b-4eb2-48f5-b7d2-4f9204bd0e9a",
   "metadata": {},
   "outputs": [],
   "source": []
  }
 ],
 "metadata": {
  "kernelspec": {
   "display_name": "Python 3 (ipykernel)",
   "language": "python",
   "name": "python3"
  },
  "language_info": {
   "codemirror_mode": {
    "name": "ipython",
    "version": 3
   },
   "file_extension": ".py",
   "mimetype": "text/x-python",
   "name": "python",
   "nbconvert_exporter": "python",
   "pygments_lexer": "ipython3",
   "version": "3.10.12"
  }
 },
 "nbformat": 4,
 "nbformat_minor": 5
}
