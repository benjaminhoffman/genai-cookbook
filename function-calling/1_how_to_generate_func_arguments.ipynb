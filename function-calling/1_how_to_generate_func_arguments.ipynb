{
 "cells": [
  {
   "cell_type": "markdown",
   "id": "aa1d759c-3fc2-4409-a40d-37e4a764e67b",
   "metadata": {},
   "source": [
    "# How to use OpenAI function calling with LLMs\n",
    "Function calling extends the power capabilities of LLMs. It allolws you to format\n",
    "the output of an LLM response into a JSON object, which then can be fed down stream\n",
    "to an actual function as a argument to process the response.\n",
    "\n",
    "OpenAI documention states the basic steps involved in function calling: \n",
    "\n",
    "1. Call the model with the user query and a set of functions defined in the functions parameter.\n",
    "2. The model can choose to call one or more functions; if so, the content will be a stringified JSON object adhering to your custom schema (note: the model may hallucinate parameters).\n",
    "3. Parse the string into JSON in your code, and call your function with the provided arguments if they exist.\n",
    "4. Call the model again by appending the function response as a new message, and let the model summarize the results back to the user.\n",
    "\n",
    "<img src=\"./images/gpt_function_calling.png\">\n",
    "\n",
    "Let's first demonstrate how we use this feature. Let's first specify a function and use the API to generate function arguments.\n",
    "\n",
    "## How to generate function arguments\n"
   ]
  },
  {
   "cell_type": "code",
   "execution_count": 1,
   "id": "62afe6cc-451f-49b3-960b-b53933c52d96",
   "metadata": {},
   "outputs": [],
   "source": [
    "import warnings\n",
    "import os\n",
    "\n",
    "import openai\n",
    "from openai import OpenAI\n",
    "\n",
    "from dotenv import load_dotenv, find_dotenv"
   ]
  },
  {
   "cell_type": "markdown",
   "id": "3671c826-12d1-4fac-8882-8a7494290cfe",
   "metadata": {},
   "source": [
    "Load our .env file with respective API keys and base url endpoints. Here you can either use OpenAI or Anyscale Endpoints. **Note**: Function calling for Anyscale Endpoints is coming soon. Not yet ready as of writing this notebook!"
   ]
  },
  {
   "cell_type": "code",
   "execution_count": 2,
   "id": "c8946842-0e4b-4bf3-805f-3cd336a22b2d",
   "metadata": {},
   "outputs": [
    {
     "name": "stdout",
     "output_type": "stream",
     "text": [
      "Using MODEL=gpt-4-0613; base=https://api.openai.com/v1\n"
     ]
    }
   ],
   "source": [
    "_ = load_dotenv(find_dotenv()) # read local .env file\n",
    "warnings.filterwarnings('ignore')\n",
    "openai.api_base = os.getenv(\"ANYSCALE_API_BASE\", os.getenv(\"OPENAI_API_BASE\"))\n",
    "openai.api_key = os.getenv(\"ANYSCALE_API_KEY\", os.getenv(\"OPENAI_API_KEY\"))\n",
    "MODEL = os.getenv(\"MODEL\")\n",
    "print(f\"Using MODEL={MODEL}; base={openai.api_base}\")"
   ]
  },
  {
   "cell_type": "markdown",
   "id": "5faf02e1-8ac0-4ea1-b227-6d5182eb166f",
   "metadata": {},
   "source": [
    "Define some utitilty functions"
   ]
  },
  {
   "cell_type": "code",
   "execution_count": 3,
   "id": "b3f2e800-cb7d-4e81-b4ed-3d74e57f8433",
   "metadata": {},
   "outputs": [],
   "source": [
    "from openai import OpenAI\n",
    "\n",
    "client = OpenAI(\n",
    "    api_key = openai.api_key,\n",
    "    base_url = openai.api_base\n",
    ")"
   ]
  },
  {
   "cell_type": "code",
   "execution_count": 4,
   "id": "d4e5ea43-460f-49f3-9711-2f526cf03529",
   "metadata": {},
   "outputs": [],
   "source": [
    "def add_prime_number_commpletion(clnt: object, model: str, user_content:str) -> object:\n",
    "    chat_completion = clnt.chat.completions.create(\n",
    "    model=model,\n",
    "    messages=[{\"role\": \"user\", \"content\": user_content}],\n",
    "    functions = [{\n",
    "            \"name\": \"add_prime_numbers\",\n",
    "            \"description\": \"Add a list of 25 integer prime numbers between 2 and 100\",\n",
    "            \"parameters\": {\n",
    "                \"type\": \"object\",\n",
    "                \"properties\": {\n",
    "                    \"prime_numbers\": {\n",
    "                        \"type\": \"array\",\n",
    "                        \"items\": {\n",
    "                            \"type\": \"integer\",\n",
    "                            \"description\": \"A list of 25 prime numbers\"\n",
    "                        },\n",
    "                        \"description\": \"List of of 25 prime numbers to be added\"\n",
    "                    }\n",
    "                },\n",
    "                \"required\": [\"add_prime_numbers\"]\n",
    "            }\n",
    "        }],\n",
    "        function_call={\"name\": \"add_prime_numbers\"}\n",
    "    )\n",
    "    response = chat_completion.choices[0].message\n",
    "    return response"
   ]
  },
  {
   "cell_type": "code",
   "execution_count": 5,
   "id": "be5d27c7-d70c-43b7-941c-e042ea1e8d98",
   "metadata": {},
   "outputs": [],
   "source": [
    "# Define a function which will be fed a dictionary with a key\n",
    "# holding a list of 25 randomly generated prime numbers between\n",
    "# 2 and 100\n",
    "from typing import List, Dict\n",
    "def add_prime_numbers(p_numbers: Dict[str, List[int]]) -> int:\n",
    "    return sum(p_numbers[\"prime_numbers\"])"
   ]
  },
  {
   "cell_type": "markdown",
   "id": "ca3c2f07-4a8f-440d-971f-dc46402ac8bc",
   "metadata": {},
   "source": [
    "Define the functions argument and function specification as part of the message\n"
   ]
  },
  {
   "cell_type": "code",
   "execution_count": 6,
   "id": "06958400-d76b-4df3-b337-ee9d99b684b0",
   "metadata": {},
   "outputs": [],
   "source": [
    "user_content = \"Add 25 randomly generated prime numbers between 2 and 100\""
   ]
  },
  {
   "cell_type": "code",
   "execution_count": 7,
   "id": "4219f732-5b1c-4c3f-b1cd-1c96af1c998a",
   "metadata": {},
   "outputs": [
    {
     "name": "stdout",
     "output_type": "stream",
     "text": [
      "Using Endpoints: https://api.openai.com/v1 ...\n",
      "\n",
      "ChatCompletionMessage(content=None, role='assistant', function_call=FunctionCall(arguments='{\\n  \"prime_numbers\": [2, 3, 5, 7, 11, 13, 17, 19, 23, 29, 31, 37, 41, 43, 47, 53, 59, 61, 67, 71, 73, 79, 83, 89, 97]\\n}', name='add_prime_numbers'), tool_calls=None)\n"
     ]
    }
   ],
   "source": [
    "print(f\"Using Endpoints: {openai.api_base} ...\\n\")\n",
    "response = add_prime_number_commpletion(client, MODEL, user_content)\n",
    "print(response)"
   ]
  },
  {
   "cell_type": "markdown",
   "id": "3b2a5b24-1e77-4c7e-86e0-a52abe13df5b",
   "metadata": {},
   "source": [
    "#### Example 1: Extract the generated arguments\n",
    "Let's process generated arguments to compute the sum of random\n",
    "prime numbers between 2 and 100. These is a list fed into a function to compute its sum.\n",
    "\n",
    "The idea is here is to nudge the LLM to generate JSON object, which can be easily converted into a Python dictionary as an  argument to a function downstream to compute the sum.\n",
    "\n",
    "We can convert the resonse into a dictionary"
   ]
  },
  {
   "cell_type": "code",
   "execution_count": 8,
   "id": "4b02d50f-fb76-4c27-ac04-17bf363c1e8c",
   "metadata": {},
   "outputs": [
    {
     "data": {
      "text/plain": [
       "{'content': None,\n",
       " 'role': 'assistant',\n",
       " 'function_call': {'arguments': '{\\n  \"prime_numbers\": [2, 3, 5, 7, 11, 13, 17, 19, 23, 29, 31, 37, 41, 43, 47, 53, 59, 61, 67, 71, 73, 79, 83, 89, 97]\\n}',\n",
       "  'name': 'add_prime_numbers'},\n",
       " 'tool_calls': None}"
      ]
     },
     "execution_count": 8,
     "metadata": {},
     "output_type": "execute_result"
    }
   ],
   "source": [
    "import json\n",
    "json_arguments = response.dict()\n",
    "json_arguments"
   ]
  },
  {
   "cell_type": "code",
   "execution_count": 9,
   "id": "51960367-77c3-4b32-bb70-73f776b6c413",
   "metadata": {},
   "outputs": [
    {
     "name": "stdout",
     "output_type": "stream",
     "text": [
      "Function name: add_prime_numbers\n"
     ]
    }
   ],
   "source": [
    "# Extract specific items from the dict\n",
    "func_name = json_arguments['function_call']['name']\n",
    "print(f\"Function name: {func_name}\")"
   ]
  },
  {
   "cell_type": "code",
   "execution_count": 10,
   "id": "985ab5e1-1466-4d43-9e14-a8f68c57cede",
   "metadata": {},
   "outputs": [
    {
     "name": "stdout",
     "output_type": "stream",
     "text": [
      "Arguments: {'prime_numbers': [2, 3, 5, 7, 11, 13, 17, 19, 23, 29, 31, 37, 41, 43, 47, 53, 59, 61, 67, 71, 73, 79, 83, 89, 97]}\n"
     ]
    }
   ],
   "source": [
    "funcs = json_arguments['function_call']['arguments']\n",
    "funcs_args = json.loads(funcs)\n",
    "print(f\"Arguments: {funcs_args}\")"
   ]
  },
  {
   "cell_type": "markdown",
   "id": "1499af1d-9f09-4756-8344-02d9b1144676",
   "metadata": {},
   "source": [
    "### Call the function from within our notebook.\n",
    "This is our downstream function being invoked with the extract arguments\n",
    "from the JSON response generated by the LLM."
   ]
  },
  {
   "cell_type": "code",
   "execution_count": 11,
   "id": "ffcc917f-65c7-4009-ad6f-40134da6f5e1",
   "metadata": {},
   "outputs": [
    {
     "data": {
      "text/plain": [
       "1060"
      ]
     },
     "execution_count": 11,
     "metadata": {},
     "output_type": "execute_result"
    }
   ],
   "source": [
    "sum_of_prime = add_prime_numbers(funcs_args)\n",
    "sum_of_prime"
   ]
  },
  {
   "cell_type": "markdown",
   "id": "7adc4e42-9f6d-4edc-87f9-e44754f3c591",
   "metadata": {},
   "source": [
    "### Send the function response to LLM \n",
    "Embedded the function in a message and resend it to the LLM for execution.\n",
    "This returns the sum of the randomly generated list of prime numbers."
   ]
  },
  {
   "cell_type": "code",
   "execution_count": 12,
   "id": "a5ae8532-1154-43c5-b8d3-a709a218146b",
   "metadata": {},
   "outputs": [],
   "source": [
    "user_content = \"Sum the random prime numbers in the given list\""
   ]
  },
  {
   "cell_type": "code",
   "execution_count": 13,
   "id": "76eeb2cc-4697-43cd-b0cb-cde6491b7824",
   "metadata": {},
   "outputs": [],
   "source": [
    "def llm_add_prime_number_commpletion(clnt: object, model: str, \n",
    "                                     user_content:str,\n",
    "                                     func_name: str,\n",
    "                                     llm_response: object) -> object:\n",
    "    chat_completion = clnt.chat.completions.create(\n",
    "    model=model,\n",
    "    messages=[\n",
    "        { \"role\": \"user\", \"content\": user_content},\n",
    "          llm_response,              # the first message returned from LLM\n",
    "           {\n",
    "                \"role\": \"function\",  # role is function call\n",
    "                \"name\": func_name,   # name of the function\n",
    "                \"content\": \"Add primes numbers in a list\",  # content discription\n",
    "                },\n",
    "            ],\n",
    "        )\n",
    "    return chat_completion\n",
    "                                     "
   ]
  },
  {
   "cell_type": "code",
   "execution_count": 14,
   "id": "97418c42-4c4f-470a-83d9-f46732db7f24",
   "metadata": {},
   "outputs": [
    {
     "name": "stdout",
     "output_type": "stream",
     "text": [
      "Using Endpoints: https://api.openai.com/v1 ...\n",
      "\n",
      "ChatCompletion(id='chatcmpl-8XCaYy9rR8jGflZKPn77SEojIa0IQ', choices=[Choice(finish_reason='stop', index=0, message=ChatCompletionMessage(content='The sum of the prime numbers in the list is 1060.', role='assistant', function_call=None, tool_calls=None), logprobs=None)], created=1702923906, model='gpt-4-0613', object='chat.completion', system_fingerprint=None, usage=CompletionUsage(completion_tokens=14, prompt_tokens=120, total_tokens=134))\n"
     ]
    }
   ],
   "source": [
    "print(f\"Using Endpoints: {openai.api_base} ...\\n\")\n",
    "second_response = llm_add_prime_number_commpletion(client, MODEL, user_content, func_name, response)\n",
    "print(second_response)"
   ]
  },
  {
   "cell_type": "code",
   "execution_count": 15,
   "id": "974b0608-7488-485c-8882-b4bf10c5b583",
   "metadata": {},
   "outputs": [
    {
     "name": "stdout",
     "output_type": "stream",
     "text": [
      "The sum of the prime numbers in the list is 1060.\n"
     ]
    }
   ],
   "source": [
    "# Extract the content from the returned response\n",
    "print(second_response.choices[0].message.content)"
   ]
  },
  {
   "cell_type": "markdown",
   "id": "c0af4ccd-0f7d-4333-83f8-5efcd548b0e5",
   "metadata": {},
   "source": [
    "#### Example 2: Extract the generated arguments\n",
    "\n",
    "Let's process generated arguments to plot a map of cities where we hold \n",
    "Ray meetups. These generated satellite coordinates, generated as a JSON object\n",
    "by the LLM, are fed into a function to generate an HTML file and map markers of\n",
    "each city.\n",
    "\n",
    "The idea is here is to nudge the LLM to generate JSON object, which can be easily converted into a Python dictionary as an argument to a function downstream to compute the sum."
   ]
  },
  {
   "cell_type": "code",
   "execution_count": 16,
   "id": "a615f6d4-3aab-4e4a-bf56-1f5f74d37778",
   "metadata": {},
   "outputs": [],
   "source": [
    "def generate_city_map_commpletion(clnt: object, model: str, user_content:str) -> object:\n",
    "    chat_completion = clnt.chat.completions.create(\n",
    "    model=model,\n",
    "    messages=[{\"role\": \"user\", \"content\": user_content}],\n",
    "    functions = [{\n",
    "            \"name\": \"generate_ray_meetup_map\",\n",
    "            \"description\": \"Generate HTML map for global cities where Ray meetups are hosted\",\n",
    "            \"parameters\": {\n",
    "                \"type\": \"object\",\n",
    "                \"properties\": {\n",
    "                    \"coordinates\": {\n",
    "                        \"type\": \"array\",\n",
    "                        \"items\": {\n",
    "                            \"location\": {\n",
    "                                \"type\": \"string\",\n",
    "                                \"description\": \"The city name e.g., San Francisco, CA\",\n",
    "                            },\n",
    "                            \"latitude\": {\n",
    "                                \"type\": \"string\",\n",
    "                                \"description\": \"Latitude satelite coordinates\",\n",
    "                            },\n",
    "                            \"longitude\": {\n",
    "                                \"type\": \"string\",\n",
    "                                \"description\": \"Longitude satelite coordinates\",\n",
    "                            },\n",
    "                        },\n",
    "\n",
    "                    },\n",
    "                },\n",
    "            },\n",
    "            \"required\": [\"coordinates\"]\n",
    "        }],\n",
    "        function_call={\"name\": \"generate_ray_meetup_map\"}\n",
    "    )\n",
    "    response = chat_completion.choices[0].message\n",
    "    return response"
   ]
  },
  {
   "cell_type": "code",
   "execution_count": 24,
   "id": "34c7296e-c1c4-484a-8dd9-1810d3d6949f",
   "metadata": {},
   "outputs": [],
   "source": [
    "user_content = \"\"\"Generate satelite coordinates, including longitude,latitude and city, for Ray meetup hosted for each city: \n",
    "San Franciscto, New York, and London.\"\"\" "
   ]
  },
  {
   "cell_type": "code",
   "execution_count": 25,
   "id": "e21ea7fc-d4fd-4e1a-8dc1-2f7ecad20817",
   "metadata": {},
   "outputs": [
    {
     "name": "stdout",
     "output_type": "stream",
     "text": [
      "Using Endpoints: https://api.openai.com/v1 ...\n",
      "\n",
      "ChatCompletionMessage(content=None, role='assistant', function_call=FunctionCall(arguments='{\\n\"coordinates\": [\\n    {\\n        \"latitude\": 37.7749,\\n        \"longitude\": -122.4194,\\n        \"city\": \"San Francisco\"\\n    },\\n    {\\n        \"latitude\": 40.7128,\\n        \"longitude\": -74.0060,\\n        \"city\": \"New York\"\\n    },\\n    {\\n        \"latitude\": 51.5074,\\n        \"longitude\": -0.1278,\\n        \"city\": \"London\"\\n    }\\n]\\n}', name='generate_ray_meetup_map'), tool_calls=None)\n"
     ]
    }
   ],
   "source": [
    "print(f\"Using Endpoints: {openai.api_base} ...\\n\")\n",
    "response = generate_city_map_commpletion(client, MODEL, user_content)\n",
    "print(response)"
   ]
  },
  {
   "cell_type": "code",
   "execution_count": 26,
   "id": "51797aab-9311-4ddf-9f6b-4a65f529ccdc",
   "metadata": {},
   "outputs": [
    {
     "data": {
      "text/plain": [
       "{'content': None,\n",
       " 'role': 'assistant',\n",
       " 'function_call': {'arguments': '{\\n\"coordinates\": [\\n    {\\n        \"latitude\": 37.7749,\\n        \"longitude\": -122.4194,\\n        \"city\": \"San Francisco\"\\n    },\\n    {\\n        \"latitude\": 40.7128,\\n        \"longitude\": -74.0060,\\n        \"city\": \"New York\"\\n    },\\n    {\\n        \"latitude\": 51.5074,\\n        \"longitude\": -0.1278,\\n        \"city\": \"London\"\\n    }\\n]\\n}',\n",
       "  'name': 'generate_ray_meetup_map'},\n",
       " 'tool_calls': None}"
      ]
     },
     "execution_count": 26,
     "metadata": {},
     "output_type": "execute_result"
    }
   ],
   "source": [
    "json_arguments = response.dict()\n",
    "json_arguments"
   ]
  },
  {
   "cell_type": "code",
   "execution_count": 34,
   "id": "78a101f0-5aae-48e3-8699-b755574905d8",
   "metadata": {},
   "outputs": [
    {
     "name": "stdout",
     "output_type": "stream",
     "text": [
      "Function name: generate_ray_meetup_map\n"
     ]
    }
   ],
   "source": [
    "# Extract specific items from the dict\n",
    "func_name = json_arguments['function_call']['name']\n",
    "print(f\"Function name: {func_name}\")"
   ]
  },
  {
   "cell_type": "code",
   "execution_count": 28,
   "id": "41f50ec2-ca9b-47fc-bebb-980c173ae376",
   "metadata": {},
   "outputs": [
    {
     "name": "stdout",
     "output_type": "stream",
     "text": [
      "Arguments: {'coordinates': [{'latitude': 37.7749, 'longitude': -122.4194, 'city': 'San Francisco'}, {'latitude': 40.7128, 'longitude': -74.006, 'city': 'New York'}, {'latitude': 51.5074, 'longitude': -0.1278, 'city': 'London'}]}\n"
     ]
    }
   ],
   "source": [
    "funcs = json_arguments['function_call']['arguments']\n",
    "funcs_args = json.loads(funcs)\n",
    "print(f\"Arguments: {funcs_args}\")"
   ]
  },
  {
   "cell_type": "code",
   "execution_count": 29,
   "id": "0d6210fa-ca89-4495-afce-f7493c80cf83",
   "metadata": {},
   "outputs": [],
   "source": [
    "import folium\n",
    "\n",
    "def create_map(path: str, coordinates: Dict[str, List[object]]) -> None:\n",
    "    # Create a base map\n",
    "    m = folium.Map(location=[20,0], tiles=\"OpenStreetMap\", zoom_start=2)\n",
    "    coordinates_list = coordinates[\"coordinates\"]\n",
    "    for coordindates in coordinates_list:\n",
    "        # Adding markers for each city\n",
    "        folium.Marker([coordindates[\"latitude\"], coordindates[\"longitude\"]], popup=coordindates[\"city\"]).add_to(m)\n",
    "    # Display the map\n",
    "    m.save(path)"
   ]
  },
  {
   "cell_type": "markdown",
   "id": "db0a4890-4d2e-4108-91b4-4f55587a79c9",
   "metadata": {},
   "source": [
    "#### Invoke the function from within our notebook.\n",
    "This is our downstream function being invoked with the extract arguments\n",
    "from the JSON response generated by the LLM."
   ]
  },
  {
   "cell_type": "code",
   "execution_count": 32,
   "id": "2bd21987-c23e-4a26-bbac-88324003cc3e",
   "metadata": {},
   "outputs": [
    {
     "data": {
      "text/html": [
       "\n",
       "        <iframe\n",
       "            width=\"700\"\n",
       "            height=\"400\"\n",
       "            src=\"./world_map_nb_func_with_cities.html\"\n",
       "            frameborder=\"0\"\n",
       "            allowfullscreen\n",
       "            \n",
       "        ></iframe>\n",
       "        "
      ],
      "text/plain": [
       "<IPython.lib.display.IFrame at 0x14ed0c790>"
      ]
     },
     "execution_count": 32,
     "metadata": {},
     "output_type": "execute_result"
    }
   ],
   "source": [
    "from IPython.display import IFrame\n",
    "\n",
    "# Assuming the HTML file is named 'example.html' and located in the same directory as the Jupyter Notebook\n",
    "html_file_path = './world_map_nb_func_with_cities.html'\n",
    "create_map(html_file_path, funcs_args)\n",
    "\n",
    "# Display the HTML file in the Jupyter Notebook\n",
    "IFrame(src=html_file_path, width=700, height=400)"
   ]
  },
  {
   "cell_type": "markdown",
   "id": "970a7d5e-04a1-4631-b86f-a7937ceb4448",
   "metadata": {},
   "source": [
    "### Send the function response to LLM \n",
    "Embed the function role in a message and resend it to the LLM for execution.\n",
    "This will generate the HTML that can be saved in a file by a different name so that\n",
    "we can distinguish between the two calls: one explicitly from the notebook and\n",
    "the other from LLM: both ought to generate identical map with cooridnates."
   ]
  },
  {
   "cell_type": "code",
   "execution_count": 35,
   "id": "6da53639-3eea-4f8e-8aee-d28cf8d4da68",
   "metadata": {},
   "outputs": [],
   "source": [
    "def llm_generate_city_map_commpletion(clnt: object, model: str, user_content:str, \n",
    "                                      func_name: str, llm_response: object) -> object:\n",
    "    chat_completion = clnt.chat.completions.create(\n",
    "        model=model,\n",
    "        messages=[ { \"role\": \"user\", \"content\": user_content},\n",
    "                llm_response,              # the first message returned from LLM\n",
    "                {\n",
    "                    \"role\": \"function\",  # role is function call\n",
    "                    \"name\": func_name,   # name of the function\n",
    "                    \"content\": \"Generate an HTML for the global coordinates provided for the Ray Meetup\",  # content discription\n",
    "                },\n",
    "            ],\n",
    "        )\n",
    "    return chat_completion"
   ]
  },
  {
   "cell_type": "code",
   "execution_count": 36,
   "id": "6d5d2ba8-5688-4e25-a0ac-b55a8348037c",
   "metadata": {},
   "outputs": [
    {
     "name": "stdout",
     "output_type": "stream",
     "text": [
      "Using Endpoints: https://api.openai.com/v1 ...\n",
      "\n",
      "ChatCompletion(id='chatcmpl-8XCnFgYSyas9B4OdOLBvzW4VkPHO5', choices=[Choice(finish_reason='stop', index=0, message=ChatCompletionMessage(content='<html>\\n<head>\\n    <title>Ray Meetup Locations</title>\\n    <style>\\n        #map {\\n            height: 500px;\\n            width: 100%;\\n        }\\n    </style>\\n</head>\\n<body>\\n    <h3>Locations of Ray Meetups</h3>\\n    <div id=\"map\"></div>\\n    <script>\\n        function initMap() {\\n            var locations = [\\n                {lat: 37.7749, lng: -122.4194, city: \\'San Francisco\\'},\\n                {lat: 40.7128, lng: -74.0060, city: \\'New York\\'},\\n                {lat: 51.5074, lng: -0.1278, city: \\'London\\'}\\n            ];\\n\\n            var map = new google.maps.Map(document.getElementById(\\'map\\'), {\\n                zoom: 2,\\n                center: {lat:45 , lng: 0}\\n            });\\n\\n            var markers = locations.map(function(location) {\\n                var marker = new google.maps.Marker({\\n                    position: location,\\n                    map: map\\n                });\\n                var infowindow = new google.maps.InfoWindow({\\n                    content: location.city\\n                });\\n                marker.addListener(\\'click\\', function() {\\n                    infowindow.open(map, marker);\\n                });\\n                return marker;\\n            });\\n            \\n        }\\n    </script>\\n    <script async defer src=\"https://maps.googleapis.com/maps/api/js?key=YOUR_API_KEY&callback=initMap\"></script>\\n</body>\\n</html>', role='assistant', function_call=None, tool_calls=None), logprobs=None)], created=1702924693, model='gpt-4-0613', object='chat.completion', system_fingerprint=None, usage=CompletionUsage(completion_tokens=311, prompt_tokens=176, total_tokens=487))\n"
     ]
    }
   ],
   "source": [
    "print(f\"Using Endpoints: {openai.api_base} ...\\n\")\n",
    "second_response = llm_generate_city_map_commpletion(client, MODEL, user_content, func_name, response)\n",
    "print(second_response)"
   ]
  },
  {
   "cell_type": "code",
   "execution_count": 42,
   "id": "476b9eb7-c1ed-4e27-a3d5-d595f3aadf15",
   "metadata": {},
   "outputs": [
    {
     "name": "stdout",
     "output_type": "stream",
     "text": [
      "<html>\n",
      "<head>\n",
      "    <title>Ray Meetup Locations</title>\n",
      "    <style>\n",
      "        #map {\n",
      "            height: 500px;\n",
      "            width: 100%;\n",
      "        }\n",
      "    </style>\n",
      "</head>\n",
      "<body>\n",
      "    <h3>Locations of Ray Meetups</h3>\n",
      "    <div id=\"map\"></div>\n",
      "    <script>\n",
      "        function initMap() {\n",
      "            var locations = [\n",
      "                {lat: 37.7749, lng: -122.4194, city: 'San Francisco'},\n",
      "                {lat: 40.7128, lng: -74.0060, city: 'New York'},\n",
      "                {lat: 51.5074, lng: -0.1278, city: 'London'}\n",
      "            ];\n",
      "\n",
      "            var map = new google.maps.Map(document.getElementById('map'), {\n",
      "                zoom: 2,\n",
      "                center: {lat:45 , lng: 0}\n",
      "            });\n",
      "\n",
      "            var markers = locations.map(function(location) {\n",
      "                var marker = new google.maps.Marker({\n",
      "                    position: location,\n",
      "                    map: map\n",
      "                });\n",
      "                var infowindow = new google.maps.InfoWindow({\n",
      "                    content: location.city\n",
      "                });\n",
      "                marker.addListener('click', function() {\n",
      "                    infowindow.open(map, marker);\n",
      "                });\n",
      "                return marker;\n",
      "            });\n",
      "            \n",
      "        }\n",
      "    </script>\n",
      "    <script async defer src=\"https://maps.googleapis.com/maps/api/js?key=YOUR_API_KEY&callback=initMap\"></script>\n",
      "</body>\n",
      "</html>\n"
     ]
    }
   ],
   "source": [
    "# Extract the content from the returned response\n",
    "llm_html_content = second_response.choices[0].message.content\n",
    "print(llm_html_content)"
   ]
  },
  {
   "cell_type": "code",
   "execution_count": 43,
   "id": "2828d68d-d6d6-41d3-9f34-ea2368c5e3b5",
   "metadata": {},
   "outputs": [],
   "source": [
    "file_path = './world_map_llm_func_with_cities.html'\n",
    "with open(file_path, 'w') as file:\n",
    "        file.write(llm_html_content)"
   ]
  },
  {
   "cell_type": "code",
   "execution_count": 44,
   "id": "59e1557b-1a0d-4ea0-8693-13bdca269b97",
   "metadata": {},
   "outputs": [
    {
     "data": {
      "text/html": [
       "\n",
       "        <iframe\n",
       "            width=\"700\"\n",
       "            height=\"400\"\n",
       "            src=\"./world_map_nb_func_with_cities.html\"\n",
       "            frameborder=\"0\"\n",
       "            allowfullscreen\n",
       "            \n",
       "        ></iframe>\n",
       "        "
      ],
      "text/plain": [
       "<IPython.lib.display.IFrame at 0x14ed68670>"
      ]
     },
     "execution_count": 44,
     "metadata": {},
     "output_type": "execute_result"
    }
   ],
   "source": [
    "# Display the HTML file in the Jupyter Notebook\n",
    "IFrame(src=html_file_path, width=700, height=400)"
   ]
  },
  {
   "cell_type": "markdown",
   "id": "da3fbc35-0a08-4ab5-a803-fdbc5fb43c1b",
   "metadata": {},
   "source": [
    "As you see, both methods of python function calling generated the\n",
    "same map. "
   ]
  }
 ],
 "metadata": {
  "kernelspec": {
   "display_name": "Python 3 (ipykernel)",
   "language": "python",
   "name": "python3"
  },
  "language_info": {
   "codemirror_mode": {
    "name": "ipython",
    "version": 3
   },
   "file_extension": ".py",
   "mimetype": "text/x-python",
   "name": "python",
   "nbconvert_exporter": "python",
   "pygments_lexer": "ipython3",
   "version": "3.10.13"
  }
 },
 "nbformat": 4,
 "nbformat_minor": 5
}
