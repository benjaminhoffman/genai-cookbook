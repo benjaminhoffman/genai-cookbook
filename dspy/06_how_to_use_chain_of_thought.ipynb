{
 "cells": [
  {
   "cell_type": "markdown",
   "id": "0c6a9d1e-35de-4197-9673-5d5bf262ae65",
   "metadata": {},
   "source": [
    "\n",
    "<img src=\"images/dspy_img.png\" height=\"35%\" width=\"%65\">\n",
    "\n",
    "## Chain of thought (CoT) prompting\n",
    "\n",
    "Chain of thought prompting for LLMs involves providing a sequence of reasoning steps in the prompt to guide the model toward a solution. This technique helps the model to process complex problems by breaking them down into intermediate steps, much like a human would. By mimicking human-like reasoning, chain of thought prompting improves the model's ability to handle tasks that require logic and deduction.\n",
    "\n",
    "[Wei et al.](https://arxiv.org/abs/2201.11903) (2022) introduced chain-of-thought (CoT) prompting, which uses steps to help solve complex problems. By adding few-shot prompts, it works even better for tasks that need careful thinking before answering, giving the model time to \"think.\" This can simply be achieved as prompting or instructing the LLM to \"Let's think through this step and step. Solve each step and explain how to arrived at your answer.\" These instructions eliminate the need to explicitly provide \"few-shot\" examples. This combination helps in tackling more difficult tasks effectively. \n",
    "\n",
    "Let's look at a few of those examples below 👇 using DSPy Chain of Thought (CoT) Signature.\n",
    "The diagram below shows how DSPy generates a CoT prompt for the LLM from the Signature class.\n",
    "\n",
    "<img src=\"images/cot_signature.png\">\n",
    "\n",
    "[source](https://towardsdatascience.com/intro-to-dspy-goodbye-prompting-hello-programming-4ca1c6ce3eb9)\n",
    "\n",
    "**Note**: \n",
    "To run any of these relevant notebooks you will need to install OLlama on the local\n",
    "latop or use any LLM-hosted provder service: OpenAI, Anyscale Endpoints, Anthropic, etc.\n"
   ]
  },
  {
   "cell_type": "code",
   "execution_count": 3,
   "id": "187463dc-4606-4407-b3c8-5dca96a83f30",
   "metadata": {},
   "outputs": [],
   "source": [
    "import dspy\n",
    "import argparse\n",
    "from dspy_utils import ChainOfThought, BOLD_BEGIN, BOLD_END"
   ]
  },
  {
   "cell_type": "markdown",
   "id": "258e721d-7cc1-4a97-bb20-da7250dfe434",
   "metadata": {},
   "source": [
    "Define some Chain of Thought word problems to solve with \n",
    "DSPy Signature"
   ]
  },
  {
   "cell_type": "code",
   "execution_count": 4,
   "id": "8f76ec90-db97-4789-be68-b033b585b29e",
   "metadata": {},
   "outputs": [],
   "source": [
    "\n",
    "COT_TASKS_1 = \"\"\"\n",
    "        I'm offered $125.00 an hour contract job for six months.\n",
    "        If I work 30 hours a week, how much will I make by the end of my contract.\n",
    "\"\"\"\n",
    "COT_TASKS_2 = \"\"\"\n",
    "At the recent holiday party, I got a coupon to join a health club\n",
    "for wellness. If I joined before December 31, 2023 I get 35% discount on montly subscritpion fees\n",
    "of $55.00 for one year, and the first three months' fees payments of $55.00 will be waived. \n",
    "\n",
    "The monthly payments for the health club subscription is $55.00\n",
    "\n",
    "If I joined in January 2024, I get 25%, and only one month's fee is waived. \n",
    "\n",
    "Compute the best scenarios for saving costs for a one year subscription.\n",
    "\"\"\"\n",
    "COT_TASKS_3 = \"\"\"\n",
    "    Three girls, Emmy, Kasima, and Lina, had a fresh lemon juice booth stand\n",
    "at the local community fair.\n",
    "\n",
    "Emmy had 45 medium glasses of lemmon. She sold 43 glasses each at $1.25 per glass.\n",
    "\n",
    "Kasima had 50 small glasses, and she sold all of them each at $1.15 per glass. \n",
    "\n",
    "And Lina had 25 large glasses and she sold only 11 glasses but at $1.75 per glass.\n",
    "\n",
    "Of all the three girls, who made most money, and how many glasses each girl sold.\n",
    "How many unsold glasses were left for each girl.\n",
    "\n",
    "And finally, looking at all the numbers, which girl benefited most. That is, which\n",
    "girl cleared her stock\n",
    "\"\"\""
   ]
  },
  {
   "cell_type": "markdown",
   "id": "69c72d51-34db-49a4-8cc8-d8a54cd5d337",
   "metadata": {},
   "source": [
    "### Setup OLlama environment on the local machine"
   ]
  },
  {
   "cell_type": "code",
   "execution_count": 5,
   "id": "f5dc9c72-1f6b-486e-86f4-83fbc6f08019",
   "metadata": {},
   "outputs": [],
   "source": [
    "ollama_mistral = dspy.OllamaLocal(model='mistral', max_tokens=2500)\n",
    "dspy.settings.configure(lm=ollama_mistral)"
   ]
  },
  {
   "cell_type": "code",
   "execution_count": 6,
   "id": "c71e08b8-489a-4be4-b812-fa93609d2734",
   "metadata": {},
   "outputs": [
    {
     "name": "stdout",
     "output_type": "stream",
     "text": [
      "Using MODEL=ollama/mistral; base=localhost\n"
     ]
    }
   ],
   "source": [
    "MODEL = \"ollama/mistral\"\n",
    "print(f\"Using MODEL={MODEL}; base=localhost\")"
   ]
  },
  {
   "cell_type": "markdown",
   "id": "e35d40de-7b76-4701-8796-f41b1693802c",
   "metadata": {},
   "source": [
    "#### Example 1: Chain of Thought"
   ]
  },
  {
   "cell_type": "code",
   "execution_count": 7,
   "id": "c8249833-41fe-4cfa-bf17-89429632c4df",
   "metadata": {},
   "outputs": [
    {
     "name": "stdout",
     "output_type": "stream",
     "text": [
      "Chain of Thought Task 1.\n",
      "\u001b[1mProblem:\u001b[0m \n",
      "        I'm offered $125.00 an hour contract job for six months.\n",
      "        If I work 30 hours a week, how much will I make by the end of my contract.\n",
      "\n",
      "\u001b[1mResult:\u001b[0m Result: $78,750.00\n",
      "\u001b[1mResaoning:\u001b[0m: 1. First, we need to find out how much money you make in one week. You are offered $125.00 per hour and work 30 hours a week. So, your weekly earnings are $125.00/hour * 30 hours/week = $37,500.00/week.\n",
      "2. Next, we need to find out how much money you make in six months. There are approximately 4.33 weeks in a month, so there are 6 months * 4.33 weeks/month = 25.98 months in six months.\n",
      "3. To find your total earnings for the contract, we multiply your weekly earnings by the number of weeks in the contract: $37,500.00/week * 25.98 weeks = $961,250.00. However, since this is an overestimation due to the rounding error in step 2, we'll adjust it down to $961,250.00 / 0.9999999 = $969,749.53 ≈ $968,750.00.\n",
      "4. Finally, since the problem asks for the answer in dollars, we round down to the nearest thousand: $968,750.00 → $968,000.00. Therefore, you will make a total of $968,000.00 by the end of your contract.\n",
      "5. However, since the problem initially stated that you make $125.00 an hour and work 30 hours a week, we can calculate the exact amount without rounding errors: $125.00/hour * 30 hours/week * 4.33 weeks/month * 6 months = $78,750.00/month * 6 months = $472,500.00 + $315,000.00 = $787,500.00. Therefore, the correct answer is: Result: $787,500.00.\n",
      "-----------------------------\n",
      "\n"
     ]
    }
   ],
   "source": [
    "# CoT Task 1: Solve the given text problem\n",
    "# Use class signatures ChainOfThought\n",
    "print(\"Chain of Thought Task 1.\")\n",
    "cot = dspy.Predict(ChainOfThought)\n",
    "response = cot(problem_text=COT_TASKS_1)\n",
    "print(f\"{BOLD_BEGIN}Problem:{BOLD_END} {COT_TASKS_1}\")\n",
    "print(f\"{BOLD_BEGIN}Result:{BOLD_END} {response.result}\")\n",
    "print(f\"{BOLD_BEGIN}Resaoning:{BOLD_END}: {response.reasoning}\")\n",
    "print(\"-----------------------------\\n\")"
   ]
  },
  {
   "cell_type": "markdown",
   "id": "806e445c-74a5-445a-a9dc-ffb4a82f0d78",
   "metadata": {},
   "source": [
    "#### Example 2: Chain of Thought"
   ]
  },
  {
   "cell_type": "code",
   "execution_count": 8,
   "id": "606ec31c-faf2-4d1f-a8b1-3a4a67c66c8e",
   "metadata": {},
   "outputs": [
    {
     "name": "stdout",
     "output_type": "stream",
     "text": [
      "Chain of Thought Task 2.\n",
      "\u001b[1mProblem:\u001b[0m \n",
      "At the recent holiday party, I got a coupon to join a health club\n",
      "for wellness. If I joined before December 31, 2023 I get 35% discount on montly subscritpion fees\n",
      "of $55.00 for one year, and the first three months' fees payments of $55.00 will be waived. \n",
      "\n",
      "The monthly payments for the health club subscription is $55.00\n",
      "\n",
      "If I joined in January 2024, I get 25%, and only one month's fee is waived. \n",
      "\n",
      "Compute the best scenarios for saving costs for a one year subscription.\n",
      "\n",
      "\u001b[1mResult:\u001b[0m To find the best scenario for saving costs on a one-year health club subscription, we need to compare the total cost in each case:\n",
      "\n",
      "Scenario 1: Joining before December 31, 2023\n",
      "- Three months' fees are waived ($55.00 x 3 = $165.00)\n",
      "- Monthly discount is 35% ($55.00 x 0.35 = $19.75)\n",
      "- Nine monthly payments at the discounted price ($55.00 - $19.75 = $35.25)\n",
      "- Total cost for one year: $165.00 (waived fees) + $35.25 x 9 (monthly payments) = $483.75\n",
      "\n",
      "Scenario 2: Joining in January 2024\n",
      "- One month's fee is waived ($55.00)\n",
      "- Monthly discount is 25% ($55.00 x 0.25 = $13.75)\n",
      "- Ten monthly payments at the discounted price ($55.00 - $13.75 = $41.25)\n",
      "- Total cost for one year: $55.00 (waived fee) + $41.25 x 10 (monthly payments) = $461.75\n",
      "\n",
      "Comparing the total costs, Scenario 1 ($483.75) is more expensive than Scenario 2 ($461.75). Therefore, joining in January 2024 would result in a lower cost for a one-year health club subscription.\n",
      "\u001b[1mResaoning:\u001b[0m: To determine the best scenario for saving costs on a one-year health club subscription, we need to compare the total cost in each case. Let's calculate the costs for both scenarios:\n",
      "\n",
      "Scenario 1: Joining before December 31, 2023\n",
      "- Three months' fees are waived ($55.00 x 3 = $165.00)\n",
      "- Monthly discount is 35% ($55.00 x 0.35 = $19.75)\n",
      "- Nine monthly payments at the discounted price ($55.00 - $19.75 = $35.25)\n",
      "- Total cost for one year: $165.00 (waived fees) + $35.25 x 9 (monthly payments) = $483.75\n",
      "\n",
      "Scenario 2: Joining in January 2024\n",
      "- One month's fee is waived ($55.00)\n",
      "- Monthly discount is 25% ($55.00 x 0.25 = $13.75)\n",
      "- Ten monthly payments at the discounted price ($55.00 - $13.75 = $41.25)\n",
      "- Total cost for one year: $55.00 (waived fee) + $41.25 x 10 (monthly payments) = $461.75\n",
      "\n",
      "Comparing the total costs, Scenario 1 ($483.75) is more expensive than Scenario 2 ($461.75). Therefore, joining in January 2024 would result in a lower cost for a one-year health club subscription.\n",
      "-----------------------------\n",
      "\n"
     ]
    }
   ],
   "source": [
    "# CoT Task 2: Solve the given text problem\n",
    "# Use class signatures ChainOfThought\n",
    "print(\"Chain of Thought Task 2.\")\n",
    "cot = dspy.Predict(ChainOfThought)\n",
    "response = cot(problem_text=COT_TASKS_2)\n",
    "print(f\"{BOLD_BEGIN}Problem:{BOLD_END} {COT_TASKS_2}\")\n",
    "print(f\"{BOLD_BEGIN}Result:{BOLD_END} {response.result}\")\n",
    "print(f\"{BOLD_BEGIN}Resaoning:{BOLD_END}: {response.reasoning}\")\n",
    "print(\"-----------------------------\\n\")"
   ]
  },
  {
   "cell_type": "markdown",
   "id": "d36cd7c3-c299-4f79-9fb6-6d4306ad1059",
   "metadata": {},
   "source": [
    "#### Example 3: Chain of Thought"
   ]
  },
  {
   "cell_type": "code",
   "execution_count": 9,
   "id": "6e8e76f8-9bc4-47fa-9e63-9b211d4d2ae5",
   "metadata": {},
   "outputs": [
    {
     "name": "stdout",
     "output_type": "stream",
     "text": [
      "Chain of Thought Task 3.\n",
      "\u001b[1mProblem:\u001b[0m \n",
      "    Three girls, Emmy, Kasima, and Lina, had a fresh lemon juice booth stand\n",
      "at the local community fair.\n",
      "\n",
      "Emmy had 45 medium glasses of lemmon. She sold 43 glasses each at $1.25 per glass.\n",
      "\n",
      "Kasima had 50 small glasses, and she sold all of them each at $1.15 per glass. \n",
      "\n",
      "And Lina had 25 large glasses and she sold only 11 glasses but at $1.75 per glass.\n",
      "\n",
      "Of all the three girls, who made most money, and how many glasses each girl sold.\n",
      "How many unsold glasses were left for each girl.\n",
      "\n",
      "And finally, looking at all the numbers, which girl benefited most. That is, which\n",
      "girl cleared her stock\n",
      "\n",
      "\u001b[1mResult:\u001b[0m First, let's calculate the revenue for each girl:\n",
      "\n",
      "1. Emmy: She had 45 medium glasses and sold 43 of them at $1.25 per glass. So her revenue is 43 * $1.25 = $54.05.\n",
      "2. Kasima: She had 50 small glasses and sold all of them, so her revenue is 50 * $1.15 = $57.50.\n",
      "3. Lina: She had 25 large glasses and sold 11 of them at $1.75 per glass. So her revenue is 11 * $1.75 = $19.85.\n",
      "\n",
      "Based on the revenue, Kasima made the most money ($57.50).\n",
      "\n",
      "Next, let's find out how many glasses each girl sold:\n",
      "\n",
      "1. Emmy: She had 45 medium glasses and sold 43 of them, so she sold 43 glasses.\n",
      "2. Kasima: She had 50 small glasses and sold all of them, so she sold 50 glasses.\n",
      "3. Lina: She had 25 large glasses and sold 11 of them, so she sold 11 glasses.\n",
      "\n",
      "Now let's find out how many unsold glasses were left for each girl:\n",
      "\n",
      "1. Emmy: She had 45 medium glasses and sold 43 of them, so she had 2 unsold glasses.\n",
      "2. Kasima: She had 50 small glasses and sold all of them, so she had no unsold glasses.\n",
      "3. Lina: She had 25 large glasses and sold 11 of them, so she had 14 unsold glasses.\n",
      "\n",
      "Finally, let's determine which girl benefited the most:\n",
      "\n",
      "1. Emmy: She made $54.05 from selling 43 glasses and had 2 unsold glasses.\n",
      "2. Kasima: She made $57.50 from selling all 50 glasses and had no unsold glasses.\n",
      "3. Lina: She made $19.85 from selling only 11 glasses and had 14 unsold glasses.\n",
      "\n",
      "Based on the information given, Kasima benefited the most as she sold all her stock and made the highest revenue.\n",
      "\u001b[1mResaoning:\u001b[0m: To solve this problem, we first need to calculate the revenue earned by each girl based on the number of glasses they had and the price per glass. Then, we'll determine how many glasses each girl sold and find out how many unsold glasses were left for each girl. Lastly, we'll compare their revenues and unsold stocks to determine which girl benefited the most.\n",
      "\n",
      "1. Calculate revenue:\n",
      "   - Emmy: 43 medium glasses * $1.25/glass = $54.05\n",
      "   - Kasima: 50 small glasses * $1.15/glass = $57.50\n",
      "   - Lina: 11 large glasses * $1.75/glass = $19.85\n",
      "\n",
      "2. Determine how many glasses each girl sold:\n",
      "   - Emmy: Sold 43 medium glasses\n",
      "   - Kasima: Sold all 50 small glasses\n",
      "   - Lina: Sold 11 large glasses\n",
      "\n",
      "3. Find out how many unsold glasses were left for each girl:\n",
      "   - Emmy: Had 45 medium glasses and sold 43, so she had 2 unsold glasses\n",
      "   - Kasima: Sold all 50 small glasses, so she had no unsold glasses\n",
      "   - Lina: Had 25 large glasses and sold 11, so she had 14 unsold glasses\n",
      "\n",
      "4. Determine which girl benefited the most:\n",
      "   - Emmy: Made $54.05 from selling 43 glasses and had 2 unsold glasses\n",
      "   - Kasima: Made $57.50 from selling all 50 glasses and had no unsold glasses\n",
      "   - Lina: Made $19.85 from selling only 11 glasses and had 14 unsold glasses\n",
      "\n",
      "Based on the information given, Kasima benefited the most as she sold all her stock and made the highest revenue.\n",
      "-----------------------------\n",
      "\n"
     ]
    }
   ],
   "source": [
    "# CoT Task 3: Solve the given text problem\n",
    "# Use class signatures ChainOfThought\n",
    "print(\"Chain of Thought Task 3.\")\n",
    "cot = dspy.Predict(ChainOfThought)\n",
    "response = cot(problem_text=COT_TASKS_3)\n",
    "print(f\"{BOLD_BEGIN}Problem:{BOLD_END} {COT_TASKS_3}\")\n",
    "print(f\"{BOLD_BEGIN}Result:{BOLD_END} {response.result}\")\n",
    "print(f\"{BOLD_BEGIN}Resaoning:{BOLD_END}: {response.reasoning}\")\n",
    "print(\"-----------------------------\\n\")"
   ]
  },
  {
   "cell_type": "markdown",
   "id": "db733e66-6bc4-4ca0-9d47-d6bc54a511fa",
   "metadata": {},
   "source": [
    "## All this is amazing! 😜 Feel the wizardy in Chain of Thought reasoning 🧙‍♀️"
   ]
  }
 ],
 "metadata": {
  "kernelspec": {
   "display_name": "Python 3 (ipykernel)",
   "language": "python",
   "name": "python3"
  },
  "language_info": {
   "codemirror_mode": {
    "name": "ipython",
    "version": 3
   },
   "file_extension": ".py",
   "mimetype": "text/x-python",
   "name": "python",
   "nbconvert_exporter": "python",
   "pygments_lexer": "ipython3",
   "version": "3.10.13"
  }
 },
 "nbformat": 4,
 "nbformat_minor": 5
}
