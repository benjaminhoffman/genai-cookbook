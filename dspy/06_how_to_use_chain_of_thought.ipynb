{
 "cells": [
  {
   "cell_type": "markdown",
   "id": "0c6a9d1e-35de-4197-9673-5d5bf262ae65",
   "metadata": {},
   "source": [
    "\n",
    "<img src=\"images/dspy_img.png\" height=\"35%\" width=\"%65\">\n",
    "\n",
    "## Chain of thought (CoT) prompting\n",
    "\n",
    "Chain of thought prompting for LLMs involves providing a sequence of reasoning steps in the prompt to guide the model toward a solution. This technique helps the model to process complex problems by breaking them down into intermediate steps, much like a human would. By mimicking human-like reasoning, chain of thought prompting improves the model's ability to handle tasks that require logic and deduction.\n",
    "\n",
    "[Wei et al.](https://arxiv.org/abs/2201.11903) (2022) introduced chain-of-thought (CoT) prompting, which uses steps to help solve complex problems. By adding few-shot prompts, it works even better for tasks that need careful thinking before answering, giving the model time to \"think.\" This can simply be achieved as prompting or instructing the LLM to \"Let's think through this step and step. Solve each step and explain how to arrived at your answer.\" These instructions eliminate the need to explicitly provide \"few-shot\" examples. This combination helps in tackling more difficult tasks effectively. \n",
    "\n",
    "Let's look at a few of those examples below 👇 using DSPy Chain of Thought (CoT) Module\n",
    "`dspy.ChainOfThought`.\n",
    "The diagram below shows how DSPy generates a CoT prompt for the LLM from the Signature class.\n",
    "\n",
    "<img src=\"images/cot_signature.png\">\n",
    "\n",
    "[source](https://towardsdatascience.com/intro-to-dspy-goodbye-prompting-hello-programming-4ca1c6ce3eb9)\n",
    "\n",
    "**Note**: \n",
    "To run any of these relevant notebooks you will need to install OLlama on the local\n",
    "latop or use any LLM-hosted provder service: OpenAI, Anyscale Endpoints, Anthropic, etc.\n"
   ]
  },
  {
   "cell_type": "code",
   "execution_count": 1,
   "id": "187463dc-4606-4407-b3c8-5dca96a83f30",
   "metadata": {},
   "outputs": [],
   "source": [
    "import dspy\n",
    "import warnings\n",
    "import argparse\n",
    "from dspy_utils import COT, BOLD_BEGIN, BOLD_END"
   ]
  },
  {
   "cell_type": "code",
   "execution_count": 2,
   "id": "fbe5f8f1-02b4-4530-b1e6-b36dab439575",
   "metadata": {},
   "outputs": [],
   "source": [
    "warnings.filterwarnings(\"ignore\")"
   ]
  },
  {
   "cell_type": "markdown",
   "id": "258e721d-7cc1-4a97-bb20-da7250dfe434",
   "metadata": {},
   "source": [
    "Define some Chain of Thought word problems to solve with \n",
    "DSPy Signature"
   ]
  },
  {
   "cell_type": "code",
   "execution_count": 3,
   "id": "8f76ec90-db97-4789-be68-b033b585b29e",
   "metadata": {},
   "outputs": [],
   "source": [
    "\n",
    "COT_TASKS_1 = \"\"\"\n",
    "        I'm offered $125.00 an hour contract job for six months.\n",
    "        If I work 30 hours a week, how much will I make by the end of my contract.\n",
    "\"\"\"\n",
    "COT_TASKS_2 = \"\"\"\n",
    "At the recent holiday party, I got a coupon to join a health club\n",
    "for wellness. If I joined before December 31, 2023 I get 35% discount on montly subscritpion fees\n",
    "of $55.00 for one year, and the first three months' fees payments of $55.00 will be waived. \n",
    "\n",
    "The monthly payments for the health club subscription is $55.00\n",
    "\n",
    "If I joined in January 2024, I get 25%, and only one month's fee is waived. \n",
    "\n",
    "Compute the best scenarios for saving costs for a one year subscription.\n",
    "\"\"\"\n",
    "COT_TASKS_3 = \"\"\"\n",
    "    Three girls, Emmy, Kasima, and Lina, had a fresh lemon juice booth stand\n",
    "at the local community fair.\n",
    "\n",
    "Emmy had 45 medium glasses of lemmon. She sold 43 glasses each at $1.25 per glass.\n",
    "\n",
    "Kasima had 50 small glasses, and she sold all of them each at $1.15 per glass. \n",
    "\n",
    "And Lina had 25 large glasses and she sold only 11 glasses but at $1.75 per glass.\n",
    "\n",
    "Of all the three girls, who made most money, and how many glasses each girl sold.\n",
    "How many unsold glasses were left for each girl.\n",
    "\n",
    "And finally, looking at all the numbers, which girl benefited most. That is, which\n",
    "girl cleared her stock\n",
    "\"\"\""
   ]
  },
  {
   "cell_type": "markdown",
   "id": "69c72d51-34db-49a4-8cc8-d8a54cd5d337",
   "metadata": {},
   "source": [
    "### Setup OLlama environment on the local machine"
   ]
  },
  {
   "cell_type": "code",
   "execution_count": 4,
   "id": "f5dc9c72-1f6b-486e-86f4-83fbc6f08019",
   "metadata": {},
   "outputs": [],
   "source": [
    "ollama_mistral = dspy.OllamaLocal(model='mistral', max_tokens=2500)\n",
    "dspy.settings.configure(lm=ollama_mistral)"
   ]
  },
  {
   "cell_type": "code",
   "execution_count": 5,
   "id": "c71e08b8-489a-4be4-b812-fa93609d2734",
   "metadata": {},
   "outputs": [
    {
     "name": "stdout",
     "output_type": "stream",
     "text": [
      "Using MODEL=ollama/mistral; base=localhost\n"
     ]
    }
   ],
   "source": [
    "MODEL = \"ollama/mistral\"\n",
    "print(f\"Using MODEL={MODEL}; base=localhost\")"
   ]
  },
  {
   "cell_type": "markdown",
   "id": "e35d40de-7b76-4701-8796-f41b1693802c",
   "metadata": {},
   "source": [
    "#### Example 1: Chain of Thought"
   ]
  },
  {
   "cell_type": "code",
   "execution_count": 6,
   "id": "c8249833-41fe-4cfa-bf17-89429632c4df",
   "metadata": {},
   "outputs": [
    {
     "name": "stdout",
     "output_type": "stream",
     "text": [
      "Chain of Thought Task 1.\n",
      "\u001b[1mProblem:\u001b[0m \n",
      "        I'm offered $125.00 an hour contract job for six months.\n",
      "        If I work 30 hours a week, how much will I make by the end of my contract.\n",
      "\n",
      "\u001b[1mResult:\u001b[0m You will make a total of $90,000 during your six-month contract.\n",
      "\u001b[1mResaoning:\u001b[0m: I'm here to help you understand the reasoning behind solving the problem you provided. Let's break it down step by step.\n",
      "\n",
      "Problem Text: I'm offered a $125.00 an hour contract job for six months. If I work 30 hours a week, how much will I make by the end of my contract?\n",
      "\n",
      "Reasoning: To calculate the total amount of money you will make during your six-month contract, let's follow these steps:\n",
      "\n",
      "1. Find out your weekly earnings: You are paid $125 an hour and work 30 hours a week.\n",
      "Weekly earnings = Hourly wage * Hours worked per week\n",
      "= $125/hour * 30 hours/week\n",
      "= $3750/week\n",
      "\n",
      "2. Find out your monthly earnings: There are approximately 4 weeks in a month.\n",
      "Monthly earnings = Weekly earnings * Number of weeks per month\n",
      "= $3750/week * 4 weeks/month\n",
      "= $15,000/month\n",
      "\n",
      "3. Find out your total earnings: There are approximately 26 weeks in six months.\n",
      "Total earnings = Monthly earnings * Number of months\n",
      "= $15,000/month * 6 months\n",
      "= $90,000\n",
      "\n",
      "Result: You will make a total of $90,000 during your six-month contract.\n",
      "-----------------------------\n",
      "\n"
     ]
    }
   ],
   "source": [
    "# Use class Module COT\n",
    "print(\"Chain of Thought Task 1.\")\n",
    "cot = COT()\n",
    "response = cot(problem_text=COT_TASKS_1)\n",
    "print(f\"{BOLD_BEGIN}Problem:{BOLD_END} {COT_TASKS_1}\")\n",
    "print(f\"{BOLD_BEGIN}Result:{BOLD_END} {response.result}\")\n",
    "print(f\"{BOLD_BEGIN}Resaoning:{BOLD_END}: {response.reasoning}\")\n",
    "print(\"-----------------------------\\n\")"
   ]
  },
  {
   "cell_type": "markdown",
   "id": "806e445c-74a5-445a-a9dc-ffb4a82f0d78",
   "metadata": {},
   "source": [
    "#### Example 2: Chain of Thought"
   ]
  },
  {
   "cell_type": "code",
   "execution_count": 7,
   "id": "606ec31c-faf2-4d1f-a8b1-3a4a67c66c8e",
   "metadata": {},
   "outputs": [
    {
     "name": "stdout",
     "output_type": "stream",
     "text": [
      "Chain of Thought Task 2.\n",
      "\u001b[1mProblem:\u001b[0m \n",
      "At the recent holiday party, I got a coupon to join a health club\n",
      "for wellness. If I joined before December 31, 2023 I get 35% discount on montly subscritpion fees\n",
      "of $55.00 for one year, and the first three months' fees payments of $55.00 will be waived. \n",
      "\n",
      "The monthly payments for the health club subscription is $55.00\n",
      "\n",
      "If I joined in January 2024, I get 25%, and only one month's fee is waived. \n",
      "\n",
      "Compute the best scenarios for saving costs for a one year subscription.\n",
      "\n",
      "\u001b[1mResult:\u001b[0m The best scenario for saving costs on a one-year health club subscription is joining before December 31, 2023, and taking advantage of the 35% discount and waived fees for three months, resulting in a total cost of $326.25.\n",
      "\u001b[1mResaoning:\u001b[0m: In this problem, we are asked to determine the best scenario for saving costs on a one-year health club subscription based on the given information. Let's think step by step to arrive at an answer.\n",
      "\n",
      "Step 1: Calculate the cost savings with the 35% discount and waived fees for three months. The monthly fee is $55.00, and there's a 35% discount for joining before December 31, 2023. So, the discounted monthly fee will be $55.00 * (1 - 0.35) = $36.25. Since the first three months' fees are waived, we only need to calculate the cost for the remaining nine months: $36.25 * 9 = $326.25.\n",
      "\n",
      "Step 2: Calculate the cost savings with the 25% discount and waived one month's fee. The monthly fee is $55.00, and there's a 25% discount for joining in January 2024. So, the discounted monthly fee will be $55.00 * (1 - 0.25) = $43.75. Since only one month's fee is waived, the total cost for a one-year subscription would be $43.75 * 12 = $525.20.\n",
      "\n",
      "Step 3: Compare the savings in both scenarios and determine the best option. Comparing the two options, the first scenario with the 35% discount and waived fees for three months results in a total cost of $326.25, while the second scenario with the 25% discount and waived one month's fee results in a total cost of $525.20. Based on this comparison, the first scenario is the best option for saving costs on a one-year health club subscription.\n",
      "\n",
      "Therefore, the result is: The best scenario for saving costs on a one-year health club subscription is joining before December 31, 2023, and taking advantage of the 35% discount and waived fees for three months, resulting in a total cost of $326.25.\n",
      "-----------------------------\n",
      "\n"
     ]
    }
   ],
   "source": [
    "# Use class Module COT\n",
    "print(\"Chain of Thought Task 2.\")\n",
    "cot = COT()\n",
    "response = cot(problem_text=COT_TASKS_2)\n",
    "print(f\"{BOLD_BEGIN}Problem:{BOLD_END} {COT_TASKS_2}\")\n",
    "print(f\"{BOLD_BEGIN}Result:{BOLD_END} {response.result}\")\n",
    "print(f\"{BOLD_BEGIN}Resaoning:{BOLD_END}: {response.reasoning}\")\n",
    "print(\"-----------------------------\\n\")"
   ]
  },
  {
   "cell_type": "markdown",
   "id": "d36cd7c3-c299-4f79-9fb6-6d4306ad1059",
   "metadata": {},
   "source": [
    "#### Example 3: Chain of Thought"
   ]
  },
  {
   "cell_type": "code",
   "execution_count": 8,
   "id": "6e8e76f8-9bc4-47fa-9e63-9b211d4d2ae5",
   "metadata": {},
   "outputs": [
    {
     "name": "stdout",
     "output_type": "stream",
     "text": [
      "Chain of Thought Task 3.\n",
      "\u001b[1mProblem:\u001b[0m \n",
      "    Three girls, Emmy, Kasima, and Lina, had a fresh lemon juice booth stand\n",
      "at the local community fair.\n",
      "\n",
      "Emmy had 45 medium glasses of lemmon. She sold 43 glasses each at $1.25 per glass.\n",
      "\n",
      "Kasima had 50 small glasses, and she sold all of them each at $1.15 per glass. \n",
      "\n",
      "And Lina had 25 large glasses and she sold only 11 glasses but at $1.75 per glass.\n",
      "\n",
      "Of all the three girls, who made most money, and how many glasses each girl sold.\n",
      "How many unsold glasses were left for each girl.\n",
      "\n",
      "And finally, looking at all the numbers, which girl benefited most. That is, which\n",
      "girl cleared her stock\n",
      "\n",
      "\u001b[1mResult:\u001b[0m \n",
      "\u001b[1mResaoning:\u001b[0m: The girl who made the most money was Kasima, with a total revenue of $57.50 from selling all her 50 small glasses. She also cleared her entire stock. Emmy had 2 unsold medium glasses and Lina had 14 unsold large glasses.\n",
      "-----------------------------\n",
      "\n"
     ]
    }
   ],
   "source": [
    "# Use class Module COT\n",
    "print(\"Chain of Thought Task 3.\")\n",
    "cot = COT()\n",
    "response = cot(problem_text=COT_TASKS_3)\n",
    "print(f\"{BOLD_BEGIN}Problem:{BOLD_END} {COT_TASKS_3}\")\n",
    "print(f\"{BOLD_BEGIN}Result:{BOLD_END} {response.result}\")\n",
    "print(f\"{BOLD_BEGIN}Resaoning:{BOLD_END}: {response.reasoning}\")\n",
    "print(\"-----------------------------\\n\")"
   ]
  },
  {
   "cell_type": "markdown",
   "id": "db733e66-6bc4-4ca0-9d47-d6bc54a511fa",
   "metadata": {},
   "source": [
    "## All this is amazing! 😜 Feel the wizardy in Chain of Thought reasoning 🧙‍♀️"
   ]
  }
 ],
 "metadata": {
  "kernelspec": {
   "display_name": "Python 3 (ipykernel)",
   "language": "python",
   "name": "python3"
  },
  "language_info": {
   "codemirror_mode": {
    "name": "ipython",
    "version": 3
   },
   "file_extension": ".py",
   "mimetype": "text/x-python",
   "name": "python",
   "nbconvert_exporter": "python",
   "pygments_lexer": "ipython3",
   "version": "3.10.13"
  }
 },
 "nbformat": 4,
 "nbformat_minor": 5
}
