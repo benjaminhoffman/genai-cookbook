{
 "cells": [
  {
   "cell_type": "markdown",
   "id": "002884a5-043b-4181-8e2e-0795d38e3d41",
   "metadata": {},
   "source": [
    "<img src=\"images/dspy_img.png\" height=\"35%\" width=\"%65\">"
   ]
  },
  {
   "cell_type": "markdown",
   "id": "f28c1a88-90f0-46f4-99ef-f1129ae1350d",
   "metadata": {},
   "source": [
    "## Naive Retreival Augmented Generation (RAG)\n",
    "\n",
    "Amazingly easy and modular, DSPy Modules can be chained or stacked to create \n",
    "a pipeline. In our case, building a Naive RAG comprises using `dspy.Signature` and `dspy.ChainOfThought`, and own module class `RAG` (see implementation in [dspy_utils](dspy_utils.py). \n",
    "\n",
    "Out of the box, DSPy supports a set of [Retrievers clients](https://dspy-docs.vercel.app/api/category/retrieval-model-clients). For this example,\n",
    "we will use `dspy.ColBERTv2`.\n",
    "\n",
    "<img src=\"images/dspy_rag_pipeline.png\">\n",
    "<img src=\"images/dspy_rag_flow.png\">\n",
    "\n",
    "[source](https://towardsdatascience.com/intro-to-dspy-goodbye-prompting-hello-programming-4ca1c6ce3eb9)"
   ]
  },
  {
   "cell_type": "code",
   "execution_count": 1,
   "id": "122f1485-8671-47f3-9159-63edf532600e",
   "metadata": {},
   "outputs": [],
   "source": [
    "import warnings\n",
    "import dspy\n",
    "import warnings\n",
    "from dspy_utils import RAG, BOLD_BEGIN, BOLD_END\n",
    "\n",
    "# Filter out warnings\n",
    "warnings.filterwarnings(\"ignore\")"
   ]
  },
  {
   "cell_type": "markdown",
   "id": "85b2252c-1b56-433e-aae2-27902e772667",
   "metadata": {},
   "source": [
    "### Questions to ask the RAG model"
   ]
  },
  {
   "cell_type": "code",
   "execution_count": 2,
   "id": "1f5f78f3-754c-44db-9ffd-48697ceb4ae3",
   "metadata": {},
   "outputs": [],
   "source": [
    "\n",
    "QUESTIONS = [\n",
    "    \"What is the capital of Tanzania?\",\n",
    "    \"Who was the president of the United States in 1960?\",\n",
    "    \"What is the largest mammal?\",\n",
    "    \"What is the most populous country?\",\n",
    "    \"What is the most widely spoken language?\",\n",
    "    \"Which country won the FIFA Football World Cup in 1970?\",\n",
    "    \"Which country has won the most FIFA Football World Cups?\",\n",
    "    \"Who is the author of the book '1984'?\",\n",
    "    \"What is the most popular programming language?\",\n",
    "    \"What is dark matter in physics?\",\n",
    "]"
   ]
  },
  {
   "cell_type": "markdown",
   "id": "07c22a0b-d461-43a8-95fc-285e2def3b1e",
   "metadata": {},
   "source": [
    "### Instantiate our Language Model"
   ]
  },
  {
   "cell_type": "code",
   "execution_count": 3,
   "id": "dd45412b-7532-485c-80cf-45db4438864c",
   "metadata": {},
   "outputs": [],
   "source": [
    "# Setup OLlama environment on the local machine\n",
    "ollama_mistral = dspy.OllamaLocal(model='mistral',\n",
    "                                      max_tokens=2500)\n",
    "# Instantiate the ColBERTv2 as Retrieval module\n",
    "colbert_rm = dspy.ColBERTv2(url='http://20.102.90.50:2017/wiki17_abstracts')\n",
    "\n",
    "# Configure the settings\n",
    "dspy.settings.configure(lm=ollama_mistral, rm=colbert_rm)"
   ]
  },
  {
   "cell_type": "markdown",
   "id": "9d84658a-82ff-4646-aeae-9d9ffbcf04b3",
   "metadata": {},
   "source": [
    "### Query the RAG "
   ]
  },
  {
   "cell_type": "code",
   "execution_count": 4,
   "id": "ca69d669-6b4f-4498-b778-0dcd119e0937",
   "metadata": {},
   "outputs": [
    {
     "name": "stdout",
     "output_type": "stream",
     "text": [
      "\u001b[1mQuestion 1: \u001b[0mWhat is the capital of Tanzania?\n",
      "\u001b[1mAnswer    : \u001b[0mDodoma\n",
      "-----------------------------\n",
      "\n",
      "\u001b[1mQuestion 2: \u001b[0mWho was the president of the United States in 1960?\n",
      "\u001b[1mAnswer    : \u001b[0mThe president of the United States in 1960 was John F. Kennedy.\n",
      "-----------------------------\n",
      "\n",
      "\u001b[1mQuestion 3: \u001b[0mWhat is the largest mammal?\n",
      "\u001b[1mAnswer    : \u001b[0mThe blue whale is the largest mammal.\n",
      "-----------------------------\n",
      "\n",
      "\u001b[1mQuestion 4: \u001b[0mWhat is the most populous country?\n",
      "\u001b[1mAnswer    : \u001b[0mChina is the most populous country.\n",
      "-----------------------------\n",
      "\n",
      "\u001b[1mQuestion 5: \u001b[0mWhat is the most widely spoken language?\n",
      "\u001b[1mAnswer    : \u001b[0mThe most widely spoken languages, depending on the region or country, are English, Japanese, and Turkish.\n",
      "-----------------------------\n",
      "\n",
      "\u001b[1mQuestion 6: \u001b[0mWhich country won the FIFA Football World Cup in 1970?\n",
      "\u001b[1mAnswer    : \u001b[0mBrazil\n",
      "-----------------------------\n",
      "\n",
      "\u001b[1mQuestion 7: \u001b[0mWhich country has won the most FIFA Football World Cups?\n",
      "\u001b[1mAnswer    : \u001b[0mBoth Germany and Italy have each won 4 FIFA World Cup championships.\n",
      "-----------------------------\n",
      "\n",
      "\u001b[1mQuestion 8: \u001b[0mWho is the author of the book '1984'?\n",
      "\u001b[1mAnswer    : \u001b[0mGeorge Orwell\n",
      "-----------------------------\n",
      "\n",
      "\u001b[1mQuestion 9: \u001b[0mWhat is the most popular programming language?\n",
      "\u001b[1mAnswer    : \u001b[0mJava is one of the most popular programming languages in use, particularly for client-server web applications, with a reported 9 million developers.\n",
      "-----------------------------\n",
      "\n",
      "\u001b[1mQuestion 10: \u001b[0mWhat is dark matter in physics?\n",
      "\u001b[1mAnswer    : \u001b[0mDark matter is a hypothetical type of matter that has never been directly observed but is inferred from its gravitational effects on visible matter. It does not interact with or emit electromagnetic radiation, making it invisible to the entire electromagnetic spectrum. Cold dark matter is a specific form of dark matter believed to make up approximately 84.54% of the matter in the universe and interacts very weakly with ordinary matter and electromagnetic radiation.\n",
      "-----------------------------\n",
      "\n"
     ]
    }
   ],
   "source": [
    "# Instantiate the RAG module\n",
    "rag = RAG(num_passages=5)\n",
    "for idx, question in enumerate(QUESTIONS):\n",
    "    print(f\"{BOLD_BEGIN}Question {idx + 1}: {BOLD_END}{question}\")\n",
    "    response = rag(question=question)\n",
    "    print(f\"{BOLD_BEGIN}Answer    : {BOLD_END}{response.answer}\")\n",
    "    print(\"-----------------------------\\n\")"
   ]
  },
  {
   "cell_type": "markdown",
   "id": "e134ffc6-a412-48b5-9341-28b77c4024bd",
   "metadata": {},
   "source": [
    "### Inspect history of the prompts"
   ]
  },
  {
   "cell_type": "code",
   "execution_count": 5,
   "id": "29f443b0-321b-460c-a056-fe08b6a9dd23",
   "metadata": {},
   "outputs": [
    {
     "name": "stdout",
     "output_type": "stream",
     "text": [
      "\n",
      "\n",
      "\n",
      "Given a context, question, answer the question.\n",
      "\n",
      "---\n",
      "\n",
      "Follow the following format.\n",
      "\n",
      "Context: ${context}\n",
      "\n",
      "Question: ${question}\n",
      "\n",
      "Reasoning: Let's think step by step in order to ${produce the answer}. We ...\n",
      "\n",
      "Answer: ${answer}\n",
      "\n",
      "---\n",
      "\n",
      "Context:\n",
      "[1] «Dark matter in fiction | Dark matter is defined as hypothetical matter that is undetectable by its emitted radiation, but whose presence can be inferred from gravitational effects on visible matter. It has been used in a variety of fictional media, including computer and video games and books. In such cases, dark matter is usually attributed extraordinary physical or magical properties. Such descriptions are often inconsistent with the known properties of dark matter proposed in physics and cosmology. For example in computer games, it is often used as material for making weapons and items, and is usually depicted as black or a similar color.»\n",
      "[2] «Dark Matter (disambiguation) | Dark matter is matter that is undetectable by its emitted radiation, but whose presence can be inferred from gravitational effects.»\n",
      "[3] «Dark matter | Dark matter is a hypothetical type of matter distinct from baryonic matter (ordinary matter such as protons and neutrons), neutrinos and dark energy. Dark matter has never been directly observed; however, its existence would explain a number of otherwise puzzling astronomical observations. The name refers to the fact that it does not emit or interact with electromagnetic radiation, such as light, and is thus invisible to the entire electromagnetic spectrum. Although dark matter has not been directly observed, its existence and properties are inferred from its gravitational effects such as the motions of visible matter, gravitational lensing, its influence on the universe's large-scale structure, on galaxies, and its effects on the cosmic microwave background.»\n",
      "[4] «Cold dark matter | In cosmology and physics, cold dark matter (CDM) is a hypothetical form of dark matter whose particles moved slowly compared to the speed of light (the \"cold\" in CDM) since the universe was approximately one year old (a time when the cosmic particle horizon contained the mass of one typical galaxy); and interact very weakly with ordinary matter and electromagnetic radiation (the \"dark\" in CDM). It is believed that approximately 84.54% of matter in the Universe is dark matter, with only a small fraction being the ordinary baryonic matter that composes stars, planets and living organisms.»\n",
      "[5] «Dark•Matter | Dark•Matter is a science fiction/conspiracy theory campaign setting that was originally published in 1999 by Wizards of the Coast as the second campaign setting for the \"Alternity\" role-playing game. It was written by Wolfgang Baur and Monte Cook. It was later converted to \"d20 Modern\" rules and published as a stand-alone book in 2006.»\n",
      "\n",
      "Question: What is dark matter in physics?\n",
      "\n",
      "Reasoning: Let's think step by step in order to\u001b[32m answer the question. We will first examine the context provided to understand what dark matter is in the context of physics. The context states that dark matter is a hypothetical type of matter distinct from baryonic matter, neutrinos and dark energy. It has never been directly observed but its existence is inferred from its gravitational effects on visible matter. Dark matter does not interact with electromagnetic radiation, making it invisible to the entire electromagnetic spectrum. The name refers to its lack of observable emission or interaction with light. Cold dark matter is a specific form of dark matter believed to make up approximately 84.54% of the matter in the universe and interacts very weakly with ordinary matter and electromagnetic radiation.\n",
      "\n",
      "Answer: Dark matter is a hypothetical type of matter that has never been directly observed but is inferred from its gravitational effects on visible matter. It does not interact with or emit electromagnetic radiation, making it invisible to the entire electromagnetic spectrum. Cold dark matter is a specific form of dark matter believed to make up approximately 84.54% of the matter in the universe and interacts very weakly with ordinary matter and electromagnetic radiation.\u001b[0m\n",
      "\n",
      "\n",
      "\n",
      "\n",
      "\n",
      "\n",
      "Given a context, question, answer the question.\n",
      "\n",
      "---\n",
      "\n",
      "Follow the following format.\n",
      "\n",
      "Context: ${context}\n",
      "\n",
      "Question: ${question}\n",
      "\n",
      "Reasoning: Let's think step by step in order to ${produce the answer}. We ...\n",
      "\n",
      "Answer: ${answer}\n",
      "\n",
      "---\n",
      "\n",
      "Context:\n",
      "[1] «Dark matter in fiction | Dark matter is defined as hypothetical matter that is undetectable by its emitted radiation, but whose presence can be inferred from gravitational effects on visible matter. It has been used in a variety of fictional media, including computer and video games and books. In such cases, dark matter is usually attributed extraordinary physical or magical properties. Such descriptions are often inconsistent with the known properties of dark matter proposed in physics and cosmology. For example in computer games, it is often used as material for making weapons and items, and is usually depicted as black or a similar color.»\n",
      "[2] «Dark Matter (disambiguation) | Dark matter is matter that is undetectable by its emitted radiation, but whose presence can be inferred from gravitational effects.»\n",
      "[3] «Dark matter | Dark matter is a hypothetical type of matter distinct from baryonic matter (ordinary matter such as protons and neutrons), neutrinos and dark energy. Dark matter has never been directly observed; however, its existence would explain a number of otherwise puzzling astronomical observations. The name refers to the fact that it does not emit or interact with electromagnetic radiation, such as light, and is thus invisible to the entire electromagnetic spectrum. Although dark matter has not been directly observed, its existence and properties are inferred from its gravitational effects such as the motions of visible matter, gravitational lensing, its influence on the universe's large-scale structure, on galaxies, and its effects on the cosmic microwave background.»\n",
      "[4] «Cold dark matter | In cosmology and physics, cold dark matter (CDM) is a hypothetical form of dark matter whose particles moved slowly compared to the speed of light (the \"cold\" in CDM) since the universe was approximately one year old (a time when the cosmic particle horizon contained the mass of one typical galaxy); and interact very weakly with ordinary matter and electromagnetic radiation (the \"dark\" in CDM). It is believed that approximately 84.54% of matter in the Universe is dark matter, with only a small fraction being the ordinary baryonic matter that composes stars, planets and living organisms.»\n",
      "[5] «Dark•Matter | Dark•Matter is a science fiction/conspiracy theory campaign setting that was originally published in 1999 by Wizards of the Coast as the second campaign setting for the \"Alternity\" role-playing game. It was written by Wolfgang Baur and Monte Cook. It was later converted to \"d20 Modern\" rules and published as a stand-alone book in 2006.»\n",
      "\n",
      "Question: What is dark matter in physics?\n",
      "\n",
      "Reasoning: Let's think step by step in order to\u001b[32m answer the question. We will first examine the context provided to understand what dark matter is in the context of physics. The context states that dark matter is a hypothetical type of matter distinct from baryonic matter, neutrinos and dark energy. It has never been directly observed but its existence is inferred from its gravitational effects on visible matter. Dark matter does not interact with electromagnetic radiation, making it invisible to the entire electromagnetic spectrum. The name refers to its lack of observable emission or interaction with light. Cold dark matter is a specific form of dark matter believed to make up approximately 84.54% of the matter in the universe and interacts very weakly with ordinary matter and electromagnetic radiation.\n",
      "\n",
      "Answer: Dark matter is a hypothetical type of matter that has never been directly observed but is inferred from its gravitational effects on visible matter. It does not interact with or emit electromagnetic radiation, making it invisible to the entire electromagnetic spectrum. Cold dark matter is a specific form of dark matter believed to make up approximately 84.54% of the matter in the universe and interacts very weakly with ordinary matter and electromagnetic radiation.\u001b[0m\n",
      "\n",
      "\n",
      "\n"
     ]
    }
   ],
   "source": [
    "print(ollama_mistral.inspect_history(n=1))"
   ]
  },
  {
   "cell_type": "markdown",
   "id": "0c3543eb-ed2c-4597-a691-68a5298070c7",
   "metadata": {},
   "source": [
    "## All this is amazing! 😜 Feel the wizardy in DSPy Modularity 🧙‍♀️"
   ]
  }
 ],
 "metadata": {
  "kernelspec": {
   "display_name": "Python 3 (ipykernel)",
   "language": "python",
   "name": "python3"
  },
  "language_info": {
   "codemirror_mode": {
    "name": "ipython",
    "version": 3
   },
   "file_extension": ".py",
   "mimetype": "text/x-python",
   "name": "python",
   "nbconvert_exporter": "python",
   "pygments_lexer": "ipython3",
   "version": "3.10.13"
  }
 },
 "nbformat": 4,
 "nbformat_minor": 5
}
