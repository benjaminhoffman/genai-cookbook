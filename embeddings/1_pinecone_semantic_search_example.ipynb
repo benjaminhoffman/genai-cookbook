{
 "cells": [
  {
   "cell_type": "markdown",
   "id": "f9efabc8-4e91-48ba-bbca-5145f806801b",
   "metadata": {},
   "source": [
    "## Pinecone Vector Database Semantic Search Example\n",
    "\n",
    "This is a simple Semantic Search applicaiton using Pinecone vector database\n",
    "to store embeddings. Pinecode offers a free starter-index as a community edition.\n",
    "Actually, it's not that bad, as it allows you to index 100K vector embeddings.\n",
    "\n",
    "Only a single index is allowed in the community edition. The diagram below\n",
    "shows the process and flow. And the steps in the notebook demonstrates simple\n",
    "steps to create a semantic search application. \n",
    "\n",
    "<img src=\"images/pinecone_vectordb.png\">\n",
    "\n",
    "[source]()"
   ]
  },
  {
   "cell_type": "code",
   "execution_count": 2,
   "id": "8407c3b6-c20d-4d49-9c74-99f4302bc8c9",
   "metadata": {},
   "outputs": [],
   "source": [
    "import os\n",
    "from pinecone import Pinecone, PodSpec\n",
    "from datasets import load_dataset\n",
    "from sentence_transformers import SentenceTransformer\n",
    "from dotenv import load_dotenv, find_dotenv\n",
    "from tqdm.auto import tqdm"
   ]
  },
  {
   "cell_type": "code",
   "execution_count": 3,
   "id": "72829bb7-894b-4240-ad85-d093e16253e0",
   "metadata": {},
   "outputs": [],
   "source": [
    "def extract_and_print_matches(results):\n",
    "    for result in results['matches']:\n",
    "        print(f\"Score  : {round(result['score'], 2)}\")\n",
    "        print(f\"Matches: {result['metadata']['text']}\")\n",
    "        print('-' * 50)"
   ]
  },
  {
   "cell_type": "markdown",
   "id": "5be0ef73-3a2c-4811-b9e7-e1c24992466e",
   "metadata": {},
   "source": [
    "### Step 1: Load the dataset, only the first 50k samples"
   ]
  },
  {
   "cell_type": "code",
   "execution_count": 4,
   "id": "7cfecc76-a89d-4fff-9c87-3267d5ff72e0",
   "metadata": {},
   "outputs": [
    {
     "name": "stdout",
     "output_type": "stream",
     "text": [
      "{'text': ['I rented I AM CURIOUS-YELLOW from my video store because of all the controversy that surrounded it when it was first released in 1967. I also heard that at first it was seized by U.S. customs if it ever tried to enter this country, therefore being a fan of films considered \"controversial\" I really had to see this for myself.<br /><br />The plot is centered around a young Swedish drama student named Lena who wants to learn everything she can about life. In particular she wants to focus her attentions to making some sort of documentary on what the average Swede thought about certain political issues such as the Vietnam War and race issues in the United States. In between asking politicians and ordinary denizens of Stockholm about their opinions on politics, she has sex with her drama teacher, classmates, and married men.<br /><br />What kills me about I AM CURIOUS-YELLOW is that 40 years ago, this was considered pornographic. Really, the sex and nudity scenes are few and far between, even then it\\'s not shot like some cheaply made porno. While my countrymen mind find it shocking, in reality sex and nudity are a major staple in Swedish cinema. Even Ingmar Bergman, arguably their answer to good old boy John Ford, had sex scenes in his films.<br /><br />I do commend the filmmakers for the fact that any sex shown in the film is shown for artistic purposes rather than just to shock people and make money to be shown in pornographic theaters in America. I AM CURIOUS-YELLOW is a good film for anyone wanting to study the meat and potatoes (no pun intended) of Swedish cinema. But really, this film doesn\\'t have much of a plot.'], 'label': [0]}\n"
     ]
    }
   ],
   "source": [
    "dataset = load_dataset(\"imdb\", split='train[:50000]')\n",
    "print(dataset[:1])"
   ]
  },
  {
   "cell_type": "markdown",
   "id": "de09ca64-4e44-4c9f-a93e-737d1e602e0d",
   "metadata": {},
   "source": [
    "#### Examine the data"
   ]
  },
  {
   "cell_type": "code",
   "execution_count": 5,
   "id": "eb0fe73e-ef2b-415a-9a8b-a7ec9c7a4377",
   "metadata": {},
   "outputs": [
    {
     "name": "stdout",
     "output_type": "stream",
     "text": [
      "Louis Sachar's compelling children's classic is about as Disney as Freddy Krueger. It's got murder, racism, facial disfigurement and killer lizards.<br /><br />Tightly plotted, it's a multi-layered, interlinking story that spans history to reveal Stanley's own heritage and the secret behind the holes. It races from Latvia's lush greenness to the pock-marked Camp Green Lake (hint: there's no lake and no green).<br /><br />Disney's first success is re-creating the novel's environments so convincingly - the set design is superb and without gloss. The other plus is in the casting. Rising star Shia LaBeouf (Charlie's Angels 2, Project Greenlight) might not be the fat boy of the book, but his attitude is right and he's far from the usual clean-cut hero. The rest of the cast is filled out equally well, from Patricia Arquette as the Frontier school marm-turned-bank robber to Henry Winkler as Stanley's dad. The downside is the pop soundtrack - pure marketing department - and having the sentiment turned up to full volume at the end.\n",
      "\"The Mother\" is a weird low-budget movie, touching at least two uncomfortable themes not usually explored in the cinema: denial of love of mother for their own son and daughter, and lust and passion in the third age.<br /><br />The characters are awful: May is a disgusting old lady and I believe it is impossible to feel any kind of sympathy or sorrow for her. She confesses that she did not love her son and her daughter. She cheated her husband twice with an intellectual. She steals the beloved man of her daughter, not to protect her from a guy without moral, that does not love her, but just because she feel horny with him. She is trying to organize her life after the loss of her husband in the worst possible way, destroying her daughter delusions. Paula, her daughter, is a fragile loser, who accepts her life the way it is. Her brother Bobby is a man who lost his savings because of his wife, who insists in having her shop, a terrible business indeed. Darren is an amoral addicted jerk who does not like anybody, even himself.<br /><br />The acting and direction are excellent: the actresses and actors have outstanding performances and the direction is very precise. I liked this movie, but I recognize that it is recommended for very specific audiences. My vote is seven.<br /><br />Title (Brazil): \"Recomeçar\" (\"Re-Start\")\n",
      "--------------------------------------------------\n",
      "Number of reviews: 24904\n"
     ]
    }
   ],
   "source": [
    "reviews = []\n",
    "for record in dataset['text']:\n",
    "    reviews.extend(record.split('\\n'))\n",
    "reviews = list(set(reviews))\n",
    "print('\\n'.join(reviews[:2]))\n",
    "print('-' * 50)\n",
    "print(f'Number of reviews: {len(reviews)}')"
   ]
  },
  {
   "cell_type": "markdown",
   "id": "14151d19-e3a9-4d5b-a3d0-086de8033d62",
   "metadata": {},
   "source": [
    "### Step 2: Instantiate the sentence transformer embedding model"
   ]
  },
  {
   "cell_type": "code",
   "execution_count": 6,
   "id": "8f9f6bb0-9188-4c30-b7e9-1df51fe4a00f",
   "metadata": {},
   "outputs": [],
   "source": [
    "model = SentenceTransformer('paraphrase-MiniLM-L6-v2')"
   ]
  },
  {
   "cell_type": "code",
   "execution_count": 7,
   "id": "1580a19c-f98c-4252-b268-a9a6bffab019",
   "metadata": {},
   "outputs": [
    {
     "name": "stdout",
     "output_type": "stream",
     "text": [
      "vector shape: (1, 384); vector length:384\n"
     ]
    }
   ],
   "source": [
    "# Try encoding a sample review\n",
    "embeddings = model.encode(reviews[0:1])\n",
    "print(f\"vector shape: {embeddings.shape}; vector length:{len(embeddings[0])}\")"
   ]
  },
  {
   "cell_type": "markdown",
   "id": "36536ecf-b184-4c31-b5db-3fe8d2119300",
   "metadata": {},
   "source": [
    "### Step 3: Set up Pinecone environment. \n",
    "\n",
    "Use the .env file to load the Pinecone API key and the environment name, \n",
    "which is \"gcp-starter\" in this case, for the GCP starter environment, a community edition of Pinecone is also available for free."
   ]
  },
  {
   "cell_type": "code",
   "execution_count": 8,
   "id": "6b0322a6-64d2-42b2-9966-4b13d9fef011",
   "metadata": {},
   "outputs": [],
   "source": [
    " _ = load_dotenv(find_dotenv())\n",
    "api_key = os.getenv(\"PINECONE_API_KEY\")\n",
    "if api_key is None:\n",
    "    raise ValueError(\"Please set the PINECONE_API_KEY environment\")\n",
    "\n",
    "pc = Pinecone(\n",
    "    api_key=api_key,\n",
    "    environment=\"gcp-starter\",\n",
    "    spec=PodSpec(environment=\"gcp-starter\")\n",
    ") "
   ]
  },
  {
   "cell_type": "code",
   "execution_count": 9,
   "id": "1a0ffb6e-0263-43bb-9a51-74dabcf467a6",
   "metadata": {},
   "outputs": [
    {
     "data": {
      "text/plain": [
       "[]"
      ]
     },
     "execution_count": 9,
     "metadata": {},
     "output_type": "execute_result"
    }
   ],
   "source": [
    "# check if index exists in Pinecone\n",
    "index_name = \"starter-index\"\n",
    "existing_indexes = [\n",
    "    index_info[\"name\"] for index_info in pc.list_indexes()\n",
    "]\n",
    "existing_indexes"
   ]
  },
  {
   "cell_type": "code",
   "execution_count": 12,
   "id": "b342b956-8ae3-4543-98aa-8b0841b25fe6",
   "metadata": {},
   "outputs": [],
   "source": [
    "# Delete index if one already exists, since Pincone allows only \n",
    "# one index in the starter community edition\n",
    "if index_name in existing_indexes:\n",
    "    print(f\"Index {index_name} already exists. Deleting it.\")\n",
    "    pc.delete_index(index_name)"
   ]
  },
  {
   "cell_type": "markdown",
   "id": "3b517bd2-e5b2-46c9-910e-3162a7e71590",
   "metadata": {},
   "source": [
    "### Step 3: Create an index\n",
    "And then connect to it"
   ]
  },
  {
   "cell_type": "code",
   "execution_count": 13,
   "id": "09a9c731-e1c4-49ec-98d3-b2f9201b0901",
   "metadata": {},
   "outputs": [
    {
     "name": "stdout",
     "output_type": "stream",
     "text": [
      "Creating a new index starter-index...\n"
     ]
    }
   ],
   "source": [
    "print(f\"Creating a new index {index_name}...\")\n",
    "pc.create_index(name=index_name,\n",
    "        metric=\"cosine\",\n",
    "        dimension=embeddings.shape[1],\n",
    "        spec=PodSpec(environment=\"gcp-starter\")\n",
    ")\n",
    "# Connect to the index\n",
    "pindex = pc.Index(index_name)"
   ]
  },
  {
   "cell_type": "markdown",
   "id": "14528926-43e8-4799-b27a-0da949842b69",
   "metadata": {},
   "source": [
    "### Step 4: Upsert data into the index.\n",
    "\n",
    "In our case, we are going to create IMDB review embeddings in batches\n",
    "and upsert each batch, along with `ids` and `metadata`."
   ]
  },
  {
   "cell_type": "code",
   "execution_count": 14,
   "id": "baca51f9-9cab-451c-a501-310eb9628545",
   "metadata": {},
   "outputs": [
    {
     "name": "stdout",
     "output_type": "stream",
     "text": [
      "Upserting the embeddings into the index...\n"
     ]
    },
    {
     "data": {
      "application/vnd.jupyter.widget-view+json": {
       "model_id": "ae9a9f3729d2473a96fc726c506414cb",
       "version_major": 2,
       "version_minor": 0
      },
      "text/plain": [
       "  0%|          | 0/50 [00:00<?, ?it/s]"
      ]
     },
     "metadata": {},
     "output_type": "display_data"
    },
    {
     "name": "stdout",
     "output_type": "stream",
     "text": [
      "Upserting 0 to 500 records...\n",
      "Upserting 500 to 1000 records...\n",
      "Upserting 1000 to 1500 records...\n",
      "Upserting 1500 to 2000 records...\n",
      "Upserting 2000 to 2500 records...\n",
      "Upserting 2500 to 3000 records...\n",
      "Upserting 3000 to 3500 records...\n",
      "Upserting 3500 to 4000 records...\n",
      "Upserting 4000 to 4500 records...\n",
      "Upserting 4500 to 5000 records...\n",
      "Upserting 5000 to 5500 records...\n",
      "Upserting 5500 to 6000 records...\n",
      "Upserting 6000 to 6500 records...\n",
      "Upserting 6500 to 7000 records...\n",
      "Upserting 7000 to 7500 records...\n",
      "Upserting 7500 to 8000 records...\n",
      "Upserting 8000 to 8500 records...\n",
      "Upserting 8500 to 9000 records...\n",
      "Upserting 9000 to 9500 records...\n",
      "Upserting 9500 to 10000 records...\n",
      "Upserting 10000 to 10500 records...\n",
      "Upserting 10500 to 11000 records...\n",
      "Upserting 11000 to 11500 records...\n",
      "Upserting 11500 to 12000 records...\n",
      "Upserting 12000 to 12500 records...\n",
      "Upserting 12500 to 13000 records...\n",
      "Upserting 13000 to 13500 records...\n",
      "Upserting 13500 to 14000 records...\n",
      "Upserting 14000 to 14500 records...\n",
      "Upserting 14500 to 15000 records...\n",
      "Upserting 15000 to 15500 records...\n",
      "Upserting 15500 to 16000 records...\n",
      "Upserting 16000 to 16500 records...\n",
      "Upserting 16500 to 17000 records...\n",
      "Upserting 17000 to 17500 records...\n",
      "Upserting 17500 to 18000 records...\n",
      "Upserting 18000 to 18500 records...\n",
      "Upserting 18500 to 19000 records...\n",
      "Upserting 19000 to 19500 records...\n",
      "Upserting 19500 to 20000 records...\n",
      "Upserting 20000 to 20500 records...\n",
      "Upserting 20500 to 21000 records...\n",
      "Upserting 21000 to 21500 records...\n",
      "Upserting 21500 to 22000 records...\n",
      "Upserting 22000 to 22500 records...\n",
      "Upserting 22500 to 23000 records...\n",
      "Upserting 23000 to 23500 records...\n",
      "Upserting 23500 to 24000 records...\n",
      "Upserting 24000 to 24500 records...\n",
      "Upserting 24500 to 24904 records...\n"
     ]
    }
   ],
   "source": [
    "print(\"Upserting the embeddings into the index...\")\n",
    "batch_size = 500\n",
    "for i in tqdm(range(0, len(reviews), batch_size)):\n",
    "\n",
    "    # create minibatches from the dataset\n",
    "    i_end = min(i+batch_size, len(reviews))\n",
    "    \n",
    "    # create IDs each batch\n",
    "    ids = [str(x) for x in range(i, i_end)]\n",
    "    \n",
    "    # create metadata batch as text and insert review\n",
    "    metadatas = [{'text': text} for text in reviews[i:i_end]]\n",
    "    batch = reviews[i:i+500]\n",
    "\n",
    "    # create an embedding for the batch\n",
    "    embeddings = model.encode(batch)\n",
    "    records = zip(ids, embeddings, metadatas)\n",
    "        \n",
    "    # upsert each batch to Pinecone\n",
    "    print(f\"Upserting {i} to {i_end} records...\")\n",
    "\n",
    "    pindex.upsert(vectors=records)"
   ]
  },
  {
   "cell_type": "code",
   "execution_count": 15,
   "id": "d560ee84-a54f-4be1-aa14-afcf510c855d",
   "metadata": {},
   "outputs": [
    {
     "name": "stdout",
     "output_type": "stream",
     "text": [
      "{'dimension': 384,\n",
      " 'index_fullness': 0.24904,\n",
      " 'namespaces': {'': {'vector_count': 24904}},\n",
      " 'total_vector_count': 24904}\n"
     ]
    }
   ],
   "source": [
    "# Check the index stats\n",
    "print(pindex.describe_index_stats())"
   ]
  },
  {
   "cell_type": "markdown",
   "id": "1c3ab76d-efd2-47b8-92c6-3464a3f9137a",
   "metadata": {},
   "source": [
    "### Step 5: Query the Pinecone indexed vector database"
   ]
  },
  {
   "cell_type": "code",
   "execution_count": 16,
   "id": "7b849c24-66db-4249-b82a-70cc6841ddac",
   "metadata": {},
   "outputs": [],
   "source": [
    "query = \"\"\"This is a classic espionage thriller. I loved the movie, it was capitivating, \n",
    "            the plot brilliant, based on a true story, the characters were well developed,\n",
    "            and their actions unpredictable. The actors were amazing, and the direction of plot was\n",
    "            very well thought out. Recommended to everyone if you love clock and dagger\n",
    "            twists and turns of cold war dramas and betrayals, and if you relish how John Le Carre spins his plots \n",
    "            in his absorbing novels on cold war espionage tales of spooks and crooks, you shall throughly enjoy this one!\"\"\"\n"
   ]
  },
  {
   "cell_type": "code",
   "execution_count": 17,
   "id": "130b5d77-8f72-4492-af07-96e9506d4f46",
   "metadata": {},
   "outputs": [],
   "source": [
    "# create an embedding for the query\n",
    "query_embedding = model.encode(query).tolist()\n",
    "results = pindex.query(vector=query_embedding, top_k=5,\n",
    "                include_values=False, include_metadata=True)"
   ]
  },
  {
   "cell_type": "code",
   "execution_count": 18,
   "id": "e9987251-c119-4b32-990a-740c90233ca3",
   "metadata": {},
   "outputs": [
    {
     "name": "stdout",
     "output_type": "stream",
     "text": [
      "Top 5 results for the query:\n"
     ]
    }
   ],
   "source": [
    "print(\"Top 5 results for the query:\")"
   ]
  },
  {
   "cell_type": "code",
   "execution_count": 19,
   "id": "2af87e27-1bb6-465f-b6c7-878568d6cb07",
   "metadata": {},
   "outputs": [
    {
     "name": "stdout",
     "output_type": "stream",
     "text": [
      "Score  : 0.66\n",
      "Matches: I have just watched the whole 6 episodes on DVD. The acting throughout is excellent - no question. There was not quite enough action for me I must say. No real suspense as such, just plenty of first class character development. Nothing like Tinker Tailor in terms of \"whodunnit\". If you like a good story slowly and carefully told then this is for you. Peter Egan as the lead Magnus Pym is excellent.<br /><br />The film portrayed the life of a traitor. A man who should have been a loyal member of the British Intelligence Service but who was so damaged psychologically by his unhappy childhood that deception became his way of life in all things. As a child he adored his father but his father was exposed time & time again as a crook and a con man. Pym betrayed not for ideology or money but because he needed to deceive those closest to him (wife, son, mentor). Pym is fatally damaged by his father's influence - it has eaten his moral fibre away. He has no real love or loyalty in him.<br /><br />Heavy psychological stuff and not many light moments in the 6 hour series. Very well done though.\n",
      "--------------------------------------------------\n",
      "Score  : 0.66\n",
      "Matches: This is an excellent but hard to find trippy World War I spy thriller in the inimitable 60's Italian style. From the psychedelic graphics of the introductory credits and the great score by Ennio Morricone to the lesbian love scene with Capucine and the elaborately produced apocalyptic no man's land battle scenes with poison gas and German cavalry in full gas proof 'storm trooper' gear, this is a movie that should not be missed. It is a film that captures the horrors and cruelty of war and the ruthlessness of the players on and off the battlefield. Apart from the battle scenes, some of the production and special effects are primitive, apparently because the bulk of the budget for this movie was saved for the battle scenes, but for lovers of 60's cinema it should not be an issue. I first saw this movie on television many years ago and had the foresight to tape it on VHS. I still have the tape and enjoy watching it again from time to time.\n",
      "--------------------------------------------------\n",
      "Score  : 0.63\n",
      "Matches: Alfred Hitchcock invented any kind of thriller you could think of:he set the standards so high that any director who makes a suspense movie will be fatally compared to him.<br /><br />The main subject of this Bullock vehicle ,all the ideas,almost everything was already in Hitchcock's classic \" Rope\":the two students who commit a gratuitous crime, Nietsche's philosophy,and the clues that the boys disseminate ,the Master was the first to transfer them to the screen.And with an eighty-minute movie which was a technical riveting tour de force.<br /><br />\"Murder by numbers \" does not take place in a single room,like \"the rope\" ,mind you.And ,what a supreme originality,it pits two cops against the evil youngsters;and ,you would never guess it,these two cops are very different:actually,Bullock plays the part of woman living like a man ,and her partner (Chaplin) is as shy as a clueless girlie.The two boys' performances are not really mind-boggling ,not as good ,as ,say ,that of Edward Norton in \"primal fear\" .<br /><br />Well,you know ,\" Rope\" was so good ....\n",
      "--------------------------------------------------\n",
      "Score  : 0.63\n",
      "Matches: This is a very chilling, and for the most part, a well thought out drama. I am very impressed at the film, not just for the plot and superb acting, but that such a unique movie was made. Most movies involving a spy or a war are filled with a slick talking Brit or a mighty battle, but not this. This isn't about this kind of war, its about the war between a man and his position in life, an American spy in Germany, posing as a supporter of an evil no one will ever forget. When the war is over, Campell thinks he will come home as a hero, but his true heroic stance must remain a government secret. Going back to America, Campell meets Nazi supporters as well as Nazi haters, providing for interesting conflicts, both internally and externally. Nolte more than pulls off the role, and fits the plot quite well for what it's asking.\n",
      "--------------------------------------------------\n",
      "Score  : 0.62\n",
      "Matches: This is a taut suspenseful masterpiece from Brian De Palmawith amazing performances all around!. It's extremely suspenseful, and often scary, and the score is fantastic, plus all the characters were awesome. Yes it rips off Psycho a lot, however it's still a brilliantly made horror/thriller, with a fantastic opening and a shocking and unpredictable finale!. This is unquestionably one of the best horror/thrillers i have ever seen, and the elevator scene is one of the most memorable scenes ever, plus Michael Caine is simply amazing in this!. The ending is excellent, and the hospital scene near the end is absolutely terrifying, plus the end twist shocked the hell out of me!. It never failed to creep me out, and the stalk sequences are absolutely brilliant, plus Nancy Allen and Keith Gordon had fantastic chemistry together!. This is a taut suspenseful masterpiece from Brian De Palma, with amazing performances all around!. The Direction is Incredible!. Brian De Palma does an incredible job here, with Amazing camera work, incredible angles, fantastic use of colors, awesome zoom in's and zoom out's great POV shots and keeping the film at a very very fast pace!. There is a bit of blood. We get bloody stabbings, knifing's, bloody gunshot wounds,and 2 bloody slit throats.The Acting is amazing!. Michael Caine is AMAZING here, he is amazing in the acting department, creepy, is very likable, was mysterious, and really just did an amazing job overall i Loved him! (Caine Rules!). Angie Dickinson gives a memorable performance here, and was quite beautiful, and had good chemistry with Caine. Nancy Allen is STUNNINGLY GORGEOUS!, and is fantastic here, she is extremely likable as the hooker, had excellent chemistry with Keith Gordon, and put on a tremendous show!. Keith Gordon is very good as the kid, he had excellent chemistry with Nancy Allen, and was very likable!. Dennis Franz is good as the detective. Overall this is unquestionably one of the best horror films ever made, and i say drop what your doing immediately and go see it!. ***** out of 5\n",
      "--------------------------------------------------\n"
     ]
    }
   ],
   "source": [
    "extract_and_print_matches(results)"
   ]
  },
  {
   "cell_type": "markdown",
   "id": "73382074-c571-4966-827a-0e4c32d3812d",
   "metadata": {},
   "source": [
    "### Step 6 (optional): Remove the index\n",
    "Since only a single index is allowed, we might as well remove it at the end,\n",
    "and recreate a new one next time if needed or use a different dataset to index"
   ]
  },
  {
   "cell_type": "code",
   "execution_count": 20,
   "id": "6c1e0818-b78d-43c4-a1f2-5fb4b27a123a",
   "metadata": {},
   "outputs": [
    {
     "name": "stdout",
     "output_type": "stream",
     "text": [
      "Deleting the index starter-index...\n",
      "Done!\n"
     ]
    }
   ],
   "source": [
    "# Delete the index\n",
    "print(f\"Deleting the index {index_name}...\")\n",
    "pc.delete_index(index_name)\n",
    "print(\"Done!\")"
   ]
  }
 ],
 "metadata": {
  "kernelspec": {
   "display_name": "Python 3 (ipykernel)",
   "language": "python",
   "name": "python3"
  },
  "language_info": {
   "codemirror_mode": {
    "name": "ipython",
    "version": 3
   },
   "file_extension": ".py",
   "mimetype": "text/x-python",
   "name": "python",
   "nbconvert_exporter": "python",
   "pygments_lexer": "ipython3",
   "version": "3.10.13"
  }
 },
 "nbformat": 4,
 "nbformat_minor": 5
}
