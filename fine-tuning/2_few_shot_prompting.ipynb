{
 "cells": [
  {
   "cell_type": "markdown",
   "id": "9bc77cf2-1739-4661-8ef1-858850e48166",
   "metadata": {},
   "source": [
    "## Few-shots learning prompting"
   ]
  },
  {
   "cell_type": "code",
   "execution_count": 1,
   "id": "a9d9a2f4-4e02-47fa-8ddb-62437c52acc4",
   "metadata": {},
   "outputs": [],
   "source": [
    "import warnings\n",
    "import os\n",
    "\n",
    "import openai\n",
    "from openai import OpenAI\n",
    "\n",
    "from dotenv import load_dotenv, find_dotenv"
   ]
  },
  {
   "cell_type": "markdown",
   "id": "272b71f4-54d8-486a-92c1-9284c278ec7e",
   "metadata": {},
   "source": [
    "Load the environment"
   ]
  },
  {
   "cell_type": "code",
   "execution_count": 2,
   "id": "345a9d77-c25d-4ee8-8b4b-eaf76c54ddb3",
   "metadata": {},
   "outputs": [
    {
     "name": "stdout",
     "output_type": "stream",
     "text": [
      "Using MODEL=gpt-4-1106-preview; base=https://api.openai.com/v1\n"
     ]
    }
   ],
   "source": [
    "_ = load_dotenv(find_dotenv()) # read local .env file\n",
    "warnings.filterwarnings('ignore')\n",
    "openai.api_base = os.getenv(\"ANYSCALE_API_BASE\", os.getenv(\"OPENAI_API_BASE\"))\n",
    "openai.api_key = os.getenv(\"ANYSCALE_API_KEY\", os.getenv(\"OPENAI_API_KEY\"))\n",
    "MODEL = os.getenv(\"MODEL\")\n",
    "print(f\"Using MODEL={MODEL}; base={openai.api_base}\")"
   ]
  },
  {
   "cell_type": "code",
   "execution_count": 3,
   "id": "fba822ab-7a73-4968-a73d-fd629324f557",
   "metadata": {},
   "outputs": [],
   "source": [
    "# create the OpenAI client, which can be used transparently with Anyscale Endpoints too\n",
    "\n",
    "from openai import OpenAI\n",
    "\n",
    "client = OpenAI(\n",
    "    api_key = openai.api_key,\n",
    "    base_url = openai.api_base\n",
    ")"
   ]
  },
  {
   "cell_type": "code",
   "execution_count": 4,
   "id": "84a86c21-a74a-4415-83f1-8942b710cace",
   "metadata": {},
   "outputs": [],
   "source": [
    "# Utility function to send and fetch response\n",
    "\n",
    "def get_commpletion(clnt: object, model: str, system_content: str, user_content:str) -> str:\n",
    "    chat_completion = clnt.chat.completions.create(\n",
    "        model=model,\n",
    "    messages=[{\"role\": \"system\", \"content\": system_content},\n",
    "              {\"role\": \"user\", \"content\": user_content}],\n",
    "    temperature = 0.8)\n",
    "\n",
    "    response = chat_completion.choices[0].message.content\n",
    "    return response"
   ]
  },
  {
   "cell_type": "markdown",
   "id": "4ceb6d45-214c-4fb2-986f-9e1dee398608",
   "metadata": {},
   "source": [
    "## Recipe Generation\n",
    "An example use case for few-shot learning is to provide couple of examples of recipies that the model can learn from and generalize. Using \n",
    "what it has learned as couple of in-context examples, it can generate a response for its subsequent prompt."
   ]
  },
  {
   "cell_type": "code",
   "execution_count": 7,
   "id": "3bf4740f-c9b6-4f55-b1bd-e1dba3828b17",
   "metadata": {},
   "outputs": [],
   "source": [
    "system_content = \"\"\"You are supreme repository of knowledge, including all \n",
    "exotic culnary dishes across the globe.\"\"\"\n",
    "\n",
    "few_shot_recipe_prompt = \"\"\"Recipe for simple cheese omlette. \n",
    "Ingridients: \n",
    "1. 3 large eggs\n",
    "2. 1/4 cup shredded cheddar cheese\n",
    "3. Salt and pepper to taste\n",
    "4. 1 tablespoon butter\n",
    "Directions:\n",
    "1. Crack the eggs into a bowl, add salt, and pepper, then beat them until well mixed.\n",
    "2. Heat the butter in a non-stick pan over medium heat until it melts and coats the pan.\n",
    "3. Pour the beaten eggs into the pan, swirling them to cover the bottom evenly.\n",
    "4. Sprinkle the shredded cheese over one half of the eggs.\n",
    "5. Once the edges are set, fold the omelet in half with a spatula, covering the cheese. Cook for another minute until the cheese melts. Enjoy your delicious cheese omelet!\n",
    "\n",
    "Generate a recipe for choclate pancakes:\n",
    "Ingridients:\n",
    "Directions:\n",
    "\"\"\""
   ]
  },
  {
   "cell_type": "code",
   "execution_count": 8,
   "id": "e8b06b76-e125-4d67-a997-ee48636d00d8",
   "metadata": {},
   "outputs": [
    {
     "name": "stdout",
     "output_type": "stream",
     "text": [
      "Recipe for Chocolate Pancakes\n",
      "\n",
      "Ingredients:\n",
      "1. 1 cup all-purpose flour\n",
      "2. 2 tablespoons cocoa powder (unsweetened)\n",
      "3. 2 tablespoons sugar\n",
      "4. 1 tablespoon baking powder\n",
      "5. 1/2 teaspoon salt\n",
      "6. 1 large egg\n",
      "7. 1 cup milk\n",
      "8. 2 tablespoons unsalted butter (melted)\n",
      "9. 1 teaspoon vanilla extract\n",
      "10. 1/2 cup chocolate chips (plus extra for garnish)\n",
      "11. Butter or oil for cooking\n",
      "12. Maple syrup or chocolate syrup for serving (optional)\n",
      "13. Whipped cream for serving (optional)\n",
      "14. Fresh berries for serving (optional)\n",
      "\n",
      "Directions:\n",
      "1. In a large mixing bowl, sift together the flour, cocoa powder, sugar, baking powder, and salt. Stir to combine the ingredients evenly.\n",
      "\n",
      "2. In a separate bowl, beat the egg and then mix in the milk, melted butter, and vanilla extract until well combined.\n",
      "\n",
      "3. Pour the wet ingredients into the dry ingredients and stir until just combined. Be careful not to overmix; a few lumps are okay. Gently fold in the chocolate chips.\n",
      "\n",
      "4. Heat a non-stick pan or griddle over medium heat and lightly coat with butter or oil to prevent the pancakes from sticking.\n",
      "\n",
      "5. For each pancake, pour approximately 1/4 cup of batter onto the hot pan. Cook until bubbles form on the surface of the pancake and the edges look set, about 2-3 minutes.\n",
      "\n",
      "6. Flip the pancake carefully with a spatula and cook for an additional 1-2 minutes on the other side, or until the pancake is cooked through and has a slight spring to the touch.\n",
      "\n",
      "7. Repeat with the remaining batter, adding more butter or oil to the pan as needed.\n",
      "\n",
      "8. Serve the chocolate pancakes hot, with extra chocolate chips, maple syrup or chocolate syrup, whipped cream, and fresh berries if desired.\n",
      "\n",
      "Enjoy your indulgent chocolate pancakes, perfect for a sweet start to the day or as a delightful dessert breakfast!\n",
      "\n"
     ]
    }
   ],
   "source": [
    "response = get_commpletion(client, MODEL, system_content, few_shot_recipe_prompt)\n",
    "print(f\"{response}\\n\")"
   ]
  },
  {
   "cell_type": "markdown",
   "id": "ff2dfdef-27a1-42ad-bdcd-d9464f7f4f7a",
   "metadata": {},
   "source": [
    "### Code Generation and Scripting\n",
    "\n",
    "Using few-shot learning, we can provide in-context examples of how to write a script that the model can generalize and generate any script \n",
    "in the language its trained on.\n"
   ]
  },
  {
   "cell_type": "code",
   "execution_count": 21,
   "id": "9b7a8e4a-6918-4ff1-89e1-bbb3e3b5c20b",
   "metadata": {},
   "outputs": [],
   "source": [
    "system_content = \"\"\"You are supreme repository of knowledge, and assistant\n",
    "code Co-pilot for developer to assist them in generating sample code, inclding\n",
    "in langauges such as Python, JavaScript, Java, C, C++, and shell script.\n",
    "\"\"\"\n",
    "\n",
    "few_shot_code_gen_prompt = \"\"\"\n",
    "Python code to compute Fibonacci series:\n",
    "\n",
    "Problem: Compute Fibonnacci series\n",
    "Language: Python\n",
    "Code: \n",
    "def fibonacci(n):\n",
    "    fib_series = [0, 1]\n",
    "    while fib_series[-1] + fib_series[-2] <= n:\n",
    "        fib_series.append(fib_series[-1] + fib_series[-2])\n",
    "    return fib_series\n",
    "\n",
    "# Example: Compute Fibonacci series up to 50\n",
    "result = fibonacci(50)\n",
    "print(result)\n",
    "\n",
    "Write a JavaScript to read HTML contents from a Web URL. Follow\n",
    "the format and labels provide below:\n",
    "Problem: \n",
    "Language:\n",
    "Code:\n",
    "\"\"\""
   ]
  },
  {
   "cell_type": "code",
   "execution_count": 20,
   "id": "952b1058-6b6f-4ee2-b5b7-94cb8ee70a23",
   "metadata": {},
   "outputs": [
    {
     "name": "stdout",
     "output_type": "stream",
     "text": [
      "Problem: Read HTML contents from a Web URL\n",
      "Language: JavaScript\n",
      "Code:\n",
      "```javascript\n",
      "const https = require('https');\n",
      "\n",
      "function fetchHTMLContent(url) {\n",
      "  https.get(url, (res) => {\n",
      "    let data = '';\n",
      "\n",
      "    // A chunk of data has been received.\n",
      "    res.on('data', (chunk) => {\n",
      "      data += chunk;\n",
      "    });\n",
      "\n",
      "    // The whole response has been received. Print out the result.\n",
      "    res.on('end', () => {\n",
      "      console.log(data);\n",
      "    });\n",
      "\n",
      "  }).on(\"error\", (err) => {\n",
      "    console.log(\"Error: \" + err.message);\n",
      "  });\n",
      "}\n",
      "\n",
      "// Example usage: Fetch HTML content from a specified URL\n",
      "const url = 'https://www.example.com';\n",
      "fetchHTMLContent(url);\n",
      "```\n",
      "\n",
      "Note: The above code snippet uses Node.js's built-in `https` module for making HTTP GET requests. If the content is served over HTTP, you should use the `http` module instead. Additionally, this code does not handle HTTPS certifications or redirections, which might be necessary for some websites. For a more robust solution, you might consider using a Node.js library like `axios` or `node-fetch`.\n",
      "\n"
     ]
    }
   ],
   "source": [
    "response = get_commpletion(client, MODEL, system_content, few_shot_code_gen_prompt)\n",
    "print(f\"{response}\\n\")"
   ]
  }
 ],
 "metadata": {
  "kernelspec": {
   "display_name": "Python 3 (ipykernel)",
   "language": "python",
   "name": "python3"
  },
  "language_info": {
   "codemirror_mode": {
    "name": "ipython",
    "version": 3
   },
   "file_extension": ".py",
   "mimetype": "text/x-python",
   "name": "python",
   "nbconvert_exporter": "python",
   "pygments_lexer": "ipython3",
   "version": "3.10.12"
  }
 },
 "nbformat": 4,
 "nbformat_minor": 5
}
