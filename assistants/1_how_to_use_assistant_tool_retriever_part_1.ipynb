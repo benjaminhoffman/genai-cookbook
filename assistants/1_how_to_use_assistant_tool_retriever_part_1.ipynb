{
 "cells": [
  {
   "cell_type": "markdown",
   "id": "4387cbaa-ca3a-4db7-a004-520ee4a9ae4a",
   "metadata": {},
   "source": [
    "# OpenAI Assistants APIs\n",
    "\n",
    "The Assistants' API lets you create AI assistants in your applications. These assistants follow instruction. They use models, tools, and knowledge to answer user questions. In this notebook we are going to use one of the tools, retriever, to query against two pdf documents we will upload.\n",
    "\n",
    "The architecture and data flow diagram below depicts the interaction among all components that comprise OpenAI Assistant APIs. Central to understand is the Threads and Runtime that executes asynchronously, adding and reading messages to the Threads.\n",
    "\n",
    "For integrating the Assistants API:\n",
    "\n",
    "1. Creat an Assistant with custom instructions and select a model. Optionally, enable tools like Code Interpreter, Retrieval, and Function Calling.\n",
    "\n",
    "2. Initiate a Thread for each user conversation.\n",
    "    \n",
    "3. Add user queries as Messages to the Thread.\n",
    "\n",
    "4.  Run the Assistant on the Thread for responses, which automatically utilizes the enabled tools\n",
    "\n",
    "Below we follow those steps to demonstrate how to integrate Assistants API, using Retrieval tool, to a) upload a couple of pdf documents and b) use Assistant to query the contents of the document. Consider this as a mini Retrieval Augmented Generation (RAG). \n",
    "\n",
    "The OpenAI documentation describes in details [how Assistants work](https://platform.openai.com/docs/assistants/how-it-works).\n",
    "\n",
    "<img src=\"./images/assistant_ai_tools_retriever.png\">\n"
   ]
  },
  {
   "cell_type": "markdown",
   "id": "5d3d1584-ccd1-4117-be4d-125138689028",
   "metadata": {},
   "source": [
    "## How to use Assistant API using Tools: Retriever"
   ]
  },
  {
   "cell_type": "code",
   "execution_count": 1,
   "id": "eec3d89f-6872-448a-b22f-6fc368c7487a",
   "metadata": {},
   "outputs": [],
   "source": [
    "import warnings\n",
    "import os\n",
    "import time\n",
    "\n",
    "import openai\n",
    "from openai import OpenAI\n",
    "\n",
    "from dotenv import load_dotenv, find_dotenv\n",
    "from typing import List\n",
    "from assistant_utils import print_thread_messages, upload_files, \\\n",
    "                            loop_until_completed, create_assistant_run"
   ]
  },
  {
   "cell_type": "markdown",
   "id": "96c565ae-63dd-4cb7-ae27-4d7e22adb3d7",
   "metadata": {},
   "source": [
    "Load our .env file with respective API keys and base url endpoints. Here you can either use OpenAI or Anyscale Endpoints. **Note**: Assistant API calling for Anyscale Endpoints (which serves only OS modles) is not yet aviable)."
   ]
  },
  {
   "cell_type": "code",
   "execution_count": 2,
   "id": "83d72b72-dbcb-4249-a514-1cda3124de3b",
   "metadata": {},
   "outputs": [
    {
     "name": "stdout",
     "output_type": "stream",
     "text": [
      "Using MODEL=gpt-4-1106-preview; base=https://api.openai.com/v1\n"
     ]
    }
   ],
   "source": [
    "warnings.filterwarnings('ignore')\n",
    "\n",
    "_ = load_dotenv(find_dotenv()) # read local .env file\n",
    "\n",
    "openai.api_base = os.getenv(\"ANYSCALE_API_BASE\", os.getenv(\"OPENAI_API_BASE\"))\n",
    "openai.api_key = os.getenv(\"ANYSCALE_API_KEY\", os.getenv(\"OPENAI_API_KEY\"))\n",
    "MODEL = os.getenv(\"MODEL\")\n",
    "print(f\"Using MODEL={MODEL}; base={openai.api_base}\")"
   ]
  },
  {
   "cell_type": "code",
   "execution_count": 3,
   "id": "cd0bf75e-bee1-4d5e-811a-c24fb3627be3",
   "metadata": {},
   "outputs": [],
   "source": [
    "DOCS_TO_LOAD = [\"docs/HAI_AI-Index-Report_2023.pdf\"]"
   ]
  },
  {
   "cell_type": "code",
   "execution_count": 4,
   "id": "df40e6a8-7cc5-44d1-853b-fcdf85c94608",
   "metadata": {},
   "outputs": [],
   "source": [
    "from openai import OpenAI\n",
    "\n",
    "client = OpenAI(\n",
    "    api_key = openai.api_key,\n",
    "    base_url = openai.api_base\n",
    ")"
   ]
  },
  {
   "cell_type": "markdown",
   "id": "210cac69-0cb2-497b-bfb0-d4d7daa292b0",
   "metadata": {},
   "source": [
    "### Step 1: Create our knowledgebase\n",
    "This entails uploading your pdfs as your knowledgebase for the retrievers to use. Once you upload a file, the Assistant from OpenAI will break it into smaller chuncks, sort and save these chuncks, index and store the embeddings as vectors. \n",
    "\n",
    "The retrievers use your query to retrieve the best semantic matches on vectors in the knowledgebase, and then feed the LLM, along with the original query, to generate the consolidated and comprehesive answer, similarly to how a large-scale RAG retriever operates."
   ]
  },
  {
   "cell_type": "raw",
   "id": "1aafeb0d-f92c-4b40-9ef4-393bbeb371ae",
   "metadata": {},
   "source": [
    "Upload the data files from your storage."
   ]
  },
  {
   "cell_type": "code",
   "execution_count": 5,
   "id": "9722a539-2087-4b4f-933d-5c4ce04e7186",
   "metadata": {},
   "outputs": [
    {
     "data": {
      "text/plain": [
       "[FileObject(id='file-ibaAJOuZhpjf2Yw6e0RS8119', bytes=25318310, created_at=1704921232, filename='HAI_AI-Index-Report_2023.pdf', object='file', purpose='assistants', status='processed', status_details=None)]"
      ]
     },
     "execution_count": 5,
     "metadata": {},
     "output_type": "execute_result"
    }
   ],
   "source": [
    "file_objects = upload_files(client, DOCS_TO_LOAD)\n",
    "file_objects"
   ]
  },
  {
   "cell_type": "code",
   "execution_count": 6,
   "id": "1e8cf20b-0dd5-4516-8ba6-a5f528b3b6cf",
   "metadata": {},
   "outputs": [
    {
     "data": {
      "text/plain": [
       "['file-ibaAJOuZhpjf2Yw6e0RS8119']"
      ]
     },
     "execution_count": 6,
     "metadata": {},
     "output_type": "execute_result"
    }
   ],
   "source": [
    "# Extract file ids \n",
    "file_obj_ids = []\n",
    "for f_obj in file_objects:\n",
    "    file_obj_ids.append(file_objects[0].id)\n",
    "file_obj_ids"
   ]
  },
  {
   "cell_type": "markdown",
   "id": "7e015d11-f87b-4534-b27e-379a06b7b7a7",
   "metadata": {},
   "source": [
    "### Step 2: Create an Assistant \n",
    "Before you can start interacting with the Assistant to carry out any tasks, you need an AI assistant object. Supply the Assistant with a model to use, tools, and file ids to use for its knowledge base."
   ]
  },
  {
   "cell_type": "code",
   "execution_count": 7,
   "id": "4ef7325f-5e71-4778-952a-27e3f525b870",
   "metadata": {},
   "outputs": [
    {
     "data": {
      "text/plain": [
       "Assistant(id='asst_waMgBV2L5xMldUkU5pO5m2Ur', created_at=1704921233, description=None, file_ids=['file-ibaAJOuZhpjf2Yw6e0RS8119'], instructions=\"You are a knowledgeable chatbot trained to respond \\n                                               inquires on documents HAI Artificial Index 2023 report \\n                                               and Survey of why LLMs hallucinate. \\n                                               Use a neutral, professional advisory tone, and only respond by consulting the \\n                                               knowledge base or files you are granted access to. \\n                                               Do not make up answers. If you don't know answer, respond with 'Sorry, I'm afraid\\n                                               I don't have access to that information.'\", metadata={}, model='gpt-4-1106-preview', name='AI Report and LLM survey Chatbot', object='assistant', tools=[ToolRetrieval(type='retrieval')])"
      ]
     },
     "execution_count": 7,
     "metadata": {},
     "output_type": "execute_result"
    }
   ],
   "source": [
    "assistant = client.beta.assistants.create(name=\"AI Report and LLM survey Chatbot\",\n",
    "                                           instructions=\"\"\"You are a knowledgeable chatbot trained to respond \n",
    "                                               inquires on documents HAI Artificial Index 2023 report \n",
    "                                               and Survey of why LLMs hallucinate. \n",
    "                                               Use a neutral, professional advisory tone, and only respond by consulting the \n",
    "                                               knowledge base or files you are granted access to. \n",
    "                                               Do not make up answers. If you don't know answer, respond with 'Sorry, I'm afraid\n",
    "                                               I don't have access to that information.'\"\"\",\n",
    "                                           model=MODEL,\n",
    "                                           tools = [{'type': 'retrieval'}],  # use the retrieval tool\n",
    "                                           file_ids=file_obj_ids # use these files uploaded as part of your knowledge base\n",
    ")                                        \n",
    "assistant"
   ]
  },
  {
   "cell_type": "markdown",
   "id": "5b353b4f-5c8a-46ad-961b-5004248a3874",
   "metadata": {},
   "source": [
    "### Step 3: Create a thread \n",
    "As the diagram above shows, the Thread is the object with which the AI Assistant runs will interact with, by fetching messages and putting messages to it. Think of a thread as a \"conversation session between an Assistant and a user. Threads store Messages and automatically handle truncation to fit content into a model’s context window.\""
   ]
  },
  {
   "cell_type": "code",
   "execution_count": 8,
   "id": "d8bffc3d-2e64-4b86-9c47-6bb7a886cc52",
   "metadata": {},
   "outputs": [
    {
     "data": {
      "text/plain": [
       "Thread(id='thread_UF5gGietzOetVibpF7GU2ku7', created_at=1704921243, metadata={}, object='thread')"
      ]
     },
     "execution_count": 8,
     "metadata": {},
     "output_type": "execute_result"
    }
   ],
   "source": [
    "thread = client.beta.threads.create()\n",
    "thread"
   ]
  },
  {
   "cell_type": "markdown",
   "id": "f36f3f97-5e53-4b6d-90e3-9da794d6d505",
   "metadata": {},
   "source": [
    "### Step 4: Add your message query to the thread for the Assistant"
   ]
  },
  {
   "cell_type": "code",
   "execution_count": 9,
   "id": "d23a252b-32a6-4558-8a0d-2605c796f54c",
   "metadata": {},
   "outputs": [
    {
     "data": {
      "text/plain": [
       "{'id': 'msg_PSFQObvoEWY9C7OAREYWVHca',\n",
       " 'assistant_id': None,\n",
       " 'content': [{'text': {'annotations': [],\n",
       "    'value': 'What are the top 10 takeaways in the Artificial Intelligence Index Report 2023.\\n    Summarize each takeway in no more three simple sentences.'},\n",
       "   'type': 'text'}],\n",
       " 'created_at': 1704921244,\n",
       " 'file_ids': [],\n",
       " 'metadata': {},\n",
       " 'object': 'thread.message',\n",
       " 'role': 'user',\n",
       " 'run_id': None,\n",
       " 'thread_id': 'thread_UF5gGietzOetVibpF7GU2ku7'}"
      ]
     },
     "execution_count": 9,
     "metadata": {},
     "output_type": "execute_result"
    }
   ],
   "source": [
    "message = client.beta.threads.messages.create(\n",
    "    thread_id=thread.id, \n",
    "    role=\"user\",\n",
    "    content=\"\"\"What are the top 10 takeaways in the Artificial Intelligence Index Report 2023.\n",
    "    Summarize each takeway in no more three simple sentences.\"\"\",\n",
    ")\n",
    "message.model_dump()"
   ]
  },
  {
   "cell_type": "markdown",
   "id": "25b81328-9f58-4f6d-ae72-56c2a5d39fbc",
   "metadata": {},
   "source": [
    "### Step 5: Create a Run for the Assistant\n",
    "A Run is an invocation of an Assistant on a Thread. The Assistant uses its configuration and the Thread’s Messages to perform tasks by calling models and tools. As part of a Run, the Assistant appends Messages to the Thread.\n",
    "\n",
    "Note that Assistance will run asychronously: the run has the following\n",
    "lifecycle and states: [*expired, completed, failed, cancelled*]. Run objects can have multiple statuses.\n",
    "\n",
    "<img src=\"https://cdn.openai.com/API/docs/images/diagram-1.png\">"
   ]
  },
  {
   "cell_type": "code",
   "execution_count": 10,
   "id": "9a8b6e1c-61d3-4517-b99f-719f95f1d35a",
   "metadata": {},
   "outputs": [
    {
     "name": "stdout",
     "output_type": "stream",
     "text": [
      "{\n",
      "    \"id\": \"run_B7AsSLvwUmhlTsgumunDmvqo\",\n",
      "    \"assistant_id\": \"asst_waMgBV2L5xMldUkU5pO5m2Ur\",\n",
      "    \"cancelled_at\": null,\n",
      "    \"completed_at\": null,\n",
      "    \"created_at\": 1704921244,\n",
      "    \"expires_at\": 1704921844,\n",
      "    \"failed_at\": null,\n",
      "    \"file_ids\": [\n",
      "        \"file-ibaAJOuZhpjf2Yw6e0RS8119\"\n",
      "    ],\n",
      "    \"instructions\": \"Please address the user as Jules Dmatrix.  \\n    Do not provide an answer to the question if the information was not retrieved from the knowledge base.\\n\",\n",
      "    \"last_error\": null,\n",
      "    \"metadata\": {},\n",
      "    \"model\": \"gpt-4-1106-preview\",\n",
      "    \"object\": \"thread.run\",\n",
      "    \"required_action\": null,\n",
      "    \"started_at\": null,\n",
      "    \"status\": \"queued\",\n",
      "    \"thread_id\": \"thread_UF5gGietzOetVibpF7GU2ku7\",\n",
      "    \"tools\": [\n",
      "        {\n",
      "            \"type\": \"retrieval\"\n",
      "        }\n",
      "    ]\n",
      "}\n"
     ]
    }
   ],
   "source": [
    "instruction_msg = \"\"\"Please address the user as Jules Dmatrix.  \n",
    "    Do not provide an answer to the question if the information was not retrieved from the knowledge base.\n",
    "\"\"\"\n",
    "run = create_assistant_run(client, assistant, thread, instruction_msg)\n",
    "print(run.model_dump_json(indent=4))"
   ]
  },
  {
   "cell_type": "markdown",
   "id": "837be4e0-0198-4222-8e9c-3a483fc2f271",
   "metadata": {},
   "source": [
    "### Step 6: Loop through the Assistant run until status is 'completed'"
   ]
  },
  {
   "cell_type": "code",
   "execution_count": 11,
   "id": "2a9b8e0f-441a-43bf-8b6d-4e748d31b3e9",
   "metadata": {},
   "outputs": [
    {
     "name": "stdout",
     "output_type": "stream",
     "text": [
      "{\n",
      "    \"id\": \"run_B7AsSLvwUmhlTsgumunDmvqo\",\n",
      "    \"assistant_id\": \"asst_waMgBV2L5xMldUkU5pO5m2Ur\",\n",
      "    \"cancelled_at\": null,\n",
      "    \"completed_at\": null,\n",
      "    \"created_at\": 1704921244,\n",
      "    \"expires_at\": 1704921844,\n",
      "    \"failed_at\": null,\n",
      "    \"file_ids\": [\n",
      "        \"file-ibaAJOuZhpjf2Yw6e0RS8119\"\n",
      "    ],\n",
      "    \"instructions\": \"Please address the user as Jules Dmatrix.  \\n    Do not provide an answer to the question if the information was not retrieved from the knowledge base.\\n\",\n",
      "    \"last_error\": null,\n",
      "    \"metadata\": {},\n",
      "    \"model\": \"gpt-4-1106-preview\",\n",
      "    \"object\": \"thread.run\",\n",
      "    \"required_action\": null,\n",
      "    \"started_at\": null,\n",
      "    \"status\": \"queued\",\n",
      "    \"thread_id\": \"thread_UF5gGietzOetVibpF7GU2ku7\",\n",
      "    \"tools\": [\n",
      "        {\n",
      "            \"type\": \"retrieval\"\n",
      "        }\n",
      "    ]\n",
      "}\n"
     ]
    }
   ],
   "source": [
    "run_status = client.beta.threads.runs.retrieve(\n",
    "    thread_id = thread.id,\n",
    "    run_id = run.id\n",
    ")\n",
    "print(run_status.model_dump_json(indent=4))"
   ]
  },
  {
   "cell_type": "markdown",
   "id": "8cd96266-a971-4df3-93a4-5c4c3d23068b",
   "metadata": {},
   "source": [
    "#### Poll until Assistant run is completed"
   ]
  },
  {
   "cell_type": "code",
   "execution_count": 12,
   "id": "4ccda85c-6398-4ce4-a6e3-4919bf105b5c",
   "metadata": {},
   "outputs": [
    {
     "name": "stdout",
     "output_type": "stream",
     "text": [
      "in_progress\n",
      "in_progress\n",
      "in_progress\n",
      "completed\n"
     ]
    }
   ],
   "source": [
    "loop_until_completed(client, thread, run_status)"
   ]
  },
  {
   "cell_type": "markdown",
   "id": "00fe2be8-8a69-46c5-a23a-d4fc31782ddc",
   "metadata": {},
   "source": [
    "### Step 7: Retrieve the message returned by the assistance\n",
    "Only when the run is **completed** can you fetch the messages from the Thread"
   ]
  },
  {
   "cell_type": "code",
   "execution_count": 20,
   "id": "ebe25bb4-c7c1-4f3e-b6a1-c8394e299a25",
   "metadata": {},
   "outputs": [
    {
     "name": "stdout",
     "output_type": "stream",
     "text": [
      "('assistant:Chapter 8 of the Artificial Intelligence Index Report 2023 focuses '\n",
      " 'on the various opinions held by the public regarding AI. The chapter '\n",
      " 'highlights that monitoring public attitudes is crucial as AI technology '\n",
      " \"could significantly influence society's future. Surveys from multiple \"\n",
      " 'sources reveal differing global, national, and demographic perspectives on '\n",
      " 'AI, lack of longitudinal data for AI-related questions, and varying '\n",
      " 'sentiments among AI researchers. Social media discussions on AI are also '\n",
      " 'examined in a bid to understand the broader public conversation about AI. It '\n",
      " 'is noted that as AI continues to permeate daily life, comprehensive efforts '\n",
      " 'to gauge public opinion on it will become even more significant.')\n",
      "('user:Provide a short overview of Chatper 8 on public opinion in no more '\n",
      " 'than\\n'\n",
      " '    five sentences\\n'\n",
      " '    ')\n",
      "('assistant:Here are the top ten takeaways from the Artificial Intelligence '\n",
      " 'Index Report 2023, summarized:\\n'\n",
      " '\\n'\n",
      " '1. **Industry Dominates in AI Development:** Since 2014, industry has '\n",
      " 'surpassed academia in producing significant machine learning models. In '\n",
      " \"2022, industry produced 32 major models compared to academia's three, due to \"\n",
      " 'higher availability of data, computing power, and financial resources within '\n",
      " 'industry sectors.\\n'\n",
      " '\\n'\n",
      " '2. **Benchmarks Approaching Saturation:** AI models continue to achieve '\n",
      " 'state-of-the-art results, but the improvement on many benchmarks is marginal '\n",
      " 'and saturation is being reached faster. New, more comprehensive benchmarks '\n",
      " 'like BIG-bench and HELM are emerging in response.\\n'\n",
      " '\\n'\n",
      " \"3. **AI's Environmental Dual Impact:** AI's environmental impact is \"\n",
      " 'significant; for example, training for the BLOOM model emitted carbon '\n",
      " 'equivalent to 25 New York to San Francisco flights. However, AI can also be '\n",
      " 'used to optimize energy usage, as seen with models like BCOOLER.\\n'\n",
      " '\\n'\n",
      " '4. **AI as an Emerging Scientist:** AI models have accelerated scientific '\n",
      " 'advancements, aiding fields like hydrogen fusion, matrix manipulation, and '\n",
      " 'antibody generation at an increasing pace in 2022.\\n'\n",
      " '\\n'\n",
      " '5. **Rise in AI Misuse Incidents:** Ethical misuse of AI is becoming more '\n",
      " 'noticeable, with a 26-fold increase in documented incidents since 2012. '\n",
      " 'High-profile examples include a deepfake video of Ukrainian President '\n",
      " 'Zelenskyy and unethical use of monitoring technology in U.S. prisons.\\n'\n",
      " '\\n'\n",
      " '6. **Growing Demand for AI Skills:** Every industrial sector in the United '\n",
      " 'States, except agriculture, fishing, and hunting, has seen an increase in '\n",
      " 'AI-related job postings, with an average rise from 1.7% in 2021 to 1.9% in '\n",
      " '2022.\\n'\n",
      " '\\n'\n",
      " '7. **Decline in Private AI Investment:** For the first time in the past '\n",
      " 'decade, private investment in AI dropped 26.7% to $91.9 billion in 2022. '\n",
      " 'Despite this, investment has seen an 18-fold increase since 2013.\\n'\n",
      " '\\n'\n",
      " '8. **AI Adoption Plateaus but Benefits Continue:** The proportion of '\n",
      " 'companies integrating AI has more than doubled since 2017, reaching a '\n",
      " 'plateau between 50%-60%. However, those companies that have adopted AI '\n",
      " 'report significant cost reductions and revenue growth.\\n'\n",
      " '\\n'\n",
      " '9. **Increased Policymaker Focus on AI:** Legislative interest in AI is '\n",
      " 'growing, with a jump from 1 AI-related law in 2016 to 37 in 2022, and a '\n",
      " '6.5-fold increase in AI mentions in global legislative proceedings.\\n'\n",
      " '\\n'\n",
      " '10. **Varied Public Sentiment on AI:** Chinese citizens hold the most '\n",
      " 'positive view towards AI products and services, with 78% seeing more '\n",
      " 'benefits than drawbacks. Conversely, only 35% of Americans feel the same, '\n",
      " 'one of the lowest rates among surveyed countries.')\n",
      "('user:What are the top 10 takeaways in the Artificial Intelligence Index '\n",
      " 'Report 2023.\\n'\n",
      " '    Summarize each takeway in no more three simple sentences.')\n"
     ]
    }
   ],
   "source": [
    "print_thread_messages(client, thread)"
   ]
  },
  {
   "cell_type": "markdown",
   "id": "6e182685-8b4f-4e2f-bb5a-0ab88b1409c8",
   "metadata": {},
   "source": [
    "### Repeat the process for any additional messages\n",
    "To add more query messages to the thread for the Assistant,\n",
    "repeat steps 5 - 7"
   ]
  },
  {
   "cell_type": "markdown",
   "id": "09b83c70-3374-4495-8463-f2a16b46e742",
   "metadata": {},
   "source": [
    "### Add another message to for the Assistant"
   ]
  },
  {
   "cell_type": "code",
   "execution_count": 14,
   "id": "40a08436-19cb-4830-b704-157c8c4600f5",
   "metadata": {},
   "outputs": [
    {
     "data": {
      "text/plain": [
       "ThreadMessage(id='msg_vv58iPrQJDspKdxn1kwo8B0t', assistant_id=None, content=[MessageContentText(text=Text(annotations=[], value='Provide a short overview of Chatper 8 on public opinion in no more than\\n    five sentences\\n    '), type='text')], created_at=1704921285, file_ids=[], metadata={}, object='thread.message', role='user', run_id=None, thread_id='thread_UF5gGietzOetVibpF7GU2ku7')"
      ]
     },
     "execution_count": 14,
     "metadata": {},
     "output_type": "execute_result"
    }
   ],
   "source": [
    "message = client.beta.threads.messages.create(\n",
    "    thread_id=thread.id, \n",
    "    role=\"user\",\n",
    "    content=\"\"\"Provide a short overview of Chatper 8 on public opinion in no more than\n",
    "    five sentences\n",
    "    \"\"\",\n",
    ")\n",
    "message"
   ]
  },
  {
   "cell_type": "markdown",
   "id": "718c3a5e-6f1f-4534-9418-5be00192dd6d",
   "metadata": {},
   "source": [
    "### Create another run for the Assistant for the second message"
   ]
  },
  {
   "cell_type": "code",
   "execution_count": 15,
   "id": "4b128f22-cbe8-44e5-af1a-c6019cce3d01",
   "metadata": {},
   "outputs": [],
   "source": [
    "run = create_assistant_run(client, assistant, thread, instruction_msg)"
   ]
  },
  {
   "cell_type": "code",
   "execution_count": 16,
   "id": "ef2f4166-9def-497a-b822-3f60476c6fb3",
   "metadata": {},
   "outputs": [
    {
     "name": "stdout",
     "output_type": "stream",
     "text": [
      "queued\n"
     ]
    }
   ],
   "source": [
    "run_status = client.beta.threads.runs.retrieve(\n",
    "    thread_id = thread.id,\n",
    "    run_id = run.id\n",
    ")\n",
    "\n",
    "print(run_status.status)"
   ]
  },
  {
   "cell_type": "code",
   "execution_count": 17,
   "id": "84c916e6-6a22-47c6-ac27-78de776b34e3",
   "metadata": {},
   "outputs": [
    {
     "name": "stdout",
     "output_type": "stream",
     "text": [
      "queued\n",
      "in_progress\n",
      "completed\n"
     ]
    }
   ],
   "source": [
    "loop_until_completed(client, thread, run_status)"
   ]
  },
  {
   "cell_type": "code",
   "execution_count": 18,
   "id": "a2639487-0d95-4b3a-b86e-868b92a19a4a",
   "metadata": {},
   "outputs": [
    {
     "name": "stdout",
     "output_type": "stream",
     "text": [
      "('assistant:Chapter 8 of the Artificial Intelligence Index Report 2023 focuses '\n",
      " 'on the various opinions held by the public regarding AI. The chapter '\n",
      " 'highlights that monitoring public attitudes is crucial as AI technology '\n",
      " \"could significantly influence society's future. Surveys from multiple \"\n",
      " 'sources reveal differing global, national, and demographic perspectives on '\n",
      " 'AI, lack of longitudinal data for AI-related questions, and varying '\n",
      " 'sentiments among AI researchers. Social media discussions on AI are also '\n",
      " 'examined in a bid to understand the broader public conversation about AI. It '\n",
      " 'is noted that as AI continues to permeate daily life, comprehensive efforts '\n",
      " 'to gauge public opinion on it will become even more significant.')\n",
      "('user:Provide a short overview of Chatper 8 on public opinion in no more '\n",
      " 'than\\n'\n",
      " '    five sentences\\n'\n",
      " '    ')\n",
      "('assistant:Here are the top ten takeaways from the Artificial Intelligence '\n",
      " 'Index Report 2023, summarized:\\n'\n",
      " '\\n'\n",
      " '1. **Industry Dominates in AI Development:** Since 2014, industry has '\n",
      " 'surpassed academia in producing significant machine learning models. In '\n",
      " \"2022, industry produced 32 major models compared to academia's three, due to \"\n",
      " 'higher availability of data, computing power, and financial resources within '\n",
      " 'industry sectors.\\n'\n",
      " '\\n'\n",
      " '2. **Benchmarks Approaching Saturation:** AI models continue to achieve '\n",
      " 'state-of-the-art results, but the improvement on many benchmarks is marginal '\n",
      " 'and saturation is being reached faster. New, more comprehensive benchmarks '\n",
      " 'like BIG-bench and HELM are emerging in response.\\n'\n",
      " '\\n'\n",
      " \"3. **AI's Environmental Dual Impact:** AI's environmental impact is \"\n",
      " 'significant; for example, training for the BLOOM model emitted carbon '\n",
      " 'equivalent to 25 New York to San Francisco flights. However, AI can also be '\n",
      " 'used to optimize energy usage, as seen with models like BCOOLER.\\n'\n",
      " '\\n'\n",
      " '4. **AI as an Emerging Scientist:** AI models have accelerated scientific '\n",
      " 'advancements, aiding fields like hydrogen fusion, matrix manipulation, and '\n",
      " 'antibody generation at an increasing pace in 2022.\\n'\n",
      " '\\n'\n",
      " '5. **Rise in AI Misuse Incidents:** Ethical misuse of AI is becoming more '\n",
      " 'noticeable, with a 26-fold increase in documented incidents since 2012. '\n",
      " 'High-profile examples include a deepfake video of Ukrainian President '\n",
      " 'Zelenskyy and unethical use of monitoring technology in U.S. prisons.\\n'\n",
      " '\\n'\n",
      " '6. **Growing Demand for AI Skills:** Every industrial sector in the United '\n",
      " 'States, except agriculture, fishing, and hunting, has seen an increase in '\n",
      " 'AI-related job postings, with an average rise from 1.7% in 2021 to 1.9% in '\n",
      " '2022.\\n'\n",
      " '\\n'\n",
      " '7. **Decline in Private AI Investment:** For the first time in the past '\n",
      " 'decade, private investment in AI dropped 26.7% to $91.9 billion in 2022. '\n",
      " 'Despite this, investment has seen an 18-fold increase since 2013.\\n'\n",
      " '\\n'\n",
      " '8. **AI Adoption Plateaus but Benefits Continue:** The proportion of '\n",
      " 'companies integrating AI has more than doubled since 2017, reaching a '\n",
      " 'plateau between 50%-60%. However, those companies that have adopted AI '\n",
      " 'report significant cost reductions and revenue growth.\\n'\n",
      " '\\n'\n",
      " '9. **Increased Policymaker Focus on AI:** Legislative interest in AI is '\n",
      " 'growing, with a jump from 1 AI-related law in 2016 to 37 in 2022, and a '\n",
      " '6.5-fold increase in AI mentions in global legislative proceedings.\\n'\n",
      " '\\n'\n",
      " '10. **Varied Public Sentiment on AI:** Chinese citizens hold the most '\n",
      " 'positive view towards AI products and services, with 78% seeing more '\n",
      " 'benefits than drawbacks. Conversely, only 35% of Americans feel the same, '\n",
      " 'one of the lowest rates among surveyed countries.')\n",
      "('user:What are the top 10 takeaways in the Artificial Intelligence Index '\n",
      " 'Report 2023.\\n'\n",
      " '    Summarize each takeway in no more three simple sentences.')\n"
     ]
    }
   ],
   "source": [
    "print_thread_messages(client, thread)"
   ]
  },
  {
   "cell_type": "code",
   "execution_count": 19,
   "id": "337be76b-405c-4a91-80b0-92a263e14c63",
   "metadata": {},
   "outputs": [
    {
     "name": "stdout",
     "output_type": "stream",
     "text": [
      "AssistantDeleted(id='asst_waMgBV2L5xMldUkU5pO5m2Ur', deleted=True, object='assistant.deleted')\n",
      "deleting file id: file-ibaAJOuZhpjf2Yw6e0RS8119...\n",
      "FileDeleted(id='file-ibaAJOuZhpjf2Yw6e0RS8119', deleted=True, object='file')\n"
     ]
    }
   ],
   "source": [
    "# Delete the assistant. Optionally, you can delete any files\n",
    "# associated with it that you have uploaded onto the OpenAI platform\n",
    "\n",
    "response = client.beta.assistants.delete(assistant.id)\n",
    "print(response)\n",
    "\n",
    "for file_id in file_obj_ids:\n",
    "    print(f\"deleting file id: {file_id}...\")\n",
    "    response = client.files.delete(file_id)\n",
    "    print(response)"
   ]
  }
 ],
 "metadata": {
  "kernelspec": {
   "display_name": "Python 3 (ipykernel)",
   "language": "python",
   "name": "python3"
  },
  "language_info": {
   "codemirror_mode": {
    "name": "ipython",
    "version": 3
   },
   "file_extension": ".py",
   "mimetype": "text/x-python",
   "name": "python",
   "nbconvert_exporter": "python",
   "pygments_lexer": "ipython3",
   "version": "3.10.13"
  }
 },
 "nbformat": 4,
 "nbformat_minor": 5
}
