{
 "cells": [
  {
   "cell_type": "markdown",
   "id": "4387cbaa-ca3a-4db7-a004-520ee4a9ae4a",
   "metadata": {},
   "source": [
    "# OpenAI Assistants APIs\n",
    "\n",
    "The Assistants' API lets you create AI assistants in your applications. These assistants follow instructions and use models, tools, and knowledge to answer user questions. In this notebook we are going to use one of the tools, retriever,\n",
    "to query against two pdf documents we will upload.\n",
    "\n",
    "The architeture and data flow diagram below depicts the interaction among all\n",
    "components that comprise OpenAI Assistant APIs. Central to understand is the \n",
    "Threads and Runtime that executes anyschronously, adding and reading messages\n",
    "to the Threads.\n",
    "\n",
    "For integrating the Assistants API:\n",
    "\n",
    "1. Creat an Assistant with custom instructions and select a model. Optionally, enable tools like Code Interpreter, Retrieval, and Function Calling.\n",
    "\n",
    "2. Initiate a Thread for each user conversation.\n",
    "    \n",
    "3. Add user queries as Messages to the Thread.\n",
    "\n",
    "4.  Run the Assistant on the Thread for responses, which automatically utilizes the enabled tools\n",
    "\n",
    "Below we follow those steps to demonstrate how to integrate Assistants API, using Retrieval tool, to a) upload a couple of pdf documents and b) use Assistant to query the contents of the document. Consider this as a mini Retrieval Augmented Generation (RAG). \n",
    "\n",
    "The OpenAI documentation describes in details [how Assistants work](https://platform.openai.com/docs/assistants/how-it-works).\n",
    "\n",
    "<img src=\"./images/assistant_ai_tools_retriever.png\">\n"
   ]
  },
  {
   "cell_type": "markdown",
   "id": "5d3d1584-ccd1-4117-be4d-125138689028",
   "metadata": {},
   "source": [
    "## How to use Assistant API using Tools: Retriever"
   ]
  },
  {
   "cell_type": "code",
   "execution_count": 1,
   "id": "eec3d89f-6872-448a-b22f-6fc368c7487a",
   "metadata": {},
   "outputs": [],
   "source": [
    "import warnings\n",
    "import os\n",
    "import time\n",
    "\n",
    "import openai\n",
    "from openai import OpenAI\n",
    "\n",
    "from dotenv import load_dotenv, find_dotenv\n",
    "from typing import List\n",
    "from assistant_utils import print_thread_messages, upload_files, \\\n",
    "                            loop_until_completed, create_assistant_run"
   ]
  },
  {
   "cell_type": "markdown",
   "id": "96c565ae-63dd-4cb7-ae27-4d7e22adb3d7",
   "metadata": {},
   "source": [
    "Load our .env file with respective API keys and base url endpoints. Here you can either use OpenAI or Anyscale Endpoints. **Note**: Assistant API calling for Anyscale Endpoints (which serves only OS modles) is not yet aviable)."
   ]
  },
  {
   "cell_type": "code",
   "execution_count": 2,
   "id": "83d72b72-dbcb-4249-a514-1cda3124de3b",
   "metadata": {},
   "outputs": [
    {
     "name": "stdout",
     "output_type": "stream",
     "text": [
      "Using MODEL=gpt-4-1106-preview; base=https://api.openai.com/v1\n"
     ]
    }
   ],
   "source": [
    "warnings.filterwarnings('ignore')\n",
    "\n",
    "_ = load_dotenv(find_dotenv()) # read local .env file\n",
    "\n",
    "openai.api_base = os.getenv(\"ANYSCALE_API_BASE\", os.getenv(\"OPENAI_API_BASE\"))\n",
    "openai.api_key = os.getenv(\"ANYSCALE_API_KEY\", os.getenv(\"OPENAI_API_KEY\"))\n",
    "MODEL = os.getenv(\"MODEL\")\n",
    "print(f\"Using MODEL={MODEL}; base={openai.api_base}\")"
   ]
  },
  {
   "cell_type": "code",
   "execution_count": 3,
   "id": "cd0bf75e-bee1-4d5e-811a-c24fb3627be3",
   "metadata": {},
   "outputs": [],
   "source": [
    "DOCS_TO_LOAD = [\"docs/HAI_AI-Index-Report_2023.pdf\"]"
   ]
  },
  {
   "cell_type": "code",
   "execution_count": 4,
   "id": "df40e6a8-7cc5-44d1-853b-fcdf85c94608",
   "metadata": {},
   "outputs": [],
   "source": [
    "from openai import OpenAI\n",
    "\n",
    "client = OpenAI(\n",
    "    api_key = openai.api_key,\n",
    "    base_url = openai.api_base\n",
    ")"
   ]
  },
  {
   "cell_type": "markdown",
   "id": "210cac69-0cb2-497b-bfb0-d4d7daa292b0",
   "metadata": {},
   "source": [
    "### Step 1: Create our knowledgebase\n",
    "This entails uploading your pdfs as your knowledgebase for the retrievers to use.\n",
    "Most likely, these docuements will be chuncked and indexed as vectors into a vector store; that bit is hidden from you.\n",
    "\n",
    "The retireivers use your query to search retrieve the best semantic matches on vectors in the knowledgebase, and then feed the LLM, along with the original query, to generate the consolidated and comprehesive answer, similarly to how\n",
    "a RAG retriever operates."
   ]
  },
  {
   "cell_type": "raw",
   "id": "1aafeb0d-f92c-4b40-9ef4-393bbeb371ae",
   "metadata": {},
   "source": [
    "Upload the the two pdfs files from your storage."
   ]
  },
  {
   "cell_type": "code",
   "execution_count": 5,
   "id": "9722a539-2087-4b4f-933d-5c4ce04e7186",
   "metadata": {},
   "outputs": [
    {
     "data": {
      "text/plain": [
       "[FileObject(id='file-iu2IHHXaMvMMWMvooHwXkMQa', bytes=25318310, created_at=1703725905, filename='HAI_AI-Index-Report_2023.pdf', object='file', purpose='assistants', status='processed', status_details=None)]"
      ]
     },
     "execution_count": 5,
     "metadata": {},
     "output_type": "execute_result"
    }
   ],
   "source": [
    "file_objects = upload_files(client, DOCS_TO_LOAD)\n",
    "file_objects"
   ]
  },
  {
   "cell_type": "code",
   "execution_count": 6,
   "id": "1e8cf20b-0dd5-4516-8ba6-a5f528b3b6cf",
   "metadata": {},
   "outputs": [
    {
     "data": {
      "text/plain": [
       "['file-iu2IHHXaMvMMWMvooHwXkMQa']"
      ]
     },
     "execution_count": 6,
     "metadata": {},
     "output_type": "execute_result"
    }
   ],
   "source": [
    "# Extract file ids \n",
    "file_obj_ids = []\n",
    "for f_obj in file_objects:\n",
    "    file_obj_ids.append(file_objects[0].id)\n",
    "file_obj_ids"
   ]
  },
  {
   "cell_type": "markdown",
   "id": "7e015d11-f87b-4534-b27e-379a06b7b7a7",
   "metadata": {},
   "source": [
    "### Step 2: Create an Assistant \n",
    "Before you can start interacting with the Assistant to carry out any tasks, you need an AI assistant object. Supply the Assistant with a model to use, tools, and file ids to use for its knowledge base."
   ]
  },
  {
   "cell_type": "code",
   "execution_count": 7,
   "id": "4ef7325f-5e71-4778-952a-27e3f525b870",
   "metadata": {},
   "outputs": [
    {
     "data": {
      "text/plain": [
       "Assistant(id='asst_YVyCc5TsMGcidHDkmNc0OLDu', created_at=1703725921, description=None, file_ids=['file-iu2IHHXaMvMMWMvooHwXkMQa'], instructions=\"You are a knowledgeable chatbot trained to respond \\n                                               inquires on documents HAI Artificial Index 2023 report \\n                                               and Survey of why LLMs hallucinate. \\n                                               Use a neutral, professional advisory tone, and only respond by consulting the \\n                                               knowledge base or files you are granted access to. \\n                                               Do not make up answers. If you don't know answer, respond with 'Sorry, I'm afraid\\n                                               I don't have access to that information.'\", metadata={}, model='gpt-4-1106-preview', name='AI Report and LLM survey Chatbot', object='assistant', tools=[ToolRetrieval(type='retrieval')])"
      ]
     },
     "execution_count": 7,
     "metadata": {},
     "output_type": "execute_result"
    }
   ],
   "source": [
    "assistant = client.beta.assistants.create(name=\"AI Report and LLM survey Chatbot\",\n",
    "                                           instructions=\"\"\"You are a knowledgeable chatbot trained to respond \n",
    "                                               inquires on documents HAI Artificial Index 2023 report \n",
    "                                               and Survey of why LLMs hallucinate. \n",
    "                                               Use a neutral, professional advisory tone, and only respond by consulting the \n",
    "                                               knowledge base or files you are granted access to. \n",
    "                                               Do not make up answers. If you don't know answer, respond with 'Sorry, I'm afraid\n",
    "                                               I don't have access to that information.'\"\"\",\n",
    "                                           model=MODEL,\n",
    "                                           tools = [{'type': 'retrieval'}],  # use the retrieval tool\n",
    "                                           file_ids=file_obj_ids # use these files uploaded as part of your knowledge base\n",
    ")                                        \n",
    "assistant"
   ]
  },
  {
   "cell_type": "markdown",
   "id": "5b353b4f-5c8a-46ad-961b-5004248a3874",
   "metadata": {},
   "source": [
    "### Step 3: Create a thread \n",
    "As the diagram above shows, the Thread is the object with which the AI Assistant runs will interact with, by fetching messages and putting messages to it. Think of a thread as a \"conversation session between an Assistant and a user. Threads store Messages and automatically handle truncation to fit content into a model’s context window.\""
   ]
  },
  {
   "cell_type": "code",
   "execution_count": 8,
   "id": "d8bffc3d-2e64-4b86-9c47-6bb7a886cc52",
   "metadata": {},
   "outputs": [
    {
     "data": {
      "text/plain": [
       "Thread(id='thread_LqXltsJ4SqKRmwooZjjgzoHe', created_at=1703725970, metadata={}, object='thread')"
      ]
     },
     "execution_count": 8,
     "metadata": {},
     "output_type": "execute_result"
    }
   ],
   "source": [
    "thread = client.beta.threads.create()\n",
    "thread"
   ]
  },
  {
   "cell_type": "markdown",
   "id": "f36f3f97-5e53-4b6d-90e3-9da794d6d505",
   "metadata": {},
   "source": [
    "### Step 4: Add your message query to the thread for the Assistant"
   ]
  },
  {
   "cell_type": "code",
   "execution_count": 9,
   "id": "d23a252b-32a6-4558-8a0d-2605c796f54c",
   "metadata": {},
   "outputs": [
    {
     "data": {
      "text/plain": [
       "{'id': 'msg_vpxMyAevAp7DGUcpHGXuZ47P',\n",
       " 'assistant_id': None,\n",
       " 'content': [{'text': {'annotations': [],\n",
       "    'value': 'What are the top 10 takeaways in the Artificial Intelligence Index Report 2023.\\n    Summarize each takeway in no more three simple sentences.'},\n",
       "   'type': 'text'}],\n",
       " 'created_at': 1703725974,\n",
       " 'file_ids': [],\n",
       " 'metadata': {},\n",
       " 'object': 'thread.message',\n",
       " 'role': 'user',\n",
       " 'run_id': None,\n",
       " 'thread_id': 'thread_LqXltsJ4SqKRmwooZjjgzoHe'}"
      ]
     },
     "execution_count": 9,
     "metadata": {},
     "output_type": "execute_result"
    }
   ],
   "source": [
    "message = client.beta.threads.messages.create(\n",
    "    thread_id=thread.id, \n",
    "    role=\"user\",\n",
    "    content=\"\"\"What are the top 10 takeaways in the Artificial Intelligence Index Report 2023.\n",
    "    Summarize each takeway in no more three simple sentences.\"\"\",\n",
    ")\n",
    "message.model_dump()"
   ]
  },
  {
   "cell_type": "markdown",
   "id": "25b81328-9f58-4f6d-ae72-56c2a5d39fbc",
   "metadata": {},
   "source": [
    "### Step 5: Create a Run for the Assistant\n",
    "A Run is an invocation of an Assistant on a Thread. The Assistant uses it’s configuration and the Thread’s Messages to perform tasks by calling models and tools. As part of a Run, the Assistant appends Messages to the Thread.\n",
    "\n",
    "Note that Assistance will run asychronously: the run has the following\n",
    "lifecycle and states: [*expired, completed, failed, cancelled*]. Run objects can have multiple statuses.\n",
    "\n",
    "<img src=\"https://cdn.openai.com/API/docs/images/diagram-1.png\">"
   ]
  },
  {
   "cell_type": "code",
   "execution_count": 10,
   "id": "9a8b6e1c-61d3-4517-b99f-719f95f1d35a",
   "metadata": {},
   "outputs": [
    {
     "name": "stdout",
     "output_type": "stream",
     "text": [
      "{\n",
      "    \"id\": \"run_6jQfz3gOWBKy2NTLYs2J6rh8\",\n",
      "    \"assistant_id\": \"asst_YVyCc5TsMGcidHDkmNc0OLDu\",\n",
      "    \"cancelled_at\": null,\n",
      "    \"completed_at\": null,\n",
      "    \"created_at\": 1703725983,\n",
      "    \"expires_at\": 1703726583,\n",
      "    \"failed_at\": null,\n",
      "    \"file_ids\": [\n",
      "        \"file-iu2IHHXaMvMMWMvooHwXkMQa\"\n",
      "    ],\n",
      "    \"instructions\": \"Please address the user as Jules Dmatrix.  \\n    Do not provide an answer to the question if the information was not retrieved from the knowledge base.\\n\",\n",
      "    \"last_error\": null,\n",
      "    \"metadata\": {},\n",
      "    \"model\": \"gpt-4-1106-preview\",\n",
      "    \"object\": \"thread.run\",\n",
      "    \"required_action\": null,\n",
      "    \"started_at\": null,\n",
      "    \"status\": \"queued\",\n",
      "    \"thread_id\": \"thread_LqXltsJ4SqKRmwooZjjgzoHe\",\n",
      "    \"tools\": [\n",
      "        {\n",
      "            \"type\": \"retrieval\"\n",
      "        }\n",
      "    ]\n",
      "}\n"
     ]
    }
   ],
   "source": [
    "instruction_msg = \"\"\"Please address the user as Jules Dmatrix.  \n",
    "    Do not provide an answer to the question if the information was not retrieved from the knowledge base.\n",
    "\"\"\"\n",
    "run = create_assistant_run(client, assistant, thread, instruction_msg)\n",
    "print(run.model_dump_json(indent=4))"
   ]
  },
  {
   "cell_type": "markdown",
   "id": "837be4e0-0198-4222-8e9c-3a483fc2f271",
   "metadata": {},
   "source": [
    "### Step 6: Loop through the Assistant run until status is 'completed'"
   ]
  },
  {
   "cell_type": "code",
   "execution_count": 14,
   "id": "2a9b8e0f-441a-43bf-8b6d-4e748d31b3e9",
   "metadata": {},
   "outputs": [
    {
     "name": "stdout",
     "output_type": "stream",
     "text": [
      "{\n",
      "    \"id\": \"run_6jQfz3gOWBKy2NTLYs2J6rh8\",\n",
      "    \"assistant_id\": \"asst_YVyCc5TsMGcidHDkmNc0OLDu\",\n",
      "    \"cancelled_at\": null,\n",
      "    \"completed_at\": 1703726026,\n",
      "    \"created_at\": 1703725983,\n",
      "    \"expires_at\": null,\n",
      "    \"failed_at\": null,\n",
      "    \"file_ids\": [\n",
      "        \"file-iu2IHHXaMvMMWMvooHwXkMQa\"\n",
      "    ],\n",
      "    \"instructions\": \"Please address the user as Jules Dmatrix.  \\n    Do not provide an answer to the question if the information was not retrieved from the knowledge base.\\n\",\n",
      "    \"last_error\": null,\n",
      "    \"metadata\": {},\n",
      "    \"model\": \"gpt-4-1106-preview\",\n",
      "    \"object\": \"thread.run\",\n",
      "    \"required_action\": null,\n",
      "    \"started_at\": 1703725983,\n",
      "    \"status\": \"completed\",\n",
      "    \"thread_id\": \"thread_LqXltsJ4SqKRmwooZjjgzoHe\",\n",
      "    \"tools\": [\n",
      "        {\n",
      "            \"type\": \"retrieval\"\n",
      "        }\n",
      "    ]\n",
      "}\n"
     ]
    }
   ],
   "source": [
    "run_status = client.beta.threads.runs.retrieve(\n",
    "    thread_id = thread.id,\n",
    "    run_id = run.id\n",
    ")\n",
    "print(run_status.model_dump_json(indent=4))"
   ]
  },
  {
   "cell_type": "markdown",
   "id": "8cd96266-a971-4df3-93a4-5c4c3d23068b",
   "metadata": {},
   "source": [
    "#### Poll until Assistant run is completed"
   ]
  },
  {
   "cell_type": "code",
   "execution_count": 15,
   "id": "4ccda85c-6398-4ce4-a6e3-4919bf105b5c",
   "metadata": {},
   "outputs": [],
   "source": [
    "loop_until_completed(client, thread, run_status)"
   ]
  },
  {
   "cell_type": "markdown",
   "id": "00fe2be8-8a69-46c5-a23a-d4fc31782ddc",
   "metadata": {},
   "source": [
    "### Step 7: Retrieve the message returned by the assistance\n",
    "Only when the run is **completed** can you fetch the messages from the Thread"
   ]
  },
  {
   "cell_type": "code",
   "execution_count": 16,
   "id": "ebe25bb4-c7c1-4f3e-b6a1-c8394e299a25",
   "metadata": {},
   "outputs": [
    {
     "name": "stdout",
     "output_type": "stream",
     "text": [
      "('assistant:Here are the top 10 takeaways from the Artificial Intelligence '\n",
      " 'Index Report 2023, Jules Dmatrix:\\n'\n",
      " '\\n'\n",
      " '1. **Industry races ahead of academia**\\n'\n",
      " '   - Academic institutions were the primary source of significant machine '\n",
      " 'learning models until 2014, but the industry has taken the lead since then.\\n'\n",
      " '   - In 2022, industry produced 32 significant machine learning models, '\n",
      " 'while academia produced only three.\\n'\n",
      " '   - The shift is due to industry having more access to large amounts of '\n",
      " 'data, computing power, and financial resources necessary for building '\n",
      " 'state-of-the-art AI systems.\\n'\n",
      " '\\n'\n",
      " '2. **Performance saturation on traditional benchmarks**\\n'\n",
      " '   - AI continues to achieve state-of-the-art results, but improvements on '\n",
      " 'benchmarks are becoming marginal.\\n'\n",
      " '   - Benchmarks are being saturated faster, suggesting a need for more '\n",
      " 'comprehensive benchmarking suites like BIG-bench and HELM.\\n'\n",
      " '\\n'\n",
      " '3. **AI is both helping and harming the environment**\\n'\n",
      " '   - AI systems can have a considerable environmental impact, exemplified by '\n",
      " 'the training run of the BLOOM model emitting significant carbon emissions.\\n'\n",
      " '   - Conversely, AI can optimize energy usage, as demonstrated by '\n",
      " 'reinforcement learning models like BCOOLER.\\n'\n",
      " '\\n'\n",
      " '4. **The world’s best new scientist... AI?**\\n'\n",
      " '   - AI is accelerating scientific progress by helping in areas such as '\n",
      " 'hydrogen fusion, matrix manipulation efficiency, and generating new '\n",
      " 'antibodies.\\n'\n",
      " '\\n'\n",
      " '5. **The number of incidents concerning the misuse of AI is rapidly '\n",
      " 'rising**\\n'\n",
      " '   - The AIAAIC database tracking unethical use of AI shows a 26-fold '\n",
      " 'increase in incidents since 2012.\\n'\n",
      " '   - High-profile incidents in 2022 highlighted the growing awareness and '\n",
      " 'potential for AI technology misuse.\\n'\n",
      " '\\n'\n",
      " '6. **The demand for AI-related professional skills is increasing across '\n",
      " 'various American industrial sectors**\\n'\n",
      " \"   - There's an increase in the number of AI-related job postings across all \"\n",
      " 'sectors except for agriculture, forestry, fishing, and hunting in the U.S.\\n'\n",
      " '   - The demand for AI-related skills among U.S. employers is growing.\\n'\n",
      " '\\n'\n",
      " '7. **For the first time in the last decade, year-over-year private '\n",
      " 'investment in AI decreased**\\n'\n",
      " '   - Private investment in AI dropped by 26.7% in 2022 compared to 2021, '\n",
      " 'along with a decrease in the total number of AI-related funding events and '\n",
      " 'newly funded AI companies.\\n'\n",
      " '   - Despite the decrease, the overall private investment in AI in 2022 was '\n",
      " '18 times greater than in 2013.\\n'\n",
      " '\\n'\n",
      " '8. **While the proportion of companies adopting AI has plateaued, the '\n",
      " 'companies that have adopted AI continue to pull ahead**\\n'\n",
      " '   - The proportion of companies adopting AI more than doubled since 2017 '\n",
      " 'but plateaued between 50% and 60% in recent years.\\n'\n",
      " '   - Companies that have incorporated AI report experiencing meaningful cost '\n",
      " 'decreases and revenue increases.\\n'\n",
      " '\\n'\n",
      " '9. **Policymaker interest in AI is on the rise**\\n'\n",
      " '   - Legislative records from 127 countries revealed an increase in '\n",
      " 'AI-related bills passed into law, from just 1 in 2016 to 37 in 2022.\\n'\n",
      " '   - Mentions of AI in global legislative proceedings have increased nearly '\n",
      " '6.5 times since 2016, indicating heightened policymaker interest.\\n'\n",
      " '\\n'\n",
      " '10. **Chinese citizens are among those who feel the most positively about AI '\n",
      " 'products and services, Americans not so much**\\n'\n",
      " '    - A 2022 IPSOS survey showed that 78% of Chinese respondents see more '\n",
      " 'benefits than drawbacks in AI products and services, the highest among '\n",
      " 'surveyed countries.\\n'\n",
      " '    - Following China, respondents from Saudi Arabia and India had high '\n",
      " 'positive views on AI, whereas only 35% of American respondents felt '\n",
      " 'positively, one of the lowest among surveyed countries.')\n",
      "('user:What are the top 10 takeaways in the Artificial Intelligence Index '\n",
      " 'Report 2023.\\n'\n",
      " '    Summarize each takeway in no more three simple sentences.')\n"
     ]
    }
   ],
   "source": [
    "print_thread_messages(client, thread)"
   ]
  },
  {
   "cell_type": "markdown",
   "id": "6e182685-8b4f-4e2f-bb5a-0ab88b1409c8",
   "metadata": {},
   "source": [
    "### Repeat the process for any additional messages\n",
    "To add more query messages to the thread for the Assistant,\n",
    "repeat steps 5 - 7"
   ]
  },
  {
   "cell_type": "markdown",
   "id": "09b83c70-3374-4495-8463-f2a16b46e742",
   "metadata": {},
   "source": [
    "### Add another message to for the Assistant"
   ]
  },
  {
   "cell_type": "code",
   "execution_count": 17,
   "id": "40a08436-19cb-4830-b704-157c8c4600f5",
   "metadata": {},
   "outputs": [
    {
     "data": {
      "text/plain": [
       "ThreadMessage(id='msg_6fWx6rI0FN9ar4TRBZ22jgqT', assistant_id=None, content=[MessageContentText(text=Text(annotations=[], value='Provide a short overview of Chatper 8 on public opinion in no more than\\n    five sentences\\n    '), type='text')], created_at=1703726096, file_ids=[], metadata={}, object='thread.message', role='user', run_id=None, thread_id='thread_LqXltsJ4SqKRmwooZjjgzoHe')"
      ]
     },
     "execution_count": 17,
     "metadata": {},
     "output_type": "execute_result"
    }
   ],
   "source": [
    "message = client.beta.threads.messages.create(\n",
    "    thread_id=thread.id, \n",
    "    role=\"user\",\n",
    "    content=\"\"\"Provide a short overview of Chatper 8 on public opinion in no more than\n",
    "    five sentences\n",
    "    \"\"\",\n",
    ")\n",
    "message"
   ]
  },
  {
   "cell_type": "markdown",
   "id": "718c3a5e-6f1f-4534-9418-5be00192dd6d",
   "metadata": {},
   "source": [
    "### Create another run for the Assistant for the second message"
   ]
  },
  {
   "cell_type": "code",
   "execution_count": 18,
   "id": "4b128f22-cbe8-44e5-af1a-c6019cce3d01",
   "metadata": {},
   "outputs": [],
   "source": [
    "run = create_assistant_run(client, assistant, thread, instruction_msg)"
   ]
  },
  {
   "cell_type": "code",
   "execution_count": 19,
   "id": "ef2f4166-9def-497a-b822-3f60476c6fb3",
   "metadata": {},
   "outputs": [
    {
     "name": "stdout",
     "output_type": "stream",
     "text": [
      "in_progress\n"
     ]
    }
   ],
   "source": [
    "run_status = client.beta.threads.runs.retrieve(\n",
    "    thread_id = thread.id,\n",
    "    run_id = run.id\n",
    ")\n",
    "\n",
    "print(run_status.status)"
   ]
  },
  {
   "cell_type": "code",
   "execution_count": 20,
   "id": "84c916e6-6a22-47c6-ac27-78de776b34e3",
   "metadata": {},
   "outputs": [
    {
     "name": "stdout",
     "output_type": "stream",
     "text": [
      "in_progress\n",
      "in_progress\n",
      "in_progress\n",
      "completed\n"
     ]
    }
   ],
   "source": [
    "loop_until_completed(client, thread, run_status)"
   ]
  },
  {
   "cell_type": "code",
   "execution_count": 21,
   "id": "a2639487-0d95-4b3a-b86e-868b92a19a4a",
   "metadata": {},
   "outputs": [
    {
     "name": "stdout",
     "output_type": "stream",
     "text": [
      "('assistant:Chapter 8 of the Artificial Intelligence Index Report 2023 '\n",
      " 'provides an overview of public opinion on AI from various perspectives. It '\n",
      " 'emphasizes the transformative potential of AI and the importance of '\n",
      " 'monitoring public attitudes toward its development, regulation, and use. The '\n",
      " 'chapter presents insights through global, national, demographic, and ethnic '\n",
      " 'lenses and investigates the opinions of AI researchers and public discourse '\n",
      " 'on social media. Data is sourced from surveys by IPSOS, Lloyd’s Register '\n",
      " 'Foundation and Gallup, and PEW Research. However, the chapter also notes the '\n",
      " 'scarcity of long-term survey data on AI, highlighting the need for more '\n",
      " 'comprehensive understanding as AI becomes ever more present in '\n",
      " 'society【13†source】.')\n",
      "('user:Provide a short overview of Chatper 8 on public opinion in no more '\n",
      " 'than\\n'\n",
      " '    five sentences\\n'\n",
      " '    ')\n",
      "('assistant:Here are the top 10 takeaways from the Artificial Intelligence '\n",
      " 'Index Report 2023, Jules Dmatrix:\\n'\n",
      " '\\n'\n",
      " '1. **Industry races ahead of academia**\\n'\n",
      " '   - Academic institutions were the primary source of significant machine '\n",
      " 'learning models until 2014, but the industry has taken the lead since then.\\n'\n",
      " '   - In 2022, industry produced 32 significant machine learning models, '\n",
      " 'while academia produced only three.\\n'\n",
      " '   - The shift is due to industry having more access to large amounts of '\n",
      " 'data, computing power, and financial resources necessary for building '\n",
      " 'state-of-the-art AI systems.\\n'\n",
      " '\\n'\n",
      " '2. **Performance saturation on traditional benchmarks**\\n'\n",
      " '   - AI continues to achieve state-of-the-art results, but improvements on '\n",
      " 'benchmarks are becoming marginal.\\n'\n",
      " '   - Benchmarks are being saturated faster, suggesting a need for more '\n",
      " 'comprehensive benchmarking suites like BIG-bench and HELM.\\n'\n",
      " '\\n'\n",
      " '3. **AI is both helping and harming the environment**\\n'\n",
      " '   - AI systems can have a considerable environmental impact, exemplified by '\n",
      " 'the training run of the BLOOM model emitting significant carbon emissions.\\n'\n",
      " '   - Conversely, AI can optimize energy usage, as demonstrated by '\n",
      " 'reinforcement learning models like BCOOLER.\\n'\n",
      " '\\n'\n",
      " '4. **The world’s best new scientist... AI?**\\n'\n",
      " '   - AI is accelerating scientific progress by helping in areas such as '\n",
      " 'hydrogen fusion, matrix manipulation efficiency, and generating new '\n",
      " 'antibodies.\\n'\n",
      " '\\n'\n",
      " '5. **The number of incidents concerning the misuse of AI is rapidly '\n",
      " 'rising**\\n'\n",
      " '   - The AIAAIC database tracking unethical use of AI shows a 26-fold '\n",
      " 'increase in incidents since 2012.\\n'\n",
      " '   - High-profile incidents in 2022 highlighted the growing awareness and '\n",
      " 'potential for AI technology misuse.\\n'\n",
      " '\\n'\n",
      " '6. **The demand for AI-related professional skills is increasing across '\n",
      " 'various American industrial sectors**\\n'\n",
      " \"   - There's an increase in the number of AI-related job postings across all \"\n",
      " 'sectors except for agriculture, forestry, fishing, and hunting in the U.S.\\n'\n",
      " '   - The demand for AI-related skills among U.S. employers is growing.\\n'\n",
      " '\\n'\n",
      " '7. **For the first time in the last decade, year-over-year private '\n",
      " 'investment in AI decreased**\\n'\n",
      " '   - Private investment in AI dropped by 26.7% in 2022 compared to 2021, '\n",
      " 'along with a decrease in the total number of AI-related funding events and '\n",
      " 'newly funded AI companies.\\n'\n",
      " '   - Despite the decrease, the overall private investment in AI in 2022 was '\n",
      " '18 times greater than in 2013.\\n'\n",
      " '\\n'\n",
      " '8. **While the proportion of companies adopting AI has plateaued, the '\n",
      " 'companies that have adopted AI continue to pull ahead**\\n'\n",
      " '   - The proportion of companies adopting AI more than doubled since 2017 '\n",
      " 'but plateaued between 50% and 60% in recent years.\\n'\n",
      " '   - Companies that have incorporated AI report experiencing meaningful cost '\n",
      " 'decreases and revenue increases.\\n'\n",
      " '\\n'\n",
      " '9. **Policymaker interest in AI is on the rise**\\n'\n",
      " '   - Legislative records from 127 countries revealed an increase in '\n",
      " 'AI-related bills passed into law, from just 1 in 2016 to 37 in 2022.\\n'\n",
      " '   - Mentions of AI in global legislative proceedings have increased nearly '\n",
      " '6.5 times since 2016, indicating heightened policymaker interest.\\n'\n",
      " '\\n'\n",
      " '10. **Chinese citizens are among those who feel the most positively about AI '\n",
      " 'products and services, Americans not so much**\\n'\n",
      " '    - A 2022 IPSOS survey showed that 78% of Chinese respondents see more '\n",
      " 'benefits than drawbacks in AI products and services, the highest among '\n",
      " 'surveyed countries.\\n'\n",
      " '    - Following China, respondents from Saudi Arabia and India had high '\n",
      " 'positive views on AI, whereas only 35% of American respondents felt '\n",
      " 'positively, one of the lowest among surveyed countries.')\n",
      "('user:What are the top 10 takeaways in the Artificial Intelligence Index '\n",
      " 'Report 2023.\\n'\n",
      " '    Summarize each takeway in no more three simple sentences.')\n"
     ]
    }
   ],
   "source": [
    "print_thread_messages(client, thread)"
   ]
  },
  {
   "cell_type": "code",
   "execution_count": 22,
   "id": "337be76b-405c-4a91-80b0-92a263e14c63",
   "metadata": {},
   "outputs": [
    {
     "name": "stdout",
     "output_type": "stream",
     "text": [
      "AssistantDeleted(id='asst_YVyCc5TsMGcidHDkmNc0OLDu', deleted=True, object='assistant.deleted')\n",
      "deleting file id: file-iu2IHHXaMvMMWMvooHwXkMQa...\n",
      "FileDeleted(id='file-iu2IHHXaMvMMWMvooHwXkMQa', deleted=True, object='file')\n"
     ]
    }
   ],
   "source": [
    "# Delete the assistant. Optionally, you can delete any files\n",
    "# associated with it that you have uploaded onto the OpenAI platform\n",
    "\n",
    "response = client.beta.assistants.delete(assistant.id)\n",
    "print(response)\n",
    "\n",
    "for file_id in file_obj_ids:\n",
    "    print(f\"deleting file id: {file_id}...\")\n",
    "    response = client.files.delete(file_id)\n",
    "    print(response)"
   ]
  }
 ],
 "metadata": {
  "kernelspec": {
   "display_name": "Python 3 (ipykernel)",
   "language": "python",
   "name": "python3"
  },
  "language_info": {
   "codemirror_mode": {
    "name": "ipython",
    "version": 3
   },
   "file_extension": ".py",
   "mimetype": "text/x-python",
   "name": "python",
   "nbconvert_exporter": "python",
   "pygments_lexer": "ipython3",
   "version": "3.10.13"
  }
 },
 "nbformat": 4,
 "nbformat_minor": 5
}
