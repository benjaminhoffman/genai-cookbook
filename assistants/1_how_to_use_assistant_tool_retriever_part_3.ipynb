{
 "cells": [
  {
   "cell_type": "markdown",
   "id": "77cf6fb9-ec8a-47e6-bbc8-067559a24825",
   "metadata": {},
   "source": [
    "# OpenAI Assistants APIs\n",
    "\n",
    "The Assistants' API lets you create AI assistants in your applications. These assistants follow instruction. They use models, tools, and knowledge to answer user questions. In this notebook we are going to use one of the tools, retriever, to query against two pdf documents we will upload.\n",
    "\n",
    "The architecture and data flow diagram below depicts the interaction among all components that comprise OpenAI Assistant APIs. Central to understand is the Threads and Runtime that executes asynchronously, adding and reading messages to the Threads.\n",
    "\n",
    "For integrating the Assistants API:\n",
    "\n",
    "1. Creat an Assistant with custom instructions and select a model. Optionally, enable tools like Code Interpreter, Retrieval, and Function Calling.\n",
    "\n",
    "2. Initiate a Thread for each user conversation.\n",
    "    \n",
    "3. Add user queries as Messages to the Thread.\n",
    "\n",
    "4.  Run the Assistant on the Thread for responses, which automatically utilizes the enabled tools\n",
    "\n",
    "Below we follow those steps to demonstrate how to integrate Assistants API, using Retrieval tool, to a) upload a couple of pdf documents and b) use Assistant to query the contents of the document. Consider this as a mini Retrieval Augmented Generation (RAG). \n",
    "\n",
    "The OpenAI documentation describes in details [how Assistants work](https://platform.openai.com/docs/assistants/how-it-works).\n",
    "\n",
    "<img src=\"./images/assistant_ai_tools_retriever.png\">\n"
   ]
  },
  {
   "cell_type": "markdown",
   "id": "91ad640a-c90c-4d2b-b4ed-6123bed430d8",
   "metadata": {},
   "source": [
    "## How to use Assistant API using Tools: Retriever using JSON documents"
   ]
  },
  {
   "cell_type": "code",
   "execution_count": 1,
   "id": "1944a9a1-642b-4021-b49a-e28f72867a89",
   "metadata": {},
   "outputs": [],
   "source": [
    "import warnings\n",
    "import os\n",
    "import time\n",
    "\n",
    "import openai\n",
    "from openai import OpenAI\n",
    "\n",
    "from dotenv import load_dotenv, find_dotenv\n",
    "from typing import List\n",
    "from assistant_utils import print_thread_messages, upload_files, \\\n",
    "                            loop_until_completed, create_assistant_run"
   ]
  },
  {
   "cell_type": "markdown",
   "id": "ed9f3ff6-0673-4978-9c6b-af75944b1c8b",
   "metadata": {},
   "source": [
    "Load our *.env* file with respective API keys and base url endpoints. Here you can either use OpenAI or Anyscale Endpoints. \n",
    "\n",
    "**Note**: Assistant API calling for Anyscale Endpoints (which serves only OS modles) is not yet aviable)."
   ]
  },
  {
   "cell_type": "code",
   "execution_count": 2,
   "id": "ef220f4b-1c5f-48b4-9aa5-b6729445dafa",
   "metadata": {},
   "outputs": [
    {
     "name": "stdout",
     "output_type": "stream",
     "text": [
      "Using MODEL=gpt-4-1106-preview; base=https://api.openai.com/v1\n"
     ]
    }
   ],
   "source": [
    "warnings.filterwarnings('ignore')\n",
    "\n",
    "_ = load_dotenv(find_dotenv()) # read local .env file\n",
    "\n",
    "openai.api_base = os.getenv(\"ANYSCALE_API_BASE\", os.getenv(\"OPENAI_API_BASE\"))\n",
    "openai.api_key = os.getenv(\"ANYSCALE_API_KEY\", os.getenv(\"OPENAI_API_KEY\"))\n",
    "MODEL = os.getenv(\"MODEL\")\n",
    "print(f\"Using MODEL={MODEL}; base={openai.api_base}\")"
   ]
  },
  {
   "cell_type": "markdown",
   "id": "abcf54e9-e54e-4ce4-b63e-e7c9ccaaa328",
   "metadata": {},
   "source": [
    "Load the JSON file"
   ]
  },
  {
   "cell_type": "code",
   "execution_count": 3,
   "id": "de5bdefc-9ee3-4a67-ac7e-814436ab0764",
   "metadata": {},
   "outputs": [],
   "source": [
    "DOCS_TO_LOAD = [\"docs/product_definitions_1000.json\"]"
   ]
  },
  {
   "cell_type": "code",
   "execution_count": 4,
   "id": "57a6af6f-4d0c-456d-b145-1f951b1adb44",
   "metadata": {},
   "outputs": [],
   "source": [
    "from openai import OpenAI\n",
    "\n",
    "client = OpenAI(\n",
    "    api_key = openai.api_key,\n",
    "    base_url = openai.api_base\n",
    ")"
   ]
  },
  {
   "cell_type": "markdown",
   "id": "df8103d8-b704-4abd-b1bf-dd7224509dd3",
   "metadata": {},
   "source": [
    "### Step 1: Create our knowledgebase\n",
    "This entails uploading your pdfs as your knowledgebase for the retrievers to use. Once you upload a file, the Assistant from OpenAI will break it into smaller chuncks, sort and save these chuncks, index and store the embeddings as vectors. \n",
    "\n",
    "The retrievers use your query to retrieve the best semantic matches on vectors in the knowledgebase, and then feed the LLM, along with the original query, to generate the consolidated and comprehesive answer, similarly to how a large-scale RAG retriever operates.\n",
    "\n",
    "Upload the data files from your storage."
   ]
  },
  {
   "cell_type": "code",
   "execution_count": 5,
   "id": "890370dd-72b4-4f45-9dc0-1ce7b73d8e9b",
   "metadata": {},
   "outputs": [
    {
     "data": {
      "text/plain": [
       "[FileObject(id='file-sAUQwHPyxY8X66nDp58qiJCI', bytes=261961, created_at=1704935485, filename='product_definitions_1000.json', object='file', purpose='assistants', status='processed', status_details=None)]"
      ]
     },
     "execution_count": 5,
     "metadata": {},
     "output_type": "execute_result"
    }
   ],
   "source": [
    "file_objects = upload_files(client, DOCS_TO_LOAD)\n",
    "file_objects"
   ]
  },
  {
   "cell_type": "code",
   "execution_count": 6,
   "id": "3e76674d-3e44-4460-b953-31aa6642a218",
   "metadata": {},
   "outputs": [
    {
     "data": {
      "text/plain": [
       "['file-sAUQwHPyxY8X66nDp58qiJCI']"
      ]
     },
     "execution_count": 6,
     "metadata": {},
     "output_type": "execute_result"
    }
   ],
   "source": [
    "# Extract file ids \n",
    "file_obj_ids = []\n",
    "for idx, f_obj in enumerate(file_objects):\n",
    "    file_obj_ids.append(file_objects[idx].id)\n",
    "file_obj_ids"
   ]
  },
  {
   "cell_type": "markdown",
   "id": "00852ad3-9a2a-42cc-ad36-6d8573b55470",
   "metadata": {},
   "source": [
    "### Step 2: Create an Assistant \n",
    "Before you can start interacting with the Assistant to carry out any tasks, you need an AI assistant object. Supply the Assistant with a model to use, tools, and file ids to use for its knowledge base."
   ]
  },
  {
   "cell_type": "code",
   "execution_count": 7,
   "id": "d95915fe-1dc3-4d5e-b7a7-24da24b73210",
   "metadata": {},
   "outputs": [],
   "source": [
    "instructions = \"\"\"\n",
    "    You are a knowledgeable chatbot trained to respond \n",
    "    inquires on documents accessible to you. \n",
    "    Use a professional advisory tone, \n",
    "    and only respond by consulting the \n",
    "    JSON files you are granted access to. \n",
    "    Do not make up answers. If you don't know answer, respond with 'Sorry, I'm afraid\n",
    "    I don't have access to that information.\n",
    "\"\"\"\n"
   ]
  },
  {
   "cell_type": "code",
   "execution_count": 8,
   "id": "1d40d8fa-23f4-47a1-8079-9174d0224f2c",
   "metadata": {},
   "outputs": [
    {
     "data": {
      "text/plain": [
       "Assistant(id='asst_B4TrGwxKqrybPLKzLrWl9WOa', created_at=1704935486, description=None, file_ids=['file-sAUQwHPyxY8X66nDp58qiJCI'], instructions=\"\\n    You are a knowledgeable chatbot trained to respond \\n    inquires on documents accessible to you. \\n    Use a professional advisory tone, \\n    and only respond by consulting the \\n    JSON files you are granted access to. \\n    Do not make up answers. If you don't know answer, respond with 'Sorry, I'm afraid\\n    I don't have access to that information.\\n\", metadata={}, model='gpt-4-1106-preview', name='Data Analyst for Marketing Department', object='assistant', tools=[ToolRetrieval(type='retrieval')])"
      ]
     },
     "execution_count": 8,
     "metadata": {},
     "output_type": "execute_result"
    }
   ],
   "source": [
    "\n",
    "assistant = client.beta.assistants.create(name=\"Data Analyst for Marketing Department\",\n",
    "                                           instructions=instructions,\n",
    "                                           model=MODEL,\n",
    "                                           tools = [{'type': 'retrieval'}],  # use the retrieval tool\n",
    "                                           file_ids=file_obj_ids # use these files uploaded as part of your knowledge base\n",
    ")                                        \n",
    "assistant"
   ]
  },
  {
   "cell_type": "markdown",
   "id": "1fb90cc2-1ee8-44a3-8907-f977f7c1bf72",
   "metadata": {},
   "source": [
    "### Step 3: Create a thread \n",
    "As the diagram above shows, the Thread is the object with which the AI Assistant runs will interact with, by fetching messages and putting messages to it. Think of a thread as a \"conversation session between an Assistant and a user. Threads store Messages and automatically handle truncation to fit content into a model’s context window.\""
   ]
  },
  {
   "cell_type": "code",
   "execution_count": 9,
   "id": "c0a1a5b1-35c7-44a7-977e-3e5b141645e8",
   "metadata": {},
   "outputs": [
    {
     "data": {
      "text/plain": [
       "Thread(id='thread_diGXrYiiiQvAXEy1XJXvtvIY', created_at=1704935489, metadata={}, object='thread')"
      ]
     },
     "execution_count": 9,
     "metadata": {},
     "output_type": "execute_result"
    }
   ],
   "source": [
    "thread = client.beta.threads.create()\n",
    "thread"
   ]
  },
  {
   "cell_type": "markdown",
   "id": "280b587c-0bc5-4abd-9914-7e4638e7b837",
   "metadata": {},
   "source": [
    "### Step 4: Add your message query to the thread for the Assistant\n",
    "\n",
    "We use explict CO-STAR prompt framework with detailed instructions\n",
    "how to analyse our JSON document entries."
   ]
  },
  {
   "cell_type": "code",
   "execution_count": 10,
   "id": "67eadc15-edcd-4472-929d-f601b7676727",
   "metadata": {},
   "outputs": [],
   "source": [
    "content_prompt = \"\"\"\n",
    "# CONTEXT #\n",
    "I sell products online. I have a dataset of information on my customers: [category, description, price, \n",
    "number_purchased, consumer_rating, gender, location].\n",
    "\n",
    "#############\n",
    "\n",
    "# OBJECTIVE #\n",
    "I want you use the entire JSON dataset to cluster my customers into groups and then give me \n",
    "ideas on how to target my marketing efforts towards each group. Do not\n",
    "use partial dataset. Search the entire JSON document.\n",
    "\n",
    "Use this step-by-step process and do not use code:\n",
    "\n",
    "1. CLUSTERS: Use the locations of the dataset to cluster the locations in the dataset, such that customers within \n",
    "the same cluster have similar category of product category while customers in different clusters have distinctly \n",
    "different product category. \n",
    "\n",
    "For each cluster found,\n",
    "2. CLUSTER_INFORMATION: Describe the cluster in terms of the product and category description.\n",
    "3. CLUSTER_NAME: Interpret [CLUSTER_INFORMATION] to obtain a short name for the customer group in this cluster.\n",
    "4. MARKETING_IDEAS: Generate ideas to market my product to this customer group.\n",
    "5. RATIONALE: Explain why [MARKETING_IDEAS] is relevant and effective for this customer group.\n",
    "\n",
    "#############\n",
    "\n",
    "# STYLE #\n",
    "Business analytics report\n",
    "\n",
    "#############\n",
    "\n",
    "# TONE #\n",
    "Professional, technical\n",
    "\n",
    "#############\n",
    "\n",
    "# AUDIENCE #\n",
    "My business partners. Convince them that your marketing strategy is well thought-out and fully backed by data.\n",
    "\n",
    "#############\n",
    "\n",
    "# RESPONSE: MARKDOWN REPORT #\n",
    "<For each cluster in [CLUSTERS]>\n",
    "— Customer Group: [CLUSTER_NAME]\n",
    "— Profile: [CLUSTER_INFORMATION]\n",
    "— Marketing Ideas: [MARKETING_IDEAS]\n",
    "— Rationale: [RATIONALE]\n",
    "\"\"\""
   ]
  },
  {
   "cell_type": "code",
   "execution_count": 11,
   "id": "cc4a4dfa-fed8-450e-a65e-88113f114cb4",
   "metadata": {},
   "outputs": [
    {
     "data": {
      "text/plain": [
       "{'id': 'msg_DvzICtSaBa2UOPHcNyV1GIhn',\n",
       " 'assistant_id': None,\n",
       " 'content': [{'text': {'annotations': [],\n",
       "    'value': '\\n# CONTEXT #\\nI sell products online. I have a dataset of information on my customers: [category, description, price, \\nnumber_purchased, consumer_rating, gender, location].\\n\\n#############\\n\\n# OBJECTIVE #\\nI want you use the entire JSON dataset to cluster my customers into groups and then give me \\nideas on how to target my marketing efforts towards each group. Do not\\nuse partial dataset. Search the entire JSON document.\\n\\nUse this step-by-step process and do not use code:\\n\\n1. CLUSTERS: Use the locations of the dataset to cluster the locations in the dataset, such that customers within \\nthe same cluster have similar category of product category while customers in different clusters have distinctly \\ndifferent product category. \\n\\nFor each cluster found,\\n2. CLUSTER_INFORMATION: Describe the cluster in terms of the product and category description.\\n3. CLUSTER_NAME: Interpret [CLUSTER_INFORMATION] to obtain a short name for the customer group in this cluster.\\n4. MARKETING_IDEAS: Generate ideas to market my product to this customer group.\\n5. RATIONALE: Explain why [MARKETING_IDEAS] is relevant and effective for this customer group.\\n\\n#############\\n\\n# STYLE #\\nBusiness analytics report\\n\\n#############\\n\\n# TONE #\\nProfessional, technical\\n\\n#############\\n\\n# AUDIENCE #\\nMy business partners. Convince them that your marketing strategy is well thought-out and fully backed by data.\\n\\n#############\\n\\n# RESPONSE: MARKDOWN REPORT #\\n<For each cluster in [CLUSTERS]>\\n— Customer Group: [CLUSTER_NAME]\\n— Profile: [CLUSTER_INFORMATION]\\n— Marketing Ideas: [MARKETING_IDEAS]\\n— Rationale: [RATIONALE]\\n'},\n",
       "   'type': 'text'}],\n",
       " 'created_at': 1704935489,\n",
       " 'file_ids': [],\n",
       " 'metadata': {},\n",
       " 'object': 'thread.message',\n",
       " 'role': 'user',\n",
       " 'run_id': None,\n",
       " 'thread_id': 'thread_diGXrYiiiQvAXEy1XJXvtvIY'}"
      ]
     },
     "execution_count": 11,
     "metadata": {},
     "output_type": "execute_result"
    }
   ],
   "source": [
    "message = client.beta.threads.messages.create(\n",
    "    thread_id=thread.id, \n",
    "    role=\"user\",\n",
    "    content=content_prompt,\n",
    ")\n",
    "message.model_dump()"
   ]
  },
  {
   "cell_type": "markdown",
   "id": "6732aff7-a367-4d36-b431-fdfd9894a150",
   "metadata": {},
   "source": [
    "### Step 5: Create a Run for the Assistant\n",
    "A Run is an invocation of an Assistant on a Thread. The Assistant uses its configuration and the Thread’s Messages to perform tasks by calling models and tools. As part of a Run, the Assistant appends Messages to the Thread.\n",
    "\n",
    "Note that Assistance will run asychronously: the run has the following\n",
    "lifecycle and states: [*expired, completed, failed, cancelled*]. Run objects can have multiple statuses.\n",
    "\n",
    "<img src=\"https://cdn.openai.com/API/docs/images/diagram-1.png\">"
   ]
  },
  {
   "cell_type": "code",
   "execution_count": 12,
   "id": "14da71a1-bcd9-45b0-8efe-a467f3a8ca29",
   "metadata": {},
   "outputs": [
    {
     "name": "stdout",
     "output_type": "stream",
     "text": [
      "{\n",
      "  \"id\": \"run_8aBTwcjCkAPxfo6FIRXFPyk6\",\n",
      "  \"assistant_id\": \"asst_B4TrGwxKqrybPLKzLrWl9WOa\",\n",
      "  \"cancelled_at\": null,\n",
      "  \"completed_at\": null,\n",
      "  \"created_at\": 1704935490,\n",
      "  \"expires_at\": 1704936090,\n",
      "  \"failed_at\": null,\n",
      "  \"file_ids\": [\n",
      "    \"file-sAUQwHPyxY8X66nDp58qiJCI\"\n",
      "  ],\n",
      "  \"instructions\": \"Please address the user as Jules Dmatrix.  \\n    Do not provide an answer to the question if the information was not retrieved from \\n    the knowledge base.\\n\",\n",
      "  \"last_error\": null,\n",
      "  \"metadata\": {},\n",
      "  \"model\": \"gpt-4-1106-preview\",\n",
      "  \"object\": \"thread.run\",\n",
      "  \"required_action\": null,\n",
      "  \"started_at\": null,\n",
      "  \"status\": \"queued\",\n",
      "  \"thread_id\": \"thread_diGXrYiiiQvAXEy1XJXvtvIY\",\n",
      "  \"tools\": [\n",
      "    {\n",
      "      \"type\": \"retrieval\"\n",
      "    }\n",
      "  ]\n",
      "}\n"
     ]
    }
   ],
   "source": [
    "instruction_msg = \"\"\"Please address the user as Jules Dmatrix.  \n",
    "    Do not provide an answer to the question if the information was not retrieved from \n",
    "    the knowledge base.\n",
    "\"\"\"\n",
    "run = create_assistant_run(client, assistant, thread, instruction_msg)\n",
    "print(run.model_dump_json(indent=2))"
   ]
  },
  {
   "cell_type": "code",
   "execution_count": 13,
   "id": "3c664455-e287-49af-b1b1-3b8c7253c6a6",
   "metadata": {},
   "outputs": [
    {
     "name": "stdout",
     "output_type": "stream",
     "text": [
      "{\n",
      "  \"id\": \"run_8aBTwcjCkAPxfo6FIRXFPyk6\",\n",
      "  \"assistant_id\": \"asst_B4TrGwxKqrybPLKzLrWl9WOa\",\n",
      "  \"cancelled_at\": null,\n",
      "  \"completed_at\": null,\n",
      "  \"created_at\": 1704935490,\n",
      "  \"expires_at\": 1704936090,\n",
      "  \"failed_at\": null,\n",
      "  \"file_ids\": [\n",
      "    \"file-sAUQwHPyxY8X66nDp58qiJCI\"\n",
      "  ],\n",
      "  \"instructions\": \"Please address the user as Jules Dmatrix.  \\n    Do not provide an answer to the question if the information was not retrieved from \\n    the knowledge base.\\n\",\n",
      "  \"last_error\": null,\n",
      "  \"metadata\": {},\n",
      "  \"model\": \"gpt-4-1106-preview\",\n",
      "  \"object\": \"thread.run\",\n",
      "  \"required_action\": null,\n",
      "  \"started_at\": 1704935490,\n",
      "  \"status\": \"in_progress\",\n",
      "  \"thread_id\": \"thread_diGXrYiiiQvAXEy1XJXvtvIY\",\n",
      "  \"tools\": [\n",
      "    {\n",
      "      \"type\": \"retrieval\"\n",
      "    }\n",
      "  ]\n",
      "}\n"
     ]
    }
   ],
   "source": [
    "run_status = client.beta.threads.runs.retrieve(\n",
    "    thread_id = thread.id,\n",
    "    run_id = run.id\n",
    ")\n",
    "print(run_status.model_dump_json(indent=2))"
   ]
  },
  {
   "cell_type": "markdown",
   "id": "2a8ae77b-5630-461f-afa8-d37eacb55c30",
   "metadata": {},
   "source": [
    "### Step 6: Loop through the Assistant run until status is 'completed'"
   ]
  },
  {
   "cell_type": "code",
   "execution_count": 14,
   "id": "0b614db4-0cfa-47fc-8c20-64a6a17ede21",
   "metadata": {},
   "outputs": [
    {
     "name": "stdout",
     "output_type": "stream",
     "text": [
      "{\n",
      "    \"id\": \"run_8aBTwcjCkAPxfo6FIRXFPyk6\",\n",
      "    \"assistant_id\": \"asst_B4TrGwxKqrybPLKzLrWl9WOa\",\n",
      "    \"cancelled_at\": null,\n",
      "    \"completed_at\": null,\n",
      "    \"created_at\": 1704935490,\n",
      "    \"expires_at\": 1704936090,\n",
      "    \"failed_at\": null,\n",
      "    \"file_ids\": [\n",
      "        \"file-sAUQwHPyxY8X66nDp58qiJCI\"\n",
      "    ],\n",
      "    \"instructions\": \"Please address the user as Jules Dmatrix.  \\n    Do not provide an answer to the question if the information was not retrieved from \\n    the knowledge base.\\n\",\n",
      "    \"last_error\": null,\n",
      "    \"metadata\": {},\n",
      "    \"model\": \"gpt-4-1106-preview\",\n",
      "    \"object\": \"thread.run\",\n",
      "    \"required_action\": null,\n",
      "    \"started_at\": 1704935490,\n",
      "    \"status\": \"in_progress\",\n",
      "    \"thread_id\": \"thread_diGXrYiiiQvAXEy1XJXvtvIY\",\n",
      "    \"tools\": [\n",
      "        {\n",
      "            \"type\": \"retrieval\"\n",
      "        }\n",
      "    ]\n",
      "}\n"
     ]
    }
   ],
   "source": [
    "run_status = client.beta.threads.runs.retrieve(\n",
    "    thread_id = thread.id,\n",
    "    run_id = run.id\n",
    ")\n",
    "print(run_status.model_dump_json(indent=4))"
   ]
  },
  {
   "cell_type": "markdown",
   "id": "aa1887e4-febb-4951-8272-66aad49131fc",
   "metadata": {},
   "source": [
    "#### Poll until Assistant run is completed"
   ]
  },
  {
   "cell_type": "code",
   "execution_count": 15,
   "id": "61c8b3b1-44f2-4e8d-a0fc-8f90172dc615",
   "metadata": {},
   "outputs": [
    {
     "name": "stdout",
     "output_type": "stream",
     "text": [
      "in_progress\n",
      "in_progress\n",
      "in_progress\n",
      "in_progress\n",
      "completed\n"
     ]
    }
   ],
   "source": [
    "loop_until_completed(client, thread, run_status)"
   ]
  },
  {
   "cell_type": "markdown",
   "id": "eb2a0296-d1dc-4245-8e56-6f2a68ff1dc4",
   "metadata": {},
   "source": [
    "### Step 7: Retrieve the message returned by the assistance\n",
    "Only when the run is **completed** can you fetch the messages from the Thread"
   ]
  },
  {
   "cell_type": "code",
   "execution_count": 16,
   "id": "183234ef-6e69-4aff-a2b2-da36a3703a76",
   "metadata": {},
   "outputs": [
    {
     "name": "stdout",
     "output_type": "stream",
     "text": [
      "('assistant:After reviewing the dataset, the following clusters and marketing '\n",
      " 'strategies have been developed based on the product categories and customer '\n",
      " 'locations.\\n'\n",
      " '\\n'\n",
      " '— Customer Group: West Coast Tech Enthusiasts\\n'\n",
      " '— Profile: This cluster includes customers from San Francisco and San Diego '\n",
      " 'who commonly purchase high-performance laptops and the latest smartphones '\n",
      " 'with cutting-edge technology. They have a preference for products that '\n",
      " 'enhance their work and play with state-of-the-art features.\\n'\n",
      " '— Marketing Ideas:\\n'\n",
      " '  - Run targeted ads on social media platforms known for tech-savvy users, '\n",
      " 'like Twitter and Reddit.\\n'\n",
      " '  - Collaborate with tech influencers in these areas for honest reviews and '\n",
      " 'product showcases.\\n'\n",
      " '  - Offer bundle deals for purchasing laptops with compatible smartphones.\\n'\n",
      " '— Rationale: The West Coast is well-known for its concentration of '\n",
      " 'technology enthusiasts and professionals. Marketing efforts focused on '\n",
      " 'showcasing the advanced features and compatibility of high-tech products are '\n",
      " 'likely to resonate with this group. Social media and influencer reviews can '\n",
      " 'help build trust and provide an authentic user experience.\\n'\n",
      " '\\n'\n",
      " '— Customer Group: Southern Style Setters\\n'\n",
      " '— Profile: This cluster consists of customers from Los Angeles, Dallas, and '\n",
      " 'Houston, who frequently buy fashionable items such as jackets, shoes, and '\n",
      " 'pants. They appear to value both comfort and style in their purchases.\\n'\n",
      " '— Marketing Ideas:\\n'\n",
      " '  - Organize pop-up fashion events in these cities to create buzz and offer '\n",
      " 'exclusive items.\\n'\n",
      " '  - Foster partnerships with local fashion bloggers for product features and '\n",
      " 'endorsements.\\n'\n",
      " '  - Introduce a loyalty program offering discounts on fashion items after a '\n",
      " 'certain number of purchases.\\n'\n",
      " '— Rationale: The Southern United States has a unique fashion aesthetic that '\n",
      " 'blends comfort with style. By involving local influencers and holding '\n",
      " 'exclusive events, the marketing can capitalize on regional tastes. A loyalty '\n",
      " 'program can incentivize repeat purchases and establish brand loyalty.\\n'\n",
      " '\\n'\n",
      " '— Customer Group: Northeastern Knowledge Seekers\\n'\n",
      " '— Profile: Customers from Boston and New York frequently purchase a variety '\n",
      " 'of books, indicating an interest in both educational and leisure reading. '\n",
      " 'They value a range of books from bestsellers to literary classics.\\n'\n",
      " '— Marketing Ideas:\\n'\n",
      " '  - Tailor email campaigns with personalized book recommendations based on '\n",
      " 'past purchases.\\n'\n",
      " '  - Partner with local libraries and book clubs for reading events and '\n",
      " 'author signings.\\n'\n",
      " '  - Offer discounts on book bundles categorized by genre or author to '\n",
      " 'encourage bulk purchases.\\n'\n",
      " '— Rationale: The Northeast has a well-established culture of reading and '\n",
      " 'scholarship. Personalized marketing efforts that appeal to the individual '\n",
      " 'interests of readers can help in building a rapport with this customer '\n",
      " 'group. Community engagement through local events will deepen the '\n",
      " 'relationship and foster repeat business. \\n'\n",
      " '\\n'\n",
      " 'These strategies take advantage of regional characteristics and consumer '\n",
      " 'preferences to deliver personalized and engaging marketing campaigns, backed '\n",
      " 'by the reviewing of the full dataset. Using a data-driven approach will help '\n",
      " 'convince business partners of the thoroughness and relevancy of these '\n",
      " 'targeted marketing strategies.')\n",
      "('user:\\n'\n",
      " '# CONTEXT #\\n'\n",
      " 'I sell products online. I have a dataset of information on my customers: '\n",
      " '[category, description, price, \\n'\n",
      " 'number_purchased, consumer_rating, gender, location].\\n'\n",
      " '\\n'\n",
      " '#############\\n'\n",
      " '\\n'\n",
      " '# OBJECTIVE #\\n'\n",
      " 'I want you use the entire JSON dataset to cluster my customers into groups '\n",
      " 'and then give me \\n'\n",
      " 'ideas on how to target my marketing efforts towards each group. Do not\\n'\n",
      " 'use partial dataset. Search the entire JSON document.\\n'\n",
      " '\\n'\n",
      " 'Use this step-by-step process and do not use code:\\n'\n",
      " '\\n'\n",
      " '1. CLUSTERS: Use the locations of the dataset to cluster the locations in '\n",
      " 'the dataset, such that customers within \\n'\n",
      " 'the same cluster have similar category of product category while customers '\n",
      " 'in different clusters have distinctly \\n'\n",
      " 'different product category. \\n'\n",
      " '\\n'\n",
      " 'For each cluster found,\\n'\n",
      " '2. CLUSTER_INFORMATION: Describe the cluster in terms of the product and '\n",
      " 'category description.\\n'\n",
      " '3. CLUSTER_NAME: Interpret [CLUSTER_INFORMATION] to obtain a short name for '\n",
      " 'the customer group in this cluster.\\n'\n",
      " '4. MARKETING_IDEAS: Generate ideas to market my product to this customer '\n",
      " 'group.\\n'\n",
      " '5. RATIONALE: Explain why [MARKETING_IDEAS] is relevant and effective for '\n",
      " 'this customer group.\\n'\n",
      " '\\n'\n",
      " '#############\\n'\n",
      " '\\n'\n",
      " '# STYLE #\\n'\n",
      " 'Business analytics report\\n'\n",
      " '\\n'\n",
      " '#############\\n'\n",
      " '\\n'\n",
      " '# TONE #\\n'\n",
      " 'Professional, technical\\n'\n",
      " '\\n'\n",
      " '#############\\n'\n",
      " '\\n'\n",
      " '# AUDIENCE #\\n'\n",
      " 'My business partners. Convince them that your marketing strategy is well '\n",
      " 'thought-out and fully backed by data.\\n'\n",
      " '\\n'\n",
      " '#############\\n'\n",
      " '\\n'\n",
      " '# RESPONSE: MARKDOWN REPORT #\\n'\n",
      " '<For each cluster in [CLUSTERS]>\\n'\n",
      " '— Customer Group: [CLUSTER_NAME]\\n'\n",
      " '— Profile: [CLUSTER_INFORMATION]\\n'\n",
      " '— Marketing Ideas: [MARKETING_IDEAS]\\n'\n",
      " '— Rationale: [RATIONALE]\\n')\n"
     ]
    }
   ],
   "source": []
  },
  {
   "cell_type": "code",
   "execution_count": 17,
   "id": "d2aa0b64-65bc-4bdc-ba5d-f772646acdf8",
   "metadata": {},
   "outputs": [
    {
     "name": "stdout",
     "output_type": "stream",
     "text": [
      "AssistantDeleted(id='asst_B4TrGwxKqrybPLKzLrWl9WOa', deleted=True, object='assistant.deleted')\n",
      "deleting file id: file-sAUQwHPyxY8X66nDp58qiJCI...\n",
      "FileDeleted(id='file-sAUQwHPyxY8X66nDp58qiJCI', deleted=True, object='file')\n"
     ]
    }
   ],
   "source": [
    "# Delete the assistant. Optionally, you can delete any files\n",
    "# associated with it that you have uploaded onto the OpenAI platform\n",
    "\n",
    "response = client.beta.assistants.delete(assistant.id)\n",
    "print(response)\n",
    "\n",
    "for file_id in file_obj_ids:\n",
    "    print(f\"deleting file id: {file_id}...\")\n",
    "    response = client.files.delete(file_id)\n",
    "    print(response)"
   ]
  }
 ],
 "metadata": {
  "kernelspec": {
   "display_name": "Python 3 (ipykernel)",
   "language": "python",
   "name": "python3"
  },
  "language_info": {
   "codemirror_mode": {
    "name": "ipython",
    "version": 3
   },
   "file_extension": ".py",
   "mimetype": "text/x-python",
   "name": "python",
   "nbconvert_exporter": "python",
   "pygments_lexer": "ipython3",
   "version": "3.10.13"
  }
 },
 "nbformat": 4,
 "nbformat_minor": 5
}
