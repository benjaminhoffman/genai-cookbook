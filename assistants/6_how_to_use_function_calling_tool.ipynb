{
 "cells": [
  {
   "attachments": {},
   "cell_type": "markdown",
   "id": "d072e6a7-73d0-42aa-a720-d54a425a57de",
   "metadata": {},
   "source": [
    "# OpenAI Assistants APIs\n",
    "\n",
    "The Assistants' API lets you create AI assistants in your applications. These assistants follow instructions. Thy use models, tools, and knowledge to answer user questions. In this notebook we are going to use one of the tools, retriever,\n",
    "to query against two pdf documents we will upload.\n",
    "\n",
    "The architecture and data flow diagram below depicts the interaction among all components that comprise OpenAI Assistant APIs. Central to understand is the Threads and Runtime that executes asynchronously, adding and reading messages to the Threads.\n",
    "\n",
    "For integrating the Assistants API:\n",
    "\n",
    "1. Creat an Assistant with custom instructions and select a model. Optionally, enable tools like Code Interpreter, Retrieval, and Function Calling.\n",
    "\n",
    "2. Initiate a Thread for each user conversation.\n",
    "    \n",
    "3. Add user queries as Messages to the Thread.\n",
    "\n",
    "4.  Run the Assistant on the Thread for responses, which automatically utilizes the enabled tools\n",
    "\n",
    "Below we follow those steps to demonstrate how to integrate Assistants API, using function tool, to ask our Assistant to solve simple and complex Maths problems.\n",
    "\n",
    "The OpenAI documentation describes in details [how Assistants work](https://platform.openai.com/docs/assistants/how-it-works).\n",
    "\n",
    "<img src=\"./images/assistant_ai_tools_functions.png\">\n",
    "\n",
    "**Note**: Much of the code and diagrams are inspired from  Randy Michak of [Empowerment AI](https://www.youtube.com/watch?v=yzNG3NnF0YE)"
   ]
  },
  {
   "cell_type": "markdown",
   "id": "fd0265db-3476-4bbc-9ff1-e7edba54d336",
   "metadata": {},
   "source": [
    "## How to use Assistant API using Tools: Function calling"
   ]
  },
  {
   "cell_type": "code",
   "execution_count": 26,
   "id": "3cb24888-2462-4866-9bf6-4c9be671b3dd",
   "metadata": {},
   "outputs": [],
   "source": [
    "import warnings\n",
    "import os\n",
    "import json\n",
    "import time\n",
    "\n",
    "import openai\n",
    "from openai import OpenAI\n",
    "\n",
    "from dotenv import load_dotenv, find_dotenv\n",
    "from typing import List, Dict, Any\n",
    "from assistant_utils import print_thread_messages, upload_files, \\\n",
    "                            loop_until_completed, create_assistant_run\n",
    "from function_utils import add_prime_numbers"
   ]
  },
  {
   "cell_type": "markdown",
   "id": "d82d520a-b77c-4b5b-937b-fb3dfc52ffa8",
   "metadata": {},
   "source": [
    "Load our .env file with respective API keys and base url endpoints. Here you can either use OpenAI or Anyscale Endpoints. **Note**: Assistant API calling for Anyscale Endpoints (which serves only OS modles) is not yet aviable)."
   ]
  },
  {
   "cell_type": "code",
   "execution_count": 27,
   "id": "6e8dddba-664d-4572-9ec3-3c2639c0a8f8",
   "metadata": {},
   "outputs": [
    {
     "name": "stdout",
     "output_type": "stream",
     "text": [
      "Using MODEL=gpt-4-1106-preview; base=https://api.openai.com/v1\n"
     ]
    }
   ],
   "source": [
    "warnings.filterwarnings('ignore')\n",
    "\n",
    "_ = load_dotenv(find_dotenv()) # read local .env file\n",
    "\n",
    "openai.api_base = os.getenv(\"ANYSCALE_API_BASE\", os.getenv(\"OPENAI_API_BASE\"))\n",
    "openai.api_key = os.getenv(\"ANYSCALE_API_KEY\", os.getenv(\"OPENAI_API_KEY\"))\n",
    "MODEL = os.getenv(\"MODEL\")\n",
    "print(f\"Using MODEL={MODEL}; base={openai.api_base}\")"
   ]
  },
  {
   "cell_type": "code",
   "execution_count": 28,
   "id": "f67991c0-35fa-4ceb-b047-7ee2742a93a3",
   "metadata": {},
   "outputs": [],
   "source": [
    "from openai import OpenAI\n",
    "\n",
    "client = OpenAI(\n",
    "    api_key = openai.api_key,\n",
    "    base_url = openai.api_base\n",
    ")"
   ]
  },
  {
   "cell_type": "markdown",
   "id": "5111dde4-d216-48d9-9951-04934b067f40",
   "metadata": {},
   "source": [
    "### Step 1: Create our custom function definition\n",
    "This our JSON object definiton for our function:\n",
    "* name of the function\n",
    "* parameters for the funtion\n",
    "* type of arguments\n",
    "* descriptions for function and each parameter type"
   ]
  },
  {
   "cell_type": "code",
   "execution_count": 29,
   "id": "0bab1599-3266-49c6-8dd0-a540ed8d675b",
   "metadata": {},
   "outputs": [],
   "source": [
    "sum_of_prime_numbers = {\n",
    "        \"name\": \"add_prime_numbers\",\n",
    "        \"description\": \"Add a list of 25 integer prime numbers between 2 and 100\",\n",
    "        \"parameters\": {\n",
    "            \"type\": \"object\",\n",
    "            \"properties\": {\n",
    "                \"prime_numbers\": {\n",
    "                    \"type\": \"array\",\n",
    "                    \"items\": {\n",
    "                    \"type\": \"integer\",\n",
    "                        \"description\": \"A integer list of 25 random prime numbers betwee 2 and 100\"\n",
    "                         },\n",
    "                        \"description\": \"List of of 25 prime numbers to be added\"\n",
    "                    }\n",
    "                },\n",
    "                \"required\": [\"add_prime_numbers\"]\n",
    "            }\n",
    "        }\n",
    "\n",
    "tools = [{'type': 'function', 'function': sum_of_prime_numbers}]"
   ]
  },
  {
   "cell_type": "markdown",
   "id": "435191b6-761e-48b6-87f6-82a2531a0b35",
   "metadata": {},
   "source": [
    "### Step 2: Create an Assistant \n",
    "Before you can start interacting with the Assistant to carry out any tasks, you need an AI assistant object. Supply the Assistant with a model to use, tools, i.e., functions"
   ]
  },
  {
   "cell_type": "code",
   "execution_count": 30,
   "id": "d66f645e-ac3e-41d0-a139-9fe5c1fd4fc9",
   "metadata": {},
   "outputs": [
    {
     "data": {
      "text/plain": [
       "Assistant(id='asst_WKK1dkECzsIXO79mcx5s57P4', created_at=1703728183, description=None, file_ids=[], instructions='You are a knowledgeable chatbot trained to help \\n                                               solve basic and advanced grade 8-12 Maths problems.\\n                                               Use a neutral, teacher and  advisory tone', metadata={}, model='gpt-4-1106-preview', name='AI Math Tutor', object='assistant', tools=[ToolFunction(function=FunctionDefinition(name='add_prime_numbers', description='Add a list of 25 integer prime numbers between 2 and 100', parameters={'type': 'object', 'properties': {'prime_numbers': {'type': 'array', 'items': {'type': 'integer', 'description': 'A integer list of 25 random prime numbers betwee 2 and 100'}, 'description': 'List of of 25 prime numbers to be added'}}, 'required': ['add_prime_numbers']}), type='function')])"
      ]
     },
     "execution_count": 30,
     "metadata": {},
     "output_type": "execute_result"
    }
   ],
   "source": [
    "assistant = client.beta.assistants.create(name=\"AI Math Tutor\",\n",
    "                                           instructions=\"\"\"You are a knowledgeable chatbot trained to help \n",
    "                                               solve basic and advanced grade 8-12 Maths problems.\n",
    "                                               Use a neutral, teacher and  advisory tone\"\"\",\n",
    "                                           model=MODEL,\n",
    "                                           tools=tools)\n",
    "assistant"
   ]
  },
  {
   "cell_type": "markdown",
   "id": "370bf037-a231-42d3-bc6f-531a6410c4c8",
   "metadata": {},
   "source": [
    "### Step 3: Create an empty thread \n",
    "As the diagram above shows, the Thread is the object with which the AI Assistant runs will interact with, by fetching messages and putting messages to it. Think of a thread as a \"conversation session between an Assistant and a user. Threads store Messages and automatically handle truncation to fit content into a model’s context window.\""
   ]
  },
  {
   "cell_type": "code",
   "execution_count": 31,
   "id": "83303fa6-6c6c-4649-b0f7-aa2640a8ea4c",
   "metadata": {},
   "outputs": [
    {
     "data": {
      "text/plain": [
       "Thread(id='thread_FHtsNH37IC3lF8wzNaYpLg3e', created_at=1703728184, metadata={}, object='thread')"
      ]
     },
     "execution_count": 31,
     "metadata": {},
     "output_type": "execute_result"
    }
   ],
   "source": [
    "thread = client.beta.threads.create()\n",
    "thread"
   ]
  },
  {
   "cell_type": "markdown",
   "id": "85fea1d7-7ce7-45ad-a821-f2b9a0dd971c",
   "metadata": {},
   "source": [
    "### Step 4: Add your message query to the thread for the Assistant"
   ]
  },
  {
   "cell_type": "code",
   "execution_count": 32,
   "id": "1cb61704-6629-41f8-9b74-fd5f18fed106",
   "metadata": {},
   "outputs": [
    {
     "data": {
      "text/plain": [
       "ThreadMessage(id='msg_b2VlWFzbHVFa5ZVbSFqzgdZc', assistant_id=None, content=[MessageContentText(text=Text(annotations=[], value='Generate 25 random prime numbers between 2 and 100\\n    as a list, and add the numbers in this generated list\\n    '), type='text')], created_at=1703728185, file_ids=[], metadata={}, object='thread.message', role='user', run_id=None, thread_id='thread_FHtsNH37IC3lF8wzNaYpLg3e')"
      ]
     },
     "execution_count": 32,
     "metadata": {},
     "output_type": "execute_result"
    }
   ],
   "source": [
    "message = client.beta.threads.messages.create(\n",
    "    thread_id=thread.id, \n",
    "    role=\"user\",\n",
    "    content=\"\"\"Generate 25 random prime numbers between 2 and 100\n",
    "    as a list, and add the numbers in this generated list\n",
    "    \"\"\"\n",
    ")\n",
    "message"
   ]
  },
  {
   "cell_type": "markdown",
   "id": "2b4031de-c5ed-4c1e-9ea9-7b3f9e3149f5",
   "metadata": {},
   "source": [
    "### Step 5: Create a Run for the Assistant\n",
    "A Run is an invocation of an Assistant on a Thread. The Assistant uses it’s configuration and the Thread’s Messages to perform tasks by calling models and tools. As part of a Run, the Assistant appends Messages to the Thread.\n",
    "\n",
    "Note that Assistance will run asychronously: the run has the following\n",
    "lifecycle and states: [*expired, completed, requires, failed, cancelled*]. Run objects can have multiple statuses.\n",
    "\n",
    "<img src=\"https://cdn.openai.com/API/docs/images/diagram-1.png\">"
   ]
  },
  {
   "cell_type": "code",
   "execution_count": 33,
   "id": "b29987d9-2293-4b8c-9a86-5bf30088b3b6",
   "metadata": {},
   "outputs": [
    {
     "name": "stdout",
     "output_type": "stream",
     "text": [
      "{\n",
      "  \"id\": \"run_60k8auleHJmxXXvYy7df561b\",\n",
      "  \"assistant_id\": \"asst_WKK1dkECzsIXO79mcx5s57P4\",\n",
      "  \"cancelled_at\": null,\n",
      "  \"completed_at\": null,\n",
      "  \"created_at\": 1703728187,\n",
      "  \"expires_at\": 1703728787,\n",
      "  \"failed_at\": null,\n",
      "  \"file_ids\": [],\n",
      "  \"instructions\": \"Generate a random list of 25 prime numbers between \\n2 and 100.\",\n",
      "  \"last_error\": null,\n",
      "  \"metadata\": {},\n",
      "  \"model\": \"gpt-4-1106-preview\",\n",
      "  \"object\": \"thread.run\",\n",
      "  \"required_action\": null,\n",
      "  \"started_at\": null,\n",
      "  \"status\": \"queued\",\n",
      "  \"thread_id\": \"thread_FHtsNH37IC3lF8wzNaYpLg3e\",\n",
      "  \"tools\": [\n",
      "    {\n",
      "      \"function\": {\n",
      "        \"name\": \"add_prime_numbers\",\n",
      "        \"description\": \"Add a list of 25 integer prime numbers between 2 and 100\",\n",
      "        \"parameters\": {\n",
      "          \"type\": \"object\",\n",
      "          \"properties\": {\n",
      "            \"prime_numbers\": {\n",
      "              \"type\": \"array\",\n",
      "              \"items\": {\n",
      "                \"type\": \"integer\",\n",
      "                \"description\": \"A integer list of 25 random prime numbers betwee 2 and 100\"\n",
      "              },\n",
      "              \"description\": \"List of of 25 prime numbers to be added\"\n",
      "            }\n",
      "          },\n",
      "          \"required\": [\n",
      "            \"add_prime_numbers\"\n",
      "          ]\n",
      "        }\n",
      "      },\n",
      "      \"type\": \"function\"\n",
      "    }\n",
      "  ]\n",
      "}\n"
     ]
    }
   ],
   "source": [
    "instruction_msg = \"\"\"Generate a random list of 25 prime numbers between \n",
    "2 and 100.\"\"\"\n",
    "run = create_assistant_run(client, assistant, thread, instruction_msg)\n",
    "print(run.model_dump_json(indent=2))"
   ]
  },
  {
   "cell_type": "markdown",
   "id": "63a65776-b355-4988-8a27-8369e53f77ca",
   "metadata": {},
   "source": [
    "### Step 6: Retrieve the status and loop until the Assistant run status is `completed`"
   ]
  },
  {
   "cell_type": "code",
   "execution_count": 34,
   "id": "96d60dbb-89c6-4028-96eb-b5ed4b4b9728",
   "metadata": {},
   "outputs": [
    {
     "name": "stdout",
     "output_type": "stream",
     "text": [
      "requires_action\n",
      "Assistant taking required action:Function calling...\n",
      "in_progress\n",
      "Assistant state: in_progress waiting Assistant to process...\n",
      "completed\n",
      "Final output from the run:\n",
      "\n",
      "('assistant:I have generated a list of 25 random prime numbers between 2 and '\n",
      " '100 and summed them up. The total sum of these prime numbers is 1060, and it '\n",
      " 'is an even number.')\n",
      "('user:Generate 25 random prime numbers between 2 and 100\\n'\n",
      " '    as a list, and add the numbers in this generated list\\n'\n",
      " '    ')\n"
     ]
    }
   ],
   "source": [
    "while True:\n",
    "    # Wait for 2.5 seconds\n",
    "    time.sleep(2.5)\n",
    "\n",
    "    # Retrieve the run status\n",
    "    run_status = client.beta.threads.runs.retrieve(\n",
    "        thread_id=thread.id,\n",
    "        run_id=run.id\n",
    "    )\n",
    "    print(run_status.status)\n",
    "    \n",
    "    # If run is completed, get all the messages\n",
    "    # from on thread inserted by the Assistant's run\n",
    "    if run_status.status == 'completed':\n",
    "        messages = client.beta.threads.messages.list(\n",
    "            thread_id=thread.id)\n",
    "\n",
    "        # Loop through messages and print content based on role\n",
    "        # and break out of the while loop\n",
    "        print(\"Final output from the run:\\n\")\n",
    "        print_thread_messages(client, thread)        \n",
    "        break\n",
    "    elif run_status.status == 'requires_action':\n",
    "        print(\"Assistant taking required action: Function calling...\")\n",
    "        required_actions = run_status.required_action.submit_tool_outputs.model_dump()\n",
    "        \n",
    "        # Aggregate output from any function\n",
    "        tool_outputs = []\n",
    "        \n",
    "        import json\n",
    "        for action in required_actions[\"tool_calls\"]:\n",
    "            func_name = action['function']['name']\n",
    "            func_args = json.loads(action['function']['arguments'])\n",
    "            if func_name == \"add_prime_numbers\":\n",
    "                sum_of_primes = add_prime_numbers(func_args)\n",
    "                type = \"even\" if sum_of_primes % 2 == 0 else \"odd\"\n",
    "                output = f\"The sum of random prime numbers between 2 and 100 is {sum_of_primes} and it's an {type} number\"\n",
    "                tool_outputs.append({\n",
    "                    \"tool_call_id\": action['id'],\n",
    "                    \"output\": output})\n",
    "            else:\n",
    "                raise ValueError(f\"Unknown function: {func_name}\")\n",
    "            \n",
    "        # Sending outputs from the function call back to the Assistant\n",
    "        client.beta.threads.runs.submit_tool_outputs(\n",
    "            thread_id=thread.id,\n",
    "            run_id=run.id,\n",
    "            tool_outputs=tool_outputs\n",
    "        )\n",
    "    else:\n",
    "        print(f\"Assistant state: {run_status.status} waiting Assistant to process...\")\n",
    "        time.sleep(2.5)"
   ]
  },
  {
   "cell_type": "code",
   "execution_count": 35,
   "id": "d1f886b4-ab92-4db0-9c34-663b31db8737",
   "metadata": {},
   "outputs": [
    {
     "name": "stdout",
     "output_type": "stream",
     "text": [
      "AssistantDeleted(id='asst_WKK1dkECzsIXO79mcx5s57P4', deleted=True, object='assistant.deleted')\n"
     ]
    }
   ],
   "source": [
    "# Delete the assistant. \n",
    "response = client.beta.assistants.delete(assistant.id)\n",
    "print(response)"
   ]
  }
 ],
 "metadata": {
  "kernelspec": {
   "display_name": "Python 3 (ipykernel)",
   "language": "python",
   "name": "python3"
  },
  "language_info": {
   "codemirror_mode": {
    "name": "ipython",
    "version": 3
   },
   "file_extension": ".py",
   "mimetype": "text/x-python",
   "name": "python",
   "nbconvert_exporter": "python",
   "pygments_lexer": "ipython3",
   "version": "3.10.13"
  }
 },
 "nbformat": 4,
 "nbformat_minor": 5
}
