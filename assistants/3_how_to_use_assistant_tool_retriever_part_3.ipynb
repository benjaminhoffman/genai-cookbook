{
 "cells": [
  {
   "cell_type": "markdown",
   "id": "77cf6fb9-ec8a-47e6-bbc8-067559a24825",
   "metadata": {},
   "source": [
    "# OpenAI Assistants APIs\n",
    "\n",
    "The Assistants' API lets you create AI assistants in your applications. These assistants follow instruction. They use models, tools, and knowledge to answer user questions. In this notebook we are going to use one of the tools, retriever, to query against two pdf documents we will upload.\n",
    "\n",
    "The architecture and data flow diagram below depicts the interaction among all components that comprise OpenAI Assistant APIs. Central to understand is the Threads and Runtime that executes asynchronously, adding and reading messages to the Threads.\n",
    "\n",
    "For integrating the Assistants API:\n",
    "\n",
    "1. Creat an Assistant with custom instructions and select a model. Optionally, enable tools like Code Interpreter, Retrieval, and Function Calling.\n",
    "\n",
    "2. Initiate a Thread for each user conversation.\n",
    "    \n",
    "3. Add user queries as Messages to the Thread.\n",
    "\n",
    "4.  Run the Assistant on the Thread for responses, which automatically utilizes the enabled tools\n",
    "\n",
    "Below we follow those steps to demonstrate how to integrate Assistants API, using Retrieval tool, to a) upload a couple of pdf documents and b) use Assistant to query the contents of the document. Consider this as a mini Retrieval Augmented Generation (RAG). \n",
    "\n",
    "The OpenAI documentation describes in details [how Assistants work](https://platform.openai.com/docs/assistants/how-it-works).\n",
    "\n",
    "<img src=\"./images/assistant_ai_tools_retriever.png\">\n",
    "\n",
    "**Note**: Much of the code and diagrams are inspired from  Randy Michak of [Empowerment AI](https://www.youtube.com/watch?v=yzNG3NnF0YE)\n"
   ]
  },
  {
   "cell_type": "markdown",
   "id": "91ad640a-c90c-4d2b-b4ed-6123bed430d8",
   "metadata": {},
   "source": [
    "## How to use Assistant API using Tools: Retriever using JSON documents"
   ]
  },
  {
   "cell_type": "code",
   "execution_count": 18,
   "id": "1944a9a1-642b-4021-b49a-e28f72867a89",
   "metadata": {},
   "outputs": [],
   "source": [
    "import warnings\n",
    "import os\n",
    "import time\n",
    "\n",
    "import openai\n",
    "from openai import OpenAI\n",
    "\n",
    "from dotenv import load_dotenv, find_dotenv\n",
    "from typing import List\n",
    "from assistant_utils import print_thread_messages, upload_files, \\\n",
    "                            loop_until_completed, create_assistant_run"
   ]
  },
  {
   "cell_type": "markdown",
   "id": "ed9f3ff6-0673-4978-9c6b-af75944b1c8b",
   "metadata": {},
   "source": [
    "Load our *.env* file with respective API keys and base url endpoints. Here you can either use OpenAI or Anyscale Endpoints. \n",
    "\n",
    "**Note**: Assistant API calling for Anyscale Endpoints (which serves only OS modles) is not yet aviable)."
   ]
  },
  {
   "cell_type": "code",
   "execution_count": 19,
   "id": "ef220f4b-1c5f-48b4-9aa5-b6729445dafa",
   "metadata": {},
   "outputs": [
    {
     "name": "stdout",
     "output_type": "stream",
     "text": [
      "Using MODEL=gpt-4-1106-preview; base=https://api.openai.com/v1\n"
     ]
    }
   ],
   "source": [
    "warnings.filterwarnings('ignore')\n",
    "\n",
    "_ = load_dotenv(find_dotenv()) # read local .env file\n",
    "\n",
    "openai.api_base = os.getenv(\"ANYSCALE_API_BASE\", os.getenv(\"OPENAI_API_BASE\"))\n",
    "openai.api_key = os.getenv(\"ANYSCALE_API_KEY\", os.getenv(\"OPENAI_API_KEY\"))\n",
    "MODEL = os.getenv(\"MODEL\")\n",
    "print(f\"Using MODEL={MODEL}; base={openai.api_base}\")"
   ]
  },
  {
   "cell_type": "markdown",
   "id": "abcf54e9-e54e-4ce4-b63e-e7c9ccaaa328",
   "metadata": {},
   "source": [
    "Load the JSON file"
   ]
  },
  {
   "cell_type": "code",
   "execution_count": 20,
   "id": "de5bdefc-9ee3-4a67-ac7e-814436ab0764",
   "metadata": {},
   "outputs": [],
   "source": [
    "DOCS_TO_LOAD = [\"docs/product_definitions_1000.json\"]"
   ]
  },
  {
   "cell_type": "code",
   "execution_count": 21,
   "id": "57a6af6f-4d0c-456d-b145-1f951b1adb44",
   "metadata": {},
   "outputs": [],
   "source": [
    "from openai import OpenAI\n",
    "\n",
    "client = OpenAI(\n",
    "    api_key = openai.api_key,\n",
    "    base_url = openai.api_base\n",
    ")"
   ]
  },
  {
   "cell_type": "markdown",
   "id": "df8103d8-b704-4abd-b1bf-dd7224509dd3",
   "metadata": {},
   "source": [
    "### Step 1: Create our knowledgebase\n",
    "This entails uploading your pdfs as your knowledgebase for the retrievers to use. Once you upload a file, the Assistant from OpenAI will break it into smaller chuncks, sort and save these chuncks, index and store the embeddings as vectors. \n",
    "\n",
    "The retrievers use your query to retrieve the best semantic matches on vectors in the knowledgebase, and then feed the LLM, along with the original query, to generate the consolidated and comprehesive answer, similarly to how a large-scale RAG retriever operates.\n",
    "\n",
    "Upload the data files from your storage."
   ]
  },
  {
   "cell_type": "code",
   "execution_count": 24,
   "id": "890370dd-72b4-4f45-9dc0-1ce7b73d8e9b",
   "metadata": {},
   "outputs": [
    {
     "data": {
      "text/plain": [
       "[FileObject(id='file-yO6lVUmOwriJs1SqkwmU1hB0', bytes=261961, created_at=1706047831, filename='product_definitions_1000.json', object='file', purpose='assistants', status='processed', status_details=None)]"
      ]
     },
     "execution_count": 24,
     "metadata": {},
     "output_type": "execute_result"
    }
   ],
   "source": [
    "file_objects = upload_files(client, DOCS_TO_LOAD)\n",
    "file_objects"
   ]
  },
  {
   "cell_type": "code",
   "execution_count": 25,
   "id": "3e76674d-3e44-4460-b953-31aa6642a218",
   "metadata": {},
   "outputs": [
    {
     "data": {
      "text/plain": [
       "['file-yO6lVUmOwriJs1SqkwmU1hB0']"
      ]
     },
     "execution_count": 25,
     "metadata": {},
     "output_type": "execute_result"
    }
   ],
   "source": [
    "# Extract file ids \n",
    "file_obj_ids = []\n",
    "for idx, f_obj in enumerate(file_objects):\n",
    "    file_obj_ids.append(file_objects[idx].id)\n",
    "file_obj_ids"
   ]
  },
  {
   "cell_type": "markdown",
   "id": "00852ad3-9a2a-42cc-ad36-6d8573b55470",
   "metadata": {},
   "source": [
    "### Step 2: Create an Assistant \n",
    "Before you can start interacting with the Assistant to carry out any tasks, you need an AI assistant object. Supply the Assistant with a model to use, tools, and file ids to use for its knowledge base."
   ]
  },
  {
   "cell_type": "code",
   "execution_count": 26,
   "id": "d95915fe-1dc3-4d5e-b7a7-24da24b73210",
   "metadata": {},
   "outputs": [],
   "source": [
    "instructions = \"\"\"\n",
    "    You are a knowledgeable chatbot trained to respond \n",
    "    inquires on documents accessible to you. \n",
    "    Use a professional advisory tone, \n",
    "    and only respond by consulting the \n",
    "    JSON files you are granted access to. \n",
    "    Do not make up answers. If you don't know answer, respond with 'Sorry, I'm afraid\n",
    "    I don't have access to that information.\n",
    "\"\"\"\n"
   ]
  },
  {
   "cell_type": "code",
   "execution_count": 27,
   "id": "1d40d8fa-23f4-47a1-8079-9174d0224f2c",
   "metadata": {},
   "outputs": [
    {
     "data": {
      "text/plain": [
       "Assistant(id='asst_OL1HyHxsItKzG7iK2Dx1AAhs', created_at=1706047849, description=None, file_ids=['file-yO6lVUmOwriJs1SqkwmU1hB0'], instructions=\"\\n    You are a knowledgeable chatbot trained to respond \\n    inquires on documents accessible to you. \\n    Use a professional advisory tone, \\n    and only respond by consulting the \\n    JSON files you are granted access to. \\n    Do not make up answers. If you don't know answer, respond with 'Sorry, I'm afraid\\n    I don't have access to that information.\\n\", metadata={}, model='gpt-4-1106-preview', name='Data Analyst for Marketing Department', object='assistant', tools=[ToolRetrieval(type='retrieval')])"
      ]
     },
     "execution_count": 27,
     "metadata": {},
     "output_type": "execute_result"
    }
   ],
   "source": [
    "\n",
    "assistant = client.beta.assistants.create(name=\"Data Analyst for Marketing Department\",\n",
    "                                           instructions=instructions,\n",
    "                                           model=MODEL,\n",
    "                                           tools = [{'type': 'retrieval'}],  # use the retrieval tool\n",
    "                                           file_ids=file_obj_ids # use these files uploaded as part of your knowledge base\n",
    ")                                        \n",
    "assistant"
   ]
  },
  {
   "cell_type": "markdown",
   "id": "1fb90cc2-1ee8-44a3-8907-f977f7c1bf72",
   "metadata": {},
   "source": [
    "### Step 3: Create a thread \n",
    "As the diagram above shows, the Thread is the object with which the AI Assistant runs will interact with, by fetching messages and putting messages to it. Think of a thread as a \"conversation session between an Assistant and a user. Threads store Messages and automatically handle truncation to fit content into a model’s context window.\""
   ]
  },
  {
   "cell_type": "code",
   "execution_count": 28,
   "id": "c0a1a5b1-35c7-44a7-977e-3e5b141645e8",
   "metadata": {},
   "outputs": [
    {
     "data": {
      "text/plain": [
       "Thread(id='thread_QohqWVwM6oo6TrOFM60tGMWD', created_at=1706047855, metadata={}, object='thread')"
      ]
     },
     "execution_count": 28,
     "metadata": {},
     "output_type": "execute_result"
    }
   ],
   "source": [
    "thread = client.beta.threads.create()\n",
    "thread"
   ]
  },
  {
   "cell_type": "markdown",
   "id": "280b587c-0bc5-4abd-9914-7e4638e7b837",
   "metadata": {},
   "source": [
    "### Step 4: Add your message query to the thread for the Assistant\n",
    "\n",
    "We use explict CO-STAR prompt framework with detailed instructions\n",
    "how to analyse our JSON document entries."
   ]
  },
  {
   "cell_type": "code",
   "execution_count": 29,
   "id": "67eadc15-edcd-4472-929d-f601b7676727",
   "metadata": {},
   "outputs": [],
   "source": [
    "content_prompt = \"\"\"\n",
    "# CONTEXT #\n",
    "I sell products online. I have a dataset of information on my customers: [category, description, price, \n",
    "number_purchased, consumer_rating, gender, location].\n",
    "\n",
    "#############\n",
    "\n",
    "# OBJECTIVE #\n",
    "I want you use the entire JSON dataset to cluster my customers into groups and then give me \n",
    "ideas on how to target my marketing efforts towards each group. Do not\n",
    "use partial dataset. Search the entire JSON document.\n",
    "\n",
    "Use this step-by-step process and do not use code:\n",
    "\n",
    "1. CLUSTERS: Use the locations of the dataset to cluster the locations in the dataset, such that customers within \n",
    "the same cluster have similar category of product category while customers in different clusters have distinctly \n",
    "different product category. \n",
    "\n",
    "For each cluster found,\n",
    "2. CLUSTER_INFORMATION: Describe the cluster in terms of the product and category description.\n",
    "3. CLUSTER_NAME: Interpret [CLUSTER_INFORMATION] to obtain a short name for the customer group in this cluster.\n",
    "4. MARKETING_IDEAS: Generate ideas to market my product to this customer group.\n",
    "5. RATIONALE: Explain why [MARKETING_IDEAS] is relevant and effective for this customer group.\n",
    "\n",
    "#############\n",
    "\n",
    "# STYLE #\n",
    "Business analytics report\n",
    "\n",
    "#############\n",
    "\n",
    "# TONE #\n",
    "Professional, technical\n",
    "\n",
    "#############\n",
    "\n",
    "# AUDIENCE #\n",
    "My business partners. Convince them that your marketing strategy is well thought-out and fully backed by data.\n",
    "\n",
    "#############\n",
    "\n",
    "# RESPONSE: MARKDOWN REPORT #\n",
    "<For each cluster in [CLUSTERS]>\n",
    "— Customer Group: [CLUSTER_NAME]\n",
    "— Profile: [CLUSTER_INFORMATION]\n",
    "— Marketing Ideas: [MARKETING_IDEAS]\n",
    "— Rationale: [RATIONALE]\n",
    "\"\"\""
   ]
  },
  {
   "cell_type": "code",
   "execution_count": 30,
   "id": "cc4a4dfa-fed8-450e-a65e-88113f114cb4",
   "metadata": {},
   "outputs": [
    {
     "data": {
      "text/plain": [
       "{'id': 'msg_Z7NCmlZaHHq34ls3IgDjoOfV',\n",
       " 'assistant_id': None,\n",
       " 'content': [{'text': {'annotations': [],\n",
       "    'value': '\\n# CONTEXT #\\nI sell products online. I have a dataset of information on my customers: [category, description, price, \\nnumber_purchased, consumer_rating, gender, location].\\n\\n#############\\n\\n# OBJECTIVE #\\nI want you use the entire JSON dataset to cluster my customers into groups and then give me \\nideas on how to target my marketing efforts towards each group. Do not\\nuse partial dataset. Search the entire JSON document.\\n\\nUse this step-by-step process and do not use code:\\n\\n1. CLUSTERS: Use the locations of the dataset to cluster the locations in the dataset, such that customers within \\nthe same cluster have similar category of product category while customers in different clusters have distinctly \\ndifferent product category. \\n\\nFor each cluster found,\\n2. CLUSTER_INFORMATION: Describe the cluster in terms of the product and category description.\\n3. CLUSTER_NAME: Interpret [CLUSTER_INFORMATION] to obtain a short name for the customer group in this cluster.\\n4. MARKETING_IDEAS: Generate ideas to market my product to this customer group.\\n5. RATIONALE: Explain why [MARKETING_IDEAS] is relevant and effective for this customer group.\\n\\n#############\\n\\n# STYLE #\\nBusiness analytics report\\n\\n#############\\n\\n# TONE #\\nProfessional, technical\\n\\n#############\\n\\n# AUDIENCE #\\nMy business partners. Convince them that your marketing strategy is well thought-out and fully backed by data.\\n\\n#############\\n\\n# RESPONSE: MARKDOWN REPORT #\\n<For each cluster in [CLUSTERS]>\\n— Customer Group: [CLUSTER_NAME]\\n— Profile: [CLUSTER_INFORMATION]\\n— Marketing Ideas: [MARKETING_IDEAS]\\n— Rationale: [RATIONALE]\\n'},\n",
       "   'type': 'text'}],\n",
       " 'created_at': 1706047872,\n",
       " 'file_ids': [],\n",
       " 'metadata': {},\n",
       " 'object': 'thread.message',\n",
       " 'role': 'user',\n",
       " 'run_id': None,\n",
       " 'thread_id': 'thread_QohqWVwM6oo6TrOFM60tGMWD'}"
      ]
     },
     "execution_count": 30,
     "metadata": {},
     "output_type": "execute_result"
    }
   ],
   "source": [
    "message = client.beta.threads.messages.create(\n",
    "    thread_id=thread.id, \n",
    "    role=\"user\",\n",
    "    content=content_prompt,\n",
    ")\n",
    "message.model_dump()"
   ]
  },
  {
   "cell_type": "markdown",
   "id": "6732aff7-a367-4d36-b431-fdfd9894a150",
   "metadata": {},
   "source": [
    "### Step 5: Create a Run for the Assistant\n",
    "A Run is an invocation of an Assistant on a Thread. The Assistant uses its configuration and the Thread’s Messages to perform tasks by calling models and tools. As part of a Run, the Assistant appends Messages to the Thread.\n",
    "\n",
    "Note that Assistance will run asychronously: the run has the following\n",
    "lifecycle and states: [*expired, completed, failed, cancelled*]. Run objects can have multiple statuses.\n",
    "\n",
    "<img src=\"https://cdn.openai.com/API/docs/images/diagram-1.png\">"
   ]
  },
  {
   "cell_type": "code",
   "execution_count": 31,
   "id": "14da71a1-bcd9-45b0-8efe-a467f3a8ca29",
   "metadata": {},
   "outputs": [
    {
     "name": "stdout",
     "output_type": "stream",
     "text": [
      "{\n",
      "  \"id\": \"run_d9zGRuh8drB8aIseZSbf2by3\",\n",
      "  \"assistant_id\": \"asst_OL1HyHxsItKzG7iK2Dx1AAhs\",\n",
      "  \"cancelled_at\": null,\n",
      "  \"completed_at\": null,\n",
      "  \"created_at\": 1706047880,\n",
      "  \"expires_at\": 1706048480,\n",
      "  \"failed_at\": null,\n",
      "  \"file_ids\": [\n",
      "    \"file-yO6lVUmOwriJs1SqkwmU1hB0\"\n",
      "  ],\n",
      "  \"instructions\": \"Please address the user as Jules Dmatrix.  \\n    Do not provide an answer to the question if the information was not retrieved from \\n    the knowledge base.\\n\",\n",
      "  \"last_error\": null,\n",
      "  \"metadata\": {},\n",
      "  \"model\": \"gpt-4-1106-preview\",\n",
      "  \"object\": \"thread.run\",\n",
      "  \"required_action\": null,\n",
      "  \"started_at\": null,\n",
      "  \"status\": \"queued\",\n",
      "  \"thread_id\": \"thread_QohqWVwM6oo6TrOFM60tGMWD\",\n",
      "  \"tools\": [\n",
      "    {\n",
      "      \"type\": \"retrieval\"\n",
      "    }\n",
      "  ],\n",
      "  \"usage\": null\n",
      "}\n"
     ]
    }
   ],
   "source": [
    "instruction_msg = \"\"\"Please address the user as Jules Dmatrix.  \n",
    "    Do not provide an answer to the question if the information was not retrieved from \n",
    "    the knowledge base.\n",
    "\"\"\"\n",
    "run = create_assistant_run(client, assistant, thread, instruction_msg)\n",
    "print(run.model_dump_json(indent=2))"
   ]
  },
  {
   "cell_type": "markdown",
   "id": "2a8ae77b-5630-461f-afa8-d37eacb55c30",
   "metadata": {},
   "source": [
    "### Step 6: Loop through the Assistant run until status is 'completed'"
   ]
  },
  {
   "cell_type": "code",
   "execution_count": 33,
   "id": "0b614db4-0cfa-47fc-8c20-64a6a17ede21",
   "metadata": {},
   "outputs": [
    {
     "name": "stdout",
     "output_type": "stream",
     "text": [
      "{\n",
      "    \"id\": \"run_d9zGRuh8drB8aIseZSbf2by3\",\n",
      "    \"assistant_id\": \"asst_OL1HyHxsItKzG7iK2Dx1AAhs\",\n",
      "    \"cancelled_at\": null,\n",
      "    \"completed_at\": null,\n",
      "    \"created_at\": 1706047880,\n",
      "    \"expires_at\": 1706048480,\n",
      "    \"failed_at\": null,\n",
      "    \"file_ids\": [\n",
      "        \"file-yO6lVUmOwriJs1SqkwmU1hB0\"\n",
      "    ],\n",
      "    \"instructions\": \"Please address the user as Jules Dmatrix.  \\n    Do not provide an answer to the question if the information was not retrieved from \\n    the knowledge base.\\n\",\n",
      "    \"last_error\": null,\n",
      "    \"metadata\": {},\n",
      "    \"model\": \"gpt-4-1106-preview\",\n",
      "    \"object\": \"thread.run\",\n",
      "    \"required_action\": null,\n",
      "    \"started_at\": 1706047880,\n",
      "    \"status\": \"in_progress\",\n",
      "    \"thread_id\": \"thread_QohqWVwM6oo6TrOFM60tGMWD\",\n",
      "    \"tools\": [\n",
      "        {\n",
      "            \"type\": \"retrieval\"\n",
      "        }\n",
      "    ],\n",
      "    \"usage\": null\n",
      "}\n"
     ]
    }
   ],
   "source": [
    "run_status = client.beta.threads.runs.retrieve(\n",
    "    thread_id = thread.id,\n",
    "    run_id = run.id\n",
    ")\n",
    "print(run_status.model_dump_json(indent=4))"
   ]
  },
  {
   "cell_type": "markdown",
   "id": "aa1887e4-febb-4951-8272-66aad49131fc",
   "metadata": {},
   "source": [
    "#### Poll until Assistant run is completed"
   ]
  },
  {
   "cell_type": "code",
   "execution_count": 34,
   "id": "61c8b3b1-44f2-4e8d-a0fc-8f90172dc615",
   "metadata": {},
   "outputs": [
    {
     "name": "stdout",
     "output_type": "stream",
     "text": [
      "in_progress\n",
      "completed\n"
     ]
    }
   ],
   "source": [
    "loop_until_completed(client, thread, run_status)"
   ]
  },
  {
   "cell_type": "markdown",
   "id": "beda3b15-e3c6-4139-9250-4aa6f8ab4e2d",
   "metadata": {},
   "source": [
    "### Step 7: Retrieve the message returned by the assistance\n",
    "Only when the run is **completed** can you fetch the messages from the Thread"
   ]
  },
  {
   "cell_type": "code",
   "execution_count": 35,
   "id": "5b9d8171-b165-4d23-8104-c8b95bb919a9",
   "metadata": {},
   "outputs": [
    {
     "name": "stdout",
     "output_type": "stream",
     "text": [
      "('assistant:To fulfill your request, I’ll start by using the snapshot of the '\n",
      " 'dataset provided, which describes various customers, their geographical '\n",
      " 'location, the products they have purchased, and additional details.\\n'\n",
      " '\\n'\n",
      " 'Given the dynamic nature of the data and the approach not involving '\n",
      " 'programming code, statistical analysis, or machine learning algorithms, I’ll '\n",
      " 'have to use a hypothetical approach based on the patterns seen in the '\n",
      " 'provided snapshot.\\n'\n",
      " '\\n'\n",
      " '---\\n'\n",
      " '\\n'\n",
      " '— Customer Group: Tech-Savvy Professionals\\n'\n",
      " '— Profile: Customers in cities like Seattle and San Francisco often purchase '\n",
      " 'high-performance laptops and the latest smartphones with advanced features, '\n",
      " 'indicating a cluster inclined towards technology and efficiency.\\n'\n",
      " '— Marketing Ideas: Leverage digital marketing campaigns featuring product '\n",
      " 'innovation, technical specifications, and productivity benefits. Host demo '\n",
      " 'events and webinars to showcase the technological capabilities of the '\n",
      " 'products.\\n'\n",
      " '— Rationale: This cluster values cutting-edge technology and performance, '\n",
      " \"suggesting they'll respond well to marketing that highlights how these \"\n",
      " 'products can enhance their work and personal life efficiency.\\n'\n",
      " '\\n'\n",
      " '---\\n'\n",
      " '\\n'\n",
      " '— Customer Group: Home Makers and DIY Enthusiasts\\n'\n",
      " '— Profile: Customers in areas like Los Angeles and New York are inclined '\n",
      " 'toward home improvement tools and kitchen utensils, suggesting a cluster '\n",
      " 'that enjoys home crafting, cooking, and improvement projects.\\n'\n",
      " '— Marketing Ideas: Utilize home and garden influencer partnerships, DIY '\n",
      " 'project tutorials, and discounts on bundling tools and utensils to appeal to '\n",
      " 'their interests and needs.\\n'\n",
      " '— Rationale: The interests of this cluster lie in improving and enjoying '\n",
      " 'their living space, making marketing strategies focused on practicality, and '\n",
      " 'the joy of do-it-yourself activities appealing to them.\\n'\n",
      " '\\n'\n",
      " '---\\n'\n",
      " '\\n'\n",
      " '— Customer Group: Style and Comfort Seekers\\n'\n",
      " '— Profile: Shoppers from cities like Chicago and Boston often buy items such '\n",
      " 'as comfortable and stylish shoes and jackets meant for all seasons, '\n",
      " 'indicating a preference for a blend of comfort and fashion.\\n'\n",
      " '— Marketing Ideas: Create influencer-led fashion lookbooks, comfort-centric '\n",
      " 'product highlights, and seasonal sales that cater to their desire for '\n",
      " 'products that are both chic and comfortable.\\n'\n",
      " '— Rationale: Customers in this group prioritize products that offer them the '\n",
      " 'best of both worlds, style, and comfort. Marketing that showcases how the '\n",
      " 'products fulfill these dual needs will likely resonate with this cluster.\\n'\n",
      " '\\n'\n",
      " '---\\n'\n",
      " '\\n'\n",
      " '— Customer Group: Literate and Informed\\n'\n",
      " '— Profile: Spots such as Seattle, Dallas, and Los Angeles see a higher sale '\n",
      " 'of books, ranging from bestsellers to literary classics, suggesting a '\n",
      " 'cluster of customers who are avid readers and value knowledge.\\n'\n",
      " '— Marketing Ideas: Develop book club communities, reading challenges with '\n",
      " 'rewards, and personalized book recommendations to nurture their passion for '\n",
      " 'reading.\\n'\n",
      " '— Rationale: This cluster’s passion for reading can be directly engaged '\n",
      " 'through literary-centric campaigns that make them feel part of a community '\n",
      " 'with exclusive benefits related to their love for books.\\n'\n",
      " '\\n'\n",
      " '---\\n'\n",
      " '\\n'\n",
      " 'Please note that these insights are hypothesized for illustration purposes '\n",
      " 'following the step-by-step process you outlined and using the dataset '\n",
      " 'snippet. In a real-world scenario, further detailed analysis and utilization '\n",
      " 'of the complete dataset would be required to draw accurate clusters and '\n",
      " 'develop targeted marketing strategies.')\n",
      "('user:\\n'\n",
      " '# CONTEXT #\\n'\n",
      " 'I sell products online. I have a dataset of information on my customers: '\n",
      " '[category, description, price, \\n'\n",
      " 'number_purchased, consumer_rating, gender, location].\\n'\n",
      " '\\n'\n",
      " '#############\\n'\n",
      " '\\n'\n",
      " '# OBJECTIVE #\\n'\n",
      " 'I want you use the entire JSON dataset to cluster my customers into groups '\n",
      " 'and then give me \\n'\n",
      " 'ideas on how to target my marketing efforts towards each group. Do not\\n'\n",
      " 'use partial dataset. Search the entire JSON document.\\n'\n",
      " '\\n'\n",
      " 'Use this step-by-step process and do not use code:\\n'\n",
      " '\\n'\n",
      " '1. CLUSTERS: Use the locations of the dataset to cluster the locations in '\n",
      " 'the dataset, such that customers within \\n'\n",
      " 'the same cluster have similar category of product category while customers '\n",
      " 'in different clusters have distinctly \\n'\n",
      " 'different product category. \\n'\n",
      " '\\n'\n",
      " 'For each cluster found,\\n'\n",
      " '2. CLUSTER_INFORMATION: Describe the cluster in terms of the product and '\n",
      " 'category description.\\n'\n",
      " '3. CLUSTER_NAME: Interpret [CLUSTER_INFORMATION] to obtain a short name for '\n",
      " 'the customer group in this cluster.\\n'\n",
      " '4. MARKETING_IDEAS: Generate ideas to market my product to this customer '\n",
      " 'group.\\n'\n",
      " '5. RATIONALE: Explain why [MARKETING_IDEAS] is relevant and effective for '\n",
      " 'this customer group.\\n'\n",
      " '\\n'\n",
      " '#############\\n'\n",
      " '\\n'\n",
      " '# STYLE #\\n'\n",
      " 'Business analytics report\\n'\n",
      " '\\n'\n",
      " '#############\\n'\n",
      " '\\n'\n",
      " '# TONE #\\n'\n",
      " 'Professional, technical\\n'\n",
      " '\\n'\n",
      " '#############\\n'\n",
      " '\\n'\n",
      " '# AUDIENCE #\\n'\n",
      " 'My business partners. Convince them that your marketing strategy is well '\n",
      " 'thought-out and fully backed by data.\\n'\n",
      " '\\n'\n",
      " '#############\\n'\n",
      " '\\n'\n",
      " '# RESPONSE: MARKDOWN REPORT #\\n'\n",
      " '<For each cluster in [CLUSTERS]>\\n'\n",
      " '— Customer Group: [CLUSTER_NAME]\\n'\n",
      " '— Profile: [CLUSTER_INFORMATION]\\n'\n",
      " '— Marketing Ideas: [MARKETING_IDEAS]\\n'\n",
      " '— Rationale: [RATIONALE]\\n')\n"
     ]
    }
   ],
   "source": [
    "print_thread_messages(client, thread)"
   ]
  },
  {
   "cell_type": "code",
   "execution_count": null,
   "id": "d2aa0b64-65bc-4bdc-ba5d-f772646acdf8",
   "metadata": {},
   "outputs": [],
   "source": [
    "# Delete the assistant. Optionally, you can delete any files\n",
    "# associated with it that you have uploaded onto the OpenAI platform\n",
    "\n",
    "response = client.beta.assistants.delete(assistant.id)\n",
    "print(response)\n",
    "\n",
    "for file_id in file_obj_ids:\n",
    "    print(f\"deleting file id: {file_id}...\")\n",
    "    response = client.files.delete(file_id)\n",
    "    print(response)"
   ]
  }
 ],
 "metadata": {
  "kernelspec": {
   "display_name": "Python 3 (ipykernel)",
   "language": "python",
   "name": "python3"
  },
  "language_info": {
   "codemirror_mode": {
    "name": "ipython",
    "version": 3
   },
   "file_extension": ".py",
   "mimetype": "text/x-python",
   "name": "python",
   "nbconvert_exporter": "python",
   "pygments_lexer": "ipython3",
   "version": "3.10.13"
  }
 },
 "nbformat": 4,
 "nbformat_minor": 5
}
