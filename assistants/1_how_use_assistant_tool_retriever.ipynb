{
 "cells": [
  {
   "cell_type": "markdown",
   "id": "4387cbaa-ca3a-4db7-a004-520ee4a9ae4a",
   "metadata": {},
   "source": [
    "# OpenAI Assistants APIs\n",
    "\n",
    "The Assistants' API lets you create AI assistants in your applications. These assistants follow instructions and use models, tools, and knowledge to answer user questions. In this notebook we are going to use one of the tools, retriever,\n",
    "to query against two pdf documents we will upload.\n",
    "\n",
    "The architeture and data flow diagram below depicts the interaction among all\n",
    "components that comprise OpenAI Assistant APIs. Central to understand is the \n",
    "Threads and Runtime that executes anyschronously, adding and reading messages\n",
    "to the Threads.\n",
    "\n",
    "For integrating the Assistants API:\n",
    "\n",
    "1. Creat an Assistant with custom instructions and select a model. Optionally, enable tools like Code Interpreter, Retrieval, and Function Calling.\n",
    "\n",
    "2. Initiate a Thread for each user conversation.\n",
    "    \n",
    "3. Add user queries as Messages to the Thread.\n",
    "\n",
    "4.  Run the Assistant on the Thread for responses, which automatically utilizes the enabled tools\n",
    "\n",
    "Below we follow those steps to demonstrate how to integrate Assistants API,\n",
    "usijng Retrieval tool, to a) upload a couple of pdf documents and b) use Assistant\n",
    "to query the contents of the document. Consider this as a mini Retrieval Augmented Generation (RAG). \n",
    "\n",
    "The OpenAI documentation describes in details [how Assistants work](https://platform.openai.com/docs/assistants/how-it-works).\n",
    "\n",
    "<img src=\"./images/assistant_ai_tools_retriever.png\">\n"
   ]
  },
  {
   "cell_type": "markdown",
   "id": "5d3d1584-ccd1-4117-be4d-125138689028",
   "metadata": {},
   "source": [
    "## How to use Assistant API using Tools: Retriever"
   ]
  },
  {
   "cell_type": "code",
   "execution_count": 1,
   "id": "eec3d89f-6872-448a-b22f-6fc368c7487a",
   "metadata": {},
   "outputs": [],
   "source": [
    "import warnings\n",
    "import os\n",
    "\n",
    "import openai\n",
    "from openai import OpenAI\n",
    "\n",
    "from dotenv import load_dotenv, find_dotenv\n",
    "from typing import List"
   ]
  },
  {
   "cell_type": "markdown",
   "id": "96c565ae-63dd-4cb7-ae27-4d7e22adb3d7",
   "metadata": {},
   "source": [
    "Load our .env file with respective API keys and base url endpoints. Here you can either use OpenAI or Anyscale Endpoints. **Note**: Assistant API calling for Anyscale Endpoints (which serves only OS modles) is not yet aviable)."
   ]
  },
  {
   "cell_type": "code",
   "execution_count": 2,
   "id": "83d72b72-dbcb-4249-a514-1cda3124de3b",
   "metadata": {},
   "outputs": [
    {
     "name": "stdout",
     "output_type": "stream",
     "text": [
      "Using MODEL=gpt-4-1106-preview; base=https://api.openai.com/v1\n"
     ]
    }
   ],
   "source": [
    "warnings.filterwarnings('ignore')\n",
    "\n",
    "_ = load_dotenv(find_dotenv()) # read local .env file\n",
    "\n",
    "openai.api_base = os.getenv(\"ANYSCALE_API_BASE\", os.getenv(\"OPENAI_API_BASE\"))\n",
    "openai.api_key = os.getenv(\"ANYSCALE_API_KEY\", os.getenv(\"OPENAI_API_KEY\"))\n",
    "MODEL = os.getenv(\"MODEL\")\n",
    "print(f\"Using MODEL={MODEL}; base={openai.api_base}\")"
   ]
  },
  {
   "cell_type": "code",
   "execution_count": 3,
   "id": "cd0bf75e-bee1-4d5e-811a-c24fb3627be3",
   "metadata": {},
   "outputs": [],
   "source": [
    "DOCS_TO_LOAD = [\"docs/HAI_AI-Index-Report_2023.pdf\"]"
   ]
  },
  {
   "cell_type": "markdown",
   "id": "e0c09423-2580-40bc-aa19-08a522502445",
   "metadata": {},
   "source": [
    "Utility function to create OpenAI client instance"
   ]
  },
  {
   "cell_type": "code",
   "execution_count": 4,
   "id": "df40e6a8-7cc5-44d1-853b-fcdf85c94608",
   "metadata": {},
   "outputs": [],
   "source": [
    "from openai import OpenAI\n",
    "\n",
    "client = OpenAI(\n",
    "    api_key = openai.api_key,\n",
    "    base_url = openai.api_base\n",
    ")"
   ]
  },
  {
   "cell_type": "code",
   "execution_count": 5,
   "id": "b41d2e5b-73a0-4544-b016-522f7c704e18",
   "metadata": {},
   "outputs": [],
   "source": [
    "from pprint import pprint\n",
    "def print_messages(clnt: object, thrd: object) -> None:\n",
    "    messages = clnt.beta.threads.messages.list(\n",
    "        thread_id = thrd.id)\n",
    "    for msg in messages:\n",
    "        pprint(msg.role + \":\" + msg.content[0].text.value)"
   ]
  },
  {
   "cell_type": "code",
   "execution_count": 6,
   "id": "27ee85cc-903a-472f-acf9-bb3a9ae59fe4",
   "metadata": {},
   "outputs": [],
   "source": [
    "def upload_files(clnt: object, docs: List[str]) -> List[object]:\n",
    "    file_objs = []\n",
    "    for doc in docs:\n",
    "        print(f\"Uploading doc:{doc}...\")\n",
    "        file_obj = clnt.files.create(file=open(doc, \"rb\"), \n",
    "                                    purpose=\"assistants\")\n",
    "        file_objs.append(file_obj)\n",
    "    return file_objs"
   ]
  },
  {
   "cell_type": "code",
   "execution_count": 7,
   "id": "d85e086a-182c-415f-982a-29d1c2bbe167",
   "metadata": {},
   "outputs": [],
   "source": [
    "import time\n",
    "def loop_until_completed(clnt: object, thrd: object, run_obj: object) -> None:\n",
    "    while run_obj.status not in [\"completed\", \"failed\"]:\n",
    "        run_obj = clnt.beta.threads.runs.retrieve(\n",
    "            thread_id = thrd.id,\n",
    "            run_id = run_obj.id)\n",
    "        time.sleep(10)\n",
    "        print(run_obj.status)"
   ]
  },
  {
   "cell_type": "code",
   "execution_count": 8,
   "id": "d51fca58-9596-4f1e-97bf-a2de102cb66b",
   "metadata": {},
   "outputs": [],
   "source": [
    "def create_assistant_run(clnt: object, asst: object, thrd: object) -> object:\n",
    "    run = clnt.beta.threads.runs.create(\n",
    "    thread_id=thrd.id,\n",
    "    assistant_id=asst.id,\n",
    "    instructions = \"\"\"Please address the user as Jules Dmatrix.  \n",
    "    Do not provide an answer to the question if the information was not retrieved from the knowledge base.\n",
    "\"\"\"\n",
    ")\n",
    "    return run\n",
    "    "
   ]
  },
  {
   "cell_type": "markdown",
   "id": "210cac69-0cb2-497b-bfb0-d4d7daa292b0",
   "metadata": {},
   "source": [
    "### Step 1: Create our knowledgebase\n",
    "This entails uploading your pdfs as your knowledgebase for the retrievers to use.\n",
    "Most likely, these docuements will be chuncked and indexed as vectors into a vector store; that bit is hidden from you.\n",
    "\n",
    "The retireivers use your query to search retrieve the best semantic matches on vectors in the knowledgebase, and then feed the LLM, along with the original query, to generate the consolidated and comprehesive answer, similarly to how\n",
    "a RAG retriever operates."
   ]
  },
  {
   "cell_type": "raw",
   "id": "1aafeb0d-f92c-4b40-9ef4-393bbeb371ae",
   "metadata": {},
   "source": [
    "Upload the the two pdfs files from your storage."
   ]
  },
  {
   "cell_type": "code",
   "execution_count": 9,
   "id": "9722a539-2087-4b4f-933d-5c4ce04e7186",
   "metadata": {},
   "outputs": [
    {
     "name": "stdout",
     "output_type": "stream",
     "text": [
      "Uploading doc:docs/HAI_AI-Index-Report_2023.pdf...\n"
     ]
    },
    {
     "data": {
      "text/plain": [
       "[FileObject(id='file-vAQcWhQsQXt0j1xwuxYnokKr', bytes=25318310, created_at=1703095478, filename='HAI_AI-Index-Report_2023.pdf', object='file', purpose='assistants', status='processed', status_details=None)]"
      ]
     },
     "execution_count": 9,
     "metadata": {},
     "output_type": "execute_result"
    }
   ],
   "source": [
    "file_objects = upload_files(client, DOCS_TO_LOAD)\n",
    "file_objects"
   ]
  },
  {
   "cell_type": "code",
   "execution_count": 10,
   "id": "1e8cf20b-0dd5-4516-8ba6-a5f528b3b6cf",
   "metadata": {},
   "outputs": [
    {
     "data": {
      "text/plain": [
       "['file-vAQcWhQsQXt0j1xwuxYnokKr']"
      ]
     },
     "execution_count": 10,
     "metadata": {},
     "output_type": "execute_result"
    }
   ],
   "source": [
    "# Extract file ids \n",
    "file_obj_ids = []\n",
    "for f_obj in file_objects:\n",
    "    file_obj_ids.append(file_objects[0].id)\n",
    "file_obj_ids"
   ]
  },
  {
   "cell_type": "markdown",
   "id": "7e015d11-f87b-4534-b27e-379a06b7b7a7",
   "metadata": {},
   "source": [
    "### Step 2: Create an Assistant \n",
    "Before you can start interacting with the Assistant to carry out any tasks, you need an AI assistant object.\n",
    "\n",
    "Provide the Assistant with a model to use, tools, and file ids to use for its\n",
    "knowledge base."
   ]
  },
  {
   "cell_type": "code",
   "execution_count": 11,
   "id": "4ef7325f-5e71-4778-952a-27e3f525b870",
   "metadata": {},
   "outputs": [
    {
     "data": {
      "text/plain": [
       "Assistant(id='asst_22BVY7nCoy2XspFAMFSrT9Pl', created_at=1703095479, description=None, file_ids=['file-vAQcWhQsQXt0j1xwuxYnokKr'], instructions=\"You are a knowledgeable chatbot trained to respond \\n                                               inquires on documents HAI Artificial Index 2023 report \\n                                               and Survey of why LLMs hallucinate. \\n                                               Use a neutral, professional advisory tone, and only respond by consulting the \\n                                               knowledge base or files you are granted access to. \\n                                               Do not make up answers. If you don't know answer, respond with 'Sorry, I'm afraid\\n                                               I don't have access to that information.'\", metadata={}, model='gpt-4-1106-preview', name='AI Report and LLM survey Chatbot', object='assistant', tools=[ToolRetrieval(type='retrieval')])"
      ]
     },
     "execution_count": 11,
     "metadata": {},
     "output_type": "execute_result"
    }
   ],
   "source": [
    "assistant = client.beta.assistants.create(name=\"AI Report and LLM survey Chatbot\",\n",
    "                                           instructions=\"\"\"You are a knowledgeable chatbot trained to respond \n",
    "                                               inquires on documents HAI Artificial Index 2023 report \n",
    "                                               and Survey of why LLMs hallucinate. \n",
    "                                               Use a neutral, professional advisory tone, and only respond by consulting the \n",
    "                                               knowledge base or files you are granted access to. \n",
    "                                               Do not make up answers. If you don't know answer, respond with 'Sorry, I'm afraid\n",
    "                                               I don't have access to that information.'\"\"\",\n",
    "                                           model=MODEL,\n",
    "                                           tools = [{'type': 'retrieval'}],  # use the retrieval tool\n",
    "                                           file_ids=file_obj_ids # use these files uploaded as part of your knowledge base\n",
    ")                                        \n",
    "assistant"
   ]
  },
  {
   "cell_type": "markdown",
   "id": "5b353b4f-5c8a-46ad-961b-5004248a3874",
   "metadata": {},
   "source": [
    "### Step 3: Create a thread \n",
    "As the diagram above shows, the Thread is the object with which the AI Assistant runs will interact with, by fetching messages and putting messages to it. Think of a thread as a \"conversation session between an Assistant and a user. Threads store Messages and automatically handle truncation to fit content into a model’s context window.\""
   ]
  },
  {
   "cell_type": "code",
   "execution_count": 12,
   "id": "d8bffc3d-2e64-4b86-9c47-6bb7a886cc52",
   "metadata": {},
   "outputs": [
    {
     "data": {
      "text/plain": [
       "Thread(id='thread_h60KCywOk4mHeVdDK0JvwvQk', created_at=1703095488, metadata={}, object='thread')"
      ]
     },
     "execution_count": 12,
     "metadata": {},
     "output_type": "execute_result"
    }
   ],
   "source": [
    "thread = client.beta.threads.create()\n",
    "thread"
   ]
  },
  {
   "cell_type": "markdown",
   "id": "f36f3f97-5e53-4b6d-90e3-9da794d6d505",
   "metadata": {},
   "source": [
    "### Step 4: Add your message query to the thread for the Assistant"
   ]
  },
  {
   "cell_type": "code",
   "execution_count": 13,
   "id": "d23a252b-32a6-4558-8a0d-2605c796f54c",
   "metadata": {},
   "outputs": [
    {
     "data": {
      "text/plain": [
       "ThreadMessage(id='msg_N7zA7p12HE8x4ElARW8xlDQn', assistant_id=None, content=[MessageContentText(text=Text(annotations=[], value='What are the top 10 takeaways in the Artificial Intelligence Index Report 2023.\\n    Summarize each takeway in no more three simple sentences.'), type='text')], created_at=1703095489, file_ids=[], metadata={}, object='thread.message', role='user', run_id=None, thread_id='thread_h60KCywOk4mHeVdDK0JvwvQk')"
      ]
     },
     "execution_count": 13,
     "metadata": {},
     "output_type": "execute_result"
    }
   ],
   "source": [
    "message_1 = client.beta.threads.messages.create(\n",
    "    thread_id=thread.id, \n",
    "    role=\"user\",\n",
    "    content=\"\"\"What are the top 10 takeaways in the Artificial Intelligence Index Report 2023.\n",
    "    Summarize each takeway in no more three simple sentences.\"\"\",\n",
    ")\n",
    "message_1"
   ]
  },
  {
   "cell_type": "markdown",
   "id": "25b81328-9f58-4f6d-ae72-56c2a5d39fbc",
   "metadata": {},
   "source": [
    "### Step 5: Create a Run for the Assistant\n",
    "A Run is an invocation of an Assistant on a Thread. The Assistant uses it’s configuration and the Thread’s Messages to perform tasks by calling models and tools. As part of a Run, the Assistant appends Messages to the Thread.\n",
    "\n",
    "Note that Assistance will run asychronously: the run has the following\n",
    "lifecycle and states: [*expired, completed, failed, cancelled*]. Run objects can have multiple statuses.\n",
    "\n",
    "<img src=\"https://cdn.openai.com/API/docs/images/diagram-1.png\">"
   ]
  },
  {
   "cell_type": "code",
   "execution_count": 14,
   "id": "9a8b6e1c-61d3-4517-b99f-719f95f1d35a",
   "metadata": {},
   "outputs": [
    {
     "data": {
      "text/plain": [
       "Run(id='run_0IGlWSfETHkAVMPhbWPoVKIB', assistant_id='asst_22BVY7nCoy2XspFAMFSrT9Pl', cancelled_at=None, completed_at=None, created_at=1703095489, expires_at=1703096089, failed_at=None, file_ids=['file-vAQcWhQsQXt0j1xwuxYnokKr'], instructions='Please address the user as Jules Dmatrix.  \\n    Do not provide an answer to the question if the information was not retrieved from the knowledge base.\\n', last_error=None, metadata={}, model='gpt-4-1106-preview', object='thread.run', required_action=None, started_at=None, status='queued', thread_id='thread_h60KCywOk4mHeVdDK0JvwvQk', tools=[ToolAssistantToolsRetrieval(type='retrieval')])"
      ]
     },
     "execution_count": 14,
     "metadata": {},
     "output_type": "execute_result"
    }
   ],
   "source": [
    "run_1 = create_assistant_run(client, assistant, thread)\n",
    "run_1"
   ]
  },
  {
   "cell_type": "markdown",
   "id": "837be4e0-0198-4222-8e9c-3a483fc2f271",
   "metadata": {},
   "source": [
    "### Step 6: Retrieve the status "
   ]
  },
  {
   "cell_type": "code",
   "execution_count": 15,
   "id": "2a9b8e0f-441a-43bf-8b6d-4e748d31b3e9",
   "metadata": {},
   "outputs": [
    {
     "name": "stdout",
     "output_type": "stream",
     "text": [
      "in_progress\n"
     ]
    }
   ],
   "source": [
    "run_1_obj = client.beta.threads.runs.retrieve(\n",
    "    thread_id = thread.id,\n",
    "    run_id = run_1.id\n",
    ")\n",
    "\n",
    "print(run_1_obj.status)"
   ]
  },
  {
   "cell_type": "code",
   "execution_count": 16,
   "id": "4ccda85c-6398-4ce4-a6e3-4919bf105b5c",
   "metadata": {},
   "outputs": [
    {
     "name": "stdout",
     "output_type": "stream",
     "text": [
      "in_progress\n",
      "in_progress\n",
      "in_progress\n",
      "in_progress\n",
      "completed\n"
     ]
    }
   ],
   "source": [
    "loop_until_completed(client, thread, run_1_obj)"
   ]
  },
  {
   "cell_type": "markdown",
   "id": "00fe2be8-8a69-46c5-a23a-d4fc31782ddc",
   "metadata": {},
   "source": [
    "### Step 7: Retrieve the message returned by the assistance\n",
    "Only when the run is **completed** can you fetch the messages from the Thread"
   ]
  },
  {
   "cell_type": "code",
   "execution_count": 17,
   "id": "ebe25bb4-c7c1-4f3e-b6a1-c8394e299a25",
   "metadata": {},
   "outputs": [
    {
     "name": "stdout",
     "output_type": "stream",
     "text": [
      "('assistant:Here are the top 10 takeaways from the Artificial Intelligence '\n",
      " 'Index Report 2023, each summarized in up to three sentences:\\n'\n",
      " '\\n'\n",
      " '1. **Industry Surpasses Academia**: Since 2014, the production of '\n",
      " 'significant machine learning models has shifted from academia to industry. '\n",
      " 'In 2022, there were 32 significant industry-produced models versus only 3 '\n",
      " 'from academia, as industry inherently has more resources like data, computer '\n",
      " 'power, and money.\\n'\n",
      " '\\n'\n",
      " '2. **Benchmark Saturation**: AI continues to achieve state-of-the-art '\n",
      " 'results, but gains on many benchmarks are marginal and saturating quickly. '\n",
      " 'New, more complex benchmarks like BIG-bench and HELM are being introduced.\\n'\n",
      " '\\n'\n",
      " '3. **Environmental Impact**: AI can significantly affect the environment, '\n",
      " 'with training for models like BLOOM emitting large amounts of carbon. '\n",
      " 'However, AI can also optimize energy usage, as shown by models like '\n",
      " 'BCOOLER.\\n'\n",
      " '\\n'\n",
      " '4. **AI Accelerating Science**: AI models are increasingly assisting in '\n",
      " 'scientific progress, helping with hydrogen fusion, improving matrix '\n",
      " 'manipulation efficiency, and generating new antibodies.\\n'\n",
      " '\\n'\n",
      " '5. **Ethical Misuse Increasing**: The AIAAIC database indicates a rise in '\n",
      " 'incidents of ethical misuse of AI, with a 26-fold increase since 2012. '\n",
      " 'Examples from 2022 include deepfakes and monitoring technology in prisons, '\n",
      " 'showing increased use and awareness of misuse.\\n'\n",
      " '\\n'\n",
      " '6. **Rising Demand for AI Skills**: Across almost all industrial sectors in '\n",
      " 'the United States, the number of job postings for AI-related skills has '\n",
      " 'grown, indicating a greater demand for workers with AI expertise.\\n'\n",
      " '\\n'\n",
      " '7. **AI Investment Decreases but Grows Overall**: In 2022, there was a 26.7% '\n",
      " 'decline in global private investment in AI compared to the previous year. '\n",
      " 'However, over the last decade, AI investment has still grown substantially, '\n",
      " 'with the 2022 investment amount being 18 times higher than in 2013.\\n'\n",
      " '\\n'\n",
      " '8. **AI Adoption Plateaus but Benefits Continue**: While overall AI adoption '\n",
      " 'by companies has plateaued, those that have adopted it report significant '\n",
      " 'cost reductions and revenue improvements.\\n'\n",
      " '\\n'\n",
      " '9. **Increased Policymaker Interest**: Legislative activity around AI is '\n",
      " 'growing, with a notable increase in the number of bills containing '\n",
      " '\"artificial intelligence\" and references to AI in legislative proceedings '\n",
      " 'worldwide.\\n'\n",
      " '\\n'\n",
      " '10. **Public Opinion on AI**: Chinese citizens are the most positive about '\n",
      " 'AI products and services, while Americans are among the least positive, '\n",
      " 'reflecting contrasting levels of enthusiasm and optimism about the benefits '\n",
      " 'of AI.')\n",
      "('user:What are the top 10 takeaways in the Artificial Intelligence Index '\n",
      " 'Report 2023.\\n'\n",
      " '    Summarize each takeway in no more three simple sentences.')\n"
     ]
    }
   ],
   "source": [
    "print_messages(client, thread)"
   ]
  },
  {
   "cell_type": "markdown",
   "id": "6e182685-8b4f-4e2f-bb5a-0ab88b1409c8",
   "metadata": {},
   "source": [
    "### Repeat the process for any additional messages\n",
    "To add more query messages to the thread for the Assistant,\n",
    "repeat steps 5 - 7"
   ]
  },
  {
   "cell_type": "markdown",
   "id": "09b83c70-3374-4495-8463-f2a16b46e742",
   "metadata": {},
   "source": [
    "### Add another message to for the Assistant"
   ]
  },
  {
   "cell_type": "code",
   "execution_count": 18,
   "id": "40a08436-19cb-4830-b704-157c8c4600f5",
   "metadata": {},
   "outputs": [
    {
     "data": {
      "text/plain": [
       "ThreadMessage(id='msg_YVtEXNHeE2Tqy1YiQaiCG2I9', assistant_id=None, content=[MessageContentText(text=Text(annotations=[], value='Provide a short overview of Chatper 8 on public opinion in no more than\\n    five sentences\\n    '), type='text')], created_at=1703095541, file_ids=[], metadata={}, object='thread.message', role='user', run_id=None, thread_id='thread_h60KCywOk4mHeVdDK0JvwvQk')"
      ]
     },
     "execution_count": 18,
     "metadata": {},
     "output_type": "execute_result"
    }
   ],
   "source": [
    "message_2 = client.beta.threads.messages.create(\n",
    "    thread_id=thread.id, \n",
    "    role=\"user\",\n",
    "    content=\"\"\"Provide a short overview of Chatper 8 on public opinion in no more than\n",
    "    five sentences\n",
    "    \"\"\",\n",
    ")\n",
    "message_2"
   ]
  },
  {
   "cell_type": "markdown",
   "id": "718c3a5e-6f1f-4534-9418-5be00192dd6d",
   "metadata": {},
   "source": [
    "### Create another run for the Assistant for the second message"
   ]
  },
  {
   "cell_type": "code",
   "execution_count": 19,
   "id": "4b128f22-cbe8-44e5-af1a-c6019cce3d01",
   "metadata": {},
   "outputs": [
    {
     "data": {
      "text/plain": [
       "Run(id='run_T3rsEYQwh08XJ4zlW3kDgkhX', assistant_id='asst_22BVY7nCoy2XspFAMFSrT9Pl', cancelled_at=None, completed_at=None, created_at=1703095541, expires_at=1703096141, failed_at=None, file_ids=['file-vAQcWhQsQXt0j1xwuxYnokKr'], instructions='Please address the user as Jules Dmatrix.  \\n    Do not provide an answer to the question if the information was not retrieved from the knowledge base.\\n', last_error=None, metadata={}, model='gpt-4-1106-preview', object='thread.run', required_action=None, started_at=None, status='queued', thread_id='thread_h60KCywOk4mHeVdDK0JvwvQk', tools=[ToolAssistantToolsRetrieval(type='retrieval')])"
      ]
     },
     "execution_count": 19,
     "metadata": {},
     "output_type": "execute_result"
    }
   ],
   "source": [
    "run_2 = create_assistant_run(client, assistant, thread)\n",
    "run_2"
   ]
  },
  {
   "cell_type": "code",
   "execution_count": 20,
   "id": "ef2f4166-9def-497a-b822-3f60476c6fb3",
   "metadata": {},
   "outputs": [
    {
     "name": "stdout",
     "output_type": "stream",
     "text": [
      "in_progress\n"
     ]
    }
   ],
   "source": [
    "run_2_obj = client.beta.threads.runs.retrieve(\n",
    "    thread_id = thread.id,\n",
    "    run_id = run_2.id\n",
    ")\n",
    "\n",
    "print(run_2_obj.status)"
   ]
  },
  {
   "cell_type": "code",
   "execution_count": 21,
   "id": "84c916e6-6a22-47c6-ac27-78de776b34e3",
   "metadata": {},
   "outputs": [
    {
     "name": "stdout",
     "output_type": "stream",
     "text": [
      "in_progress\n",
      "in_progress\n",
      "in_progress\n",
      "in_progress\n",
      "completed\n"
     ]
    }
   ],
   "source": [
    "loop_until_completed(client, thread, run_2_obj)"
   ]
  },
  {
   "cell_type": "code",
   "execution_count": 22,
   "id": "a2639487-0d95-4b3a-b86e-868b92a19a4a",
   "metadata": {},
   "outputs": [
    {
     "name": "stdout",
     "output_type": "stream",
     "text": [
      "('assistant:Chapter 8 of the Artificial Intelligence Index Report 2023 focuses '\n",
      " 'on the importance of monitoring public opinion regarding AI due to its '\n",
      " 'potential to significantly impact society. Understanding these opinions '\n",
      " \"helps to inform decisions related to AI's development, regulation, and \"\n",
      " 'application. The chapter discusses public perception from global, national, '\n",
      " 'demographic, ethnic, and AI researcher perspectives and concludes by '\n",
      " 'examining social media discourse about AI in 2022. It utilizes data from '\n",
      " \"IPSOS, Lloyd's Register Foundation and Gallup, as well as PEW Research. The \"\n",
      " 'chapter notes a lack of extensive longitudinal data on AI opinions, '\n",
      " 'emphasizing the need for greater efforts to comprehend these views as AI '\n",
      " 'becomes increasingly prevalent【13†source】.')\n",
      "('user:Provide a short overview of Chatper 8 on public opinion in no more '\n",
      " 'than\\n'\n",
      " '    five sentences\\n'\n",
      " '    ')\n",
      "('assistant:Here are the top 10 takeaways from the Artificial Intelligence '\n",
      " 'Index Report 2023, each summarized in up to three sentences:\\n'\n",
      " '\\n'\n",
      " '1. **Industry Surpasses Academia**: Since 2014, the production of '\n",
      " 'significant machine learning models has shifted from academia to industry. '\n",
      " 'In 2022, there were 32 significant industry-produced models versus only 3 '\n",
      " 'from academia, as industry inherently has more resources like data, computer '\n",
      " 'power, and money.\\n'\n",
      " '\\n'\n",
      " '2. **Benchmark Saturation**: AI continues to achieve state-of-the-art '\n",
      " 'results, but gains on many benchmarks are marginal and saturating quickly. '\n",
      " 'New, more complex benchmarks like BIG-bench and HELM are being introduced.\\n'\n",
      " '\\n'\n",
      " '3. **Environmental Impact**: AI can significantly affect the environment, '\n",
      " 'with training for models like BLOOM emitting large amounts of carbon. '\n",
      " 'However, AI can also optimize energy usage, as shown by models like '\n",
      " 'BCOOLER.\\n'\n",
      " '\\n'\n",
      " '4. **AI Accelerating Science**: AI models are increasingly assisting in '\n",
      " 'scientific progress, helping with hydrogen fusion, improving matrix '\n",
      " 'manipulation efficiency, and generating new antibodies.\\n'\n",
      " '\\n'\n",
      " '5. **Ethical Misuse Increasing**: The AIAAIC database indicates a rise in '\n",
      " 'incidents of ethical misuse of AI, with a 26-fold increase since 2012. '\n",
      " 'Examples from 2022 include deepfakes and monitoring technology in prisons, '\n",
      " 'showing increased use and awareness of misuse.\\n'\n",
      " '\\n'\n",
      " '6. **Rising Demand for AI Skills**: Across almost all industrial sectors in '\n",
      " 'the United States, the number of job postings for AI-related skills has '\n",
      " 'grown, indicating a greater demand for workers with AI expertise.\\n'\n",
      " '\\n'\n",
      " '7. **AI Investment Decreases but Grows Overall**: In 2022, there was a 26.7% '\n",
      " 'decline in global private investment in AI compared to the previous year. '\n",
      " 'However, over the last decade, AI investment has still grown substantially, '\n",
      " 'with the 2022 investment amount being 18 times higher than in 2013.\\n'\n",
      " '\\n'\n",
      " '8. **AI Adoption Plateaus but Benefits Continue**: While overall AI adoption '\n",
      " 'by companies has plateaued, those that have adopted it report significant '\n",
      " 'cost reductions and revenue improvements.\\n'\n",
      " '\\n'\n",
      " '9. **Increased Policymaker Interest**: Legislative activity around AI is '\n",
      " 'growing, with a notable increase in the number of bills containing '\n",
      " '\"artificial intelligence\" and references to AI in legislative proceedings '\n",
      " 'worldwide.\\n'\n",
      " '\\n'\n",
      " '10. **Public Opinion on AI**: Chinese citizens are the most positive about '\n",
      " 'AI products and services, while Americans are among the least positive, '\n",
      " 'reflecting contrasting levels of enthusiasm and optimism about the benefits '\n",
      " 'of AI.')\n",
      "('user:What are the top 10 takeaways in the Artificial Intelligence Index '\n",
      " 'Report 2023.\\n'\n",
      " '    Summarize each takeway in no more three simple sentences.')\n"
     ]
    }
   ],
   "source": [
    "print_messages(client, thread)"
   ]
  },
  {
   "cell_type": "code",
   "execution_count": 23,
   "id": "337be76b-405c-4a91-80b0-92a263e14c63",
   "metadata": {},
   "outputs": [
    {
     "name": "stdout",
     "output_type": "stream",
     "text": [
      "AssistantDeleted(id='asst_22BVY7nCoy2XspFAMFSrT9Pl', deleted=True, object='assistant.deleted')\n",
      "deleting file id: file-vAQcWhQsQXt0j1xwuxYnokKr...\n",
      "FileDeleted(id='file-vAQcWhQsQXt0j1xwuxYnokKr', deleted=True, object='file')\n"
     ]
    }
   ],
   "source": [
    "# Delete the assistant. Optionally, you can delete any files\n",
    "# associated with it that you have uploaded onto the OpenAI platform\n",
    "\n",
    "response = client.beta.assistants.delete(assistant.id)\n",
    "print(response)\n",
    "\n",
    "for file_id in file_obj_ids:\n",
    "    print(f\"deleting file id: {file_id}...\")\n",
    "    response = client.files.delete(file_id)\n",
    "    print(response)"
   ]
  }
 ],
 "metadata": {
  "kernelspec": {
   "display_name": "Python 3 (ipykernel)",
   "language": "python",
   "name": "python3"
  },
  "language_info": {
   "codemirror_mode": {
    "name": "ipython",
    "version": 3
   },
   "file_extension": ".py",
   "mimetype": "text/x-python",
   "name": "python",
   "nbconvert_exporter": "python",
   "pygments_lexer": "ipython3",
   "version": "3.10.13"
  }
 },
 "nbformat": 4,
 "nbformat_minor": 5
}
