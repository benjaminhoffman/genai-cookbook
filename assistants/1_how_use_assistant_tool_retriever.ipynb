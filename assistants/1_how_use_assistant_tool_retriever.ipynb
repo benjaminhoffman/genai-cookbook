{
 "cells": [
  {
   "cell_type": "markdown",
   "id": "4387cbaa-ca3a-4db7-a004-520ee4a9ae4a",
   "metadata": {},
   "source": [
    "# OpenAI Assistants APIs\n",
    "\n",
    "The Assistants' API lets you create AI assistants in your applications. These assistants follow instructions and use models, tools, and knowledge to answer user questions. In this notebook we are going to use one of the tools, retriever,\n",
    "to query against two pdf documents we will upload.\n",
    "\n",
    "The architeture and data flow diagram below depicts the interaction among all\n",
    "components that comprise OpenAI Assistant APIs. Central to understand is the \n",
    "Threads and Runtime that executes anyschronously, adding and reading messages\n",
    "to the Threads.\n",
    "\n",
    "The OpenAI documentation describes in details [how Assistants work](https://platform.openai.com/docs/assistants/how-it-works).\n",
    "\n",
    "<img src=\"./images/assistant_ai_tools_retriever.png\">\n"
   ]
  },
  {
   "cell_type": "markdown",
   "id": "5d3d1584-ccd1-4117-be4d-125138689028",
   "metadata": {},
   "source": [
    "## How to use Assistant API using Tools: Retriever"
   ]
  },
  {
   "cell_type": "code",
   "execution_count": 1,
   "id": "eec3d89f-6872-448a-b22f-6fc368c7487a",
   "metadata": {},
   "outputs": [],
   "source": [
    "import warnings\n",
    "import os\n",
    "\n",
    "import openai\n",
    "from openai import OpenAI\n",
    "\n",
    "from dotenv import load_dotenv, find_dotenv"
   ]
  },
  {
   "cell_type": "markdown",
   "id": "96c565ae-63dd-4cb7-ae27-4d7e22adb3d7",
   "metadata": {},
   "source": [
    "Load our .env file with respective API keys and base url endpoints. Here you can either use OpenAI or Anyscale Endpoints. **Note**: Assistant API calling for Anyscale Endpoints (which serves only OS modles) is not yet aviable)."
   ]
  },
  {
   "cell_type": "code",
   "execution_count": 4,
   "id": "83d72b72-dbcb-4249-a514-1cda3124de3b",
   "metadata": {},
   "outputs": [
    {
     "name": "stdout",
     "output_type": "stream",
     "text": [
      "Using MODEL=gpt-4-1106-preview; base=https://api.openai.com/v1\n"
     ]
    }
   ],
   "source": [
    "warnings.filterwarnings('ignore')\n",
    "\n",
    "_ = load_dotenv(find_dotenv()) # read local .env file\n",
    "\n",
    "openai.api_base = os.getenv(\"ANYSCALE_API_BASE\", os.getenv(\"OPENAI_API_BASE\"))\n",
    "openai.api_key = os.getenv(\"ANYSCALE_API_KEY\", os.getenv(\"OPENAI_API_KEY\"))\n",
    "MODEL = os.getenv(\"MODEL\")\n",
    "print(f\"Using MODEL={MODEL}; base={openai.api_base}\")"
   ]
  },
  {
   "cell_type": "code",
   "execution_count": 5,
   "id": "cd0bf75e-bee1-4d5e-811a-c24fb3627be3",
   "metadata": {},
   "outputs": [],
   "source": [
    "DOCS_TO_LOAD = [\"docs/HAI_AI-Index-Report_2023.pdf\", \n",
    "                \"docs/llm_survey_halluciantions.pdf\"]"
   ]
  },
  {
   "cell_type": "markdown",
   "id": "e0c09423-2580-40bc-aa19-08a522502445",
   "metadata": {},
   "source": [
    "Utility function to create OpenAI client instance"
   ]
  },
  {
   "cell_type": "code",
   "execution_count": 6,
   "id": "df40e6a8-7cc5-44d1-853b-fcdf85c94608",
   "metadata": {},
   "outputs": [],
   "source": [
    "from openai import OpenAI\n",
    "\n",
    "client = OpenAI(\n",
    "    api_key = openai.api_key,\n",
    "    base_url = openai.api_base\n",
    ")"
   ]
  },
  {
   "cell_type": "markdown",
   "id": "210cac69-0cb2-497b-bfb0-d4d7daa292b0",
   "metadata": {},
   "source": [
    "### Create our knowledgebase\n",
    "This entails uploading your pdfs as your knowledgebase for the retrievers to use.\n",
    "Most likely, these docuements will be chuncked and indexed into vectors. That bit is hidden from you.\n",
    "\n",
    "The retireivers use our query to search the best semantic matches with vectors in the knowledgebase, and feed the LLM, along with the original query, to generate the consolidated and comprehesive answere. Its like a mini Retrieval Augment Generation (RAG)"
   ]
  },
  {
   "cell_type": "raw",
   "id": "1aafeb0d-f92c-4b40-9ef4-393bbeb371ae",
   "metadata": {},
   "source": [
    "Upload the the two pdfs files from your storage."
   ]
  },
  {
   "cell_type": "code",
   "execution_count": 18,
   "id": "9722a539-2087-4b4f-933d-5c4ce04e7186",
   "metadata": {},
   "outputs": [
    {
     "name": "stdout",
     "output_type": "stream",
     "text": [
      "Uploading doc:docs/HAI_AI-Index-Report_2023.pdf...\n",
      "Uploading doc:docs/llm_survey_halluciantions.pdf...\n"
     ]
    }
   ],
   "source": [
    "file_objects = []\n",
    "for doc in DOCS_TO_LOAD:\n",
    "    print(f\"Uploading doc:{doc}...\")\n",
    "    file_obj = client.files.create(file=open(doc, \"rb\"), \n",
    "                                             purpose=\"assistants\")\n",
    "    file_objects.append(file_obj)"
   ]
  },
  {
   "cell_type": "code",
   "execution_count": 17,
   "id": "562008f1-7713-40ab-873e-afe0523fc26f",
   "metadata": {},
   "outputs": [
    {
     "data": {
      "text/plain": [
       "[FileObject(id='file-tsRWdKT1tj4X0k0OImkNcNvi', bytes=25318310, created_at=1703028209, filename='HAI_AI-Index-Report_2023.pdf', object='file', purpose='assistants', status='processed', status_details=None),\n",
       " FileObject(id='file-vA4recYS28J71huYBoRedW1M', bytes=1870663, created_at=1703028212, filename='llm_survey_halluciantions.pdf', object='file', purpose='assistants', status='processed', status_details=None)]"
      ]
     },
     "execution_count": 17,
     "metadata": {},
     "output_type": "execute_result"
    }
   ],
   "source": [
    "file_objects"
   ]
  },
  {
   "cell_type": "markdown",
   "id": "7e015d11-f87b-4534-b27e-379a06b7b7a7",
   "metadata": {},
   "source": [
    "### Create an Assistant \n",
    "Before you can start interacting with the assistance to carry out any tasks, you need an AI assistant object."
   ]
  },
  {
   "cell_type": "code",
   "execution_count": 30,
   "id": "4ef7325f-5e71-4778-952a-27e3f525b870",
   "metadata": {},
   "outputs": [
    {
     "data": {
      "text/plain": [
       "Assistant(id='asst_wUIbHW1FdTAR4cnC9wwMhW37', created_at=1703029364, description=None, file_ids=['file-JPaJ4gNVSL89Ypdrr6UcdzKl', 'file-qssr6MxqaMZk3FTJPKjsK3SF'], instructions='You are a knowledgeable chatbot trained to respond \\n                                               inquires about the Standfords HAI Artificial index 2023 report and on survey of why \\n                                               LLMs hallucinate. Use a neutral, professional advisory tone, and only\\n                                               respond by consulting the knowledgbase or files you are granted access to.\\n                                               Do not make up answers.', metadata={}, model='gpt-4-1106-preview', name='AI Report and LLM survey Chatbot', object='assistant', tools=[ToolRetrieval(type='retrieval')])"
      ]
     },
     "execution_count": 30,
     "metadata": {},
     "output_type": "execute_result"
    }
   ],
   "source": [
    "assistant = client.beta.assistants.create(name=\"AI Report and LLM survey Chatbot\",\n",
    "                                           instructions=\"\"\"You are a knowledgeable chatbot trained to respond \n",
    "                                               inquires about the Standfords HAI Artificial index 2023 report and on survey of why \n",
    "                                               LLMs hallucinate. Use a neutral, professional advisory tone, and only\n",
    "                                               respond by consulting the knowledgbase or files you are granted access to.\n",
    "                                               Do not make up answers.\"\"\",\n",
    "                                           model=MODEL,\n",
    "                                           tools = [{'type': 'retrieval'}],\n",
    "                                           file_ids=[file_objects[0].id, file_objects[1].id]\n",
    ")                                        \n",
    "assistant"
   ]
  },
  {
   "cell_type": "markdown",
   "id": "5b353b4f-5c8a-46ad-961b-5004248a3874",
   "metadata": {},
   "source": [
    "### Create a thread \n",
    "As the diagram above shows, the Thread is the object by which the AI Assistance runtime environment will interact with, by fetching messages and putting messages to it.\n",
    "\n",
    "Think of a thread as a \"conversation session between an Assistant and a user. Threads store Messages and automatically handle truncation to fit content into a model’s context.\""
   ]
  },
  {
   "cell_type": "code",
   "execution_count": 26,
   "id": "d8bffc3d-2e64-4b86-9c47-6bb7a886cc52",
   "metadata": {},
   "outputs": [
    {
     "data": {
      "text/plain": [
       "Thread(id='thread_UW9eo5oAtk0nY8dCTBqpcXbP', created_at=1703028930, metadata={}, object='thread')"
      ]
     },
     "execution_count": 26,
     "metadata": {},
     "output_type": "execute_result"
    }
   ],
   "source": [
    "thread = client.beta.threads.create()\n",
    "thread"
   ]
  },
  {
   "cell_type": "markdown",
   "id": "f36f3f97-5e53-4b6d-90e3-9da794d6d505",
   "metadata": {},
   "source": [
    "### Add our message query to the thread"
   ]
  },
  {
   "cell_type": "code",
   "execution_count": 27,
   "id": "d23a252b-32a6-4558-8a0d-2605c796f54c",
   "metadata": {},
   "outputs": [
    {
     "data": {
      "text/plain": [
       "ThreadMessage(id='msg_pAwRieM7toCEIYvGcwIMeVMQ', assistant_id=None, content=[MessageContentText(text=Text(annotations=[], value='What are the top 10 takeaways in the Artificial Intelligence Index Report 2023.\\n    Summarize each in no more three sentences.'), type='text')], created_at=1703028935, file_ids=[], metadata={}, object='thread.message', role='user', run_id=None, thread_id='thread_UW9eo5oAtk0nY8dCTBqpcXbP')"
      ]
     },
     "execution_count": 27,
     "metadata": {},
     "output_type": "execute_result"
    }
   ],
   "source": [
    "message_1 = client.beta.threads.messages.create(\n",
    "    thread_id=thread.id, \n",
    "    role=\"user\",\n",
    "    content=\"\"\"What are the top 10 takeaways in the Artificial Intelligence Index Report 2023.\n",
    "    Summarize each in no more three sentences.\"\"\",\n",
    ")\n",
    "message_1"
   ]
  },
  {
   "cell_type": "markdown",
   "id": "25b81328-9f58-4f6d-ae72-56c2a5d39fbc",
   "metadata": {},
   "source": [
    "### Step 5: Run the assistance.\n",
    "The Assistant uses it’s configuration and the Thread’s Messages to perform tasks by calling models and tools. As part of a Run, the Assistant appends Messages to the Thread.\n",
    "\n",
    "Note that Assistance will run asychronously: the run has the following\n",
    "lifecycle and states: [*expired, completed, failed, cancelled*]. Run objects can have multiple statuses.\n",
    "\n",
    "<img src=\"https://cdn.openai.com/API/docs/images/diagram-1.png\">"
   ]
  },
  {
   "cell_type": "code",
   "execution_count": 36,
   "id": "9a8b6e1c-61d3-4517-b99f-719f95f1d35a",
   "metadata": {},
   "outputs": [
    {
     "data": {
      "text/plain": [
       "Run(id='run_4mzVkwgi6mh3v2g5pN8Zm0dY', assistant_id='asst_wUIbHW1FdTAR4cnC9wwMhW37', cancelled_at=None, completed_at=None, created_at=1703030029, expires_at=1703030629, failed_at=None, file_ids=['file-JPaJ4gNVSL89Ypdrr6UcdzKl', 'file-qssr6MxqaMZk3FTJPKjsK3SF'], instructions='Please address the user as Jules Dmatrix.  \\n    Do not provide an answer to the question if the information was not retrieved from the knowledge base.\\n', last_error=None, metadata={}, model='gpt-4-1106-preview', object='thread.run', required_action=None, started_at=None, status='queued', thread_id='thread_UW9eo5oAtk0nY8dCTBqpcXbP', tools=[ToolAssistantToolsRetrieval(type='retrieval')])"
      ]
     },
     "execution_count": 36,
     "metadata": {},
     "output_type": "execute_result"
    }
   ],
   "source": [
    "run = client.beta.threads.runs.create(\n",
    "    thread_id = thread.id,\n",
    "    assistant_id = assistant.id,\n",
    "    instructions = \"\"\"Please address the user as Jules Dmatrix.  \n",
    "    Do not provide an answer to the question if the information was not retrieved from the knowledge base.\n",
    "\"\"\"\n",
    ")\n",
    "run"
   ]
  },
  {
   "cell_type": "markdown",
   "id": "837be4e0-0198-4222-8e9c-3a483fc2f271",
   "metadata": {},
   "source": [
    "### Step 6: Retrieve the status "
   ]
  },
  {
   "cell_type": "code",
   "execution_count": 32,
   "id": "2a9b8e0f-441a-43bf-8b6d-4e748d31b3e9",
   "metadata": {},
   "outputs": [
    {
     "name": "stdout",
     "output_type": "stream",
     "text": [
      "completed\n"
     ]
    }
   ],
   "source": [
    "run = client.beta.threads.runs.retrieve(\n",
    "    thread_id = thread.id,\n",
    "    run_id = run.id\n",
    ")\n",
    "\n",
    "print(run.status)"
   ]
  },
  {
   "cell_type": "markdown",
   "id": "00fe2be8-8a69-46c5-a23a-d4fc31782ddc",
   "metadata": {},
   "source": [
    "### Step 7. Retrieve the message returned by the assistance"
   ]
  },
  {
   "cell_type": "code",
   "execution_count": 34,
   "id": "ebe25bb4-c7c1-4f3e-b6a1-c8394e299a25",
   "metadata": {},
   "outputs": [
    {
     "name": "stdout",
     "output_type": "stream",
     "text": [
      "('assistant:The top 10 takeaways from the Artificial Intelligence Index Report '\n",
      " '2023 are as follows:\\n'\n",
      " '\\n'\n",
      " '1. **Industry races ahead of academia**: Since 2014, industry has overtaken '\n",
      " 'academia in releasing significant machine learning models. By 2022, there '\n",
      " 'were 32 significant industry-produced models compared to only three by '\n",
      " 'academia, signaling that industry possesses more resources such as data, '\n",
      " 'computing power, and funds for AI development【9†source】.\\n'\n",
      " '\\n'\n",
      " '2. **Performance saturation on traditional benchmarks**: Although AI '\n",
      " 'continues to achieve state-of-the-art results, improvements on many '\n",
      " 'benchmarks are increasingly marginal. This saturation is happening more '\n",
      " 'rapidly, yet new, comprehensive benchmarks like BIG-bench and HELM have been '\n",
      " 'introduced【9†source】.\\n'\n",
      " '\\n'\n",
      " '3. **AI and environmental impact**: Recent research indicates significant '\n",
      " 'environmental impacts of AI, like the carbon emissions produced by the BLOOM '\n",
      " \"model's training run. Conversely, newer models, including BCOOLER, \"\n",
      " \"demonstrate AI's potential to optimize energy use【9†source】.\\n\"\n",
      " '\\n'\n",
      " \"4. **AI's contribution to science**: AI models are accelerating scientific \"\n",
      " 'progress, contributing in 2022 to advancements such as aiding hydrogen '\n",
      " 'fusion, enhancing matrix manipulation efficiency, and generating '\n",
      " 'antibodies【9†source】.\\n'\n",
      " '\\n'\n",
      " '5. **Rising AI misuse incidents**: The number of AI-related ethical misuse '\n",
      " 'incidents has risen 26-fold since 2012, underscored by notable incidents '\n",
      " 'involving deepfake videos and privacy invasions in U.S. prisons【9†source】.\\n'\n",
      " '\\n'\n",
      " '6. **Increased demand for AI skills**: Job postings requiring AI skills have '\n",
      " 'risen across almost all American industrial sectors, with the proportion of '\n",
      " 'AI-related job postings growing from 1.7% in 2021 to 1.9% in 2022, showing '\n",
      " 'heightened employer interest in AI competencies【9†source】.\\n'\n",
      " '\\n'\n",
      " '7. **Decrease in private AI investment**: For the first time in a decade, '\n",
      " 'year-over-year private investment in AI dropped by 26.7% in 2022, although '\n",
      " 'the last decade has seen an overall significant increase, with 2022 '\n",
      " 'investments being 18 times that of 2013【9†source】.\\n'\n",
      " '\\n'\n",
      " '8. **AI adoption by companies plateaus but has benefits**: While the '\n",
      " 'proportion of companies adopting AI has plateaued, those that have '\n",
      " 'incorporated AI report notable cost reductions and revenue '\n",
      " 'increases【9†source】.\\n'\n",
      " '\\n'\n",
      " '9. **Increased policymaker interest in AI**: The legislative attention to AI '\n",
      " 'is growing, with an increase in laws and bills mentioning \"artificial '\n",
      " 'intelligence,\" signaling heightened governmental engagement with AI '\n",
      " 'issues【9†source】.\\n'\n",
      " '\\n'\n",
      " '10. **Global public opinion on AI**: Among the countries surveyed, Chinese '\n",
      " 'citizens view AI products and services most positively, while American '\n",
      " 'opinions are among the least positive, reflecting differing national '\n",
      " \"sentiments toward AI's benefits and drawbacks【9†source】.\")\n",
      "('user:What are the top 10 takeaways in the Artificial Intelligence Index '\n",
      " 'Report 2023.\\n'\n",
      " '    Summarize each in no more three sentences.')\n"
     ]
    }
   ],
   "source": [
    "from pprint import pprint\n",
    "messages = client.beta.threads.messages.list(\n",
    "    thread_id = thread.id,\n",
    "\n",
    ")\n",
    "for each in messages:\n",
    "  pprint(each.role + \":\" + each.content[0].text.value)"
   ]
  },
  {
   "cell_type": "markdown",
   "id": "09b83c70-3374-4495-8463-f2a16b46e742",
   "metadata": {},
   "source": [
    "### Add another message to for the Assistant"
   ]
  },
  {
   "cell_type": "code",
   "execution_count": 35,
   "id": "40a08436-19cb-4830-b704-157c8c4600f5",
   "metadata": {},
   "outputs": [
    {
     "data": {
      "text/plain": [
       "ThreadMessage(id='msg_sSCIAKegqYmwKnGfMpr03cSI', assistant_id=None, content=[MessageContentText(text=Text(annotations=[], value='What are the examples of each category of LLM hallucinations types? Give \\n    an example of each types?\"\\n    '), type='text')], created_at=1703029958, file_ids=[], metadata={}, object='thread.message', role='user', run_id=None, thread_id='thread_UW9eo5oAtk0nY8dCTBqpcXbP')"
      ]
     },
     "execution_count": 35,
     "metadata": {},
     "output_type": "execute_result"
    }
   ],
   "source": [
    "message_2 = client.beta.threads.messages.create(\n",
    "    thread_id=thread.id, \n",
    "    role=\"user\",\n",
    "    content=\"\"\"What are the examples of each category of LLM hallucinations types? Give \n",
    "    an example of each types?\"\n",
    "    \"\"\",\n",
    ")\n",
    "message_2"
   ]
  },
  {
   "cell_type": "markdown",
   "id": "a0c4b8a0-b7e2-447b-a1e7-2565d22a1afd",
   "metadata": {},
   "source": [
    "### Run the assistant"
   ]
  },
  {
   "cell_type": "code",
   "execution_count": 38,
   "id": "ef2f4166-9def-497a-b822-3f60476c6fb3",
   "metadata": {},
   "outputs": [
    {
     "name": "stdout",
     "output_type": "stream",
     "text": [
      "completed\n"
     ]
    }
   ],
   "source": [
    "run = client.beta.threads.runs.retrieve(\n",
    "    thread_id = thread.id,\n",
    "    run_id = run.id\n",
    ")\n",
    "\n",
    "print(run.status)"
   ]
  },
  {
   "cell_type": "code",
   "execution_count": 39,
   "id": "a2639487-0d95-4b3a-b86e-868b92a19a4a",
   "metadata": {},
   "outputs": [
    {
     "name": "stdout",
     "output_type": "stream",
     "text": [
      "('assistant:The examples of each category of Large Language Model (LLM) '\n",
      " 'hallucination types are as follows:\\n'\n",
      " '\\n'\n",
      " '- **Factuality Hallucination:**\\n'\n",
      " '  - **Factual Inconsistency**: An LLM incorrectly states that \"Yuri Gagarin '\n",
      " 'was the first person to land on the Moon,\" when in fact it was Neil '\n",
      " 'Armstrong【16†source】.\\n'\n",
      " '  - **Factual Fabrication**: Despite the lack of verifiable evidence, an LLM '\n",
      " 'fabricates a history for unicorns, claiming they \"roamed the plains of '\n",
      " 'Atlantis around 10000 BC\" and were associated with royalty【16†source】.\\n'\n",
      " '\\n'\n",
      " '- **Faithfulness Hallucination:**\\n'\n",
      " '  - **Instruction Inconsistency**: An LLM responds to the instruction to '\n",
      " 'translate \"What is the capital of France?\" into Spanish by simply stating '\n",
      " '\"The capital of France is Paris,\" without performing the '\n",
      " 'translation【16†source】.\\n'\n",
      " '  - **Context Inconsistency**: When provided information that the Nile '\n",
      " 'originates from the Great Lakes region of central Africa, an LLM contradicts '\n",
      " 'this by summarizing that it \"originates from the mountain ranges of central '\n",
      " 'Africa\"【16†source】.\\n'\n",
      " '  - **Logical Inconsistency**: An LLM solving the equation \"2x + 3 = 11\" '\n",
      " 'provides an incorrect answer of \"x = 3\" after dividing \"2x = 8\" by 2, '\n",
      " 'demonstrating an internal logical contradiction【16†source】.')\n",
      "('user:What are the examples of each category of LLM hallucinations types? '\n",
      " 'Give \\n'\n",
      " '    an example of each types?\"\\n'\n",
      " '    ')\n",
      "('assistant:The top 10 takeaways from the Artificial Intelligence Index Report '\n",
      " '2023 are as follows:\\n'\n",
      " '\\n'\n",
      " '1. **Industry races ahead of academia**: Since 2014, industry has overtaken '\n",
      " 'academia in releasing significant machine learning models. By 2022, there '\n",
      " 'were 32 significant industry-produced models compared to only three by '\n",
      " 'academia, signaling that industry possesses more resources such as data, '\n",
      " 'computing power, and funds for AI development【9†source】.\\n'\n",
      " '\\n'\n",
      " '2. **Performance saturation on traditional benchmarks**: Although AI '\n",
      " 'continues to achieve state-of-the-art results, improvements on many '\n",
      " 'benchmarks are increasingly marginal. This saturation is happening more '\n",
      " 'rapidly, yet new, comprehensive benchmarks like BIG-bench and HELM have been '\n",
      " 'introduced【9†source】.\\n'\n",
      " '\\n'\n",
      " '3. **AI and environmental impact**: Recent research indicates significant '\n",
      " 'environmental impacts of AI, like the carbon emissions produced by the BLOOM '\n",
      " \"model's training run. Conversely, newer models, including BCOOLER, \"\n",
      " \"demonstrate AI's potential to optimize energy use【9†source】.\\n\"\n",
      " '\\n'\n",
      " \"4. **AI's contribution to science**: AI models are accelerating scientific \"\n",
      " 'progress, contributing in 2022 to advancements such as aiding hydrogen '\n",
      " 'fusion, enhancing matrix manipulation efficiency, and generating '\n",
      " 'antibodies【9†source】.\\n'\n",
      " '\\n'\n",
      " '5. **Rising AI misuse incidents**: The number of AI-related ethical misuse '\n",
      " 'incidents has risen 26-fold since 2012, underscored by notable incidents '\n",
      " 'involving deepfake videos and privacy invasions in U.S. prisons【9†source】.\\n'\n",
      " '\\n'\n",
      " '6. **Increased demand for AI skills**: Job postings requiring AI skills have '\n",
      " 'risen across almost all American industrial sectors, with the proportion of '\n",
      " 'AI-related job postings growing from 1.7% in 2021 to 1.9% in 2022, showing '\n",
      " 'heightened employer interest in AI competencies【9†source】.\\n'\n",
      " '\\n'\n",
      " '7. **Decrease in private AI investment**: For the first time in a decade, '\n",
      " 'year-over-year private investment in AI dropped by 26.7% in 2022, although '\n",
      " 'the last decade has seen an overall significant increase, with 2022 '\n",
      " 'investments being 18 times that of 2013【9†source】.\\n'\n",
      " '\\n'\n",
      " '8. **AI adoption by companies plateaus but has benefits**: While the '\n",
      " 'proportion of companies adopting AI has plateaued, those that have '\n",
      " 'incorporated AI report notable cost reductions and revenue '\n",
      " 'increases【9†source】.\\n'\n",
      " '\\n'\n",
      " '9. **Increased policymaker interest in AI**: The legislative attention to AI '\n",
      " 'is growing, with an increase in laws and bills mentioning \"artificial '\n",
      " 'intelligence,\" signaling heightened governmental engagement with AI '\n",
      " 'issues【9†source】.\\n'\n",
      " '\\n'\n",
      " '10. **Global public opinion on AI**: Among the countries surveyed, Chinese '\n",
      " 'citizens view AI products and services most positively, while American '\n",
      " 'opinions are among the least positive, reflecting differing national '\n",
      " \"sentiments toward AI's benefits and drawbacks【9†source】.\")\n",
      "('user:What are the top 10 takeaways in the Artificial Intelligence Index '\n",
      " 'Report 2023.\\n'\n",
      " '    Summarize each in no more three sentences.')\n"
     ]
    }
   ],
   "source": [
    "from pprint import pprint\n",
    "messages = client.beta.threads.messages.list(\n",
    "    thread_id = thread.id,\n",
    "\n",
    ")\n",
    "for each in messages:\n",
    "  pprint(each.role + \":\" + each.content[0].text.value)"
   ]
  },
  {
   "cell_type": "code",
   "execution_count": 40,
   "id": "337be76b-405c-4a91-80b0-92a263e14c63",
   "metadata": {},
   "outputs": [
    {
     "data": {
      "text/plain": [
       "AssistantDeleted(id='asst_wUIbHW1FdTAR4cnC9wwMhW37', deleted=True, object='assistant.deleted')"
      ]
     },
     "execution_count": 40,
     "metadata": {},
     "output_type": "execute_result"
    }
   ],
   "source": [
    "# Delete the assistant. This will end the runtime associated with it\n",
    "\n",
    "response = client.beta.assistants.delete(assistant.id)\n",
    "response"
   ]
  }
 ],
 "metadata": {
  "kernelspec": {
   "display_name": "Python 3 (ipykernel)",
   "language": "python",
   "name": "python3"
  },
  "language_info": {
   "codemirror_mode": {
    "name": "ipython",
    "version": 3
   },
   "file_extension": ".py",
   "mimetype": "text/x-python",
   "name": "python",
   "nbconvert_exporter": "python",
   "pygments_lexer": "ipython3",
   "version": "3.10.13"
  }
 },
 "nbformat": 4,
 "nbformat_minor": 5
}
