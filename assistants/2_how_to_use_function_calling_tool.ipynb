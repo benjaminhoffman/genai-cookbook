{
 "cells": [
  {
   "attachments": {},
   "cell_type": "markdown",
   "id": "d072e6a7-73d0-42aa-a720-d54a425a57de",
   "metadata": {},
   "source": [
    "# OpenAI Assistants APIs\n",
    "\n",
    "The Assistants' API lets you create AI assistants in your applications. These assistants follow instructions and use models, tools, and knowledge to answer user questions. In this notebook we are going to use one of the tools, retriever,\n",
    "to query against two pdf documents we will upload.\n",
    "\n",
    "The architeture and data flow diagram below depicts the interaction among all components that comprise OpenAI Assistant APIs. Central to understand is the Threads and Runtime that executes anyschronously, adding and reading messages to the Threads.\n",
    "\n",
    "For integrating the Assistants API:\n",
    "\n",
    "1. Creat an Assistant with custom instructions and select a model. Optionally, enable tools like Code Interpreter, Retrieval, and Function Calling.\n",
    "\n",
    "2. Initiate a Thread for each user conversation.\n",
    "    \n",
    "3. Add user queries as Messages to the Thread.\n",
    "\n",
    "4.  Run the Assistant on the Thread for responses, which automatically utilizes the enabled tools\n",
    "\n",
    "Below we follow those steps to demonstrate how to integrate Assistants API, using function tool, to ask our Assistant to solve simple and complex Maths problems.\n",
    "\n",
    "The OpenAI documentation describes in details [how Assistants work](https://platform.openai.com/docs/assistants/how-it-works).\n",
    "\n",
    "<img src=\"./images/assistant_ai_tools_functions.png\">\n"
   ]
  },
  {
   "cell_type": "markdown",
   "id": "fd0265db-3476-4bbc-9ff1-e7edba54d336",
   "metadata": {},
   "source": [
    "## How to use Assistant API using Tools: Function calling"
   ]
  },
  {
   "cell_type": "code",
   "execution_count": 1,
   "id": "3cb24888-2462-4866-9bf6-4c9be671b3dd",
   "metadata": {},
   "outputs": [],
   "source": [
    "import warnings\n",
    "import os\n",
    "import json\n",
    "\n",
    "import openai\n",
    "from openai import OpenAI\n",
    "\n",
    "from dotenv import load_dotenv, find_dotenv\n",
    "from typing import List, Dict, Any\n",
    "from assistant_utils import print_thread_messages, upload_files, \\\n",
    "                            loop_until_completed, create_assistant_run\n",
    "from function_utils import add_prime_numbers"
   ]
  },
  {
   "cell_type": "markdown",
   "id": "d82d520a-b77c-4b5b-937b-fb3dfc52ffa8",
   "metadata": {},
   "source": [
    "Load our .env file with respective API keys and base url endpoints. Here you can either use OpenAI or Anyscale Endpoints. **Note**: Assistant API calling for Anyscale Endpoints (which serves only OS modles) is not yet aviable)."
   ]
  },
  {
   "cell_type": "code",
   "execution_count": 2,
   "id": "6e8dddba-664d-4572-9ec3-3c2639c0a8f8",
   "metadata": {},
   "outputs": [
    {
     "name": "stdout",
     "output_type": "stream",
     "text": [
      "Using MODEL=gpt-4-1106-preview; base=https://api.openai.com/v1\n"
     ]
    }
   ],
   "source": [
    "warnings.filterwarnings('ignore')\n",
    "\n",
    "_ = load_dotenv(find_dotenv()) # read local .env file\n",
    "\n",
    "openai.api_base = os.getenv(\"ANYSCALE_API_BASE\", os.getenv(\"OPENAI_API_BASE\"))\n",
    "openai.api_key = os.getenv(\"ANYSCALE_API_KEY\", os.getenv(\"OPENAI_API_KEY\"))\n",
    "MODEL = os.getenv(\"MODEL\")\n",
    "print(f\"Using MODEL={MODEL}; base={openai.api_base}\")"
   ]
  },
  {
   "cell_type": "code",
   "execution_count": 3,
   "id": "f67991c0-35fa-4ceb-b047-7ee2742a93a3",
   "metadata": {},
   "outputs": [],
   "source": [
    "from openai import OpenAI\n",
    "\n",
    "client = OpenAI(\n",
    "    api_key = openai.api_key,\n",
    "    base_url = openai.api_base\n",
    ")"
   ]
  },
  {
   "cell_type": "markdown",
   "id": "5111dde4-d216-48d9-9951-04934b067f40",
   "metadata": {},
   "source": [
    "### Step 1: Create our custom function definition\n",
    "This our JSON object definiton for our function:\n",
    "* name of the funciton\n",
    "* parameters for the funtion\n",
    "* type of arguments\n",
    "* descriptions for function and each parameter type"
   ]
  },
  {
   "cell_type": "code",
   "execution_count": 4,
   "id": "0bab1599-3266-49c6-8dd0-a540ed8d675b",
   "metadata": {},
   "outputs": [],
   "source": [
    "sum_of_prime_numbers = {\n",
    "        \"name\": \"add_prime_numbers\",\n",
    "        \"description\": \"Add a list of 25 integer prime numbers between 2 and 100\",\n",
    "        \"parameters\": {\n",
    "            \"type\": \"object\",\n",
    "            \"properties\": {\n",
    "                \"prime_numbers\": {\n",
    "                    \"type\": \"array\",\n",
    "                    \"items\": {\n",
    "                    \"type\": \"integer\",\n",
    "                        \"description\": \"A integer list of 25 random prime numbers betwee 2 and 100\"\n",
    "                         },\n",
    "                        \"description\": \"List of of 25 prime numbers to be added\"\n",
    "                    }\n",
    "                },\n",
    "                \"required\": [\"add_prime_numbers\"]\n",
    "            }\n",
    "        }\n",
    "\n",
    "tools = [{'type': 'function', 'function': sum_of_prime_numbers}]"
   ]
  },
  {
   "cell_type": "markdown",
   "id": "435191b6-761e-48b6-87f6-82a2531a0b35",
   "metadata": {},
   "source": [
    "### Step 2: Create an Assistant \n",
    "Before you can start interacting with the Assistant to carry out any tasks, you need an AI assistant object. Supply the Assistant with a model to use, tools, i.e., functions"
   ]
  },
  {
   "cell_type": "code",
   "execution_count": 5,
   "id": "d66f645e-ac3e-41d0-a139-9fe5c1fd4fc9",
   "metadata": {},
   "outputs": [
    {
     "data": {
      "text/plain": [
       "Assistant(id='asst_gxX3X03ih8AuDTUZhKblIHQx', created_at=1703299773, description=None, file_ids=[], instructions='You are a knowledgeable chatbot trained to help \\n                                               solve basic and advanced grade 8-12 Maths problems.\\n                                               Use a neutral, teacher and  advisory tone', metadata={}, model='gpt-4-1106-preview', name='AI Math Tutor', object='assistant', tools=[ToolFunction(function=FunctionDefinition(name='add_prime_numbers', description='Add a list of 25 integer prime numbers between 2 and 100', parameters={'type': 'object', 'properties': {'prime_numbers': {'type': 'array', 'items': {'type': 'integer', 'description': 'A integer list of 25 random prime numbers betwee 2 and 100'}, 'description': 'List of of 25 prime numbers to be added'}}, 'required': ['add_prime_numbers']}), type='function')])"
      ]
     },
     "execution_count": 5,
     "metadata": {},
     "output_type": "execute_result"
    }
   ],
   "source": [
    "assistant = client.beta.assistants.create(name=\"AI Math Tutor\",\n",
    "                                           instructions=\"\"\"You are a knowledgeable chatbot trained to help \n",
    "                                               solve basic and advanced grade 8-12 Maths problems.\n",
    "                                               Use a neutral, teacher and  advisory tone\"\"\",\n",
    "                                           model=MODEL,\n",
    "                                           tools=tools)\n",
    "assistant"
   ]
  },
  {
   "cell_type": "markdown",
   "id": "370bf037-a231-42d3-bc6f-531a6410c4c8",
   "metadata": {},
   "source": [
    "### Step 3: Create an empty thread \n",
    "As the diagram above shows, the Thread is the object with which the AI Assistant runs will interact with, by fetching messages and putting messages to it. Think of a thread as a \"conversation session between an Assistant and a user. Threads store Messages and automatically handle truncation to fit content into a model’s context window.\""
   ]
  },
  {
   "cell_type": "code",
   "execution_count": 6,
   "id": "83303fa6-6c6c-4649-b0f7-aa2640a8ea4c",
   "metadata": {},
   "outputs": [
    {
     "data": {
      "text/plain": [
       "Thread(id='thread_x7NYYLSPdNqCVip9IwGSwAmI', created_at=1703299781, metadata={}, object='thread')"
      ]
     },
     "execution_count": 6,
     "metadata": {},
     "output_type": "execute_result"
    }
   ],
   "source": [
    "thread = client.beta.threads.create()\n",
    "thread"
   ]
  },
  {
   "cell_type": "markdown",
   "id": "85fea1d7-7ce7-45ad-a821-f2b9a0dd971c",
   "metadata": {},
   "source": [
    "### Step 4: Add your message query to the thread for the Assistant"
   ]
  },
  {
   "cell_type": "code",
   "execution_count": 7,
   "id": "1cb61704-6629-41f8-9b74-fd5f18fed106",
   "metadata": {},
   "outputs": [
    {
     "data": {
      "text/plain": [
       "ThreadMessage(id='msg_9HHbaRdRGzlX5opvscRDuxw1', assistant_id=None, content=[MessageContentText(text=Text(annotations=[], value='Generate 25 random prime numbers between 2 and 100\\n    as a list, and add the numbers in this generated list\\n    '), type='text')], created_at=1703299831, file_ids=[], metadata={}, object='thread.message', role='user', run_id=None, thread_id='thread_x7NYYLSPdNqCVip9IwGSwAmI')"
      ]
     },
     "execution_count": 7,
     "metadata": {},
     "output_type": "execute_result"
    }
   ],
   "source": [
    "message_1 = client.beta.threads.messages.create(\n",
    "    thread_id=thread.id, \n",
    "    role=\"user\",\n",
    "    content=\"\"\"Generate 25 random prime numbers between 2 and 100\n",
    "    as a list, and add the numbers in this generated list\n",
    "    \"\"\"\n",
    ")\n",
    "message_1"
   ]
  },
  {
   "cell_type": "markdown",
   "id": "2b4031de-c5ed-4c1e-9ea9-7b3f9e3149f5",
   "metadata": {},
   "source": [
    "### Step 5: Create a Run for the Assistant\n",
    "A Run is an invocation of an Assistant on a Thread. The Assistant uses it’s configuration and the Thread’s Messages to perform tasks by calling models and tools. As part of a Run, the Assistant appends Messages to the Thread.\n",
    "\n",
    "Note that Assistance will run asychronously: the run has the following\n",
    "lifecycle and states: [*expired, completed, requires, failed, cancelled*]. Run objects can have multiple statuses.\n",
    "\n",
    "<img src=\"https://cdn.openai.com/API/docs/images/diagram-1.png\">"
   ]
  },
  {
   "cell_type": "code",
   "execution_count": 8,
   "id": "b29987d9-2293-4b8c-9a86-5bf30088b3b6",
   "metadata": {},
   "outputs": [
    {
     "data": {
      "text/plain": [
       "Run(id='run_pbol5shDICiYjAlxS4XYBuBH', assistant_id='asst_gxX3X03ih8AuDTUZhKblIHQx', cancelled_at=None, completed_at=None, created_at=1703299861, expires_at=1703300461, failed_at=None, file_ids=[], instructions='Generate a random list of 25 prime numbers between \\n2 and 100.', last_error=None, metadata={}, model='gpt-4-1106-preview', object='thread.run', required_action=None, started_at=None, status='queued', thread_id='thread_x7NYYLSPdNqCVip9IwGSwAmI', tools=[ToolAssistantToolsFunction(function=FunctionDefinition(name='add_prime_numbers', description='Add a list of 25 integer prime numbers between 2 and 100', parameters={'type': 'object', 'properties': {'prime_numbers': {'type': 'array', 'items': {'type': 'integer', 'description': 'A integer list of 25 random prime numbers betwee 2 and 100'}, 'description': 'List of of 25 prime numbers to be added'}}, 'required': ['add_prime_numbers']}), type='function')])"
      ]
     },
     "execution_count": 8,
     "metadata": {},
     "output_type": "execute_result"
    }
   ],
   "source": [
    "instruction_msg = \"\"\"Generate a random list of 25 prime numbers between \n",
    "2 and 100.\"\"\"\n",
    "run_1 = create_assistant_run(client, assistant, thread, instruction_msg)\n",
    "run_1"
   ]
  },
  {
   "cell_type": "markdown",
   "id": "63a65776-b355-4988-8a27-8369e53f77ca",
   "metadata": {},
   "source": [
    "### Step 6: Retrieve the status"
   ]
  },
  {
   "cell_type": "code",
   "execution_count": 9,
   "id": "e37d7dc8-ecdf-4407-9f1b-db395d4b9292",
   "metadata": {},
   "outputs": [],
   "source": [
    "run_1_obj = client.beta.threads.runs.retrieve(\n",
    "    thread_id = thread.id,\n",
    "    run_id = run_1.id\n",
    ")"
   ]
  },
  {
   "cell_type": "code",
   "execution_count": 10,
   "id": "8956375f-9178-4102-9a9a-60c80a1ec343",
   "metadata": {},
   "outputs": [
    {
     "name": "stdout",
     "output_type": "stream",
     "text": [
      "Run(id='run_pbol5shDICiYjAlxS4XYBuBH', assistant_id='asst_gxX3X03ih8AuDTUZhKblIHQx', cancelled_at=None, completed_at=None, created_at=1703299861, expires_at=1703300461, failed_at=None, file_ids=[], instructions='Generate a random list of 25 prime numbers between \\n2 and 100.', last_error=None, metadata={}, model='gpt-4-1106-preview', object='thread.run', required_action=RequiredAction(submit_tool_outputs=RequiredActionSubmitToolOutputs(tool_calls=[RequiredActionFunctionToolCall(id='call_gXieuNHDecF2voSIfXOIYEe4', function=Function(arguments='{\"prime_numbers\":[2,3,5,7,11,13,17,19,23,29,31,37,41,43,47,53,59,61,67,71,73,79,83,89,97]}', name='add_prime_numbers'), type='function')]), type='submit_tool_outputs'), started_at=1703299861, status='requires_action', thread_id='thread_x7NYYLSPdNqCVip9IwGSwAmI', tools=[ToolAssistantToolsFunction(function=FunctionDefinition(name='add_prime_numbers', description='Add a list of 25 integer prime numbers between 2 and 100', parameters={'type': 'object', 'properties': {'prime_numbers': {'type': 'array', 'items': {'type': 'integer', 'description': 'A integer list of 25 random prime numbers betwee 2 and 100'}, 'description': 'List of of 25 prime numbers to be added'}}, 'required': ['add_prime_numbers']}), type='function')]) requires_action\n"
     ]
    }
   ],
   "source": [
    "print(run_1_obj, run_1_obj.status)"
   ]
  },
  {
   "cell_type": "markdown",
   "id": "d02a3a5a-417b-459c-90eb-664cad5f1dbe",
   "metadata": {},
   "source": [
    "Loop until run status is \"required_action,\" which is a trigger notification to extract arguments generated by the LLM model and \n",
    "carry onto the next step: invoke the function with the generated arguments."
   ]
  },
  {
   "cell_type": "code",
   "execution_count": 11,
   "id": "c5f5c367-8349-4fe8-b49e-cd2b3d0d2f8f",
   "metadata": {},
   "outputs": [],
   "source": [
    "loop_until_completed(client, thread, run_1_obj)"
   ]
  },
  {
   "cell_type": "markdown",
   "id": "c82b125e-2938-4c03-a452-5ed394f356a6",
   "metadata": {},
   "source": [
    "Get the tools output. This where your application can call into\n",
    "the funtion you want invoked. "
   ]
  },
  {
   "cell_type": "markdown",
   "id": "28ff8194-e9e3-4fbb-adc7-d237e9dc0ec1",
   "metadata": {},
   "source": [
    "### Step 7: Invoke our custom code function"
   ]
  },
  {
   "cell_type": "code",
   "execution_count": 12,
   "id": "55ee8349-c71a-4749-bc9e-97e140f84a4d",
   "metadata": {},
   "outputs": [],
   "source": [
    "def get_output_for_tool_call(tool_call: List[Any]) -> object:\n",
    "    for each_tool in tool_calls:\n",
    "        tool_call_id = each_tool.id\n",
    "        function_args = json.loads(each_tool.function.arguments)\n",
    "        print(f\"Tool ID: {tool_call_id}\")\n",
    "        print(f\"Function args:{function_args}\")\n",
    "        # invoke your function here and return the\n",
    "        # output back to the Assistant so it can format\n",
    "        # the final message\n",
    "        sum_of_primes = add_prime_numbers(function_args)\n",
    "        return [{ \"tool_call_id\": tool_call_id,\n",
    "                 \"output\": f\"The sum of random prime numbers between 2 and 100 is {sum_of_primes}\"\n",
    "               }]\n",
    "    "
   ]
  },
  {
   "cell_type": "code",
   "execution_count": 13,
   "id": "ce28955b-e5c6-40c9-afc9-562a0fa8f47e",
   "metadata": {},
   "outputs": [
    {
     "data": {
      "text/plain": [
       "[RequiredActionFunctionToolCall(id='call_gXieuNHDecF2voSIfXOIYEe4', function=Function(arguments='{\"prime_numbers\":[2,3,5,7,11,13,17,19,23,29,31,37,41,43,47,53,59,61,67,71,73,79,83,89,97]}', name='add_prime_numbers'), type='function')]"
      ]
     },
     "execution_count": 13,
     "metadata": {},
     "output_type": "execute_result"
    }
   ],
   "source": [
    "tool_calls = run_1_obj.required_action.submit_tool_outputs.tool_calls\n",
    "tool_calls"
   ]
  },
  {
   "cell_type": "code",
   "execution_count": 14,
   "id": "5525f1bd-b94b-4003-b3f7-d19f67532f39",
   "metadata": {},
   "outputs": [
    {
     "name": "stdout",
     "output_type": "stream",
     "text": [
      "Tool ID: call_gXieuNHDecF2voSIfXOIYEe4\n",
      "Function args:{'prime_numbers': [2, 3, 5, 7, 11, 13, 17, 19, 23, 29, 31, 37, 41, 43, 47, 53, 59, 61, 67, 71, 73, 79, 83, 89, 97]}\n"
     ]
    },
    {
     "data": {
      "text/plain": [
       "[{'tool_call_id': 'call_gXieuNHDecF2voSIfXOIYEe4',\n",
       "  'output': 'The sum of random prime numbers between 2 and 100 is 1060'}]"
      ]
     },
     "execution_count": 14,
     "metadata": {},
     "output_type": "execute_result"
    }
   ],
   "source": [
    "tool_outputs = get_output_for_tool_call(tool_calls)\n",
    "tool_outputs"
   ]
  },
  {
   "cell_type": "markdown",
   "id": "5724aacb-7961-4125-a75b-3fa4214cbadc",
   "metadata": {},
   "source": [
    "### Step 7: Create the final run to finish.\n",
    "Submit the output from invoked funcition and pass it back\n",
    "to the Assistant to generated the final message for the user"
   ]
  },
  {
   "cell_type": "code",
   "execution_count": 15,
   "id": "2221ebbc-9e89-4e16-a3bf-c53251ded4ad",
   "metadata": {},
   "outputs": [],
   "source": [
    "run_2_obj = client.beta.threads.runs.submit_tool_outputs(\n",
    "    thread_id = thread.id,\n",
    "    run_id = run_1_obj.id,\n",
    "    tool_outputs=tool_outputs\n",
    ")"
   ]
  },
  {
   "cell_type": "code",
   "execution_count": 16,
   "id": "b6e58627-0c7d-48bc-9505-9b2fd5421322",
   "metadata": {},
   "outputs": [
    {
     "name": "stdout",
     "output_type": "stream",
     "text": [
      "in_progress\n",
      "completed\n"
     ]
    }
   ],
   "source": [
    "loop_until_completed(client, thread, run_2_obj)"
   ]
  },
  {
   "cell_type": "code",
   "execution_count": 17,
   "id": "05b0f00e-35f4-4b4b-a9db-aad665092ecb",
   "metadata": {},
   "outputs": [
    {
     "name": "stdout",
     "output_type": "stream",
     "text": [
      "('assistant:The sum of the random list of 25 prime numbers between 2 and 100 '\n",
      " 'is 1060.')\n",
      "('user:Generate 25 random prime numbers between 2 and 100\\n'\n",
      " '    as a list, and add the numbers in this generated list\\n'\n",
      " '    ')\n"
     ]
    }
   ],
   "source": [
    "print_thread_messages(client, thread)"
   ]
  },
  {
   "cell_type": "code",
   "execution_count": 18,
   "id": "d1f886b4-ab92-4db0-9c34-663b31db8737",
   "metadata": {},
   "outputs": [
    {
     "name": "stdout",
     "output_type": "stream",
     "text": [
      "AssistantDeleted(id='asst_gxX3X03ih8AuDTUZhKblIHQx', deleted=True, object='assistant.deleted')\n"
     ]
    }
   ],
   "source": [
    "# Delete the assistant. \n",
    "response = client.beta.assistants.delete(assistant.id)\n",
    "print(response)"
   ]
  }
 ],
 "metadata": {
  "kernelspec": {
   "display_name": "Python 3 (ipykernel)",
   "language": "python",
   "name": "python3"
  },
  "language_info": {
   "codemirror_mode": {
    "name": "ipython",
    "version": 3
   },
   "file_extension": ".py",
   "mimetype": "text/x-python",
   "name": "python",
   "nbconvert_exporter": "python",
   "pygments_lexer": "ipython3",
   "version": "3.10.13"
  }
 },
 "nbformat": 4,
 "nbformat_minor": 5
}
