{
 "cells": [
  {
   "cell_type": "markdown",
   "id": "17597541-28b7-443c-8ecf-f34e5eb27b19",
   "metadata": {},
   "source": [
    "# OpenAI Assistants APIs\n",
    "\n",
    "The Assistants' API lets you create AI assistants in your applications. These assistants follow instructions and use models, tools, and knowledge to answer user questions. In this notebook we are going to use one of the tools, retriever,\n",
    "to query against two pdf documents we will upload.\n",
    "\n",
    "The architeture and data flow diagram below depicts the interaction among all components that comprise OpenAI Assistant APIs. Central to understand is the Threads and Runtime that executes anyschronously, adding and reading messages to the Threads.\n",
    "\n",
    "For integrating the Assistants API:\n",
    "\n",
    "1. Creat an Assistant with custom instructions and select a model. Optionally, enable tools like Code Interpreter, Retrieval, and Function Calling.\n",
    "\n",
    "2. Initiate a Thread for each user conversation.\n",
    "    \n",
    "3. Add user queries as Messages to the Thread.\n",
    "\n",
    "4.  Run the Assistant on the Thread for responses, which automatically utilizes the enabled tools\n",
    "\n",
    "Below we follow those steps to demonstrate how to integrate Assistants API, using function tool, to ask our Assistant to interact with an external webservice, such\n",
    "as Google Search. This external service could be any external [API Webserivce](https://apilayer.com/)\n",
    "\n",
    "The OpenAI documentation describes in details [how Assistants work](https://platform.openai.com/docs/assistants/how-it-works).\n",
    "\n",
    "<img src=\"./images/assistant_ai_tools_functions_google.png\">\n"
   ]
  },
  {
   "cell_type": "markdown",
   "id": "09a0aeea-916b-4141-800e-3a4252d50f38",
   "metadata": {},
   "source": [
    "## How to use Assistant API using Tools: Function calling\n",
    "In this example, we will use an external service. That is,\n",
    "our function will call an external web service: Google Search API\n",
    "to fetch the results of the query requested. \n",
    "\n",
    "This is an example of how an Assistant can employ an external tool, such as a webservice. Our query could be part of a larger\n",
    "application using LLM and Assitant to respond to user query, and then using the results fetched to use downstream.\n",
    "\n",
    "Let's see how we can do it. The steps are not dissimilar to our\n",
    "previous notebook. The only difference here is that our function is make an external webservice call and we have a different function JSON definition to match the the arguments to our function call, which it can use to pass to an external webservice."
   ]
  },
  {
   "cell_type": "code",
   "execution_count": 1,
   "id": "7221e33e-a4b4-4471-b0fd-f39352dc1007",
   "metadata": {},
   "outputs": [],
   "source": [
    "import warnings\n",
    "import os\n",
    "import json\n",
    "\n",
    "import openai\n",
    "from openai import OpenAI\n",
    "\n",
    "from dotenv import load_dotenv, find_dotenv\n",
    "from typing import List, Dict, Any\n",
    "from assistant_utils import print_thread_messages, upload_files, \\\n",
    "                            loop_until_completed, create_assistant_run\n",
    "from function_utils import add_prime_numbers\n",
    "from google_search_utils import google_search"
   ]
  },
  {
   "cell_type": "markdown",
   "id": "f85b5deb-62d9-4830-ab6b-b603013a8ade",
   "metadata": {},
   "source": [
    "Load our .env file with respective API keys and base url endpoints. Here you can either use OpenAI or Anyscale Endpoints. **Note**: Assistant API calling for Anyscale Endpoints (which serves only OS modles) is not yet aviable)."
   ]
  },
  {
   "cell_type": "code",
   "execution_count": 2,
   "id": "d357f146-9ef1-4793-9c50-6909186016d0",
   "metadata": {},
   "outputs": [
    {
     "name": "stdout",
     "output_type": "stream",
     "text": [
      "Using MODEL=gpt-4-1106-preview; base=https://api.openai.com/v1\n"
     ]
    }
   ],
   "source": [
    "warnings.filterwarnings('ignore')\n",
    "\n",
    "_ = load_dotenv(find_dotenv()) # read local .env file\n",
    "\n",
    "openai.api_base = os.getenv(\"ANYSCALE_API_BASE\", os.getenv(\"OPENAI_API_BASE\"))\n",
    "openai.api_key = os.getenv(\"ANYSCALE_API_KEY\", os.getenv(\"OPENAI_API_KEY\"))\n",
    "google_api_key = os.getenv(\"GOOGLE_API_KEY\", \"\")\n",
    "MODEL = os.getenv(\"MODEL\")\n",
    "print(f\"Using MODEL={MODEL}; base={openai.api_base}\")"
   ]
  },
  {
   "cell_type": "code",
   "execution_count": 3,
   "id": "452ee529-e60f-4396-b513-52ff251b950d",
   "metadata": {},
   "outputs": [],
   "source": [
    "from openai import OpenAI\n",
    "\n",
    "client = OpenAI(\n",
    "    api_key = openai.api_key,\n",
    "    base_url = openai.api_base\n",
    ")"
   ]
  },
  {
   "cell_type": "markdown",
   "id": "114533c0-b541-45a1-b7bd-58cc0dd825af",
   "metadata": {},
   "source": [
    "### Step 1: Create our custom function definition\n",
    "This our JSON object definiton for our function:\n",
    "* name of the function\n",
    "* parameters for the funtion\n",
    "* type of arguments\n",
    "* descriptions for function and each parameter type"
   ]
  },
  {
   "cell_type": "code",
   "execution_count": 4,
   "id": "ee903bfb-77d3-498e-b3cf-32592d6ee985",
   "metadata": {},
   "outputs": [],
   "source": [
    "search_google_query = {\n",
    "    \"name\": \"google_search\",\n",
    "    \"description\": \"A function takes in a search query, api key, and optionly num of results specified. \",\n",
    "    \"parameters\": {\n",
    "        \"type\": \"object\",\n",
    "        \"properties\": {\n",
    "            \"query\" : {\n",
    "                \"type\": \"string\",\n",
    "                \"description\" : \"The search query to send to the Google Search Engine\"\n",
    "            },\n",
    "            \"api_key\": {\n",
    "                \"type\": \"string\",\n",
    "                \"description\" : \"Google Search API key\"\n",
    "\n",
    "            },\n",
    "            \"num_results\" : {\n",
    "                \"type\": \"integer\",\n",
    "                \"description\" : \"number of results. This is a optional one, default is 1\"\n",
    "\n",
    "            }\n",
    "        }\n",
    "    },\n",
    "    \"required\": [\"query\", \"api_key\"]\n",
    "}\n",
    "tools = [{'type': 'function', 'function': search_google_query}]"
   ]
  },
  {
   "cell_type": "markdown",
   "id": "2d0e616e-ff1d-4917-9b2c-26838cd92878",
   "metadata": {},
   "source": [
    "### Step 2: Create an Assistant \n",
    "Before you can start interacting with the Assistant to carry out any tasks, you need an AI assistant object. Supply the Assistant with a model to use, tools, i.e., functions"
   ]
  },
  {
   "cell_type": "code",
   "execution_count": 5,
   "id": "992306fb-0a4c-4278-a555-6ebf923bdf69",
   "metadata": {},
   "outputs": [
    {
     "data": {
      "text/plain": [
       "Assistant(id='asst_LQOXrnwz8i83JEiw8pFoofN8', created_at=1703382082, description=None, file_ids=[], instructions='You are a knowledgeable and helpful chatbot trained to resolve Google interact\\nwith external webservices such as Google via help of function calls\\n', metadata={}, model='gpt-4-1106-preview', name='AI Math Tutor', object='assistant', tools=[ToolFunction(function=FunctionDefinition(name='google_search', description='A function takes in a search query, api key, and optionly num of results specified. ', parameters={'type': 'object', 'properties': {'query': {'type': 'string', 'description': 'The search query to send to the Google Search Engine'}, 'api_key': {'type': 'string', 'description': 'Google Search API key'}, 'num_results': {'type': 'integer', 'description': 'number of results. This is a optional one, default is 1'}}}), type='function')])"
      ]
     },
     "execution_count": 5,
     "metadata": {},
     "output_type": "execute_result"
    }
   ],
   "source": [
    "instructions = \"\"\"You are a knowledgeable and helpful chatbot trained to resolve Google interact\n",
    "with external webservices such as Google via help of function calls\n",
    "\"\"\"\n",
    "assistant = client.beta.assistants.create(name=\"AI Math Tutor\",\n",
    "                                           instructions=instructions,\n",
    "                                           model=MODEL,\n",
    "                                           tools=tools)\n",
    "assistant"
   ]
  },
  {
   "cell_type": "markdown",
   "id": "f4e4c263-0111-447f-a196-6fc2bea6e8b2",
   "metadata": {},
   "source": [
    "### Step 3: Create an empty thread \n",
    "As the diagram above shows, the Thread is the object with which the AI Assistant runs will interact with, by fetching messages and putting messages to it. Think of a thread as a \"conversation session between an Assistant and a user. Threads store Messages and automatically handle truncation to fit content into a model’s context window.\""
   ]
  },
  {
   "cell_type": "code",
   "execution_count": 6,
   "id": "b52376b5-2bb1-446a-adfa-7fa679ecf321",
   "metadata": {},
   "outputs": [
    {
     "data": {
      "text/plain": [
       "Thread(id='thread_X0TJGhkcpuYoCo9OaCEJ5rB8', created_at=1703382083, metadata={}, object='thread')"
      ]
     },
     "execution_count": 6,
     "metadata": {},
     "output_type": "execute_result"
    }
   ],
   "source": [
    "thread = client.beta.threads.create()\n",
    "thread"
   ]
  },
  {
   "cell_type": "markdown",
   "id": "8c7834e0-8a1d-4337-963a-6615d0b4c0f3",
   "metadata": {},
   "source": [
    "### Step 4: Add your message query to the thread for the Assistant"
   ]
  },
  {
   "cell_type": "code",
   "execution_count": 7,
   "id": "be6ff8a4-492f-42f1-8074-d5bf10b46014",
   "metadata": {},
   "outputs": [
    {
     "data": {
      "text/plain": [
       "ThreadMessage(id='msg_kddbdIejphUxXohBjpDc4OjX', assistant_id=None, content=[MessageContentText(text=Text(annotations=[], value='Search Google for the top 5 Italian resturants in San Francisco.\\n    '), type='text')], created_at=1703382085, file_ids=[], metadata={}, object='thread.message', role='user', run_id=None, thread_id='thread_X0TJGhkcpuYoCo9OaCEJ5rB8')"
      ]
     },
     "execution_count": 7,
     "metadata": {},
     "output_type": "execute_result"
    }
   ],
   "source": [
    "message_1 = client.beta.threads.messages.create(\n",
    "    thread_id=thread.id, \n",
    "    role=\"user\",\n",
    "    content=\"\"\"Search Google for the top 5 Italian resturants in San Francisco.\n",
    "    \"\"\"\n",
    ")\n",
    "message_1"
   ]
  },
  {
   "cell_type": "markdown",
   "id": "1ce5092f-9cc1-4798-92b9-66465fae29e8",
   "metadata": {},
   "source": [
    "### Step 5: Create a Run for the Assistant\n",
    "A Run is an invocation of an Assistant on a Thread. The Assistant uses it’s configuration and the Thread’s Messages to perform tasks by calling models and tools. As part of a Run, the Assistant appends Messages to the Thread.\n",
    "\n",
    "Note that Assistance will run asychronously: the run has the following\n",
    "lifecycle and states: [*expired, completed, requires, failed, cancelled*]. Run objects can have multiple statuses.\n",
    "\n",
    "<img src=\"https://cdn.openai.com/API/docs/images/diagram-1.png\">"
   ]
  },
  {
   "cell_type": "code",
   "execution_count": 8,
   "id": "307efd65-4b73-4164-8628-3182580c0bd7",
   "metadata": {},
   "outputs": [
    {
     "data": {
      "text/plain": [
       "Run(id='run_iafPlXYsQQLVbQ8csu0HKVlJ', assistant_id='asst_LQOXrnwz8i83JEiw8pFoofN8', cancelled_at=None, completed_at=None, created_at=1703382087, expires_at=1703382687, failed_at=None, file_ids=[], instructions='Top Five best Italian restaurants in San Francisco. Only return\\ntop 5 results\\n', last_error=None, metadata={}, model='gpt-4-1106-preview', object='thread.run', required_action=None, started_at=None, status='queued', thread_id='thread_X0TJGhkcpuYoCo9OaCEJ5rB8', tools=[ToolAssistantToolsFunction(function=FunctionDefinition(name='google_search', description='A function takes in a search query, api key, and optionly num of results specified. ', parameters={'type': 'object', 'properties': {'query': {'type': 'string', 'description': 'The search query to send to the Google Search Engine'}, 'api_key': {'type': 'string', 'description': 'Google Search API key'}, 'num_results': {'type': 'integer', 'description': 'number of results. This is a optional one, default is 1'}}}), type='function')])"
      ]
     },
     "execution_count": 8,
     "metadata": {},
     "output_type": "execute_result"
    }
   ],
   "source": [
    "instruction_msg = \"\"\"Top Five best Italian restaurants in San Francisco. Only return\n",
    "top 5 results\n",
    "\"\"\"\n",
    "run_1 = create_assistant_run(client, assistant, thread, instruction_msg)\n",
    "run_1"
   ]
  },
  {
   "cell_type": "markdown",
   "id": "48f1dcf3-cebd-4c88-b686-67cc3c97176c",
   "metadata": {},
   "source": [
    "### Step 6: Retrieve the status"
   ]
  },
  {
   "cell_type": "code",
   "execution_count": 9,
   "id": "6475f8da-e8b9-4b26-82fc-b93fd2240e86",
   "metadata": {},
   "outputs": [
    {
     "name": "stdout",
     "output_type": "stream",
     "text": [
      "Run(id='run_iafPlXYsQQLVbQ8csu0HKVlJ', assistant_id='asst_LQOXrnwz8i83JEiw8pFoofN8', cancelled_at=None, completed_at=None, created_at=1703382087, expires_at=1703382687, failed_at=None, file_ids=[], instructions='Top Five best Italian restaurants in San Francisco. Only return\\ntop 5 results\\n', last_error=None, metadata={}, model='gpt-4-1106-preview', object='thread.run', required_action=RequiredAction(submit_tool_outputs=RequiredActionSubmitToolOutputs(tool_calls=[RequiredActionFunctionToolCall(id='call_NTfY9SxINpIfhc7pt3lJQrz1', function=Function(arguments='{\"query\":\"top 5 Italian restaurants in San Francisco\",\"num_results\":5}', name='google_search'), type='function')]), type='submit_tool_outputs'), started_at=1703382087, status='requires_action', thread_id='thread_X0TJGhkcpuYoCo9OaCEJ5rB8', tools=[ToolAssistantToolsFunction(function=FunctionDefinition(name='google_search', description='A function takes in a search query, api key, and optionly num of results specified. ', parameters={'type': 'object', 'properties': {'query': {'type': 'string', 'description': 'The search query to send to the Google Search Engine'}, 'api_key': {'type': 'string', 'description': 'Google Search API key'}, 'num_results': {'type': 'integer', 'description': 'number of results. This is a optional one, default is 1'}}}), type='function')]) requires_action\n"
     ]
    }
   ],
   "source": [
    "run_1_obj = client.beta.threads.runs.retrieve(\n",
    "    thread_id = thread.id,\n",
    "    run_id = run_1.id\n",
    ")\n",
    "print(run_1_obj, run_1_obj.status)"
   ]
  },
  {
   "cell_type": "markdown",
   "id": "85bdbe6a-7b8d-4fb9-8d87-4140379c9a8e",
   "metadata": {},
   "source": [
    "Loop until run status is \"required_action,\" which is a trigger notification to extract arguments generated by the LLM model and carry onto the next step: invoke the function with the generated arguments."
   ]
  },
  {
   "cell_type": "code",
   "execution_count": 10,
   "id": "8cc569ca-3c60-464e-be74-58bc10d48086",
   "metadata": {},
   "outputs": [],
   "source": [
    "loop_until_completed(client, thread, run_1_obj)"
   ]
  },
  {
   "cell_type": "markdown",
   "id": "fd71639f-4b94-4ca6-b37d-6c5d94580e00",
   "metadata": {},
   "source": [
    "Get the tools output. This where your application can call into\n",
    "the funtion you want invoked. "
   ]
  },
  {
   "cell_type": "markdown",
   "id": "6f23ffd8-c74d-4d63-9054-b9e9da8c024a",
   "metadata": {},
   "source": [
    "### Step 7: Invoke our custom code function"
   ]
  },
  {
   "cell_type": "code",
   "execution_count": 11,
   "id": "73c8e1d6-6619-4ddf-b932-6d0c87b176cf",
   "metadata": {},
   "outputs": [],
   "source": [
    "def get_output_for_tool_call(tool_call: List[Any]) -> object:\n",
    "    for each_tool in tool_calls:\n",
    "        tool_call_id = each_tool.id\n",
    "        function_args = json.loads(each_tool.function.arguments)\n",
    "        print(f\"Tool ID: {tool_call_id}\")\n",
    "        print(f\"Function args:{function_args}\")\n",
    "        # invoke your function here and return the\n",
    "        # output back to the Assistant so it can format\n",
    "        # the final message\n",
    "        \n",
    "        search_results = google_search(function_args[\"query\"], \n",
    "                                       google_api_key,\n",
    "                                       function_args[\"num_results\"])\n",
    "        return [{ \"tool_call_id\": tool_call_id,\n",
    "                 \"output\": f\"Top Five Italian resturants: {search_results}\"\n",
    "               }]"
   ]
  },
  {
   "cell_type": "code",
   "execution_count": 12,
   "id": "c26cd3dd-4c19-4390-b994-077eb0063a73",
   "metadata": {},
   "outputs": [
    {
     "data": {
      "text/plain": [
       "[RequiredActionFunctionToolCall(id='call_NTfY9SxINpIfhc7pt3lJQrz1', function=Function(arguments='{\"query\":\"top 5 Italian restaurants in San Francisco\",\"num_results\":5}', name='google_search'), type='function')]"
      ]
     },
     "execution_count": 12,
     "metadata": {},
     "output_type": "execute_result"
    }
   ],
   "source": [
    "tool_calls = run_1_obj.required_action.submit_tool_outputs.tool_calls\n",
    "tool_calls"
   ]
  },
  {
   "cell_type": "code",
   "execution_count": 13,
   "id": "070be54e-f8dd-4d94-b40b-55289c69f6b7",
   "metadata": {},
   "outputs": [
    {
     "name": "stdout",
     "output_type": "stream",
     "text": [
      "Tool ID: call_NTfY9SxINpIfhc7pt3lJQrz1\n",
      "Function args:{'query': 'top 5 Italian restaurants in San Francisco', 'num_results': 5}\n"
     ]
    },
    {
     "data": {
      "text/plain": [
       "[{'tool_call_id': 'call_NTfY9SxINpIfhc7pt3lJQrz1',\n",
       "  'output': 'Top Five Italian resturants: [{\\'title\\': \\'15 Primo Italian Restaurants in San Francisco\\', \\'description\\': \\'A16Seven HillsCotognaSorellaAcquerelloSPQRPearl 6101Pasta Supply CoBAIAChe FicoFlour + WaterItria\\', \\'link\\': \\'https://sf.eater.com/maps/best-italian-restaurants-san-francisco\\'}, {\\'title\\': \\'Italian Restaurants in San Francisco\\', \\'description\\': \\'Molinari DelicatessenSeven HillsPiccolo FornoFino Bar & RistoranteFrascatiZa PizzaGolden Boy PizzaTraboccoPescatore TrattoriaNob Hill CafeLuna BluThe Italian Homemade Company\\', \\'link\\': \\'https://www.tripadvisor.com/Restaurants-g60713-c26-San_Francisco_California.html\\'}, {\\'title\\': \\'The 16 Best Italian Restaurants In San Francisco\\', \\'description\\': \\'3 days ago — Here are 16 great Italian spots in San Francisco for everything from saucy bolognese to fusilli topped with uni.\\', \\'link\\': \\'https://www.theinfatuation.com/san-francisco/guides/best-italian-restaurants-san-francisco\\'}, {\\'title\\': \\'best italian food : r/AskSF\\', \\'description\\': \"For an upscale splurge: Acqurello Mid price: Trattoria Contadina, Sorella Favorite Pizza: Lucia\\'s in Berkeley. They have excellent GF pizza as ...\", \\'link\\': \\'https://www.reddit.com/r/AskSF/comments/13awfnm/best_italian_food/\\'}, {\\'title\\': \\'THE BEST 10 Italian Restaurants in SAN FRANCISCO, CA\\', \\'description\\': \\'Top 10 Best Italian in San Francisco, CA - December 2023 - Yelp - Bella Trattoria, Bottega, Roma Antica, Ofena, Trattoria da Vittorio - San Francisco, ...\\', \\'link\\': \\'https://www.yelp.com/search?cflt=italian&find_loc=San+Francisco%2C+CA\\'}]'}]"
      ]
     },
     "execution_count": 13,
     "metadata": {},
     "output_type": "execute_result"
    }
   ],
   "source": [
    "tool_outputs = get_output_for_tool_call(tool_calls)\n",
    "tool_outputs"
   ]
  },
  {
   "cell_type": "markdown",
   "id": "e448d0a9-210e-49e2-9004-0f4118e25ddc",
   "metadata": {},
   "source": [
    "### Step 7: Create the final run to finish.\n",
    "Submit the output from invoked funcition and pass it back\n",
    "to the Assistant to generated the final message for the user"
   ]
  },
  {
   "cell_type": "code",
   "execution_count": 14,
   "id": "3272d790-9e17-4645-a6c7-aa75b59af20d",
   "metadata": {},
   "outputs": [],
   "source": [
    "run_2_obj = client.beta.threads.runs.submit_tool_outputs(\n",
    "    thread_id = thread.id,\n",
    "    run_id = run_1_obj.id,\n",
    "    tool_outputs=tool_outputs\n",
    ")"
   ]
  },
  {
   "cell_type": "code",
   "execution_count": 15,
   "id": "a1f836e4-e658-40bd-833a-f07e6cdc0e04",
   "metadata": {},
   "outputs": [
    {
     "name": "stdout",
     "output_type": "stream",
     "text": [
      "in_progress\n",
      "completed\n"
     ]
    }
   ],
   "source": [
    "loop_until_completed(client, thread, run_2_obj)"
   ]
  },
  {
   "cell_type": "code",
   "execution_count": 16,
   "id": "e81619b8-c25d-4fed-85f8-a2078a38dce5",
   "metadata": {},
   "outputs": [
    {
     "name": "stdout",
     "output_type": "stream",
     "text": [
      "('assistant:Here are the top five Italian restaurants in San Francisco '\n",
      " 'according to various sources:\\n'\n",
      " '\\n'\n",
      " '1. **A16** - Known for its excellent Southern Italian cuisine and wine, A16 '\n",
      " 'has received numerous accolades and is often mentioned among the best '\n",
      " 'Italian spots in San Francisco. [Eater '\n",
      " 'SF](https://sf.eater.com/maps/best-italian-restaurants-san-francisco)\\n'\n",
      " '   \\n'\n",
      " '2. **Seven Hills** - This restaurant has a reputation for delightful Italian '\n",
      " \"dishes with a focus on pasta. It's a regularly recommended place for Italian \"\n",
      " 'food lovers. [Eater '\n",
      " 'SF](https://sf.eater.com/maps/best-italian-restaurants-san-francisco), '\n",
      " '[TripAdvisor](https://www.tripadvisor.com/Restaurants-g60713-c26-San_Francisco_California.html)\\n'\n",
      " '\\n'\n",
      " '3. **Cotogna** - Cotogna offers a range of Italian dishes, including pizzas '\n",
      " 'and sophisticated entrees, in a rustic and warm setting. [Eater '\n",
      " 'SF](https://sf.eater.com/maps/best-italian-restaurants-san-francisco)\\n'\n",
      " '\\n'\n",
      " '4. **Acquerello** - For an upscale Italian dining experience, Acquerello has '\n",
      " 'been a hallmark in San Francisco, providing luxury service and exquisite '\n",
      " 'Italian cuisine. [Eater '\n",
      " 'SF](https://sf.eater.com/maps/best-italian-restaurants-san-francisco), '\n",
      " '[Reddit](https://www.reddit.com/r/AskSF/comments/13awfnm/best_italian_food/)\\n'\n",
      " '\\n'\n",
      " '5. **Sorella** - Appreciated by many for its Italian classics and comforting '\n",
      " 'ambience, Sorella is another favorite in the San Francisco Italian dining '\n",
      " 'scene. [Eater '\n",
      " 'SF](https://sf.eater.com/maps/best-italian-restaurants-san-francisco)\\n'\n",
      " '\\n'\n",
      " 'Please follow the links provided to check more details about these '\n",
      " 'restaurants or make a reservation.')\n",
      "'user:Search Google for the top 5 Italian resturants in San Francisco.\\n    '\n"
     ]
    }
   ],
   "source": [
    "print_thread_messages(client, thread)"
   ]
  },
  {
   "cell_type": "code",
   "execution_count": 17,
   "id": "e24a32b3-639f-487c-a2de-0b6e878b81de",
   "metadata": {},
   "outputs": [
    {
     "name": "stdout",
     "output_type": "stream",
     "text": [
      "AssistantDeleted(id='asst_LQOXrnwz8i83JEiw8pFoofN8', deleted=True, object='assistant.deleted')\n"
     ]
    }
   ],
   "source": [
    "# Delete the assistant. \n",
    "response = client.beta.assistants.delete(assistant.id)\n",
    "print(response)"
   ]
  }
 ],
 "metadata": {
  "kernelspec": {
   "display_name": "Python 3 (ipykernel)",
   "language": "python",
   "name": "python3"
  },
  "language_info": {
   "codemirror_mode": {
    "name": "ipython",
    "version": 3
   },
   "file_extension": ".py",
   "mimetype": "text/x-python",
   "name": "python",
   "nbconvert_exporter": "python",
   "pygments_lexer": "ipython3",
   "version": "3.10.13"
  }
 },
 "nbformat": 4,
 "nbformat_minor": 5
}
